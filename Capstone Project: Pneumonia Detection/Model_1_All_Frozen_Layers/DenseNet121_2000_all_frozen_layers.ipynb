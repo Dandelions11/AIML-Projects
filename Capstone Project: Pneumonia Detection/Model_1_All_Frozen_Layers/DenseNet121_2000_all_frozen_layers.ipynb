{
  "cells": [
    {
      "cell_type": "markdown",
      "source": [
        "##                                                     MODEL 1: ALL LAYERS FROZEN"
      ],
      "metadata": {
        "id": "zgbG0P3FpB36"
      }
    },
    {
      "cell_type": "markdown",
      "source": [
        "**1. Importing necessary libraries**"
      ],
      "metadata": {
        "id": "qb6MsoEspNpW"
      }
    },
    {
      "cell_type": "code",
      "execution_count": null,
      "metadata": {
        "colab": {
          "base_uri": "https://localhost:8080/"
        },
        "id": "PIF7gGfUXED5",
        "outputId": "9e9cb51d-f61a-4e6e-9c4f-225678454ef6"
      },
      "outputs": [
        {
          "name": "stdout",
          "output_type": "stream",
          "text": [
            "Collecting pydicom\n",
            "  Downloading pydicom-2.4.3-py3-none-any.whl (1.8 MB)\n",
            "\u001b[2K     \u001b[90m━━━━━━━━━━━━━━━━━━━━━━━━━━━━━━━━━━━━━━━━\u001b[0m \u001b[32m1.8/1.8 MB\u001b[0m \u001b[31m9.1 MB/s\u001b[0m eta \u001b[36m0:00:00\u001b[0m\n",
            "\u001b[?25hInstalling collected packages: pydicom\n",
            "Successfully installed pydicom-2.4.3\n"
          ]
        }
      ],
      "source": [
        "!pip install pydicom"
      ]
    },
    {
      "cell_type": "code",
      "execution_count": null,
      "metadata": {
        "id": "kACzIG27XBqg"
      },
      "outputs": [],
      "source": [
        "import random\n",
        "import numpy as np\n",
        "import pandas as pd\n",
        "import matplotlib.pyplot as plt\n",
        "\n",
        "from pathlib import Path\n",
        "import os\n",
        "import cv2\n",
        "import pydicom\n",
        "import tensorflow as tf\n",
        "from sklearn.model_selection import train_test_split\n",
        "from sklearn.metrics import classification_report\n",
        "from tensorflow.keras.layers import Dense, Activation, Flatten, Dropout, GlobalAveragePooling2D, BatchNormalization\n",
        "from tensorflow.keras.models import Model, Sequential\n",
        "from tensorflow.keras import layers\n",
        "from tensorflow.keras.optimizers import Adam\n",
        "from tensorflow.keras import losses, optimizers\n",
        "from tensorflow.keras import regularizers\n",
        "from tensorflow.keras.regularizers import l2\n",
        "from keras import backend as K\n",
        "from tensorflow.keras.callbacks import Callback, EarlyStopping, ModelCheckpoint, ReduceLROnPlateau\n",
        "from sklearn.metrics import make_scorer, accuracy_score\n",
        "from tensorflow.keras.applications import DenseNet121, MobileNetV2, ResNet152V2, Xception"
      ]
    },
    {
      "cell_type": "code",
      "execution_count": null,
      "metadata": {
        "colab": {
          "base_uri": "https://localhost:8080/"
        },
        "id": "fyzzWVFBV6PK",
        "outputId": "20af311b-ecda-4227-ad49-c89a9caa923d"
      },
      "outputs": [
        {
          "name": "stdout",
          "output_type": "stream",
          "text": [
            "Mounted at /content/drive\n"
          ]
        }
      ],
      "source": [
        "# mounting the google drive\n",
        "\n",
        "from google.colab import drive\n",
        "drive.mount('/content/drive')"
      ]
    },
    {
      "cell_type": "markdown",
      "source": [
        "**2. Extracting the files from stage_2_dataset.zip file**"
      ],
      "metadata": {
        "id": "MYsgOhrCpSaZ"
      }
    },
    {
      "cell_type": "code",
      "execution_count": null,
      "metadata": {
        "id": "fNsN9XNyV6SA"
      },
      "outputs": [],
      "source": [
        "path = \"/content/drive/MyDrive/stage_2_dataset.zip\""
      ]
    },
    {
      "cell_type": "code",
      "execution_count": null,
      "metadata": {
        "id": "77-VNlxcV6Uw"
      },
      "outputs": [],
      "source": [
        "from zipfile import ZipFile\n",
        "with ZipFile(path,'r') as zip:\n",
        "  zip.extractall()"
      ]
    },
    {
      "cell_type": "code",
      "execution_count": null,
      "metadata": {
        "colab": {
          "base_uri": "https://localhost:8080/"
        },
        "id": "9nWXF-pWV6XZ",
        "outputId": "06fbaa61-0be3-4a69-e01b-dbcb5d5ca0d2"
      },
      "outputs": [
        {
          "name": "stdout",
          "output_type": "stream",
          "text": [
            "Extraction complete.\n"
          ]
        }
      ],
      "source": [
        "from zipfile import ZipFile\n",
        "import os\n",
        "\n",
        "# Path to the zip file\n",
        "train_images_path = '/content/drive/MyDrive/stage_2_train_images.zip'\n",
        "\n",
        "# Directory where you want to create the folder and extract the images\n",
        "extraction_folder = '/content/stage_2_train_images'\n",
        "\n",
        "# Create the extraction folder if it doesn't exist\n",
        "os.makedirs(extraction_folder, exist_ok=True)\n",
        "\n",
        "# Open the zip file\n",
        "with ZipFile(train_images_path, 'r') as zip_ref:\n",
        "    # Extract all images to the extraction folder\n",
        "    zip_ref.extractall(extraction_folder)\n",
        "\n",
        "print(\"Extraction complete.\")"
      ]
    },
    {
      "cell_type": "code",
      "execution_count": null,
      "metadata": {
        "id": "WHx5HH1HV-ri"
      },
      "outputs": [],
      "source": [
        "class_info_df = pd.read_csv('/content/Copy of stage_2_detailed_class_info.csv')"
      ]
    },
    {
      "cell_type": "code",
      "execution_count": null,
      "metadata": {
        "colab": {
          "base_uri": "https://localhost:8080/"
        },
        "execution": {
          "iopub.execute_input": "2023-10-09T11:51:32.181128Z",
          "iopub.status.busy": "2023-10-09T11:51:32.180802Z",
          "iopub.status.idle": "2023-10-09T11:51:32.188365Z",
          "shell.execute_reply": "2023-10-09T11:51:32.187382Z",
          "shell.execute_reply.started": "2023-10-09T11:51:32.181095Z"
        },
        "id": "qUm_WbzoVz3t",
        "outputId": "96bf2566-2f16-4a51-e7b6-75c4af6b0263",
        "trusted": true
      },
      "outputs": [
        {
          "data": {
            "text/plain": [
              "(30227, 2)"
            ]
          },
          "execution_count": 11,
          "metadata": {},
          "output_type": "execute_result"
        }
      ],
      "source": [
        "class_info_df.shape"
      ]
    },
    {
      "cell_type": "markdown",
      "source": [
        "**3. Removing duplicate entries from the dataframe**"
      ],
      "metadata": {
        "id": "TgxRHEUSpYZC"
      }
    },
    {
      "cell_type": "code",
      "execution_count": null,
      "metadata": {
        "execution": {
          "iopub.execute_input": "2023-10-09T11:51:32.190844Z",
          "iopub.status.busy": "2023-10-09T11:51:32.189824Z",
          "iopub.status.idle": "2023-10-09T11:51:32.197795Z",
          "shell.execute_reply": "2023-10-09T11:51:32.196935Z",
          "shell.execute_reply.started": "2023-10-09T11:51:32.190810Z"
        },
        "id": "B-DuXje0Vz3t",
        "trusted": true
      },
      "outputs": [],
      "source": [
        "df = class_info_df.copy()"
      ]
    },
    {
      "cell_type": "code",
      "execution_count": null,
      "metadata": {
        "execution": {
          "iopub.execute_input": "2023-10-09T11:51:32.199802Z",
          "iopub.status.busy": "2023-10-09T11:51:32.198960Z",
          "iopub.status.idle": "2023-10-09T11:51:32.230044Z",
          "shell.execute_reply": "2023-10-09T11:51:32.229156Z",
          "shell.execute_reply.started": "2023-10-09T11:51:32.199773Z"
        },
        "id": "EJNEb6kWVz3t",
        "trusted": true
      },
      "outputs": [],
      "source": [
        "df.drop_duplicates(inplace = True)"
      ]
    },
    {
      "cell_type": "code",
      "execution_count": null,
      "metadata": {
        "colab": {
          "base_uri": "https://localhost:8080/"
        },
        "execution": {
          "iopub.execute_input": "2023-10-09T11:51:32.232076Z",
          "iopub.status.busy": "2023-10-09T11:51:32.231244Z",
          "iopub.status.idle": "2023-10-09T11:51:32.245948Z",
          "shell.execute_reply": "2023-10-09T11:51:32.245048Z",
          "shell.execute_reply.started": "2023-10-09T11:51:32.232045Z"
        },
        "id": "SRqjU7p-Vz3t",
        "outputId": "1350dfbf-0bbe-40f8-8f1e-9b87a583d965",
        "trusted": true
      },
      "outputs": [
        {
          "data": {
            "text/plain": [
              "0"
            ]
          },
          "execution_count": 14,
          "metadata": {},
          "output_type": "execute_result"
        }
      ],
      "source": [
        "df.duplicated().sum()"
      ]
    },
    {
      "cell_type": "code",
      "execution_count": null,
      "metadata": {
        "colab": {
          "base_uri": "https://localhost:8080/",
          "height": 466
        },
        "execution": {
          "iopub.execute_input": "2023-10-09T11:51:32.247947Z",
          "iopub.status.busy": "2023-10-09T11:51:32.247345Z",
          "iopub.status.idle": "2023-10-09T11:51:32.786721Z",
          "shell.execute_reply": "2023-10-09T11:51:32.785832Z",
          "shell.execute_reply.started": "2023-10-09T11:51:32.247916Z"
        },
        "id": "EkPFSxeiVz3t",
        "outputId": "3b518e0d-45fa-4a63-b1e1-33959d508cec",
        "trusted": true
      },
      "outputs": [
        {
          "data": {
            "text/plain": [
              "<Axes: xlabel='class', ylabel='count'>"
            ]
          },
          "execution_count": 15,
          "metadata": {},
          "output_type": "execute_result"
        },
        {
          "data": {
            "image/png": "[encoded data removed]",
            "text/plain": [
              "<Figure size 640x480 with 1 Axes>"
            ]
          },
          "metadata": {},
          "output_type": "display_data"
        }
      ],
      "source": [
        "import seaborn as sns\n",
        "sns.countplot(data = df, x = 'class')"
      ]
    },
    {
      "cell_type": "code",
      "execution_count": null,
      "metadata": {
        "execution": {
          "iopub.execute_input": "2023-10-09T11:51:32.812946Z",
          "iopub.status.busy": "2023-10-09T11:51:32.810727Z",
          "iopub.status.idle": "2023-10-09T11:51:32.838962Z",
          "shell.execute_reply": "2023-10-09T11:51:32.838070Z",
          "shell.execute_reply.started": "2023-10-09T11:51:32.812916Z"
        },
        "id": "y0NAOI-zVz3u",
        "trusted": true
      },
      "outputs": [],
      "source": [
        "\n",
        "import pandas as pd\n",
        "import os\n",
        "\n",
        "# Path to the directory containing DICOM images\n",
        "image_folder = '/content/stage_2_train_images'\n",
        "\n",
        "\n",
        "# Convert 'patientId' column to string explicitly\n",
        "df['patientId'] = df['patientId'].astype(str)\n",
        "\n",
        "# Create a new column 'image_path' by concatenating the folder path and 'patientId'\n",
        "df['image_path'] = image_folder + os.path.sep + df['patientId'] + '.dcm'\n",
        "\n",
        "\n",
        "# Save the updated DataFrame back to the CSV file\n",
        "#df.to_csv(csv_file, index=False)\n"
      ]
    },
    {
      "cell_type": "code",
      "execution_count": null,
      "metadata": {
        "colab": {
          "base_uri": "https://localhost:8080/",
          "height": 206
        },
        "execution": {
          "iopub.execute_input": "2023-10-09T11:51:32.840586Z",
          "iopub.status.busy": "2023-10-09T11:51:32.840082Z",
          "iopub.status.idle": "2023-10-09T11:51:32.859030Z",
          "shell.execute_reply": "2023-10-09T11:51:32.858259Z",
          "shell.execute_reply.started": "2023-10-09T11:51:32.840557Z"
        },
        "id": "eoLwogfgVz3u",
        "outputId": "0a8ef0e8-97ff-473e-c0e4-31eddd0c918d",
        "trusted": true
      },
      "outputs": [
        {
          "data": {
            "text/html": [
              "\n",
              "  <div id=\"df-e2a16fa0-ed12-43ad-8e12-66389b5c12e1\" class=\"colab-df-container\">\n",
              "    <div>\n",
              "<style scoped>\n",
              "    .dataframe tbody tr th:only-of-type {\n",
              "        vertical-align: middle;\n",
              "    }\n",
              "\n",
              "    .dataframe tbody tr th {\n",
              "        vertical-align: top;\n",
              "    }\n",
              "\n",
              "    .dataframe thead th {\n",
              "        text-align: right;\n",
              "    }\n",
              "</style>\n",
              "<table border=\"1\" class=\"dataframe\">\n",
              "  <thead>\n",
              "    <tr style=\"text-align: right;\">\n",
              "      <th></th>\n",
              "      <th>patientId</th>\n",
              "      <th>class</th>\n",
              "      <th>image_path</th>\n",
              "    </tr>\n",
              "  </thead>\n",
              "  <tbody>\n",
              "    <tr>\n",
              "      <th>0</th>\n",
              "      <td>0004cfab-14fd-4e49-80ba-63a80b6bddd6</td>\n",
              "      <td>No Lung Opacity / Not Normal</td>\n",
              "      <td>/content/stage_2_train_images/0004cfab-14fd-4e...</td>\n",
              "    </tr>\n",
              "    <tr>\n",
              "      <th>1</th>\n",
              "      <td>00313ee0-9eaa-42f4-b0ab-c148ed3241cd</td>\n",
              "      <td>No Lung Opacity / Not Normal</td>\n",
              "      <td>/content/stage_2_train_images/00313ee0-9eaa-42...</td>\n",
              "    </tr>\n",
              "    <tr>\n",
              "      <th>2</th>\n",
              "      <td>00322d4d-1c29-4943-afc9-b6754be640eb</td>\n",
              "      <td>No Lung Opacity / Not Normal</td>\n",
              "      <td>/content/stage_2_train_images/00322d4d-1c29-49...</td>\n",
              "    </tr>\n",
              "    <tr>\n",
              "      <th>3</th>\n",
              "      <td>003d8fa0-6bf1-40ed-b54c-ac657f8495c5</td>\n",
              "      <td>Normal</td>\n",
              "      <td>/content/stage_2_train_images/003d8fa0-6bf1-40...</td>\n",
              "    </tr>\n",
              "    <tr>\n",
              "      <th>4</th>\n",
              "      <td>00436515-870c-4b36-a041-de91049b9ab4</td>\n",
              "      <td>Lung Opacity</td>\n",
              "      <td>/content/stage_2_train_images/00436515-870c-4b...</td>\n",
              "    </tr>\n",
              "  </tbody>\n",
              "</table>\n",
              "</div>\n",
              "    <div class=\"colab-df-buttons\">\n",
              "\n",
              "  <div class=\"colab-df-container\">\n",
              "    <button class=\"colab-df-convert\" onclick=\"convertToInteractive('df-e2a16fa0-ed12-43ad-8e12-66389b5c12e1')\"\n",
              "            title=\"Convert this dataframe to an interactive table.\"\n",
              "            style=\"display:none;\">\n",
              "\n",
              "  <svg xmlns=\"http://www.w3.org/2000/svg\" height=\"24px\" viewBox=\"0 -960 960 960\">\n",
              "    <path d=\"M120-120v-720h720v720H120Zm60-500h600v-160H180v160Zm220 220h160v-160H400v160Zm0 220h160v-160H400v160ZM180-400h160v-160H180v160Zm440 0h160v-160H620v160ZM180-180h160v-160H180v160Zm440 0h160v-160H620v160Z\"/>\n",
              "  </svg>\n",
              "    </button>\n",
              "\n",
              "  <style>\n",
              "    .colab-df-container {\n",
              "      display:flex;\n",
              "      gap: 12px;\n",
              "    }\n",
              "\n",
              "    .colab-df-convert {\n",
              "      background-color: #E8F0FE;\n",
              "      border: none;\n",
              "      border-radius: 50%;\n",
              "      cursor: pointer;\n",
              "      display: none;\n",
              "      fill: #1967D2;\n",
              "      height: 32px;\n",
              "      padding: 0 0 0 0;\n",
              "      width: 32px;\n",
              "    }\n",
              "\n",
              "    .colab-df-convert:hover {\n",
              "      background-color: #E2EBFA;\n",
              "      box-shadow: 0px 1px 2px rgba(60, 64, 67, 0.3), 0px 1px 3px 1px rgba(60, 64, 67, 0.15);\n",
              "      fill: #174EA6;\n",
              "    }\n",
              "\n",
              "    .colab-df-buttons div {\n",
              "      margin-bottom: 4px;\n",
              "    }\n",
              "\n",
              "    [theme=dark] .colab-df-convert {\n",
              "      background-color: #3B4455;\n",
              "      fill: #D2E3FC;\n",
              "    }\n",
              "\n",
              "    [theme=dark] .colab-df-convert:hover {\n",
              "      background-color: #434B5C;\n",
              "      box-shadow: 0px 1px 3px 1px rgba(0, 0, 0, 0.15);\n",
              "      filter: drop-shadow(0px 1px 2px rgba(0, 0, 0, 0.3));\n",
              "      fill: #FFFFFF;\n",
              "    }\n",
              "  </style>\n",
              "\n",
              "    <script>\n",
              "      const buttonEl =\n",
              "        document.querySelector('#df-e2a16fa0-ed12-43ad-8e12-66389b5c12e1 button.colab-df-convert');\n",
              "      buttonEl.style.display =\n",
              "        google.colab.kernel.accessAllowed ? 'block' : 'none';\n",
              "\n",
              "      async function convertToInteractive(key) {\n",
              "        const element = document.querySelector('#df-e2a16fa0-ed12-43ad-8e12-66389b5c12e1');\n",
              "        const dataTable =\n",
              "          await google.colab.kernel.invokeFunction('convertToInteractive',\n",
              "                                                    [key], {});\n",
              "        if (!dataTable) return;\n",
              "\n",
              "        const docLinkHtml = 'Like what you see? Visit the ' +\n",
              "          '<a target=\"_blank\" href=https://colab.research.google.com/notebooks/data_table.ipynb>data table notebook</a>'\n",
              "          + ' to learn more about interactive tables.';\n",
              "        element.innerHTML = '';\n",
              "        dataTable['output_type'] = 'display_data';\n",
              "        await google.colab.output.renderOutput(dataTable, element);\n",
              "        const docLink = document.createElement('div');\n",
              "        docLink.innerHTML = docLinkHtml;\n",
              "        element.appendChild(docLink);\n",
              "      }\n",
              "    </script>\n",
              "  </div>\n",
              "\n",
              "\n",
              "<div id=\"df-56aa1a24-d40c-4d60-acc8-b6166f593ec5\">\n",
              "  <button class=\"colab-df-quickchart\" onclick=\"quickchart('df-56aa1a24-d40c-4d60-acc8-b6166f593ec5')\"\n",
              "            title=\"Suggest charts.\"\n",
              "            style=\"display:none;\">\n",
              "\n",
              "<svg xmlns=\"http://www.w3.org/2000/svg\" height=\"24px\"viewBox=\"0 0 24 24\"\n",
              "     width=\"24px\">\n",
              "    <g>\n",
              "        <path d=\"M19 3H5c-1.1 0-2 .9-2 2v14c0 1.1.9 2 2 2h14c1.1 0 2-.9 2-2V5c0-1.1-.9-2-2-2zM9 17H7v-7h2v7zm4 0h-2V7h2v10zm4 0h-2v-4h2v4z\"/>\n",
              "    </g>\n",
              "</svg>\n",
              "  </button>\n",
              "\n",
              "<style>\n",
              "  .colab-df-quickchart {\n",
              "      --bg-color: #E8F0FE;\n",
              "      --fill-color: #1967D2;\n",
              "      --hover-bg-color: #E2EBFA;\n",
              "      --hover-fill-color: #174EA6;\n",
              "      --disabled-fill-color: #AAA;\n",
              "      --disabled-bg-color: #DDD;\n",
              "  }\n",
              "\n",
              "  [theme=dark] .colab-df-quickchart {\n",
              "      --bg-color: #3B4455;\n",
              "      --fill-color: #D2E3FC;\n",
              "      --hover-bg-color: #434B5C;\n",
              "      --hover-fill-color: #FFFFFF;\n",
              "      --disabled-bg-color: #3B4455;\n",
              "      --disabled-fill-color: #666;\n",
              "  }\n",
              "\n",
              "  .colab-df-quickchart {\n",
              "    background-color: var(--bg-color);\n",
              "    border: none;\n",
              "    border-radius: 50%;\n",
              "    cursor: pointer;\n",
              "    display: none;\n",
              "    fill: var(--fill-color);\n",
              "    height: 32px;\n",
              "    padding: 0;\n",
              "    width: 32px;\n",
              "  }\n",
              "\n",
              "  .colab-df-quickchart:hover {\n",
              "    background-color: var(--hover-bg-color);\n",
              "    box-shadow: 0 1px 2px rgba(60, 64, 67, 0.3), 0 1px 3px 1px rgba(60, 64, 67, 0.15);\n",
              "    fill: var(--button-hover-fill-color);\n",
              "  }\n",
              "\n",
              "  .colab-df-quickchart-complete:disabled,\n",
              "  .colab-df-quickchart-complete:disabled:hover {\n",
              "    background-color: var(--disabled-bg-color);\n",
              "    fill: var(--disabled-fill-color);\n",
              "    box-shadow: none;\n",
              "  }\n",
              "\n",
              "  .colab-df-spinner {\n",
              "    border: 2px solid var(--fill-color);\n",
              "    border-color: transparent;\n",
              "    border-bottom-color: var(--fill-color);\n",
              "    animation:\n",
              "      spin 1s steps(1) infinite;\n",
              "  }\n",
              "\n",
              "  @keyframes spin {\n",
              "    0% {\n",
              "      border-color: transparent;\n",
              "      border-bottom-color: var(--fill-color);\n",
              "      border-left-color: var(--fill-color);\n",
              "    }\n",
              "    20% {\n",
              "      border-color: transparent;\n",
              "      border-left-color: var(--fill-color);\n",
              "      border-top-color: var(--fill-color);\n",
              "    }\n",
              "    30% {\n",
              "      border-color: transparent;\n",
              "      border-left-color: var(--fill-color);\n",
              "      border-top-color: var(--fill-color);\n",
              "      border-right-color: var(--fill-color);\n",
              "    }\n",
              "    40% {\n",
              "      border-color: transparent;\n",
              "      border-right-color: var(--fill-color);\n",
              "      border-top-color: var(--fill-color);\n",
              "    }\n",
              "    60% {\n",
              "      border-color: transparent;\n",
              "      border-right-color: var(--fill-color);\n",
              "    }\n",
              "    80% {\n",
              "      border-color: transparent;\n",
              "      border-right-color: var(--fill-color);\n",
              "      border-bottom-color: var(--fill-color);\n",
              "    }\n",
              "    90% {\n",
              "      border-color: transparent;\n",
              "      border-bottom-color: var(--fill-color);\n",
              "    }\n",
              "  }\n",
              "</style>\n",
              "\n",
              "  <script>\n",
              "    async function quickchart(key) {\n",
              "      const quickchartButtonEl =\n",
              "        document.querySelector('#' + key + ' button');\n",
              "      quickchartButtonEl.disabled = true;  // To prevent multiple clicks.\n",
              "      quickchartButtonEl.classList.add('colab-df-spinner');\n",
              "      try {\n",
              "        const charts = await google.colab.kernel.invokeFunction(\n",
              "            'suggestCharts', [key], {});\n",
              "      } catch (error) {\n",
              "        console.error('Error during call to suggestCharts:', error);\n",
              "      }\n",
              "      quickchartButtonEl.classList.remove('colab-df-spinner');\n",
              "      quickchartButtonEl.classList.add('colab-df-quickchart-complete');\n",
              "    }\n",
              "    (() => {\n",
              "      let quickchartButtonEl =\n",
              "        document.querySelector('#df-56aa1a24-d40c-4d60-acc8-b6166f593ec5 button');\n",
              "      quickchartButtonEl.style.display =\n",
              "        google.colab.kernel.accessAllowed ? 'block' : 'none';\n",
              "    })();\n",
              "  </script>\n",
              "</div>\n",
              "    </div>\n",
              "  </div>\n"
            ],
            "text/plain": [
              "                              patientId                         class  \\\n",
              "0  0004cfab-14fd-4e49-80ba-63a80b6bddd6  No Lung Opacity / Not Normal   \n",
              "1  00313ee0-9eaa-42f4-b0ab-c148ed3241cd  No Lung Opacity / Not Normal   \n",
              "2  00322d4d-1c29-4943-afc9-b6754be640eb  No Lung Opacity / Not Normal   \n",
              "3  003d8fa0-6bf1-40ed-b54c-ac657f8495c5                        Normal   \n",
              "4  00436515-870c-4b36-a041-de91049b9ab4                  Lung Opacity   \n",
              "\n",
              "                                          image_path  \n",
              "0  /content/stage_2_train_images/0004cfab-14fd-4e...  \n",
              "1  /content/stage_2_train_images/00313ee0-9eaa-42...  \n",
              "2  /content/stage_2_train_images/00322d4d-1c29-49...  \n",
              "3  /content/stage_2_train_images/003d8fa0-6bf1-40...  \n",
              "4  /content/stage_2_train_images/00436515-870c-4b...  "
            ]
          },
          "execution_count": 18,
          "metadata": {},
          "output_type": "execute_result"
        }
      ],
      "source": [
        "df.head()"
      ]
    },
    {
      "cell_type": "markdown",
      "source": [
        "**4. Selecting only 2000 rows out of the whole dataframe**"
      ],
      "metadata": {
        "id": "ZQqFNgsxpfZt"
      }
    },
    {
      "cell_type": "code",
      "execution_count": null,
      "metadata": {
        "execution": {
          "iopub.execute_input": "2023-10-09T11:51:32.900723Z",
          "iopub.status.busy": "2023-10-09T11:51:32.899750Z",
          "iopub.status.idle": "2023-10-09T11:51:32.951993Z",
          "shell.execute_reply": "2023-10-09T11:51:32.951066Z",
          "shell.execute_reply.started": "2023-10-09T11:51:32.900692Z"
        },
        "id": "m_URRB8yVz3v",
        "trusted": true
      },
      "outputs": [],
      "source": [
        "# select 2000 images with equal distribution of classes\n",
        "\n",
        "import pandas as pd\n",
        "import random\n",
        "\n",
        "# Assuming 'df' is your original DataFrame\n",
        "# Create three separate DataFrames based on 'class' values\n",
        "df_normal = df[df['class'] == 'Normal']\n",
        "df_lung_opacity = df[df['class'] == 'Lung Opacity']\n",
        "df_not_normal = df[df['class'] == 'No Lung Opacity / Not Normal']\n",
        "\n",
        "\n",
        "# Define the number of entries you want to select for each class\n",
        "num_lung_opacity = 1000\n",
        "num_normal = 500\n",
        "num_not_normal = 500\n",
        "\n",
        "# Randomly select entries for each class\n",
        "selected_normal = df_normal.sample(n=num_normal, random_state=42)\n",
        "selected_lung_opacity = df_lung_opacity.sample(n=num_lung_opacity, random_state=42)\n",
        "selected_not_normal = df_not_normal.sample(n=num_not_normal, random_state=42)\n",
        "\n",
        "# Concatenate the selected DataFrames to create the final DataFrame\n",
        "final_df = pd.concat([selected_normal, selected_lung_opacity, selected_not_normal])\n",
        "\n",
        "# Shuffle the final DataFrame to randomize the order\n",
        "final_df = final_df.sample(frac=1, random_state=42)\n",
        "\n",
        "# Extract 'image_path' entries corresponding to the selected rows\n",
        "selected_image_paths = final_df['image_path'].tolist()\n",
        "\n",
        "# Create a new DataFrame that includes both selected rows and 'image_path' entries\n",
        "filtered_df = df[df['image_path'].isin(selected_image_paths)]\n",
        "filtered_df = filtered_df.reset_index(drop=True)\n",
        "# Now 'selected_df_with_images' contains the selected rows and their corresponding 'image_path' entries\n"
      ]
    },
    {
      "cell_type": "code",
      "execution_count": null,
      "metadata": {
        "colab": {
          "base_uri": "https://localhost:8080/",
          "height": 206
        },
        "execution": {
          "iopub.execute_input": "2023-10-09T11:51:32.958307Z",
          "iopub.status.busy": "2023-10-09T11:51:32.956317Z",
          "iopub.status.idle": "2023-10-09T11:51:32.972089Z",
          "shell.execute_reply": "2023-10-09T11:51:32.971341Z",
          "shell.execute_reply.started": "2023-10-09T11:51:32.958275Z"
        },
        "id": "h9s7pwehVz3v",
        "outputId": "4a7177a0-861f-44ff-e933-5cb797fc385d",
        "trusted": true
      },
      "outputs": [
        {
          "data": {
            "text/html": [
              "\n",
              "  <div id=\"df-15468904-afb2-43f3-837b-d9ff2ef76504\" class=\"colab-df-container\">\n",
              "    <div>\n",
              "<style scoped>\n",
              "    .dataframe tbody tr th:only-of-type {\n",
              "        vertical-align: middle;\n",
              "    }\n",
              "\n",
              "    .dataframe tbody tr th {\n",
              "        vertical-align: top;\n",
              "    }\n",
              "\n",
              "    .dataframe thead th {\n",
              "        text-align: right;\n",
              "    }\n",
              "</style>\n",
              "<table border=\"1\" class=\"dataframe\">\n",
              "  <thead>\n",
              "    <tr style=\"text-align: right;\">\n",
              "      <th></th>\n",
              "      <th>patientId</th>\n",
              "      <th>class</th>\n",
              "      <th>image_path</th>\n",
              "    </tr>\n",
              "  </thead>\n",
              "  <tbody>\n",
              "    <tr>\n",
              "      <th>0</th>\n",
              "      <td>0174c4bb-28f5-41e3-a13f-a396badc18bd</td>\n",
              "      <td>Lung Opacity</td>\n",
              "      <td>/content/stage_2_train_images/0174c4bb-28f5-41...</td>\n",
              "    </tr>\n",
              "    <tr>\n",
              "      <th>1</th>\n",
              "      <td>01be392f-a46d-4aef-a57e-9cd1a80dd47e</td>\n",
              "      <td>Lung Opacity</td>\n",
              "      <td>/content/stage_2_train_images/01be392f-a46d-4a...</td>\n",
              "    </tr>\n",
              "    <tr>\n",
              "      <th>2</th>\n",
              "      <td>01c09fb1-a917-46ee-8d94-44f844a4eb85</td>\n",
              "      <td>No Lung Opacity / Not Normal</td>\n",
              "      <td>/content/stage_2_train_images/01c09fb1-a917-46...</td>\n",
              "    </tr>\n",
              "    <tr>\n",
              "      <th>3</th>\n",
              "      <td>01cad8d0-45cd-4603-b099-94055d322310</td>\n",
              "      <td>Lung Opacity</td>\n",
              "      <td>/content/stage_2_train_images/01cad8d0-45cd-46...</td>\n",
              "    </tr>\n",
              "    <tr>\n",
              "      <th>4</th>\n",
              "      <td>01d4fa0f-97a0-4522-b0d8-134400db2a3e</td>\n",
              "      <td>Lung Opacity</td>\n",
              "      <td>/content/stage_2_train_images/01d4fa0f-97a0-45...</td>\n",
              "    </tr>\n",
              "  </tbody>\n",
              "</table>\n",
              "</div>\n",
              "    <div class=\"colab-df-buttons\">\n",
              "\n",
              "  <div class=\"colab-df-container\">\n",
              "    <button class=\"colab-df-convert\" onclick=\"convertToInteractive('df-15468904-afb2-43f3-837b-d9ff2ef76504')\"\n",
              "            title=\"Convert this dataframe to an interactive table.\"\n",
              "            style=\"display:none;\">\n",
              "\n",
              "  <svg xmlns=\"http://www.w3.org/2000/svg\" height=\"24px\" viewBox=\"0 -960 960 960\">\n",
              "    <path d=\"M120-120v-720h720v720H120Zm60-500h600v-160H180v160Zm220 220h160v-160H400v160Zm0 220h160v-160H400v160ZM180-400h160v-160H180v160Zm440 0h160v-160H620v160ZM180-180h160v-160H180v160Zm440 0h160v-160H620v160Z\"/>\n",
              "  </svg>\n",
              "    </button>\n",
              "\n",
              "  <style>\n",
              "    .colab-df-container {\n",
              "      display:flex;\n",
              "      gap: 12px;\n",
              "    }\n",
              "\n",
              "    .colab-df-convert {\n",
              "      background-color: #E8F0FE;\n",
              "      border: none;\n",
              "      border-radius: 50%;\n",
              "      cursor: pointer;\n",
              "      display: none;\n",
              "      fill: #1967D2;\n",
              "      height: 32px;\n",
              "      padding: 0 0 0 0;\n",
              "      width: 32px;\n",
              "    }\n",
              "\n",
              "    .colab-df-convert:hover {\n",
              "      background-color: #E2EBFA;\n",
              "      box-shadow: 0px 1px 2px rgba(60, 64, 67, 0.3), 0px 1px 3px 1px rgba(60, 64, 67, 0.15);\n",
              "      fill: #174EA6;\n",
              "    }\n",
              "\n",
              "    .colab-df-buttons div {\n",
              "      margin-bottom: 4px;\n",
              "    }\n",
              "\n",
              "    [theme=dark] .colab-df-convert {\n",
              "      background-color: #3B4455;\n",
              "      fill: #D2E3FC;\n",
              "    }\n",
              "\n",
              "    [theme=dark] .colab-df-convert:hover {\n",
              "      background-color: #434B5C;\n",
              "      box-shadow: 0px 1px 3px 1px rgba(0, 0, 0, 0.15);\n",
              "      filter: drop-shadow(0px 1px 2px rgba(0, 0, 0, 0.3));\n",
              "      fill: #FFFFFF;\n",
              "    }\n",
              "  </style>\n",
              "\n",
              "    <script>\n",
              "      const buttonEl =\n",
              "        document.querySelector('#df-15468904-afb2-43f3-837b-d9ff2ef76504 button.colab-df-convert');\n",
              "      buttonEl.style.display =\n",
              "        google.colab.kernel.accessAllowed ? 'block' : 'none';\n",
              "\n",
              "      async function convertToInteractive(key) {\n",
              "        const element = document.querySelector('#df-15468904-afb2-43f3-837b-d9ff2ef76504');\n",
              "        const dataTable =\n",
              "          await google.colab.kernel.invokeFunction('convertToInteractive',\n",
              "                                                    [key], {});\n",
              "        if (!dataTable) return;\n",
              "\n",
              "        const docLinkHtml = 'Like what you see? Visit the ' +\n",
              "          '<a target=\"_blank\" href=https://colab.research.google.com/notebooks/data_table.ipynb>data table notebook</a>'\n",
              "          + ' to learn more about interactive tables.';\n",
              "        element.innerHTML = '';\n",
              "        dataTable['output_type'] = 'display_data';\n",
              "        await google.colab.output.renderOutput(dataTable, element);\n",
              "        const docLink = document.createElement('div');\n",
              "        docLink.innerHTML = docLinkHtml;\n",
              "        element.appendChild(docLink);\n",
              "      }\n",
              "    </script>\n",
              "  </div>\n",
              "\n",
              "\n",
              "<div id=\"df-1ad83719-8971-40d4-a4c3-544236d136da\">\n",
              "  <button class=\"colab-df-quickchart\" onclick=\"quickchart('df-1ad83719-8971-40d4-a4c3-544236d136da')\"\n",
              "            title=\"Suggest charts.\"\n",
              "            style=\"display:none;\">\n",
              "\n",
              "<svg xmlns=\"http://www.w3.org/2000/svg\" height=\"24px\"viewBox=\"0 0 24 24\"\n",
              "     width=\"24px\">\n",
              "    <g>\n",
              "        <path d=\"M19 3H5c-1.1 0-2 .9-2 2v14c0 1.1.9 2 2 2h14c1.1 0 2-.9 2-2V5c0-1.1-.9-2-2-2zM9 17H7v-7h2v7zm4 0h-2V7h2v10zm4 0h-2v-4h2v4z\"/>\n",
              "    </g>\n",
              "</svg>\n",
              "  </button>\n",
              "\n",
              "<style>\n",
              "  .colab-df-quickchart {\n",
              "      --bg-color: #E8F0FE;\n",
              "      --fill-color: #1967D2;\n",
              "      --hover-bg-color: #E2EBFA;\n",
              "      --hover-fill-color: #174EA6;\n",
              "      --disabled-fill-color: #AAA;\n",
              "      --disabled-bg-color: #DDD;\n",
              "  }\n",
              "\n",
              "  [theme=dark] .colab-df-quickchart {\n",
              "      --bg-color: #3B4455;\n",
              "      --fill-color: #D2E3FC;\n",
              "      --hover-bg-color: #434B5C;\n",
              "      --hover-fill-color: #FFFFFF;\n",
              "      --disabled-bg-color: #3B4455;\n",
              "      --disabled-fill-color: #666;\n",
              "  }\n",
              "\n",
              "  .colab-df-quickchart {\n",
              "    background-color: var(--bg-color);\n",
              "    border: none;\n",
              "    border-radius: 50%;\n",
              "    cursor: pointer;\n",
              "    display: none;\n",
              "    fill: var(--fill-color);\n",
              "    height: 32px;\n",
              "    padding: 0;\n",
              "    width: 32px;\n",
              "  }\n",
              "\n",
              "  .colab-df-quickchart:hover {\n",
              "    background-color: var(--hover-bg-color);\n",
              "    box-shadow: 0 1px 2px rgba(60, 64, 67, 0.3), 0 1px 3px 1px rgba(60, 64, 67, 0.15);\n",
              "    fill: var(--button-hover-fill-color);\n",
              "  }\n",
              "\n",
              "  .colab-df-quickchart-complete:disabled,\n",
              "  .colab-df-quickchart-complete:disabled:hover {\n",
              "    background-color: var(--disabled-bg-color);\n",
              "    fill: var(--disabled-fill-color);\n",
              "    box-shadow: none;\n",
              "  }\n",
              "\n",
              "  .colab-df-spinner {\n",
              "    border: 2px solid var(--fill-color);\n",
              "    border-color: transparent;\n",
              "    border-bottom-color: var(--fill-color);\n",
              "    animation:\n",
              "      spin 1s steps(1) infinite;\n",
              "  }\n",
              "\n",
              "  @keyframes spin {\n",
              "    0% {\n",
              "      border-color: transparent;\n",
              "      border-bottom-color: var(--fill-color);\n",
              "      border-left-color: var(--fill-color);\n",
              "    }\n",
              "    20% {\n",
              "      border-color: transparent;\n",
              "      border-left-color: var(--fill-color);\n",
              "      border-top-color: var(--fill-color);\n",
              "    }\n",
              "    30% {\n",
              "      border-color: transparent;\n",
              "      border-left-color: var(--fill-color);\n",
              "      border-top-color: var(--fill-color);\n",
              "      border-right-color: var(--fill-color);\n",
              "    }\n",
              "    40% {\n",
              "      border-color: transparent;\n",
              "      border-right-color: var(--fill-color);\n",
              "      border-top-color: var(--fill-color);\n",
              "    }\n",
              "    60% {\n",
              "      border-color: transparent;\n",
              "      border-right-color: var(--fill-color);\n",
              "    }\n",
              "    80% {\n",
              "      border-color: transparent;\n",
              "      border-right-color: var(--fill-color);\n",
              "      border-bottom-color: var(--fill-color);\n",
              "    }\n",
              "    90% {\n",
              "      border-color: transparent;\n",
              "      border-bottom-color: var(--fill-color);\n",
              "    }\n",
              "  }\n",
              "</style>\n",
              "\n",
              "  <script>\n",
              "    async function quickchart(key) {\n",
              "      const quickchartButtonEl =\n",
              "        document.querySelector('#' + key + ' button');\n",
              "      quickchartButtonEl.disabled = true;  // To prevent multiple clicks.\n",
              "      quickchartButtonEl.classList.add('colab-df-spinner');\n",
              "      try {\n",
              "        const charts = await google.colab.kernel.invokeFunction(\n",
              "            'suggestCharts', [key], {});\n",
              "      } catch (error) {\n",
              "        console.error('Error during call to suggestCharts:', error);\n",
              "      }\n",
              "      quickchartButtonEl.classList.remove('colab-df-spinner');\n",
              "      quickchartButtonEl.classList.add('colab-df-quickchart-complete');\n",
              "    }\n",
              "    (() => {\n",
              "      let quickchartButtonEl =\n",
              "        document.querySelector('#df-1ad83719-8971-40d4-a4c3-544236d136da button');\n",
              "      quickchartButtonEl.style.display =\n",
              "        google.colab.kernel.accessAllowed ? 'block' : 'none';\n",
              "    })();\n",
              "  </script>\n",
              "</div>\n",
              "    </div>\n",
              "  </div>\n"
            ],
            "text/plain": [
              "                              patientId                         class  \\\n",
              "0  0174c4bb-28f5-41e3-a13f-a396badc18bd                  Lung Opacity   \n",
              "1  01be392f-a46d-4aef-a57e-9cd1a80dd47e                  Lung Opacity   \n",
              "2  01c09fb1-a917-46ee-8d94-44f844a4eb85  No Lung Opacity / Not Normal   \n",
              "3  01cad8d0-45cd-4603-b099-94055d322310                  Lung Opacity   \n",
              "4  01d4fa0f-97a0-4522-b0d8-134400db2a3e                  Lung Opacity   \n",
              "\n",
              "                                          image_path  \n",
              "0  /content/stage_2_train_images/0174c4bb-28f5-41...  \n",
              "1  /content/stage_2_train_images/01be392f-a46d-4a...  \n",
              "2  /content/stage_2_train_images/01c09fb1-a917-46...  \n",
              "3  /content/stage_2_train_images/01cad8d0-45cd-46...  \n",
              "4  /content/stage_2_train_images/01d4fa0f-97a0-45...  "
            ]
          },
          "execution_count": 23,
          "metadata": {},
          "output_type": "execute_result"
        }
      ],
      "source": [
        "filtered_df.head()"
      ]
    },
    {
      "cell_type": "code",
      "execution_count": null,
      "metadata": {
        "colab": {
          "base_uri": "https://localhost:8080/"
        },
        "execution": {
          "iopub.execute_input": "2023-10-09T11:51:32.977539Z",
          "iopub.status.busy": "2023-10-09T11:51:32.975639Z",
          "iopub.status.idle": "2023-10-09T11:51:32.988851Z",
          "shell.execute_reply": "2023-10-09T11:51:32.987815Z",
          "shell.execute_reply.started": "2023-10-09T11:51:32.977507Z"
        },
        "id": "F4oaExItVz3v",
        "outputId": "48f7710a-f5a3-42b0-f309-9149e588768f",
        "trusted": true
      },
      "outputs": [
        {
          "data": {
            "text/plain": [
              "Lung Opacity                    1000\n",
              "No Lung Opacity / Not Normal     500\n",
              "Normal                           500\n",
              "Name: class, dtype: int64"
            ]
          },
          "execution_count": 24,
          "metadata": {},
          "output_type": "execute_result"
        }
      ],
      "source": [
        "filtered_df['class'].value_counts()"
      ]
    },
    {
      "cell_type": "markdown",
      "source": [
        "**5. Creating a new column 'label' containing 0 for 'Normal and No Lung Opacity/Not Normal' classes and 1 for 'Lung Opacity'.**"
      ],
      "metadata": {
        "id": "bFX-vyEUpk3t"
      }
    },
    {
      "cell_type": "code",
      "execution_count": null,
      "metadata": {
        "colab": {
          "base_uri": "https://localhost:8080/",
          "height": 363
        },
        "execution": {
          "iopub.execute_input": "2023-10-09T11:51:33.013443Z",
          "iopub.status.busy": "2023-10-09T11:51:33.012916Z",
          "iopub.status.idle": "2023-10-09T11:51:33.037883Z",
          "shell.execute_reply": "2023-10-09T11:51:33.036898Z",
          "shell.execute_reply.started": "2023-10-09T11:51:33.013396Z"
        },
        "id": "VlFxnI7IVz3w",
        "outputId": "0eddb32f-90ad-412d-c6f2-77f922003ff7",
        "trusted": true
      },
      "outputs": [
        {
          "data": {
            "text/html": [
              "\n",
              "  <div id=\"df-4a626c3b-267f-4e57-8009-a9af5eaf7c4e\" class=\"colab-df-container\">\n",
              "    <div>\n",
              "<style scoped>\n",
              "    .dataframe tbody tr th:only-of-type {\n",
              "        vertical-align: middle;\n",
              "    }\n",
              "\n",
              "    .dataframe tbody tr th {\n",
              "        vertical-align: top;\n",
              "    }\n",
              "\n",
              "    .dataframe thead th {\n",
              "        text-align: right;\n",
              "    }\n",
              "</style>\n",
              "<table border=\"1\" class=\"dataframe\">\n",
              "  <thead>\n",
              "    <tr style=\"text-align: right;\">\n",
              "      <th></th>\n",
              "      <th>patientId</th>\n",
              "      <th>class</th>\n",
              "      <th>image_path</th>\n",
              "      <th>label</th>\n",
              "    </tr>\n",
              "  </thead>\n",
              "  <tbody>\n",
              "    <tr>\n",
              "      <th>0</th>\n",
              "      <td>0174c4bb-28f5-41e3-a13f-a396badc18bd</td>\n",
              "      <td>Lung Opacity</td>\n",
              "      <td>/content/stage_2_train_images/0174c4bb-28f5-41...</td>\n",
              "      <td>1</td>\n",
              "    </tr>\n",
              "    <tr>\n",
              "      <th>1</th>\n",
              "      <td>01be392f-a46d-4aef-a57e-9cd1a80dd47e</td>\n",
              "      <td>Lung Opacity</td>\n",
              "      <td>/content/stage_2_train_images/01be392f-a46d-4a...</td>\n",
              "      <td>1</td>\n",
              "    </tr>\n",
              "    <tr>\n",
              "      <th>2</th>\n",
              "      <td>01c09fb1-a917-46ee-8d94-44f844a4eb85</td>\n",
              "      <td>No Lung Opacity / Not Normal</td>\n",
              "      <td>/content/stage_2_train_images/01c09fb1-a917-46...</td>\n",
              "      <td>0</td>\n",
              "    </tr>\n",
              "    <tr>\n",
              "      <th>3</th>\n",
              "      <td>01cad8d0-45cd-4603-b099-94055d322310</td>\n",
              "      <td>Lung Opacity</td>\n",
              "      <td>/content/stage_2_train_images/01cad8d0-45cd-46...</td>\n",
              "      <td>1</td>\n",
              "    </tr>\n",
              "    <tr>\n",
              "      <th>4</th>\n",
              "      <td>01d4fa0f-97a0-4522-b0d8-134400db2a3e</td>\n",
              "      <td>Lung Opacity</td>\n",
              "      <td>/content/stage_2_train_images/01d4fa0f-97a0-45...</td>\n",
              "      <td>1</td>\n",
              "    </tr>\n",
              "    <tr>\n",
              "      <th>5</th>\n",
              "      <td>01e16ddb-682d-4901-b56d-8686c4f9f976</td>\n",
              "      <td>No Lung Opacity / Not Normal</td>\n",
              "      <td>/content/stage_2_train_images/01e16ddb-682d-49...</td>\n",
              "      <td>0</td>\n",
              "    </tr>\n",
              "    <tr>\n",
              "      <th>6</th>\n",
              "      <td>01e4fd43-4f2c-421f-bd68-c756dceb5742</td>\n",
              "      <td>Normal</td>\n",
              "      <td>/content/stage_2_train_images/01e4fd43-4f2c-42...</td>\n",
              "      <td>0</td>\n",
              "    </tr>\n",
              "    <tr>\n",
              "      <th>7</th>\n",
              "      <td>01f4cd36-caa1-480f-9d8c-92e80cf7b197</td>\n",
              "      <td>Normal</td>\n",
              "      <td>/content/stage_2_train_images/01f4cd36-caa1-48...</td>\n",
              "      <td>0</td>\n",
              "    </tr>\n",
              "    <tr>\n",
              "      <th>8</th>\n",
              "      <td>020380f8-5c5a-4ded-bdf3-9ce3036945b4</td>\n",
              "      <td>Lung Opacity</td>\n",
              "      <td>/content/stage_2_train_images/020380f8-5c5a-4d...</td>\n",
              "      <td>1</td>\n",
              "    </tr>\n",
              "    <tr>\n",
              "      <th>9</th>\n",
              "      <td>0280a39c-4891-4a7b-8073-710c3f5577a3</td>\n",
              "      <td>Normal</td>\n",
              "      <td>/content/stage_2_train_images/0280a39c-4891-4a...</td>\n",
              "      <td>0</td>\n",
              "    </tr>\n",
              "  </tbody>\n",
              "</table>\n",
              "</div>\n",
              "    <div class=\"colab-df-buttons\">\n",
              "\n",
              "  <div class=\"colab-df-container\">\n",
              "    <button class=\"colab-df-convert\" onclick=\"convertToInteractive('df-4a626c3b-267f-4e57-8009-a9af5eaf7c4e')\"\n",
              "            title=\"Convert this dataframe to an interactive table.\"\n",
              "            style=\"display:none;\">\n",
              "\n",
              "  <svg xmlns=\"http://www.w3.org/2000/svg\" height=\"24px\" viewBox=\"0 -960 960 960\">\n",
              "    <path d=\"M120-120v-720h720v720H120Zm60-500h600v-160H180v160Zm220 220h160v-160H400v160Zm0 220h160v-160H400v160ZM180-400h160v-160H180v160Zm440 0h160v-160H620v160ZM180-180h160v-160H180v160Zm440 0h160v-160H620v160Z\"/>\n",
              "  </svg>\n",
              "    </button>\n",
              "\n",
              "  <style>\n",
              "    .colab-df-container {\n",
              "      display:flex;\n",
              "      gap: 12px;\n",
              "    }\n",
              "\n",
              "    .colab-df-convert {\n",
              "      background-color: #E8F0FE;\n",
              "      border: none;\n",
              "      border-radius: 50%;\n",
              "      cursor: pointer;\n",
              "      display: none;\n",
              "      fill: #1967D2;\n",
              "      height: 32px;\n",
              "      padding: 0 0 0 0;\n",
              "      width: 32px;\n",
              "    }\n",
              "\n",
              "    .colab-df-convert:hover {\n",
              "      background-color: #E2EBFA;\n",
              "      box-shadow: 0px 1px 2px rgba(60, 64, 67, 0.3), 0px 1px 3px 1px rgba(60, 64, 67, 0.15);\n",
              "      fill: #174EA6;\n",
              "    }\n",
              "\n",
              "    .colab-df-buttons div {\n",
              "      margin-bottom: 4px;\n",
              "    }\n",
              "\n",
              "    [theme=dark] .colab-df-convert {\n",
              "      background-color: #3B4455;\n",
              "      fill: #D2E3FC;\n",
              "    }\n",
              "\n",
              "    [theme=dark] .colab-df-convert:hover {\n",
              "      background-color: #434B5C;\n",
              "      box-shadow: 0px 1px 3px 1px rgba(0, 0, 0, 0.15);\n",
              "      filter: drop-shadow(0px 1px 2px rgba(0, 0, 0, 0.3));\n",
              "      fill: #FFFFFF;\n",
              "    }\n",
              "  </style>\n",
              "\n",
              "    <script>\n",
              "      const buttonEl =\n",
              "        document.querySelector('#df-4a626c3b-267f-4e57-8009-a9af5eaf7c4e button.colab-df-convert');\n",
              "      buttonEl.style.display =\n",
              "        google.colab.kernel.accessAllowed ? 'block' : 'none';\n",
              "\n",
              "      async function convertToInteractive(key) {\n",
              "        const element = document.querySelector('#df-4a626c3b-267f-4e57-8009-a9af5eaf7c4e');\n",
              "        const dataTable =\n",
              "          await google.colab.kernel.invokeFunction('convertToInteractive',\n",
              "                                                    [key], {});\n",
              "        if (!dataTable) return;\n",
              "\n",
              "        const docLinkHtml = 'Like what you see? Visit the ' +\n",
              "          '<a target=\"_blank\" href=https://colab.research.google.com/notebooks/data_table.ipynb>data table notebook</a>'\n",
              "          + ' to learn more about interactive tables.';\n",
              "        element.innerHTML = '';\n",
              "        dataTable['output_type'] = 'display_data';\n",
              "        await google.colab.output.renderOutput(dataTable, element);\n",
              "        const docLink = document.createElement('div');\n",
              "        docLink.innerHTML = docLinkHtml;\n",
              "        element.appendChild(docLink);\n",
              "      }\n",
              "    </script>\n",
              "  </div>\n",
              "\n",
              "\n",
              "<div id=\"df-c5476207-c375-4667-94ce-74000ec5fa94\">\n",
              "  <button class=\"colab-df-quickchart\" onclick=\"quickchart('df-c5476207-c375-4667-94ce-74000ec5fa94')\"\n",
              "            title=\"Suggest charts.\"\n",
              "            style=\"display:none;\">\n",
              "\n",
              "<svg xmlns=\"http://www.w3.org/2000/svg\" height=\"24px\"viewBox=\"0 0 24 24\"\n",
              "     width=\"24px\">\n",
              "    <g>\n",
              "        <path d=\"M19 3H5c-1.1 0-2 .9-2 2v14c0 1.1.9 2 2 2h14c1.1 0 2-.9 2-2V5c0-1.1-.9-2-2-2zM9 17H7v-7h2v7zm4 0h-2V7h2v10zm4 0h-2v-4h2v4z\"/>\n",
              "    </g>\n",
              "</svg>\n",
              "  </button>\n",
              "\n",
              "<style>\n",
              "  .colab-df-quickchart {\n",
              "      --bg-color: #E8F0FE;\n",
              "      --fill-color: #1967D2;\n",
              "      --hover-bg-color: #E2EBFA;\n",
              "      --hover-fill-color: #174EA6;\n",
              "      --disabled-fill-color: #AAA;\n",
              "      --disabled-bg-color: #DDD;\n",
              "  }\n",
              "\n",
              "  [theme=dark] .colab-df-quickchart {\n",
              "      --bg-color: #3B4455;\n",
              "      --fill-color: #D2E3FC;\n",
              "      --hover-bg-color: #434B5C;\n",
              "      --hover-fill-color: #FFFFFF;\n",
              "      --disabled-bg-color: #3B4455;\n",
              "      --disabled-fill-color: #666;\n",
              "  }\n",
              "\n",
              "  .colab-df-quickchart {\n",
              "    background-color: var(--bg-color);\n",
              "    border: none;\n",
              "    border-radius: 50%;\n",
              "    cursor: pointer;\n",
              "    display: none;\n",
              "    fill: var(--fill-color);\n",
              "    height: 32px;\n",
              "    padding: 0;\n",
              "    width: 32px;\n",
              "  }\n",
              "\n",
              "  .colab-df-quickchart:hover {\n",
              "    background-color: var(--hover-bg-color);\n",
              "    box-shadow: 0 1px 2px rgba(60, 64, 67, 0.3), 0 1px 3px 1px rgba(60, 64, 67, 0.15);\n",
              "    fill: var(--button-hover-fill-color);\n",
              "  }\n",
              "\n",
              "  .colab-df-quickchart-complete:disabled,\n",
              "  .colab-df-quickchart-complete:disabled:hover {\n",
              "    background-color: var(--disabled-bg-color);\n",
              "    fill: var(--disabled-fill-color);\n",
              "    box-shadow: none;\n",
              "  }\n",
              "\n",
              "  .colab-df-spinner {\n",
              "    border: 2px solid var(--fill-color);\n",
              "    border-color: transparent;\n",
              "    border-bottom-color: var(--fill-color);\n",
              "    animation:\n",
              "      spin 1s steps(1) infinite;\n",
              "  }\n",
              "\n",
              "  @keyframes spin {\n",
              "    0% {\n",
              "      border-color: transparent;\n",
              "      border-bottom-color: var(--fill-color);\n",
              "      border-left-color: var(--fill-color);\n",
              "    }\n",
              "    20% {\n",
              "      border-color: transparent;\n",
              "      border-left-color: var(--fill-color);\n",
              "      border-top-color: var(--fill-color);\n",
              "    }\n",
              "    30% {\n",
              "      border-color: transparent;\n",
              "      border-left-color: var(--fill-color);\n",
              "      border-top-color: var(--fill-color);\n",
              "      border-right-color: var(--fill-color);\n",
              "    }\n",
              "    40% {\n",
              "      border-color: transparent;\n",
              "      border-right-color: var(--fill-color);\n",
              "      border-top-color: var(--fill-color);\n",
              "    }\n",
              "    60% {\n",
              "      border-color: transparent;\n",
              "      border-right-color: var(--fill-color);\n",
              "    }\n",
              "    80% {\n",
              "      border-color: transparent;\n",
              "      border-right-color: var(--fill-color);\n",
              "      border-bottom-color: var(--fill-color);\n",
              "    }\n",
              "    90% {\n",
              "      border-color: transparent;\n",
              "      border-bottom-color: var(--fill-color);\n",
              "    }\n",
              "  }\n",
              "</style>\n",
              "\n",
              "  <script>\n",
              "    async function quickchart(key) {\n",
              "      const quickchartButtonEl =\n",
              "        document.querySelector('#' + key + ' button');\n",
              "      quickchartButtonEl.disabled = true;  // To prevent multiple clicks.\n",
              "      quickchartButtonEl.classList.add('colab-df-spinner');\n",
              "      try {\n",
              "        const charts = await google.colab.kernel.invokeFunction(\n",
              "            'suggestCharts', [key], {});\n",
              "      } catch (error) {\n",
              "        console.error('Error during call to suggestCharts:', error);\n",
              "      }\n",
              "      quickchartButtonEl.classList.remove('colab-df-spinner');\n",
              "      quickchartButtonEl.classList.add('colab-df-quickchart-complete');\n",
              "    }\n",
              "    (() => {\n",
              "      let quickchartButtonEl =\n",
              "        document.querySelector('#df-c5476207-c375-4667-94ce-74000ec5fa94 button');\n",
              "      quickchartButtonEl.style.display =\n",
              "        google.colab.kernel.accessAllowed ? 'block' : 'none';\n",
              "    })();\n",
              "  </script>\n",
              "</div>\n",
              "    </div>\n",
              "  </div>\n"
            ],
            "text/plain": [
              "                              patientId                         class  \\\n",
              "0  0174c4bb-28f5-41e3-a13f-a396badc18bd                  Lung Opacity   \n",
              "1  01be392f-a46d-4aef-a57e-9cd1a80dd47e                  Lung Opacity   \n",
              "2  01c09fb1-a917-46ee-8d94-44f844a4eb85  No Lung Opacity / Not Normal   \n",
              "3  01cad8d0-45cd-4603-b099-94055d322310                  Lung Opacity   \n",
              "4  01d4fa0f-97a0-4522-b0d8-134400db2a3e                  Lung Opacity   \n",
              "5  01e16ddb-682d-4901-b56d-8686c4f9f976  No Lung Opacity / Not Normal   \n",
              "6  01e4fd43-4f2c-421f-bd68-c756dceb5742                        Normal   \n",
              "7  01f4cd36-caa1-480f-9d8c-92e80cf7b197                        Normal   \n",
              "8  020380f8-5c5a-4ded-bdf3-9ce3036945b4                  Lung Opacity   \n",
              "9  0280a39c-4891-4a7b-8073-710c3f5577a3                        Normal   \n",
              "\n",
              "                                          image_path  label  \n",
              "0  /content/stage_2_train_images/0174c4bb-28f5-41...      1  \n",
              "1  /content/stage_2_train_images/01be392f-a46d-4a...      1  \n",
              "2  /content/stage_2_train_images/01c09fb1-a917-46...      0  \n",
              "3  /content/stage_2_train_images/01cad8d0-45cd-46...      1  \n",
              "4  /content/stage_2_train_images/01d4fa0f-97a0-45...      1  \n",
              "5  /content/stage_2_train_images/01e16ddb-682d-49...      0  \n",
              "6  /content/stage_2_train_images/01e4fd43-4f2c-42...      0  \n",
              "7  /content/stage_2_train_images/01f4cd36-caa1-48...      0  \n",
              "8  /content/stage_2_train_images/020380f8-5c5a-4d...      1  \n",
              "9  /content/stage_2_train_images/0280a39c-4891-4a...      0  "
            ]
          },
          "execution_count": 27,
          "metadata": {},
          "output_type": "execute_result"
        }
      ],
      "source": [
        "filtered_df['label'] = filtered_df['class'].apply(lambda x: 1 if x == 'Lung Opacity' else 0)\n",
        "\n",
        "filtered_df.head(10)"
      ]
    },
    {
      "cell_type": "code",
      "execution_count": null,
      "metadata": {
        "colab": {
          "base_uri": "https://localhost:8080/"
        },
        "execution": {
          "iopub.execute_input": "2023-10-09T11:51:33.041049Z",
          "iopub.status.busy": "2023-10-09T11:51:33.040662Z",
          "iopub.status.idle": "2023-10-09T11:51:33.052735Z",
          "shell.execute_reply": "2023-10-09T11:51:33.051606Z",
          "shell.execute_reply.started": "2023-10-09T11:51:33.041015Z"
        },
        "id": "83Oa_aPiVz3w",
        "outputId": "30743194-5013-4e17-e510-a780e6add2a7",
        "trusted": true
      },
      "outputs": [
        {
          "data": {
            "text/plain": [
              "1    1000\n",
              "0    1000\n",
              "Name: label, dtype: int64"
            ]
          },
          "execution_count": 28,
          "metadata": {},
          "output_type": "execute_result"
        }
      ],
      "source": [
        "filtered_df['label'].value_counts()"
      ]
    },
    {
      "cell_type": "code",
      "execution_count": null,
      "metadata": {
        "colab": {
          "base_uri": "https://localhost:8080/",
          "height": 466
        },
        "execution": {
          "iopub.execute_input": "2023-10-09T11:51:33.055765Z",
          "iopub.status.busy": "2023-10-09T11:51:33.053990Z",
          "iopub.status.idle": "2023-10-09T11:51:33.295284Z",
          "shell.execute_reply": "2023-10-09T11:51:33.294420Z",
          "shell.execute_reply.started": "2023-10-09T11:51:33.055732Z"
        },
        "id": "nITLWcKFVz3w",
        "outputId": "34ecf492-6b99-44cd-c60c-7dc5ff7eac86",
        "trusted": true
      },
      "outputs": [
        {
          "data": {
            "text/plain": [
              "<Axes: xlabel='label', ylabel='count'>"
            ]
          },
          "execution_count": 29,
          "metadata": {},
          "output_type": "execute_result"
        },
        {
          "data": {
            "image/png": "[encoded data removed]",
            "text/plain": [
              "<Figure size 640x480 with 1 Axes>"
            ]
          },
          "metadata": {},
          "output_type": "display_data"
        }
      ],
      "source": [
        "import seaborn as sns\n",
        "sns.countplot(x = filtered_df['label'])"
      ]
    },
    {
      "cell_type": "code",
      "execution_count": null,
      "metadata": {
        "colab": {
          "base_uri": "https://localhost:8080/"
        },
        "execution": {
          "iopub.execute_input": "2023-10-09T11:51:33.301496Z",
          "iopub.status.busy": "2023-10-09T11:51:33.299421Z",
          "iopub.status.idle": "2023-10-09T11:51:33.310654Z",
          "shell.execute_reply": "2023-10-09T11:51:33.309616Z",
          "shell.execute_reply.started": "2023-10-09T11:51:33.301459Z"
        },
        "id": "8pZoRnkcVz3w",
        "outputId": "4070fd48-5997-401a-f9c5-bdf434bd3432",
        "trusted": true
      },
      "outputs": [
        {
          "data": {
            "text/plain": [
              "(2000, 4)"
            ]
          },
          "execution_count": 30,
          "metadata": {},
          "output_type": "execute_result"
        }
      ],
      "source": [
        "filtered_df.shape"
      ]
    },
    {
      "cell_type": "code",
      "execution_count": null,
      "metadata": {
        "colab": {
          "base_uri": "https://localhost:8080/",
          "height": 206
        },
        "execution": {
          "iopub.execute_input": "2023-10-09T11:51:33.312570Z",
          "iopub.status.busy": "2023-10-09T11:51:33.311975Z",
          "iopub.status.idle": "2023-10-09T11:51:33.335490Z",
          "shell.execute_reply": "2023-10-09T11:51:33.334642Z",
          "shell.execute_reply.started": "2023-10-09T11:51:33.312539Z"
        },
        "id": "3O0ePVU-Vz3x",
        "outputId": "c6f2f0bc-a606-4fc3-e714-67f3b300badc",
        "trusted": true
      },
      "outputs": [
        {
          "data": {
            "text/html": [
              "\n",
              "  <div id=\"df-53c28f3b-7929-4912-af73-8e9b729b3295\" class=\"colab-df-container\">\n",
              "    <div>\n",
              "<style scoped>\n",
              "    .dataframe tbody tr th:only-of-type {\n",
              "        vertical-align: middle;\n",
              "    }\n",
              "\n",
              "    .dataframe tbody tr th {\n",
              "        vertical-align: top;\n",
              "    }\n",
              "\n",
              "    .dataframe thead th {\n",
              "        text-align: right;\n",
              "    }\n",
              "</style>\n",
              "<table border=\"1\" class=\"dataframe\">\n",
              "  <thead>\n",
              "    <tr style=\"text-align: right;\">\n",
              "      <th></th>\n",
              "      <th>patientId</th>\n",
              "      <th>class</th>\n",
              "      <th>image_path</th>\n",
              "      <th>label</th>\n",
              "    </tr>\n",
              "  </thead>\n",
              "  <tbody>\n",
              "    <tr>\n",
              "      <th>0</th>\n",
              "      <td>0174c4bb-28f5-41e3-a13f-a396badc18bd</td>\n",
              "      <td>Lung Opacity</td>\n",
              "      <td>/content/stage_2_train_images/0174c4bb-28f5-41...</td>\n",
              "      <td>1</td>\n",
              "    </tr>\n",
              "    <tr>\n",
              "      <th>1</th>\n",
              "      <td>01be392f-a46d-4aef-a57e-9cd1a80dd47e</td>\n",
              "      <td>Lung Opacity</td>\n",
              "      <td>/content/stage_2_train_images/01be392f-a46d-4a...</td>\n",
              "      <td>1</td>\n",
              "    </tr>\n",
              "    <tr>\n",
              "      <th>2</th>\n",
              "      <td>01c09fb1-a917-46ee-8d94-44f844a4eb85</td>\n",
              "      <td>No Lung Opacity / Not Normal</td>\n",
              "      <td>/content/stage_2_train_images/01c09fb1-a917-46...</td>\n",
              "      <td>0</td>\n",
              "    </tr>\n",
              "    <tr>\n",
              "      <th>3</th>\n",
              "      <td>01cad8d0-45cd-4603-b099-94055d322310</td>\n",
              "      <td>Lung Opacity</td>\n",
              "      <td>/content/stage_2_train_images/01cad8d0-45cd-46...</td>\n",
              "      <td>1</td>\n",
              "    </tr>\n",
              "    <tr>\n",
              "      <th>4</th>\n",
              "      <td>01d4fa0f-97a0-4522-b0d8-134400db2a3e</td>\n",
              "      <td>Lung Opacity</td>\n",
              "      <td>/content/stage_2_train_images/01d4fa0f-97a0-45...</td>\n",
              "      <td>1</td>\n",
              "    </tr>\n",
              "  </tbody>\n",
              "</table>\n",
              "</div>\n",
              "    <div class=\"colab-df-buttons\">\n",
              "\n",
              "  <div class=\"colab-df-container\">\n",
              "    <button class=\"colab-df-convert\" onclick=\"convertToInteractive('df-53c28f3b-7929-4912-af73-8e9b729b3295')\"\n",
              "            title=\"Convert this dataframe to an interactive table.\"\n",
              "            style=\"display:none;\">\n",
              "\n",
              "  <svg xmlns=\"http://www.w3.org/2000/svg\" height=\"24px\" viewBox=\"0 -960 960 960\">\n",
              "    <path d=\"M120-120v-720h720v720H120Zm60-500h600v-160H180v160Zm220 220h160v-160H400v160Zm0 220h160v-160H400v160ZM180-400h160v-160H180v160Zm440 0h160v-160H620v160ZM180-180h160v-160H180v160Zm440 0h160v-160H620v160Z\"/>\n",
              "  </svg>\n",
              "    </button>\n",
              "\n",
              "  <style>\n",
              "    .colab-df-container {\n",
              "      display:flex;\n",
              "      gap: 12px;\n",
              "    }\n",
              "\n",
              "    .colab-df-convert {\n",
              "      background-color: #E8F0FE;\n",
              "      border: none;\n",
              "      border-radius: 50%;\n",
              "      cursor: pointer;\n",
              "      display: none;\n",
              "      fill: #1967D2;\n",
              "      height: 32px;\n",
              "      padding: 0 0 0 0;\n",
              "      width: 32px;\n",
              "    }\n",
              "\n",
              "    .colab-df-convert:hover {\n",
              "      background-color: #E2EBFA;\n",
              "      box-shadow: 0px 1px 2px rgba(60, 64, 67, 0.3), 0px 1px 3px 1px rgba(60, 64, 67, 0.15);\n",
              "      fill: #174EA6;\n",
              "    }\n",
              "\n",
              "    .colab-df-buttons div {\n",
              "      margin-bottom: 4px;\n",
              "    }\n",
              "\n",
              "    [theme=dark] .colab-df-convert {\n",
              "      background-color: #3B4455;\n",
              "      fill: #D2E3FC;\n",
              "    }\n",
              "\n",
              "    [theme=dark] .colab-df-convert:hover {\n",
              "      background-color: #434B5C;\n",
              "      box-shadow: 0px 1px 3px 1px rgba(0, 0, 0, 0.15);\n",
              "      filter: drop-shadow(0px 1px 2px rgba(0, 0, 0, 0.3));\n",
              "      fill: #FFFFFF;\n",
              "    }\n",
              "  </style>\n",
              "\n",
              "    <script>\n",
              "      const buttonEl =\n",
              "        document.querySelector('#df-53c28f3b-7929-4912-af73-8e9b729b3295 button.colab-df-convert');\n",
              "      buttonEl.style.display =\n",
              "        google.colab.kernel.accessAllowed ? 'block' : 'none';\n",
              "\n",
              "      async function convertToInteractive(key) {\n",
              "        const element = document.querySelector('#df-53c28f3b-7929-4912-af73-8e9b729b3295');\n",
              "        const dataTable =\n",
              "          await google.colab.kernel.invokeFunction('convertToInteractive',\n",
              "                                                    [key], {});\n",
              "        if (!dataTable) return;\n",
              "\n",
              "        const docLinkHtml = 'Like what you see? Visit the ' +\n",
              "          '<a target=\"_blank\" href=https://colab.research.google.com/notebooks/data_table.ipynb>data table notebook</a>'\n",
              "          + ' to learn more about interactive tables.';\n",
              "        element.innerHTML = '';\n",
              "        dataTable['output_type'] = 'display_data';\n",
              "        await google.colab.output.renderOutput(dataTable, element);\n",
              "        const docLink = document.createElement('div');\n",
              "        docLink.innerHTML = docLinkHtml;\n",
              "        element.appendChild(docLink);\n",
              "      }\n",
              "    </script>\n",
              "  </div>\n",
              "\n",
              "\n",
              "<div id=\"df-e4954021-0b33-4334-a7f7-8ebc2d8b7d5b\">\n",
              "  <button class=\"colab-df-quickchart\" onclick=\"quickchart('df-e4954021-0b33-4334-a7f7-8ebc2d8b7d5b')\"\n",
              "            title=\"Suggest charts.\"\n",
              "            style=\"display:none;\">\n",
              "\n",
              "<svg xmlns=\"http://www.w3.org/2000/svg\" height=\"24px\"viewBox=\"0 0 24 24\"\n",
              "     width=\"24px\">\n",
              "    <g>\n",
              "        <path d=\"M19 3H5c-1.1 0-2 .9-2 2v14c0 1.1.9 2 2 2h14c1.1 0 2-.9 2-2V5c0-1.1-.9-2-2-2zM9 17H7v-7h2v7zm4 0h-2V7h2v10zm4 0h-2v-4h2v4z\"/>\n",
              "    </g>\n",
              "</svg>\n",
              "  </button>\n",
              "\n",
              "<style>\n",
              "  .colab-df-quickchart {\n",
              "      --bg-color: #E8F0FE;\n",
              "      --fill-color: #1967D2;\n",
              "      --hover-bg-color: #E2EBFA;\n",
              "      --hover-fill-color: #174EA6;\n",
              "      --disabled-fill-color: #AAA;\n",
              "      --disabled-bg-color: #DDD;\n",
              "  }\n",
              "\n",
              "  [theme=dark] .colab-df-quickchart {\n",
              "      --bg-color: #3B4455;\n",
              "      --fill-color: #D2E3FC;\n",
              "      --hover-bg-color: #434B5C;\n",
              "      --hover-fill-color: #FFFFFF;\n",
              "      --disabled-bg-color: #3B4455;\n",
              "      --disabled-fill-color: #666;\n",
              "  }\n",
              "\n",
              "  .colab-df-quickchart {\n",
              "    background-color: var(--bg-color);\n",
              "    border: none;\n",
              "    border-radius: 50%;\n",
              "    cursor: pointer;\n",
              "    display: none;\n",
              "    fill: var(--fill-color);\n",
              "    height: 32px;\n",
              "    padding: 0;\n",
              "    width: 32px;\n",
              "  }\n",
              "\n",
              "  .colab-df-quickchart:hover {\n",
              "    background-color: var(--hover-bg-color);\n",
              "    box-shadow: 0 1px 2px rgba(60, 64, 67, 0.3), 0 1px 3px 1px rgba(60, 64, 67, 0.15);\n",
              "    fill: var(--button-hover-fill-color);\n",
              "  }\n",
              "\n",
              "  .colab-df-quickchart-complete:disabled,\n",
              "  .colab-df-quickchart-complete:disabled:hover {\n",
              "    background-color: var(--disabled-bg-color);\n",
              "    fill: var(--disabled-fill-color);\n",
              "    box-shadow: none;\n",
              "  }\n",
              "\n",
              "  .colab-df-spinner {\n",
              "    border: 2px solid var(--fill-color);\n",
              "    border-color: transparent;\n",
              "    border-bottom-color: var(--fill-color);\n",
              "    animation:\n",
              "      spin 1s steps(1) infinite;\n",
              "  }\n",
              "\n",
              "  @keyframes spin {\n",
              "    0% {\n",
              "      border-color: transparent;\n",
              "      border-bottom-color: var(--fill-color);\n",
              "      border-left-color: var(--fill-color);\n",
              "    }\n",
              "    20% {\n",
              "      border-color: transparent;\n",
              "      border-left-color: var(--fill-color);\n",
              "      border-top-color: var(--fill-color);\n",
              "    }\n",
              "    30% {\n",
              "      border-color: transparent;\n",
              "      border-left-color: var(--fill-color);\n",
              "      border-top-color: var(--fill-color);\n",
              "      border-right-color: var(--fill-color);\n",
              "    }\n",
              "    40% {\n",
              "      border-color: transparent;\n",
              "      border-right-color: var(--fill-color);\n",
              "      border-top-color: var(--fill-color);\n",
              "    }\n",
              "    60% {\n",
              "      border-color: transparent;\n",
              "      border-right-color: var(--fill-color);\n",
              "    }\n",
              "    80% {\n",
              "      border-color: transparent;\n",
              "      border-right-color: var(--fill-color);\n",
              "      border-bottom-color: var(--fill-color);\n",
              "    }\n",
              "    90% {\n",
              "      border-color: transparent;\n",
              "      border-bottom-color: var(--fill-color);\n",
              "    }\n",
              "  }\n",
              "</style>\n",
              "\n",
              "  <script>\n",
              "    async function quickchart(key) {\n",
              "      const quickchartButtonEl =\n",
              "        document.querySelector('#' + key + ' button');\n",
              "      quickchartButtonEl.disabled = true;  // To prevent multiple clicks.\n",
              "      quickchartButtonEl.classList.add('colab-df-spinner');\n",
              "      try {\n",
              "        const charts = await google.colab.kernel.invokeFunction(\n",
              "            'suggestCharts', [key], {});\n",
              "      } catch (error) {\n",
              "        console.error('Error during call to suggestCharts:', error);\n",
              "      }\n",
              "      quickchartButtonEl.classList.remove('colab-df-spinner');\n",
              "      quickchartButtonEl.classList.add('colab-df-quickchart-complete');\n",
              "    }\n",
              "    (() => {\n",
              "      let quickchartButtonEl =\n",
              "        document.querySelector('#df-e4954021-0b33-4334-a7f7-8ebc2d8b7d5b button');\n",
              "      quickchartButtonEl.style.display =\n",
              "        google.colab.kernel.accessAllowed ? 'block' : 'none';\n",
              "    })();\n",
              "  </script>\n",
              "</div>\n",
              "    </div>\n",
              "  </div>\n"
            ],
            "text/plain": [
              "                              patientId                         class  \\\n",
              "0  0174c4bb-28f5-41e3-a13f-a396badc18bd                  Lung Opacity   \n",
              "1  01be392f-a46d-4aef-a57e-9cd1a80dd47e                  Lung Opacity   \n",
              "2  01c09fb1-a917-46ee-8d94-44f844a4eb85  No Lung Opacity / Not Normal   \n",
              "3  01cad8d0-45cd-4603-b099-94055d322310                  Lung Opacity   \n",
              "4  01d4fa0f-97a0-4522-b0d8-134400db2a3e                  Lung Opacity   \n",
              "\n",
              "                                          image_path  label  \n",
              "0  /content/stage_2_train_images/0174c4bb-28f5-41...      1  \n",
              "1  /content/stage_2_train_images/01be392f-a46d-4a...      1  \n",
              "2  /content/stage_2_train_images/01c09fb1-a917-46...      0  \n",
              "3  /content/stage_2_train_images/01cad8d0-45cd-46...      1  \n",
              "4  /content/stage_2_train_images/01d4fa0f-97a0-45...      1  "
            ]
          },
          "execution_count": 31,
          "metadata": {},
          "output_type": "execute_result"
        }
      ],
      "source": [
        "filtered_df.head()"
      ]
    },
    {
      "cell_type": "code",
      "execution_count": null,
      "metadata": {
        "colab": {
          "base_uri": "https://localhost:8080/"
        },
        "execution": {
          "iopub.execute_input": "2023-10-09T11:51:33.340652Z",
          "iopub.status.busy": "2023-10-09T11:51:33.338801Z",
          "iopub.status.idle": "2023-10-09T11:51:33.353018Z",
          "shell.execute_reply": "2023-10-09T11:51:33.352155Z",
          "shell.execute_reply.started": "2023-10-09T11:51:33.340620Z"
        },
        "id": "aqJTZjhpVz3x",
        "outputId": "dd60b0fd-e92a-4710-d795-b9ec10ecc532",
        "trusted": true
      },
      "outputs": [
        {
          "data": {
            "text/plain": [
              "Lung Opacity                    1000\n",
              "No Lung Opacity / Not Normal     500\n",
              "Normal                           500\n",
              "Name: class, dtype: int64"
            ]
          },
          "execution_count": 32,
          "metadata": {},
          "output_type": "execute_result"
        }
      ],
      "source": [
        "filtered_df['class'].value_counts()"
      ]
    },
    {
      "cell_type": "code",
      "execution_count": null,
      "metadata": {
        "execution": {
          "iopub.execute_input": "2023-10-09T11:51:33.366005Z",
          "iopub.status.busy": "2023-10-09T11:51:33.365364Z",
          "iopub.status.idle": "2023-10-09T11:51:33.377261Z",
          "shell.execute_reply": "2023-10-09T11:51:33.376318Z",
          "shell.execute_reply.started": "2023-10-09T11:51:33.365975Z"
        },
        "id": "qQJ2llyAVz3x",
        "trusted": true
      },
      "outputs": [],
      "source": [
        "filtered_df['label'] = filtered_df['label'].astype(str)"
      ]
    },
    {
      "cell_type": "markdown",
      "source": [
        "**6. Using only two columns, 'image_path' and 'label' for training,validation and testing our model.  \n",
        "Storing in 'x', the images after reading them from 'image_path' column, downsizing them from 1024 pixels to 224 pixels, and converting them to 3 channel(RGB) images as the pre-trained models expect the input image in 3 channel format.  \n",
        "Storing in 'y' the labels for each image after converting them in array format.**"
      ],
      "metadata": {
        "id": "wznq_I7kpr7f"
      }
    },
    {
      "cell_type": "code",
      "execution_count": null,
      "metadata": {
        "execution": {
          "iopub.execute_input": "2023-10-09T11:51:33.438676Z",
          "iopub.status.busy": "2023-10-09T11:51:33.437639Z",
          "iopub.status.idle": "2023-10-09T11:51:33.451292Z",
          "shell.execute_reply": "2023-10-09T11:51:33.449551Z",
          "shell.execute_reply.started": "2023-10-09T11:51:33.438646Z"
        },
        "id": "dJcnDWg0Vz3y",
        "trusted": true
      },
      "outputs": [],
      "source": [
        "import pydicom\n",
        "import cv2\n",
        "def read_and_resize_images(df):\n",
        "    resized_images = []\n",
        "    boxes = []\n",
        "    for i in range(len(df)):\n",
        "        image_path = df['image_path'][i]\n",
        "        target = df['label'][i]\n",
        "        dicom_data = pydicom.read_file(image_path)\n",
        "        img = dicom_data.pixel_array\n",
        "\n",
        "        #Resize image to 224x224 because we are going to use DenseNet121 that takes in rgb images(3 channels)\n",
        "        img = cv2.resize(img, (224, 224))\n",
        "        img = cv2.cvtColor(img, cv2.COLOR_GRAY2RGB)\n",
        "        resized_images.append(img)\n",
        "        boxes.append(np.array(target, dtype=np.float32))\n",
        "    return np.array(resized_images), np.array(boxes)"
      ]
    },
    {
      "cell_type": "code",
      "execution_count": null,
      "metadata": {
        "execution": {
          "iopub.execute_input": "2023-10-09T11:51:33.455141Z",
          "iopub.status.busy": "2023-10-09T11:51:33.454016Z",
          "iopub.status.idle": "2023-10-09T11:51:53.552691Z",
          "shell.execute_reply": "2023-10-09T11:51:53.551767Z",
          "shell.execute_reply.started": "2023-10-09T11:51:33.455110Z"
        },
        "id": "eOFFww8NVz3y",
        "trusted": true
      },
      "outputs": [],
      "source": [
        "x, y = read_and_resize_images(filtered_df)"
      ]
    },
    {
      "cell_type": "markdown",
      "source": [
        "**7. Splitting the dataset into train, validation and test sets**"
      ],
      "metadata": {
        "id": "GFtmYzREtby8"
      }
    },
    {
      "cell_type": "code",
      "execution_count": null,
      "metadata": {
        "execution": {
          "iopub.execute_input": "2023-10-09T11:51:53.606003Z",
          "iopub.status.busy": "2023-10-09T11:51:53.605331Z",
          "iopub.status.idle": "2023-10-09T11:51:53.696074Z",
          "shell.execute_reply": "2023-10-09T11:51:53.695038Z",
          "shell.execute_reply.started": "2023-10-09T11:51:53.605974Z"
        },
        "id": "cXQ2BwjiVz32",
        "trusted": true
      },
      "outputs": [],
      "source": [
        "from sklearn.model_selection import train_test_split\n",
        "\n",
        "x_train, x_temp, y_train, y_temp = train_test_split(x, y, test_size = 0.2, random_state = 42)"
      ]
    },
    {
      "cell_type": "code",
      "execution_count": null,
      "metadata": {
        "colab": {
          "base_uri": "https://localhost:8080/"
        },
        "execution": {
          "iopub.execute_input": "2023-10-09T11:51:53.698136Z",
          "iopub.status.busy": "2023-10-09T11:51:53.697534Z",
          "iopub.status.idle": "2023-10-09T11:51:53.703882Z",
          "shell.execute_reply": "2023-10-09T11:51:53.702855Z",
          "shell.execute_reply.started": "2023-10-09T11:51:53.698098Z"
        },
        "id": "gDt_Xhc4Vz32",
        "outputId": "8ee5b040-0f0d-4ef7-8362-8684e84f8f98",
        "trusted": true
      },
      "outputs": [
        {
          "name": "stdout",
          "output_type": "stream",
          "text": [
            "(1600, 224, 224, 3) (1600,)\n",
            "(400, 224, 224, 3) (400,)\n"
          ]
        }
      ],
      "source": [
        "print(x_train.shape, y_train.shape)\n",
        "print(x_temp.shape, y_temp.shape)\n"
      ]
    },
    {
      "cell_type": "code",
      "execution_count": null,
      "metadata": {
        "execution": {
          "iopub.execute_input": "2023-10-09T11:51:53.706437Z",
          "iopub.status.busy": "2023-10-09T11:51:53.705389Z",
          "iopub.status.idle": "2023-10-09T11:51:53.726903Z",
          "shell.execute_reply": "2023-10-09T11:51:53.725887Z",
          "shell.execute_reply.started": "2023-10-09T11:51:53.706379Z"
        },
        "id": "Q8WnR9PKVz33",
        "trusted": true
      },
      "outputs": [],
      "source": [
        "x_val, x_test, y_val, y_test = train_test_split(x_temp, y_temp, test_size = 0.3, random_state = 42)"
      ]
    },
    {
      "cell_type": "code",
      "execution_count": null,
      "metadata": {
        "colab": {
          "base_uri": "https://localhost:8080/"
        },
        "execution": {
          "iopub.execute_input": "2023-10-09T11:51:53.728446Z",
          "iopub.status.busy": "2023-10-09T11:51:53.728106Z",
          "iopub.status.idle": "2023-10-09T11:51:53.733703Z",
          "shell.execute_reply": "2023-10-09T11:51:53.732795Z",
          "shell.execute_reply.started": "2023-10-09T11:51:53.728393Z"
        },
        "id": "mvfjINV2Vz33",
        "outputId": "191ed651-ac44-4289-aa03-620cce1d8b9c",
        "trusted": true
      },
      "outputs": [
        {
          "name": "stdout",
          "output_type": "stream",
          "text": [
            "(1600, 224, 224, 3) (1600,)\n",
            "(120, 224, 224, 3) (120,)\n",
            "(280, 224, 224, 3) (280,)\n"
          ]
        }
      ],
      "source": [
        "print(x_train.shape, y_train.shape)\n",
        "print(x_test.shape, y_test.shape)\n",
        "print(x_val.shape, y_val.shape)"
      ]
    },
    {
      "cell_type": "markdown",
      "source": [
        "**8. Normalising the image pixels by dividing them by the maximum pixel value 255.**"
      ],
      "metadata": {
        "id": "okTNx2PXpx6w"
      }
    },
    {
      "cell_type": "code",
      "execution_count": null,
      "metadata": {
        "execution": {
          "iopub.execute_input": "2023-10-09T11:51:53.735909Z",
          "iopub.status.busy": "2023-10-09T11:51:53.734952Z",
          "iopub.status.idle": "2023-10-09T11:51:54.475269Z",
          "shell.execute_reply": "2023-10-09T11:51:54.474350Z",
          "shell.execute_reply.started": "2023-10-09T11:51:53.735837Z"
        },
        "id": "GTJTUznpVz33",
        "trusted": true
      },
      "outputs": [],
      "source": [
        "def preprocess_and_reshape(images):\n",
        "    images = images/ 255.0\n",
        "    return images\n",
        "x_train = preprocess_and_reshape(x_train)\n",
        "x_val = preprocess_and_reshape(x_val)\n",
        "x_test = preprocess_and_reshape(x_test)"
      ]
    },
    {
      "cell_type": "markdown",
      "source": [
        "**9. Setting image augmentation parameters using ImageDataGenerator for train images only**"
      ],
      "metadata": {
        "id": "PLQRf2YXp48K"
      }
    },
    {
      "cell_type": "code",
      "execution_count": null,
      "metadata": {
        "execution": {
          "iopub.execute_input": "2023-10-09T11:51:54.477379Z",
          "iopub.status.busy": "2023-10-09T11:51:54.476808Z",
          "iopub.status.idle": "2023-10-09T11:51:54.482701Z",
          "shell.execute_reply": "2023-10-09T11:51:54.481755Z",
          "shell.execute_reply.started": "2023-10-09T11:51:54.477348Z"
        },
        "id": "9TgMkSIMVz33",
        "trusted": true
      },
      "outputs": [],
      "source": [
        "import tensorflow as tf\n",
        "from tensorflow.keras.preprocessing.image import ImageDataGenerator"
      ]
    },
    {
      "cell_type": "code",
      "execution_count": null,
      "metadata": {
        "execution": {
          "iopub.execute_input": "2023-10-09T11:51:54.484621Z",
          "iopub.status.busy": "2023-10-09T11:51:54.484298Z",
          "iopub.status.idle": "2023-10-09T11:51:54.492768Z",
          "shell.execute_reply": "2023-10-09T11:51:54.491817Z",
          "shell.execute_reply.started": "2023-10-09T11:51:54.484594Z"
        },
        "id": "fJoiSVRoVz33",
        "trusted": true
      },
      "outputs": [],
      "source": [
        "# create image augmentation parameters for train images only\n",
        "train_datagen = ImageDataGenerator(\n",
        "      rotation_range=5,\n",
        "      width_shift_range=0.2,\n",
        "      height_shift_range=0.2,\n",
        "      shear_range=0.2,\n",
        "      zoom_range=0.2,\n",
        "      horizontal_flip=True,\n",
        "      fill_mode='nearest')"
      ]
    },
    {
      "cell_type": "markdown",
      "source": [
        "**10. Building the base model using DenseNet121**"
      ],
      "metadata": {
        "id": "jpigPn90qHQk"
      }
    },
    {
      "cell_type": "code",
      "execution_count": null,
      "metadata": {
        "colab": {
          "base_uri": "https://localhost:8080/"
        },
        "execution": {
          "iopub.execute_input": "2023-10-09T11:51:54.583956Z",
          "iopub.status.busy": "2023-10-09T11:51:54.583227Z",
          "iopub.status.idle": "2023-10-09T11:52:02.753692Z",
          "shell.execute_reply": "2023-10-09T11:52:02.752771Z",
          "shell.execute_reply.started": "2023-10-09T11:51:54.583928Z"
        },
        "id": "Rg68r1yLVz35",
        "outputId": "31848699-c2f8-41ee-99a0-352352612508",
        "trusted": true
      },
      "outputs": [
        {
          "name": "stdout",
          "output_type": "stream",
          "text": [
            "Downloading data from https://storage.googleapis.com/tensorflow/keras-applications/densenet/densenet121_weights_tf_dim_ordering_tf_kernels_notop.h5\n",
            "29084464/29084464 [==============================] - 0s 0us/step\n"
          ]
        }
      ],
      "source": [
        "# load the pre-trained densenet121 model\n",
        "\n",
        "base_model = DenseNet121(input_shape=(224, 224, 3), include_top=False, weights='imagenet')\n",
        "for l in base_model.layers:\n",
        "    l.trainable=False\n",
        "x = base_model.output\n",
        "x = GlobalAveragePooling2D()(x)\n",
        "x = Dense(256, activation='relu', kernel_regularizer=l2(0.0001))(x)\n",
        "x = Dropout(0.25)(x)\n",
        "\n",
        "predictions = Dense(1, activation='sigmoid')(x)"
      ]
    },
    {
      "cell_type": "code",
      "execution_count": null,
      "metadata": {
        "execution": {
          "iopub.execute_input": "2023-10-09T11:52:02.755468Z",
          "iopub.status.busy": "2023-10-09T11:52:02.755132Z",
          "iopub.status.idle": "2023-10-09T11:52:02.782475Z",
          "shell.execute_reply": "2023-10-09T11:52:02.781668Z",
          "shell.execute_reply.started": "2023-10-09T11:52:02.755436Z"
        },
        "id": "rAreyQbVVz35",
        "trusted": true
      },
      "outputs": [],
      "source": [
        "model = Model(inputs=base_model.input, outputs=predictions)"
      ]
    },
    {
      "cell_type": "code",
      "execution_count": null,
      "metadata": {
        "execution": {
          "iopub.execute_input": "2023-10-09T11:52:02.784113Z",
          "iopub.status.busy": "2023-10-09T11:52:02.783571Z",
          "iopub.status.idle": "2023-10-09T11:52:02.806110Z",
          "shell.execute_reply": "2023-10-09T11:52:02.805299Z",
          "shell.execute_reply.started": "2023-10-09T11:52:02.784083Z"
        },
        "id": "KpxI9K_LVz35",
        "trusted": true
      },
      "outputs": [],
      "source": [
        "# Compile the model with an appropriate optimizer and loss function\n",
        "from tensorflow.keras.optimizers import Adam\n",
        "\n",
        "model.compile(optimizer=Adam(learning_rate = 0.00001), loss='binary_crossentropy', metrics=['accuracy'])"
      ]
    },
    {
      "cell_type": "code",
      "execution_count": null,
      "metadata": {
        "execution": {
          "iopub.execute_input": "2023-10-09T11:52:02.807990Z",
          "iopub.status.busy": "2023-10-09T11:52:02.807205Z",
          "iopub.status.idle": "2023-10-09T11:52:02.812921Z",
          "shell.execute_reply": "2023-10-09T11:52:02.811778Z",
          "shell.execute_reply.started": "2023-10-09T11:52:02.807959Z"
        },
        "id": "nxpgtafFVz36",
        "trusted": true
      },
      "outputs": [],
      "source": [
        "from keras.callbacks import ModelCheckpoint, EarlyStopping, ReduceLROnPlateau\n",
        "\n",
        "# Define a ModelCheckpoint callback to save the best weights\n",
        "checkpoint = ModelCheckpoint('best_weights.h5', monitor='val_loss', save_best_only=True, verbose=1)"
      ]
    },
    {
      "cell_type": "code",
      "execution_count": null,
      "metadata": {
        "execution": {
          "iopub.execute_input": "2023-10-09T11:52:02.815168Z",
          "iopub.status.busy": "2023-10-09T11:52:02.814437Z",
          "iopub.status.idle": "2023-10-09T11:52:02.823606Z",
          "shell.execute_reply": "2023-10-09T11:52:02.822711Z",
          "shell.execute_reply.started": "2023-10-09T11:52:02.815129Z"
        },
        "id": "WayjW-SXVz36",
        "trusted": true
      },
      "outputs": [],
      "source": [
        "from tensorflow.keras.callbacks import EarlyStopping\n",
        "\n",
        "from tensorflow.keras.callbacks import ReduceLROnPlateau\n",
        "\n",
        "# Define the callbacks\n",
        "early_stopping = EarlyStopping(monitor='val_loss', patience=10, restore_best_weights=True)\n",
        "reduce_lr = ReduceLROnPlateau(monitor='val_loss', factor=0.5, patience=10, min_lr=1e-6)"
      ]
    },
    {
      "cell_type": "code",
      "execution_count": null,
      "metadata": {
        "colab": {
          "base_uri": "https://localhost:8080/"
        },
        "execution": {
          "iopub.execute_input": "2023-10-09T11:52:02.825586Z",
          "iopub.status.busy": "2023-10-09T11:52:02.824759Z",
          "iopub.status.idle": "2023-10-09T12:04:33.145620Z",
          "shell.execute_reply": "2023-10-09T12:04:33.144622Z",
          "shell.execute_reply.started": "2023-10-09T11:52:02.825556Z"
        },
        "id": "GIJ0CA4KVz36",
        "outputId": "489ac39d-823b-4ef1-af16-e38378ec48af",
        "trusted": true
      },
      "outputs": [
        {
          "name": "stdout",
          "output_type": "stream",
          "text": [
            "Epoch 1/200\n",
            "25/25 [==============================] - ETA: 0s - loss: 1.1159 - accuracy: 0.4981\n",
            "Epoch 1: val_loss improved from inf to 0.96555, saving model to best_weights.h5\n",
            "25/25 [==============================] - 29s 485ms/step - loss: 1.1159 - accuracy: 0.4981 - val_loss: 0.9655 - val_accuracy: 0.4929 - lr: 1.0000e-05\n",
            "Epoch 2/200\n",
            "25/25 [==============================] - ETA: 0s - loss: 0.9030 - accuracy: 0.4844\n",
            "Epoch 2: val_loss improved from 0.96555 to 0.82226, saving model to best_weights.h5\n",
            "25/25 [==============================] - 7s 284ms/step - loss: 0.9030 - accuracy: 0.4844 - val_loss: 0.8223 - val_accuracy: 0.4964 - lr: 1.0000e-05\n",
            "Epoch 3/200\n",
            "25/25 [==============================] - ETA: 0s - loss: 0.8277 - accuracy: 0.4806\n",
            "Epoch 3: val_loss improved from 0.82226 to 0.77251, saving model to best_weights.h5\n",
            "25/25 [==============================] - 6s 260ms/step - loss: 0.8277 - accuracy: 0.4806 - val_loss: 0.7725 - val_accuracy: 0.4929 - lr: 1.0000e-05\n",
            "Epoch 4/200\n",
            "25/25 [==============================] - ETA: 0s - loss: 0.7980 - accuracy: 0.4900\n",
            "Epoch 4: val_loss improved from 0.77251 to 0.74269, saving model to best_weights.h5\n",
            "25/25 [==============================] - 7s 266ms/step - loss: 0.7980 - accuracy: 0.4900 - val_loss: 0.7427 - val_accuracy: 0.5250 - lr: 1.0000e-05\n",
            "Epoch 5/200\n",
            "25/25 [==============================] - ETA: 0s - loss: 0.7635 - accuracy: 0.5369\n",
            "Epoch 5: val_loss improved from 0.74269 to 0.71665, saving model to best_weights.h5\n",
            "25/25 [==============================] - 6s 255ms/step - loss: 0.7635 - accuracy: 0.5369 - val_loss: 0.7166 - val_accuracy: 0.5607 - lr: 1.0000e-05\n",
            "Epoch 6/200\n",
            "25/25 [==============================] - ETA: 0s - loss: 0.7425 - accuracy: 0.5644\n",
            "Epoch 6: val_loss improved from 0.71665 to 0.69348, saving model to best_weights.h5\n",
            "25/25 [==============================] - 6s 247ms/step - loss: 0.7425 - accuracy: 0.5644 - val_loss: 0.6935 - val_accuracy: 0.6107 - lr: 1.0000e-05\n",
            "Epoch 7/200\n",
            "25/25 [==============================] - ETA: 0s - loss: 0.7109 - accuracy: 0.5869\n",
            "Epoch 7: val_loss improved from 0.69348 to 0.67456, saving model to best_weights.h5\n",
            "25/25 [==============================] - 6s 260ms/step - loss: 0.7109 - accuracy: 0.5869 - val_loss: 0.6746 - val_accuracy: 0.6286 - lr: 1.0000e-05\n",
            "Epoch 8/200\n",
            "25/25 [==============================] - ETA: 0s - loss: 0.7148 - accuracy: 0.5881\n",
            "Epoch 8: val_loss improved from 0.67456 to 0.65770, saving model to best_weights.h5\n",
            "25/25 [==============================] - 6s 247ms/step - loss: 0.7148 - accuracy: 0.5881 - val_loss: 0.6577 - val_accuracy: 0.6679 - lr: 1.0000e-05\n",
            "Epoch 9/200\n",
            "25/25 [==============================] - ETA: 0s - loss: 0.6905 - accuracy: 0.6344\n",
            "Epoch 9: val_loss improved from 0.65770 to 0.64189, saving model to best_weights.h5\n",
            "25/25 [==============================] - 8s 309ms/step - loss: 0.6905 - accuracy: 0.6344 - val_loss: 0.6419 - val_accuracy: 0.6821 - lr: 1.0000e-05\n",
            "Epoch 10/200\n",
            "25/25 [==============================] - ETA: 0s - loss: 0.6727 - accuracy: 0.6538\n",
            "Epoch 10: val_loss improved from 0.64189 to 0.62918, saving model to best_weights.h5\n",
            "25/25 [==============================] - 6s 251ms/step - loss: 0.6727 - accuracy: 0.6538 - val_loss: 0.6292 - val_accuracy: 0.6893 - lr: 1.0000e-05\n",
            "Epoch 11/200\n",
            "25/25 [==============================] - ETA: 0s - loss: 0.6774 - accuracy: 0.6281\n",
            "Epoch 11: val_loss improved from 0.62918 to 0.61931, saving model to best_weights.h5\n",
            "25/25 [==============================] - 7s 295ms/step - loss: 0.6774 - accuracy: 0.6281 - val_loss: 0.6193 - val_accuracy: 0.6893 - lr: 1.0000e-05\n",
            "Epoch 12/200\n",
            "25/25 [==============================] - ETA: 0s - loss: 0.6524 - accuracy: 0.6719\n",
            "Epoch 12: val_loss improved from 0.61931 to 0.60995, saving model to best_weights.h5\n",
            "25/25 [==============================] - 6s 254ms/step - loss: 0.6524 - accuracy: 0.6719 - val_loss: 0.6099 - val_accuracy: 0.7143 - lr: 1.0000e-05\n",
            "Epoch 13/200\n",
            "25/25 [==============================] - ETA: 0s - loss: 0.6513 - accuracy: 0.6819\n",
            "Epoch 13: val_loss improved from 0.60995 to 0.60060, saving model to best_weights.h5\n",
            "25/25 [==============================] - 7s 266ms/step - loss: 0.6513 - accuracy: 0.6819 - val_loss: 0.6006 - val_accuracy: 0.7464 - lr: 1.0000e-05\n",
            "Epoch 14/200\n",
            "25/25 [==============================] - ETA: 0s - loss: 0.6278 - accuracy: 0.6819\n",
            "Epoch 14: val_loss improved from 0.60060 to 0.59352, saving model to best_weights.h5\n",
            "25/25 [==============================] - 7s 273ms/step - loss: 0.6278 - accuracy: 0.6819 - val_loss: 0.5935 - val_accuracy: 0.7500 - lr: 1.0000e-05\n",
            "Epoch 15/200\n",
            "25/25 [==============================] - ETA: 0s - loss: 0.6345 - accuracy: 0.6806\n",
            "Epoch 15: val_loss improved from 0.59352 to 0.58697, saving model to best_weights.h5\n",
            "25/25 [==============================] - 7s 268ms/step - loss: 0.6345 - accuracy: 0.6806 - val_loss: 0.5870 - val_accuracy: 0.7464 - lr: 1.0000e-05\n",
            "Epoch 16/200\n",
            "25/25 [==============================] - ETA: 0s - loss: 0.6332 - accuracy: 0.6862\n",
            "Epoch 16: val_loss improved from 0.58697 to 0.58241, saving model to best_weights.h5\n",
            "25/25 [==============================] - 6s 255ms/step - loss: 0.6332 - accuracy: 0.6862 - val_loss: 0.5824 - val_accuracy: 0.7464 - lr: 1.0000e-05\n",
            "Epoch 17/200\n",
            "25/25 [==============================] - ETA: 0s - loss: 0.6271 - accuracy: 0.6969\n",
            "Epoch 17: val_loss improved from 0.58241 to 0.57665, saving model to best_weights.h5\n",
            "25/25 [==============================] - 7s 283ms/step - loss: 0.6271 - accuracy: 0.6969 - val_loss: 0.5766 - val_accuracy: 0.7429 - lr: 1.0000e-05\n",
            "Epoch 18/200\n",
            "25/25 [==============================] - ETA: 0s - loss: 0.6149 - accuracy: 0.7156\n",
            "Epoch 18: val_loss improved from 0.57665 to 0.57286, saving model to best_weights.h5\n",
            "25/25 [==============================] - 6s 256ms/step - loss: 0.6149 - accuracy: 0.7156 - val_loss: 0.5729 - val_accuracy: 0.7429 - lr: 1.0000e-05\n",
            "Epoch 19/200\n",
            "25/25 [==============================] - ETA: 0s - loss: 0.6114 - accuracy: 0.7200\n",
            "Epoch 19: val_loss improved from 0.57286 to 0.56962, saving model to best_weights.h5\n",
            "25/25 [==============================] - 7s 281ms/step - loss: 0.6114 - accuracy: 0.7200 - val_loss: 0.5696 - val_accuracy: 0.7393 - lr: 1.0000e-05\n",
            "Epoch 20/200\n",
            "25/25 [==============================] - ETA: 0s - loss: 0.6119 - accuracy: 0.7156\n",
            "Epoch 20: val_loss improved from 0.56962 to 0.56577, saving model to best_weights.h5\n",
            "25/25 [==============================] - 7s 273ms/step - loss: 0.6119 - accuracy: 0.7156 - val_loss: 0.5658 - val_accuracy: 0.7464 - lr: 1.0000e-05\n",
            "Epoch 21/200\n",
            "25/25 [==============================] - ETA: 0s - loss: 0.6061 - accuracy: 0.7188\n",
            "Epoch 21: val_loss improved from 0.56577 to 0.56267, saving model to best_weights.h5\n",
            "25/25 [==============================] - 7s 273ms/step - loss: 0.6061 - accuracy: 0.7188 - val_loss: 0.5627 - val_accuracy: 0.7464 - lr: 1.0000e-05\n",
            "Epoch 22/200\n",
            "25/25 [==============================] - ETA: 0s - loss: 0.6002 - accuracy: 0.7194\n",
            "Epoch 22: val_loss improved from 0.56267 to 0.56040, saving model to best_weights.h5\n",
            "25/25 [==============================] - 7s 277ms/step - loss: 0.6002 - accuracy: 0.7194 - val_loss: 0.5604 - val_accuracy: 0.7464 - lr: 1.0000e-05\n",
            "Epoch 23/200\n",
            "25/25 [==============================] - ETA: 0s - loss: 0.6019 - accuracy: 0.7150\n",
            "Epoch 23: val_loss improved from 0.56040 to 0.55921, saving model to best_weights.h5\n",
            "25/25 [==============================] - 7s 298ms/step - loss: 0.6019 - accuracy: 0.7150 - val_loss: 0.5592 - val_accuracy: 0.7464 - lr: 1.0000e-05\n",
            "Epoch 24/200\n",
            "25/25 [==============================] - ETA: 0s - loss: 0.6058 - accuracy: 0.7225\n",
            "Epoch 24: val_loss improved from 0.55921 to 0.55564, saving model to best_weights.h5\n",
            "25/25 [==============================] - 7s 272ms/step - loss: 0.6058 - accuracy: 0.7225 - val_loss: 0.5556 - val_accuracy: 0.7536 - lr: 1.0000e-05\n",
            "Epoch 25/200\n",
            "25/25 [==============================] - ETA: 0s - loss: 0.5923 - accuracy: 0.7250\n",
            "Epoch 25: val_loss improved from 0.55564 to 0.55434, saving model to best_weights.h5\n",
            "25/25 [==============================] - 7s 275ms/step - loss: 0.5923 - accuracy: 0.7250 - val_loss: 0.5543 - val_accuracy: 0.7500 - lr: 1.0000e-05\n",
            "Epoch 26/200\n",
            "25/25 [==============================] - ETA: 0s - loss: 0.5946 - accuracy: 0.7300\n",
            "Epoch 26: val_loss improved from 0.55434 to 0.55193, saving model to best_weights.h5\n",
            "25/25 [==============================] - 7s 282ms/step - loss: 0.5946 - accuracy: 0.7300 - val_loss: 0.5519 - val_accuracy: 0.7464 - lr: 1.0000e-05\n",
            "Epoch 27/200\n",
            "25/25 [==============================] - ETA: 0s - loss: 0.5903 - accuracy: 0.7156\n",
            "Epoch 27: val_loss improved from 0.55193 to 0.55002, saving model to best_weights.h5\n",
            "25/25 [==============================] - 7s 291ms/step - loss: 0.5903 - accuracy: 0.7156 - val_loss: 0.5500 - val_accuracy: 0.7464 - lr: 1.0000e-05\n",
            "Epoch 28/200\n",
            "25/25 [==============================] - ETA: 0s - loss: 0.5828 - accuracy: 0.7337\n",
            "Epoch 28: val_loss improved from 0.55002 to 0.54831, saving model to best_weights.h5\n",
            "25/25 [==============================] - 7s 295ms/step - loss: 0.5828 - accuracy: 0.7337 - val_loss: 0.5483 - val_accuracy: 0.7464 - lr: 1.0000e-05\n",
            "Epoch 29/200\n",
            "25/25 [==============================] - ETA: 0s - loss: 0.6025 - accuracy: 0.7262\n",
            "Epoch 29: val_loss improved from 0.54831 to 0.54776, saving model to best_weights.h5\n",
            "25/25 [==============================] - 7s 280ms/step - loss: 0.6025 - accuracy: 0.7262 - val_loss: 0.5478 - val_accuracy: 0.7464 - lr: 1.0000e-05\n",
            "Epoch 30/200\n",
            "25/25 [==============================] - ETA: 0s - loss: 0.5854 - accuracy: 0.7337\n",
            "Epoch 30: val_loss improved from 0.54776 to 0.54625, saving model to best_weights.h5\n",
            "25/25 [==============================] - 7s 295ms/step - loss: 0.5854 - accuracy: 0.7337 - val_loss: 0.5463 - val_accuracy: 0.7429 - lr: 1.0000e-05\n",
            "Epoch 31/200\n",
            "25/25 [==============================] - ETA: 0s - loss: 0.5862 - accuracy: 0.7281\n",
            "Epoch 31: val_loss improved from 0.54625 to 0.54449, saving model to best_weights.h5\n",
            "25/25 [==============================] - 6s 261ms/step - loss: 0.5862 - accuracy: 0.7281 - val_loss: 0.5445 - val_accuracy: 0.7500 - lr: 1.0000e-05\n",
            "Epoch 32/200\n",
            "25/25 [==============================] - ETA: 0s - loss: 0.5767 - accuracy: 0.7412\n",
            "Epoch 32: val_loss improved from 0.54449 to 0.54397, saving model to best_weights.h5\n",
            "25/25 [==============================] - 7s 293ms/step - loss: 0.5767 - accuracy: 0.7412 - val_loss: 0.5440 - val_accuracy: 0.7429 - lr: 1.0000e-05\n",
            "Epoch 33/200\n",
            "25/25 [==============================] - ETA: 0s - loss: 0.5765 - accuracy: 0.7362\n",
            "Epoch 33: val_loss improved from 0.54397 to 0.54300, saving model to best_weights.h5\n",
            "25/25 [==============================] - 7s 265ms/step - loss: 0.5765 - accuracy: 0.7362 - val_loss: 0.5430 - val_accuracy: 0.7464 - lr: 1.0000e-05\n",
            "Epoch 34/200\n",
            "25/25 [==============================] - ETA: 0s - loss: 0.5694 - accuracy: 0.7425\n",
            "Epoch 34: val_loss improved from 0.54300 to 0.54160, saving model to best_weights.h5\n",
            "25/25 [==============================] - 7s 294ms/step - loss: 0.5694 - accuracy: 0.7425 - val_loss: 0.5416 - val_accuracy: 0.7429 - lr: 1.0000e-05\n",
            "Epoch 35/200\n",
            "25/25 [==============================] - ETA: 0s - loss: 0.5663 - accuracy: 0.7525\n",
            "Epoch 35: val_loss improved from 0.54160 to 0.54071, saving model to best_weights.h5\n",
            "25/25 [==============================] - 7s 265ms/step - loss: 0.5663 - accuracy: 0.7525 - val_loss: 0.5407 - val_accuracy: 0.7429 - lr: 1.0000e-05\n",
            "Epoch 36/200\n",
            "25/25 [==============================] - ETA: 0s - loss: 0.5787 - accuracy: 0.7369\n",
            "Epoch 36: val_loss improved from 0.54071 to 0.53964, saving model to best_weights.h5\n",
            "25/25 [==============================] - 7s 287ms/step - loss: 0.5787 - accuracy: 0.7369 - val_loss: 0.5396 - val_accuracy: 0.7464 - lr: 1.0000e-05\n",
            "Epoch 37/200\n",
            "25/25 [==============================] - ETA: 0s - loss: 0.5697 - accuracy: 0.7481\n",
            "Epoch 37: val_loss improved from 0.53964 to 0.53957, saving model to best_weights.h5\n",
            "25/25 [==============================] - 7s 285ms/step - loss: 0.5697 - accuracy: 0.7481 - val_loss: 0.5396 - val_accuracy: 0.7464 - lr: 1.0000e-05\n",
            "Epoch 38/200\n",
            "25/25 [==============================] - ETA: 0s - loss: 0.5764 - accuracy: 0.7381\n",
            "Epoch 38: val_loss improved from 0.53957 to 0.53810, saving model to best_weights.h5\n",
            "25/25 [==============================] - 7s 298ms/step - loss: 0.5764 - accuracy: 0.7381 - val_loss: 0.5381 - val_accuracy: 0.7429 - lr: 1.0000e-05\n",
            "Epoch 39/200\n",
            "25/25 [==============================] - ETA: 0s - loss: 0.5662 - accuracy: 0.7450\n",
            "Epoch 39: val_loss improved from 0.53810 to 0.53698, saving model to best_weights.h5\n",
            "25/25 [==============================] - 7s 296ms/step - loss: 0.5662 - accuracy: 0.7450 - val_loss: 0.5370 - val_accuracy: 0.7464 - lr: 1.0000e-05\n",
            "Epoch 40/200\n",
            "25/25 [==============================] - ETA: 0s - loss: 0.5569 - accuracy: 0.7444\n",
            "Epoch 40: val_loss improved from 0.53698 to 0.53619, saving model to best_weights.h5\n",
            "25/25 [==============================] - 7s 295ms/step - loss: 0.5569 - accuracy: 0.7444 - val_loss: 0.5362 - val_accuracy: 0.7464 - lr: 1.0000e-05\n",
            "Epoch 41/200\n",
            "25/25 [==============================] - ETA: 0s - loss: 0.5648 - accuracy: 0.7369\n",
            "Epoch 41: val_loss improved from 0.53619 to 0.53546, saving model to best_weights.h5\n",
            "25/25 [==============================] - 7s 273ms/step - loss: 0.5648 - accuracy: 0.7369 - val_loss: 0.5355 - val_accuracy: 0.7464 - lr: 1.0000e-05\n",
            "Epoch 42/200\n",
            "25/25 [==============================] - ETA: 0s - loss: 0.5689 - accuracy: 0.7400\n",
            "Epoch 42: val_loss improved from 0.53546 to 0.53470, saving model to best_weights.h5\n",
            "25/25 [==============================] - 7s 293ms/step - loss: 0.5689 - accuracy: 0.7400 - val_loss: 0.5347 - val_accuracy: 0.7429 - lr: 1.0000e-05\n",
            "Epoch 43/200\n",
            "25/25 [==============================] - ETA: 0s - loss: 0.5645 - accuracy: 0.7462\n",
            "Epoch 43: val_loss improved from 0.53470 to 0.53343, saving model to best_weights.h5\n",
            "25/25 [==============================] - 7s 294ms/step - loss: 0.5645 - accuracy: 0.7462 - val_loss: 0.5334 - val_accuracy: 0.7464 - lr: 1.0000e-05\n",
            "Epoch 44/200\n",
            "25/25 [==============================] - ETA: 0s - loss: 0.5618 - accuracy: 0.7506\n",
            "Epoch 44: val_loss improved from 0.53343 to 0.53286, saving model to best_weights.h5\n",
            "25/25 [==============================] - 8s 306ms/step - loss: 0.5618 - accuracy: 0.7506 - val_loss: 0.5329 - val_accuracy: 0.7464 - lr: 1.0000e-05\n",
            "Epoch 45/200\n",
            "25/25 [==============================] - ETA: 0s - loss: 0.5598 - accuracy: 0.7406\n",
            "Epoch 45: val_loss improved from 0.53286 to 0.53220, saving model to best_weights.h5\n",
            "25/25 [==============================] - 7s 287ms/step - loss: 0.5598 - accuracy: 0.7406 - val_loss: 0.5322 - val_accuracy: 0.7464 - lr: 1.0000e-05\n",
            "Epoch 46/200\n",
            "25/25 [==============================] - ETA: 0s - loss: 0.5618 - accuracy: 0.7456\n",
            "Epoch 46: val_loss improved from 0.53220 to 0.53130, saving model to best_weights.h5\n",
            "25/25 [==============================] - 7s 287ms/step - loss: 0.5618 - accuracy: 0.7456 - val_loss: 0.5313 - val_accuracy: 0.7429 - lr: 1.0000e-05\n",
            "Epoch 47/200\n",
            "25/25 [==============================] - ETA: 0s - loss: 0.5487 - accuracy: 0.7556\n",
            "Epoch 47: val_loss improved from 0.53130 to 0.53067, saving model to best_weights.h5\n",
            "25/25 [==============================] - 7s 278ms/step - loss: 0.5487 - accuracy: 0.7556 - val_loss: 0.5307 - val_accuracy: 0.7429 - lr: 1.0000e-05\n",
            "Epoch 48/200\n",
            "25/25 [==============================] - ETA: 0s - loss: 0.5576 - accuracy: 0.7563\n",
            "Epoch 48: val_loss improved from 0.53067 to 0.53020, saving model to best_weights.h5\n",
            "25/25 [==============================] - 7s 267ms/step - loss: 0.5576 - accuracy: 0.7563 - val_loss: 0.5302 - val_accuracy: 0.7429 - lr: 1.0000e-05\n",
            "Epoch 49/200\n",
            "25/25 [==============================] - ETA: 0s - loss: 0.5593 - accuracy: 0.7456\n",
            "Epoch 49: val_loss improved from 0.53020 to 0.52988, saving model to best_weights.h5\n",
            "25/25 [==============================] - 7s 287ms/step - loss: 0.5593 - accuracy: 0.7456 - val_loss: 0.5299 - val_accuracy: 0.7464 - lr: 1.0000e-05\n",
            "Epoch 50/200\n",
            "25/25 [==============================] - ETA: 0s - loss: 0.5519 - accuracy: 0.7544\n",
            "Epoch 50: val_loss improved from 0.52988 to 0.52928, saving model to best_weights.h5\n",
            "25/25 [==============================] - 7s 285ms/step - loss: 0.5519 - accuracy: 0.7544 - val_loss: 0.5293 - val_accuracy: 0.7500 - lr: 1.0000e-05\n",
            "Epoch 51/200\n",
            "25/25 [==============================] - ETA: 0s - loss: 0.5494 - accuracy: 0.7556\n",
            "Epoch 51: val_loss improved from 0.52928 to 0.52860, saving model to best_weights.h5\n",
            "25/25 [==============================] - 7s 299ms/step - loss: 0.5494 - accuracy: 0.7556 - val_loss: 0.5286 - val_accuracy: 0.7464 - lr: 1.0000e-05\n",
            "Epoch 52/200\n",
            "25/25 [==============================] - ETA: 0s - loss: 0.5465 - accuracy: 0.7638\n",
            "Epoch 52: val_loss improved from 0.52860 to 0.52752, saving model to best_weights.h5\n",
            "25/25 [==============================] - 7s 268ms/step - loss: 0.5465 - accuracy: 0.7638 - val_loss: 0.5275 - val_accuracy: 0.7464 - lr: 1.0000e-05\n",
            "Epoch 53/200\n",
            "25/25 [==============================] - ETA: 0s - loss: 0.5551 - accuracy: 0.7325\n",
            "Epoch 53: val_loss improved from 0.52752 to 0.52711, saving model to best_weights.h5\n",
            "25/25 [==============================] - 7s 289ms/step - loss: 0.5551 - accuracy: 0.7325 - val_loss: 0.5271 - val_accuracy: 0.7429 - lr: 1.0000e-05\n",
            "Epoch 54/200\n",
            "25/25 [==============================] - ETA: 0s - loss: 0.5575 - accuracy: 0.7538\n",
            "Epoch 54: val_loss improved from 0.52711 to 0.52681, saving model to best_weights.h5\n",
            "25/25 [==============================] - 7s 268ms/step - loss: 0.5575 - accuracy: 0.7538 - val_loss: 0.5268 - val_accuracy: 0.7429 - lr: 1.0000e-05\n",
            "Epoch 55/200\n",
            "25/25 [==============================] - ETA: 0s - loss: 0.5447 - accuracy: 0.7556\n",
            "Epoch 55: val_loss improved from 0.52681 to 0.52653, saving model to best_weights.h5\n",
            "25/25 [==============================] - 7s 300ms/step - loss: 0.5447 - accuracy: 0.7556 - val_loss: 0.5265 - val_accuracy: 0.7500 - lr: 1.0000e-05\n",
            "Epoch 56/200\n",
            "25/25 [==============================] - ETA: 0s - loss: 0.5496 - accuracy: 0.7656\n",
            "Epoch 56: val_loss improved from 0.52653 to 0.52634, saving model to best_weights.h5\n",
            "25/25 [==============================] - 7s 289ms/step - loss: 0.5496 - accuracy: 0.7656 - val_loss: 0.5263 - val_accuracy: 0.7536 - lr: 1.0000e-05\n",
            "Epoch 57/200\n",
            "25/25 [==============================] - ETA: 0s - loss: 0.5546 - accuracy: 0.7500\n",
            "Epoch 57: val_loss improved from 0.52634 to 0.52580, saving model to best_weights.h5\n",
            "25/25 [==============================] - 7s 302ms/step - loss: 0.5546 - accuracy: 0.7500 - val_loss: 0.5258 - val_accuracy: 0.7536 - lr: 1.0000e-05\n",
            "Epoch 58/200\n",
            "25/25 [==============================] - ETA: 0s - loss: 0.5534 - accuracy: 0.7625\n",
            "Epoch 58: val_loss improved from 0.52580 to 0.52488, saving model to best_weights.h5\n",
            "25/25 [==============================] - 7s 292ms/step - loss: 0.5534 - accuracy: 0.7625 - val_loss: 0.5249 - val_accuracy: 0.7500 - lr: 1.0000e-05\n",
            "Epoch 59/200\n",
            "25/25 [==============================] - ETA: 0s - loss: 0.5458 - accuracy: 0.7594\n",
            "Epoch 59: val_loss improved from 0.52488 to 0.52473, saving model to best_weights.h5\n",
            "25/25 [==============================] - 7s 302ms/step - loss: 0.5458 - accuracy: 0.7594 - val_loss: 0.5247 - val_accuracy: 0.7536 - lr: 1.0000e-05\n",
            "Epoch 60/200\n",
            "25/25 [==============================] - ETA: 0s - loss: 0.5457 - accuracy: 0.7525\n",
            "Epoch 60: val_loss improved from 0.52473 to 0.52372, saving model to best_weights.h5\n",
            "25/25 [==============================] - 7s 294ms/step - loss: 0.5457 - accuracy: 0.7525 - val_loss: 0.5237 - val_accuracy: 0.7464 - lr: 1.0000e-05\n",
            "Epoch 61/200\n",
            "25/25 [==============================] - ETA: 0s - loss: 0.5427 - accuracy: 0.7538\n",
            "Epoch 61: val_loss improved from 0.52372 to 0.52317, saving model to best_weights.h5\n",
            "25/25 [==============================] - 7s 283ms/step - loss: 0.5427 - accuracy: 0.7538 - val_loss: 0.5232 - val_accuracy: 0.7429 - lr: 1.0000e-05\n",
            "Epoch 62/200\n",
            "25/25 [==============================] - ETA: 0s - loss: 0.5375 - accuracy: 0.7606\n",
            "Epoch 62: val_loss improved from 0.52317 to 0.52298, saving model to best_weights.h5\n",
            "25/25 [==============================] - 7s 278ms/step - loss: 0.5375 - accuracy: 0.7606 - val_loss: 0.5230 - val_accuracy: 0.7500 - lr: 1.0000e-05\n",
            "Epoch 63/200\n",
            "25/25 [==============================] - ETA: 0s - loss: 0.5376 - accuracy: 0.7663\n",
            "Epoch 63: val_loss improved from 0.52298 to 0.52228, saving model to best_weights.h5\n",
            "25/25 [==============================] - 7s 302ms/step - loss: 0.5376 - accuracy: 0.7663 - val_loss: 0.5223 - val_accuracy: 0.7464 - lr: 1.0000e-05\n",
            "Epoch 64/200\n",
            "25/25 [==============================] - ETA: 0s - loss: 0.5368 - accuracy: 0.7675\n",
            "Epoch 64: val_loss improved from 0.52228 to 0.52173, saving model to best_weights.h5\n",
            "25/25 [==============================] - 7s 295ms/step - loss: 0.5368 - accuracy: 0.7675 - val_loss: 0.5217 - val_accuracy: 0.7464 - lr: 1.0000e-05\n",
            "Epoch 65/200\n",
            "25/25 [==============================] - ETA: 0s - loss: 0.5320 - accuracy: 0.7694\n",
            "Epoch 65: val_loss improved from 0.52173 to 0.52147, saving model to best_weights.h5\n",
            "25/25 [==============================] - 7s 277ms/step - loss: 0.5320 - accuracy: 0.7694 - val_loss: 0.5215 - val_accuracy: 0.7464 - lr: 1.0000e-05\n",
            "Epoch 66/200\n",
            "25/25 [==============================] - ETA: 0s - loss: 0.5292 - accuracy: 0.7694\n",
            "Epoch 66: val_loss improved from 0.52147 to 0.52069, saving model to best_weights.h5\n",
            "25/25 [==============================] - 7s 295ms/step - loss: 0.5292 - accuracy: 0.7694 - val_loss: 0.5207 - val_accuracy: 0.7429 - lr: 1.0000e-05\n",
            "Epoch 67/200\n",
            "25/25 [==============================] - ETA: 0s - loss: 0.5288 - accuracy: 0.7675\n",
            "Epoch 67: val_loss improved from 0.52069 to 0.52029, saving model to best_weights.h5\n",
            "25/25 [==============================] - 7s 293ms/step - loss: 0.5288 - accuracy: 0.7675 - val_loss: 0.5203 - val_accuracy: 0.7429 - lr: 1.0000e-05\n",
            "Epoch 68/200\n",
            "25/25 [==============================] - ETA: 0s - loss: 0.5312 - accuracy: 0.7619\n",
            "Epoch 68: val_loss did not improve from 0.52029\n",
            "25/25 [==============================] - 6s 236ms/step - loss: 0.5312 - accuracy: 0.7619 - val_loss: 0.5207 - val_accuracy: 0.7536 - lr: 1.0000e-05\n",
            "Epoch 69/200\n",
            "25/25 [==============================] - ETA: 0s - loss: 0.5326 - accuracy: 0.7581\n",
            "Epoch 69: val_loss improved from 0.52029 to 0.51959, saving model to best_weights.h5\n",
            "25/25 [==============================] - 7s 274ms/step - loss: 0.5326 - accuracy: 0.7581 - val_loss: 0.5196 - val_accuracy: 0.7429 - lr: 1.0000e-05\n",
            "Epoch 70/200\n",
            "25/25 [==============================] - ETA: 0s - loss: 0.5314 - accuracy: 0.7569\n",
            "Epoch 70: val_loss improved from 0.51959 to 0.51946, saving model to best_weights.h5\n",
            "25/25 [==============================] - 7s 294ms/step - loss: 0.5314 - accuracy: 0.7569 - val_loss: 0.5195 - val_accuracy: 0.7464 - lr: 1.0000e-05\n",
            "Epoch 71/200\n",
            "25/25 [==============================] - ETA: 0s - loss: 0.5352 - accuracy: 0.7650\n",
            "Epoch 71: val_loss improved from 0.51946 to 0.51904, saving model to best_weights.h5\n",
            "25/25 [==============================] - 7s 268ms/step - loss: 0.5352 - accuracy: 0.7650 - val_loss: 0.5190 - val_accuracy: 0.7464 - lr: 1.0000e-05\n",
            "Epoch 72/200\n",
            "25/25 [==============================] - ETA: 0s - loss: 0.5259 - accuracy: 0.7613\n",
            "Epoch 72: val_loss improved from 0.51904 to 0.51821, saving model to best_weights.h5\n",
            "25/25 [==============================] - 7s 292ms/step - loss: 0.5259 - accuracy: 0.7613 - val_loss: 0.5182 - val_accuracy: 0.7464 - lr: 1.0000e-05\n",
            "Epoch 73/200\n",
            "25/25 [==============================] - ETA: 0s - loss: 0.5290 - accuracy: 0.7525\n",
            "Epoch 73: val_loss did not improve from 0.51821\n",
            "25/25 [==============================] - 6s 231ms/step - loss: 0.5290 - accuracy: 0.7525 - val_loss: 0.5182 - val_accuracy: 0.7464 - lr: 1.0000e-05\n",
            "Epoch 74/200\n",
            "25/25 [==============================] - ETA: 0s - loss: 0.5274 - accuracy: 0.7550\n",
            "Epoch 74: val_loss improved from 0.51821 to 0.51777, saving model to best_weights.h5\n",
            "25/25 [==============================] - 7s 299ms/step - loss: 0.5274 - accuracy: 0.7550 - val_loss: 0.5178 - val_accuracy: 0.7429 - lr: 1.0000e-05\n",
            "Epoch 75/200\n",
            "25/25 [==============================] - ETA: 0s - loss: 0.5278 - accuracy: 0.7625\n",
            "Epoch 75: val_loss improved from 0.51777 to 0.51755, saving model to best_weights.h5\n",
            "25/25 [==============================] - 7s 277ms/step - loss: 0.5278 - accuracy: 0.7625 - val_loss: 0.5175 - val_accuracy: 0.7464 - lr: 1.0000e-05\n",
            "Epoch 76/200\n",
            "25/25 [==============================] - ETA: 0s - loss: 0.5226 - accuracy: 0.7800\n",
            "Epoch 76: val_loss improved from 0.51755 to 0.51707, saving model to best_weights.h5\n",
            "25/25 [==============================] - 7s 301ms/step - loss: 0.5226 - accuracy: 0.7800 - val_loss: 0.5171 - val_accuracy: 0.7464 - lr: 1.0000e-05\n",
            "Epoch 77/200\n",
            "25/25 [==============================] - ETA: 0s - loss: 0.5247 - accuracy: 0.7656\n",
            "Epoch 77: val_loss improved from 0.51707 to 0.51697, saving model to best_weights.h5\n",
            "25/25 [==============================] - 7s 299ms/step - loss: 0.5247 - accuracy: 0.7656 - val_loss: 0.5170 - val_accuracy: 0.7464 - lr: 1.0000e-05\n",
            "Epoch 78/200\n",
            "25/25 [==============================] - ETA: 0s - loss: 0.5220 - accuracy: 0.7781\n",
            "Epoch 78: val_loss improved from 0.51697 to 0.51652, saving model to best_weights.h5\n",
            "25/25 [==============================] - 7s 273ms/step - loss: 0.5220 - accuracy: 0.7781 - val_loss: 0.5165 - val_accuracy: 0.7464 - lr: 1.0000e-05\n",
            "Epoch 79/200\n",
            "25/25 [==============================] - ETA: 0s - loss: 0.5256 - accuracy: 0.7663\n",
            "Epoch 79: val_loss did not improve from 0.51652\n",
            "25/25 [==============================] - 6s 254ms/step - loss: 0.5256 - accuracy: 0.7663 - val_loss: 0.5167 - val_accuracy: 0.7536 - lr: 1.0000e-05\n",
            "Epoch 80/200\n",
            "25/25 [==============================] - ETA: 0s - loss: 0.5234 - accuracy: 0.7619\n",
            "Epoch 80: val_loss improved from 0.51652 to 0.51596, saving model to best_weights.h5\n",
            "25/25 [==============================] - 7s 291ms/step - loss: 0.5234 - accuracy: 0.7619 - val_loss: 0.5160 - val_accuracy: 0.7464 - lr: 1.0000e-05\n",
            "Epoch 81/200\n",
            "25/25 [==============================] - ETA: 0s - loss: 0.5268 - accuracy: 0.7688\n",
            "Epoch 81: val_loss improved from 0.51596 to 0.51533, saving model to best_weights.h5\n",
            "25/25 [==============================] - 7s 289ms/step - loss: 0.5268 - accuracy: 0.7688 - val_loss: 0.5153 - val_accuracy: 0.7464 - lr: 1.0000e-05\n",
            "Epoch 82/200\n",
            "25/25 [==============================] - ETA: 0s - loss: 0.5198 - accuracy: 0.7738\n",
            "Epoch 82: val_loss did not improve from 0.51533\n",
            "25/25 [==============================] - 6s 224ms/step - loss: 0.5198 - accuracy: 0.7738 - val_loss: 0.5159 - val_accuracy: 0.7536 - lr: 1.0000e-05\n",
            "Epoch 83/200\n",
            "25/25 [==============================] - ETA: 0s - loss: 0.5137 - accuracy: 0.7744\n",
            "Epoch 83: val_loss improved from 0.51533 to 0.51491, saving model to best_weights.h5\n",
            "25/25 [==============================] - 8s 305ms/step - loss: 0.5137 - accuracy: 0.7744 - val_loss: 0.5149 - val_accuracy: 0.7464 - lr: 1.0000e-05\n",
            "Epoch 84/200\n",
            "25/25 [==============================] - ETA: 0s - loss: 0.5183 - accuracy: 0.7750\n",
            "Epoch 84: val_loss improved from 0.51491 to 0.51438, saving model to best_weights.h5\n",
            "25/25 [==============================] - 7s 273ms/step - loss: 0.5183 - accuracy: 0.7750 - val_loss: 0.5144 - val_accuracy: 0.7464 - lr: 1.0000e-05\n",
            "Epoch 85/200\n",
            "25/25 [==============================] - ETA: 0s - loss: 0.5154 - accuracy: 0.7663\n",
            "Epoch 85: val_loss improved from 0.51438 to 0.51391, saving model to best_weights.h5\n",
            "25/25 [==============================] - 7s 285ms/step - loss: 0.5154 - accuracy: 0.7663 - val_loss: 0.5139 - val_accuracy: 0.7464 - lr: 1.0000e-05\n",
            "Epoch 86/200\n",
            "25/25 [==============================] - ETA: 0s - loss: 0.5150 - accuracy: 0.7794\n",
            "Epoch 86: val_loss improved from 0.51391 to 0.51370, saving model to best_weights.h5\n",
            "25/25 [==============================] - 7s 274ms/step - loss: 0.5150 - accuracy: 0.7794 - val_loss: 0.5137 - val_accuracy: 0.7500 - lr: 1.0000e-05\n",
            "Epoch 87/200\n",
            "25/25 [==============================] - ETA: 0s - loss: 0.5095 - accuracy: 0.7862\n",
            "Epoch 87: val_loss improved from 0.51370 to 0.51344, saving model to best_weights.h5\n",
            "25/25 [==============================] - 8s 306ms/step - loss: 0.5095 - accuracy: 0.7862 - val_loss: 0.5134 - val_accuracy: 0.7500 - lr: 1.0000e-05\n",
            "Epoch 88/200\n",
            "25/25 [==============================] - ETA: 0s - loss: 0.5115 - accuracy: 0.7875\n",
            "Epoch 88: val_loss improved from 0.51344 to 0.51283, saving model to best_weights.h5\n",
            "25/25 [==============================] - 7s 278ms/step - loss: 0.5115 - accuracy: 0.7875 - val_loss: 0.5128 - val_accuracy: 0.7500 - lr: 1.0000e-05\n",
            "Epoch 89/200\n",
            "25/25 [==============================] - ETA: 0s - loss: 0.5138 - accuracy: 0.7744\n",
            "Epoch 89: val_loss improved from 0.51283 to 0.51248, saving model to best_weights.h5\n",
            "25/25 [==============================] - 7s 299ms/step - loss: 0.5138 - accuracy: 0.7744 - val_loss: 0.5125 - val_accuracy: 0.7607 - lr: 1.0000e-05\n",
            "Epoch 90/200\n",
            "25/25 [==============================] - ETA: 0s - loss: 0.5152 - accuracy: 0.7744\n",
            "Epoch 90: val_loss improved from 0.51248 to 0.51229, saving model to best_weights.h5\n",
            "25/25 [==============================] - 7s 297ms/step - loss: 0.5152 - accuracy: 0.7744 - val_loss: 0.5123 - val_accuracy: 0.7571 - lr: 1.0000e-05\n",
            "Epoch 91/200\n",
            "25/25 [==============================] - ETA: 0s - loss: 0.5139 - accuracy: 0.7731\n",
            "Epoch 91: val_loss improved from 0.51229 to 0.51172, saving model to best_weights.h5\n",
            "25/25 [==============================] - 7s 266ms/step - loss: 0.5139 - accuracy: 0.7731 - val_loss: 0.5117 - val_accuracy: 0.7536 - lr: 1.0000e-05\n",
            "Epoch 92/200\n",
            "25/25 [==============================] - ETA: 0s - loss: 0.5107 - accuracy: 0.7788\n",
            "Epoch 92: val_loss improved from 0.51172 to 0.51138, saving model to best_weights.h5\n",
            "25/25 [==============================] - 7s 282ms/step - loss: 0.5107 - accuracy: 0.7788 - val_loss: 0.5114 - val_accuracy: 0.7536 - lr: 1.0000e-05\n",
            "Epoch 93/200\n",
            "25/25 [==============================] - ETA: 0s - loss: 0.5061 - accuracy: 0.7894\n",
            "Epoch 93: val_loss did not improve from 0.51138\n",
            "25/25 [==============================] - 6s 224ms/step - loss: 0.5061 - accuracy: 0.7894 - val_loss: 0.5118 - val_accuracy: 0.7571 - lr: 1.0000e-05\n",
            "Epoch 94/200\n",
            "25/25 [==============================] - ETA: 0s - loss: 0.5064 - accuracy: 0.7756\n",
            "Epoch 94: val_loss improved from 0.51138 to 0.51091, saving model to best_weights.h5\n",
            "25/25 [==============================] - 7s 288ms/step - loss: 0.5064 - accuracy: 0.7756 - val_loss: 0.5109 - val_accuracy: 0.7571 - lr: 1.0000e-05\n",
            "Epoch 95/200\n",
            "25/25 [==============================] - ETA: 0s - loss: 0.5195 - accuracy: 0.7756\n",
            "Epoch 95: val_loss did not improve from 0.51091\n",
            "25/25 [==============================] - 6s 228ms/step - loss: 0.5195 - accuracy: 0.7756 - val_loss: 0.5117 - val_accuracy: 0.7607 - lr: 1.0000e-05\n",
            "Epoch 96/200\n",
            "25/25 [==============================] - ETA: 0s - loss: 0.5094 - accuracy: 0.7800\n",
            "Epoch 96: val_loss improved from 0.51091 to 0.51067, saving model to best_weights.h5\n",
            "25/25 [==============================] - 8s 309ms/step - loss: 0.5094 - accuracy: 0.7800 - val_loss: 0.5107 - val_accuracy: 0.7607 - lr: 1.0000e-05\n",
            "Epoch 97/200\n",
            "25/25 [==============================] - ETA: 0s - loss: 0.5032 - accuracy: 0.7844\n",
            "Epoch 97: val_loss improved from 0.51067 to 0.51039, saving model to best_weights.h5\n",
            "25/25 [==============================] - 7s 278ms/step - loss: 0.5032 - accuracy: 0.7844 - val_loss: 0.5104 - val_accuracy: 0.7607 - lr: 1.0000e-05\n",
            "Epoch 98/200\n",
            "25/25 [==============================] - ETA: 0s - loss: 0.5089 - accuracy: 0.7706\n",
            "Epoch 98: val_loss improved from 0.51039 to 0.50972, saving model to best_weights.h5\n",
            "25/25 [==============================] - 7s 288ms/step - loss: 0.5089 - accuracy: 0.7706 - val_loss: 0.5097 - val_accuracy: 0.7607 - lr: 1.0000e-05\n",
            "Epoch 99/200\n",
            "25/25 [==============================] - ETA: 0s - loss: 0.5166 - accuracy: 0.7769\n",
            "Epoch 99: val_loss improved from 0.50972 to 0.50949, saving model to best_weights.h5\n",
            "25/25 [==============================] - 7s 298ms/step - loss: 0.5166 - accuracy: 0.7769 - val_loss: 0.5095 - val_accuracy: 0.7607 - lr: 1.0000e-05\n",
            "Epoch 100/200\n",
            "25/25 [==============================] - ETA: 0s - loss: 0.5006 - accuracy: 0.7900\n",
            "Epoch 100: val_loss improved from 0.50949 to 0.50923, saving model to best_weights.h5\n",
            "25/25 [==============================] - 7s 297ms/step - loss: 0.5006 - accuracy: 0.7900 - val_loss: 0.5092 - val_accuracy: 0.7607 - lr: 1.0000e-05\n",
            "Epoch 101/200\n",
            "25/25 [==============================] - ETA: 0s - loss: 0.5039 - accuracy: 0.7825\n",
            "Epoch 101: val_loss improved from 0.50923 to 0.50916, saving model to best_weights.h5\n",
            "25/25 [==============================] - 7s 266ms/step - loss: 0.5039 - accuracy: 0.7825 - val_loss: 0.5092 - val_accuracy: 0.7643 - lr: 1.0000e-05\n",
            "Epoch 102/200\n",
            "25/25 [==============================] - ETA: 0s - loss: 0.5057 - accuracy: 0.7856\n",
            "Epoch 102: val_loss improved from 0.50916 to 0.50904, saving model to best_weights.h5\n",
            "25/25 [==============================] - 6s 254ms/step - loss: 0.5057 - accuracy: 0.7856 - val_loss: 0.5090 - val_accuracy: 0.7643 - lr: 1.0000e-05\n",
            "Epoch 103/200\n",
            "25/25 [==============================] - ETA: 0s - loss: 0.4994 - accuracy: 0.7744\n",
            "Epoch 103: val_loss improved from 0.50904 to 0.50847, saving model to best_weights.h5\n",
            "25/25 [==============================] - 7s 282ms/step - loss: 0.4994 - accuracy: 0.7744 - val_loss: 0.5085 - val_accuracy: 0.7607 - lr: 1.0000e-05\n",
            "Epoch 104/200\n",
            "25/25 [==============================] - ETA: 0s - loss: 0.5083 - accuracy: 0.7806\n",
            "Epoch 104: val_loss improved from 0.50847 to 0.50842, saving model to best_weights.h5\n",
            "25/25 [==============================] - 7s 275ms/step - loss: 0.5083 - accuracy: 0.7806 - val_loss: 0.5084 - val_accuracy: 0.7643 - lr: 1.0000e-05\n",
            "Epoch 105/200\n",
            "25/25 [==============================] - ETA: 0s - loss: 0.5032 - accuracy: 0.7812\n",
            "Epoch 105: val_loss improved from 0.50842 to 0.50829, saving model to best_weights.h5\n",
            "25/25 [==============================] - 7s 279ms/step - loss: 0.5032 - accuracy: 0.7812 - val_loss: 0.5083 - val_accuracy: 0.7643 - lr: 1.0000e-05\n",
            "Epoch 106/200\n",
            "25/25 [==============================] - ETA: 0s - loss: 0.5039 - accuracy: 0.7713\n",
            "Epoch 106: val_loss improved from 0.50829 to 0.50787, saving model to best_weights.h5\n",
            "25/25 [==============================] - 6s 256ms/step - loss: 0.5039 - accuracy: 0.7713 - val_loss: 0.5079 - val_accuracy: 0.7643 - lr: 1.0000e-05\n",
            "Epoch 107/200\n",
            "25/25 [==============================] - ETA: 0s - loss: 0.4965 - accuracy: 0.7844\n",
            "Epoch 107: val_loss improved from 0.50787 to 0.50736, saving model to best_weights.h5\n",
            "25/25 [==============================] - 7s 283ms/step - loss: 0.4965 - accuracy: 0.7844 - val_loss: 0.5074 - val_accuracy: 0.7571 - lr: 1.0000e-05\n",
            "Epoch 108/200\n",
            "25/25 [==============================] - ETA: 0s - loss: 0.4990 - accuracy: 0.7763\n",
            "Epoch 108: val_loss improved from 0.50736 to 0.50687, saving model to best_weights.h5\n",
            "25/25 [==============================] - 7s 273ms/step - loss: 0.4990 - accuracy: 0.7763 - val_loss: 0.5069 - val_accuracy: 0.7679 - lr: 1.0000e-05\n",
            "Epoch 109/200\n",
            "25/25 [==============================] - ETA: 0s - loss: 0.4999 - accuracy: 0.7781\n",
            "Epoch 109: val_loss did not improve from 0.50687\n",
            "25/25 [==============================] - 6s 245ms/step - loss: 0.4999 - accuracy: 0.7781 - val_loss: 0.5070 - val_accuracy: 0.7679 - lr: 1.0000e-05\n",
            "Epoch 110/200\n",
            "25/25 [==============================] - ETA: 0s - loss: 0.5103 - accuracy: 0.7663\n",
            "Epoch 110: val_loss improved from 0.50687 to 0.50624, saving model to best_weights.h5\n",
            "25/25 [==============================] - 7s 264ms/step - loss: 0.5103 - accuracy: 0.7663 - val_loss: 0.5062 - val_accuracy: 0.7679 - lr: 1.0000e-05\n",
            "Epoch 111/200\n",
            "25/25 [==============================] - ETA: 0s - loss: 0.5033 - accuracy: 0.7831\n",
            "Epoch 111: val_loss improved from 0.50624 to 0.50616, saving model to best_weights.h5\n",
            "25/25 [==============================] - 6s 255ms/step - loss: 0.5033 - accuracy: 0.7831 - val_loss: 0.5062 - val_accuracy: 0.7679 - lr: 1.0000e-05\n",
            "Epoch 112/200\n",
            "25/25 [==============================] - ETA: 0s - loss: 0.4990 - accuracy: 0.7850\n",
            "Epoch 112: val_loss improved from 0.50616 to 0.50553, saving model to best_weights.h5\n",
            "25/25 [==============================] - 7s 265ms/step - loss: 0.4990 - accuracy: 0.7850 - val_loss: 0.5055 - val_accuracy: 0.7643 - lr: 1.0000e-05\n",
            "Epoch 113/200\n",
            "25/25 [==============================] - ETA: 0s - loss: 0.4937 - accuracy: 0.7850\n",
            "Epoch 113: val_loss improved from 0.50553 to 0.50537, saving model to best_weights.h5\n",
            "25/25 [==============================] - 7s 274ms/step - loss: 0.4937 - accuracy: 0.7850 - val_loss: 0.5054 - val_accuracy: 0.7643 - lr: 1.0000e-05\n",
            "Epoch 114/200\n",
            "25/25 [==============================] - ETA: 0s - loss: 0.4987 - accuracy: 0.7794\n",
            "Epoch 114: val_loss improved from 0.50537 to 0.50476, saving model to best_weights.h5\n",
            "25/25 [==============================] - 7s 284ms/step - loss: 0.4987 - accuracy: 0.7794 - val_loss: 0.5048 - val_accuracy: 0.7679 - lr: 1.0000e-05\n",
            "Epoch 115/200\n",
            "25/25 [==============================] - ETA: 0s - loss: 0.5011 - accuracy: 0.7800\n",
            "Epoch 115: val_loss did not improve from 0.50476\n",
            "25/25 [==============================] - 5s 219ms/step - loss: 0.5011 - accuracy: 0.7800 - val_loss: 0.5048 - val_accuracy: 0.7679 - lr: 1.0000e-05\n",
            "Epoch 116/200\n",
            "25/25 [==============================] - ETA: 0s - loss: 0.4982 - accuracy: 0.7750\n",
            "Epoch 116: val_loss improved from 0.50476 to 0.50460, saving model to best_weights.h5\n",
            "25/25 [==============================] - 7s 269ms/step - loss: 0.4982 - accuracy: 0.7750 - val_loss: 0.5046 - val_accuracy: 0.7679 - lr: 1.0000e-05\n",
            "Epoch 117/200\n",
            "25/25 [==============================] - ETA: 0s - loss: 0.4866 - accuracy: 0.7850\n",
            "Epoch 117: val_loss improved from 0.50460 to 0.50392, saving model to best_weights.h5\n",
            "25/25 [==============================] - 7s 274ms/step - loss: 0.4866 - accuracy: 0.7850 - val_loss: 0.5039 - val_accuracy: 0.7643 - lr: 1.0000e-05\n",
            "Epoch 118/200\n",
            "25/25 [==============================] - ETA: 0s - loss: 0.4999 - accuracy: 0.7812\n",
            "Epoch 118: val_loss improved from 0.50392 to 0.50375, saving model to best_weights.h5\n",
            "25/25 [==============================] - 7s 304ms/step - loss: 0.4999 - accuracy: 0.7812 - val_loss: 0.5038 - val_accuracy: 0.7679 - lr: 1.0000e-05\n",
            "Epoch 119/200\n",
            "25/25 [==============================] - ETA: 0s - loss: 0.4912 - accuracy: 0.7906\n",
            "Epoch 119: val_loss did not improve from 0.50375\n",
            "25/25 [==============================] - 5s 219ms/step - loss: 0.4912 - accuracy: 0.7906 - val_loss: 0.5038 - val_accuracy: 0.7679 - lr: 1.0000e-05\n",
            "Epoch 120/200\n",
            "25/25 [==============================] - ETA: 0s - loss: 0.4926 - accuracy: 0.7869\n",
            "Epoch 120: val_loss improved from 0.50375 to 0.50315, saving model to best_weights.h5\n",
            "25/25 [==============================] - 7s 287ms/step - loss: 0.4926 - accuracy: 0.7869 - val_loss: 0.5032 - val_accuracy: 0.7679 - lr: 1.0000e-05\n",
            "Epoch 121/200\n",
            "25/25 [==============================] - ETA: 0s - loss: 0.4987 - accuracy: 0.7825\n",
            "Epoch 121: val_loss improved from 0.50315 to 0.50292, saving model to best_weights.h5\n",
            "25/25 [==============================] - 6s 255ms/step - loss: 0.4987 - accuracy: 0.7825 - val_loss: 0.5029 - val_accuracy: 0.7679 - lr: 1.0000e-05\n",
            "Epoch 122/200\n",
            "25/25 [==============================] - ETA: 0s - loss: 0.4966 - accuracy: 0.7738\n",
            "Epoch 122: val_loss improved from 0.50292 to 0.50278, saving model to best_weights.h5\n",
            "25/25 [==============================] - 7s 294ms/step - loss: 0.4966 - accuracy: 0.7738 - val_loss: 0.5028 - val_accuracy: 0.7679 - lr: 1.0000e-05\n",
            "Epoch 123/200\n",
            "25/25 [==============================] - ETA: 0s - loss: 0.4976 - accuracy: 0.7806\n",
            "Epoch 123: val_loss improved from 0.50278 to 0.50246, saving model to best_weights.h5\n",
            "25/25 [==============================] - 7s 268ms/step - loss: 0.4976 - accuracy: 0.7806 - val_loss: 0.5025 - val_accuracy: 0.7714 - lr: 1.0000e-05\n",
            "Epoch 124/200\n",
            "25/25 [==============================] - ETA: 0s - loss: 0.4942 - accuracy: 0.7806\n",
            "Epoch 124: val_loss improved from 0.50246 to 0.50197, saving model to best_weights.h5\n",
            "25/25 [==============================] - 8s 306ms/step - loss: 0.4942 - accuracy: 0.7806 - val_loss: 0.5020 - val_accuracy: 0.7679 - lr: 1.0000e-05\n",
            "Epoch 125/200\n",
            "25/25 [==============================] - ETA: 0s - loss: 0.4893 - accuracy: 0.7900\n",
            "Epoch 125: val_loss improved from 0.50197 to 0.50182, saving model to best_weights.h5\n",
            "25/25 [==============================] - 7s 274ms/step - loss: 0.4893 - accuracy: 0.7900 - val_loss: 0.5018 - val_accuracy: 0.7714 - lr: 1.0000e-05\n",
            "Epoch 126/200\n",
            "25/25 [==============================] - ETA: 0s - loss: 0.4892 - accuracy: 0.7756\n",
            "Epoch 126: val_loss improved from 0.50182 to 0.50137, saving model to best_weights.h5\n",
            "25/25 [==============================] - 7s 287ms/step - loss: 0.4892 - accuracy: 0.7756 - val_loss: 0.5014 - val_accuracy: 0.7821 - lr: 1.0000e-05\n",
            "Epoch 127/200\n",
            "25/25 [==============================] - ETA: 0s - loss: 0.4916 - accuracy: 0.7831\n",
            "Epoch 127: val_loss did not improve from 0.50137\n",
            "25/25 [==============================] - 6s 233ms/step - loss: 0.4916 - accuracy: 0.7831 - val_loss: 0.5014 - val_accuracy: 0.7714 - lr: 1.0000e-05\n",
            "Epoch 128/200\n",
            "25/25 [==============================] - ETA: 0s - loss: 0.4854 - accuracy: 0.7894\n",
            "Epoch 128: val_loss improved from 0.50137 to 0.50098, saving model to best_weights.h5\n",
            "25/25 [==============================] - 7s 271ms/step - loss: 0.4854 - accuracy: 0.7894 - val_loss: 0.5010 - val_accuracy: 0.7750 - lr: 1.0000e-05\n",
            "Epoch 129/200\n",
            "25/25 [==============================] - ETA: 0s - loss: 0.4872 - accuracy: 0.7844\n",
            "Epoch 129: val_loss improved from 0.50098 to 0.50098, saving model to best_weights.h5\n",
            "25/25 [==============================] - 7s 290ms/step - loss: 0.4872 - accuracy: 0.7844 - val_loss: 0.5010 - val_accuracy: 0.7714 - lr: 1.0000e-05\n",
            "Epoch 130/200\n",
            "25/25 [==============================] - ETA: 0s - loss: 0.4841 - accuracy: 0.7906\n",
            "Epoch 130: val_loss improved from 0.50098 to 0.50078, saving model to best_weights.h5\n",
            "25/25 [==============================] - 7s 272ms/step - loss: 0.4841 - accuracy: 0.7906 - val_loss: 0.5008 - val_accuracy: 0.7714 - lr: 1.0000e-05\n",
            "Epoch 131/200\n",
            "25/25 [==============================] - ETA: 0s - loss: 0.4879 - accuracy: 0.7856\n",
            "Epoch 131: val_loss improved from 0.50078 to 0.50027, saving model to best_weights.h5\n",
            "25/25 [==============================] - 7s 293ms/step - loss: 0.4879 - accuracy: 0.7856 - val_loss: 0.5003 - val_accuracy: 0.7786 - lr: 1.0000e-05\n",
            "Epoch 132/200\n",
            "25/25 [==============================] - ETA: 0s - loss: 0.4903 - accuracy: 0.7856\n",
            "Epoch 132: val_loss did not improve from 0.50027\n",
            "25/25 [==============================] - 6s 227ms/step - loss: 0.4903 - accuracy: 0.7856 - val_loss: 0.5007 - val_accuracy: 0.7714 - lr: 1.0000e-05\n",
            "Epoch 133/200\n",
            "25/25 [==============================] - ETA: 0s - loss: 0.4857 - accuracy: 0.7906\n",
            "Epoch 133: val_loss improved from 0.50027 to 0.50001, saving model to best_weights.h5\n",
            "25/25 [==============================] - 7s 286ms/step - loss: 0.4857 - accuracy: 0.7906 - val_loss: 0.5000 - val_accuracy: 0.7750 - lr: 1.0000e-05\n",
            "Epoch 134/200\n",
            "25/25 [==============================] - ETA: 0s - loss: 0.4785 - accuracy: 0.7869\n",
            "Epoch 134: val_loss did not improve from 0.50001\n",
            "25/25 [==============================] - 6s 248ms/step - loss: 0.4785 - accuracy: 0.7869 - val_loss: 0.5001 - val_accuracy: 0.7714 - lr: 1.0000e-05\n",
            "Epoch 135/200\n",
            "25/25 [==============================] - ETA: 0s - loss: 0.4879 - accuracy: 0.7794\n",
            "Epoch 135: val_loss improved from 0.50001 to 0.49942, saving model to best_weights.h5\n",
            "25/25 [==============================] - 7s 280ms/step - loss: 0.4879 - accuracy: 0.7794 - val_loss: 0.4994 - val_accuracy: 0.7786 - lr: 1.0000e-05\n",
            "Epoch 136/200\n",
            "25/25 [==============================] - ETA: 0s - loss: 0.4819 - accuracy: 0.7875\n",
            "Epoch 136: val_loss improved from 0.49942 to 0.49899, saving model to best_weights.h5\n",
            "25/25 [==============================] - 8s 306ms/step - loss: 0.4819 - accuracy: 0.7875 - val_loss: 0.4990 - val_accuracy: 0.7786 - lr: 1.0000e-05\n",
            "Epoch 137/200\n",
            "25/25 [==============================] - ETA: 0s - loss: 0.4894 - accuracy: 0.7781\n",
            "Epoch 137: val_loss did not improve from 0.49899\n",
            "25/25 [==============================] - 6s 226ms/step - loss: 0.4894 - accuracy: 0.7781 - val_loss: 0.4992 - val_accuracy: 0.7750 - lr: 1.0000e-05\n",
            "Epoch 138/200\n",
            "25/25 [==============================] - ETA: 0s - loss: 0.4831 - accuracy: 0.7969\n",
            "Epoch 138: val_loss improved from 0.49899 to 0.49871, saving model to best_weights.h5\n",
            "25/25 [==============================] - 7s 300ms/step - loss: 0.4831 - accuracy: 0.7969 - val_loss: 0.4987 - val_accuracy: 0.7750 - lr: 1.0000e-05\n",
            "Epoch 139/200\n",
            "25/25 [==============================] - ETA: 0s - loss: 0.4876 - accuracy: 0.7850\n",
            "Epoch 139: val_loss improved from 0.49871 to 0.49841, saving model to best_weights.h5\n",
            "25/25 [==============================] - 7s 291ms/step - loss: 0.4876 - accuracy: 0.7850 - val_loss: 0.4984 - val_accuracy: 0.7786 - lr: 1.0000e-05\n",
            "Epoch 140/200\n",
            "25/25 [==============================] - ETA: 0s - loss: 0.4865 - accuracy: 0.7856\n",
            "Epoch 140: val_loss did not improve from 0.49841\n",
            "25/25 [==============================] - 6s 251ms/step - loss: 0.4865 - accuracy: 0.7856 - val_loss: 0.4986 - val_accuracy: 0.7750 - lr: 1.0000e-05\n",
            "Epoch 141/200\n",
            "25/25 [==============================] - ETA: 0s - loss: 0.4857 - accuracy: 0.7937\n",
            "Epoch 141: val_loss improved from 0.49841 to 0.49824, saving model to best_weights.h5\n",
            "25/25 [==============================] - 7s 278ms/step - loss: 0.4857 - accuracy: 0.7937 - val_loss: 0.4982 - val_accuracy: 0.7786 - lr: 1.0000e-05\n",
            "Epoch 142/200\n",
            "25/25 [==============================] - ETA: 0s - loss: 0.4839 - accuracy: 0.7950\n",
            "Epoch 142: val_loss improved from 0.49824 to 0.49818, saving model to best_weights.h5\n",
            "25/25 [==============================] - 7s 303ms/step - loss: 0.4839 - accuracy: 0.7950 - val_loss: 0.4982 - val_accuracy: 0.7786 - lr: 1.0000e-05\n",
            "Epoch 143/200\n",
            "25/25 [==============================] - ETA: 0s - loss: 0.4786 - accuracy: 0.8000\n",
            "Epoch 143: val_loss improved from 0.49818 to 0.49794, saving model to best_weights.h5\n",
            "25/25 [==============================] - 7s 301ms/step - loss: 0.4786 - accuracy: 0.8000 - val_loss: 0.4979 - val_accuracy: 0.7786 - lr: 1.0000e-05\n",
            "Epoch 144/200\n",
            "25/25 [==============================] - ETA: 0s - loss: 0.4804 - accuracy: 0.7869\n",
            "Epoch 144: val_loss improved from 0.49794 to 0.49792, saving model to best_weights.h5\n",
            "25/25 [==============================] - 7s 287ms/step - loss: 0.4804 - accuracy: 0.7869 - val_loss: 0.4979 - val_accuracy: 0.7786 - lr: 1.0000e-05\n",
            "Epoch 145/200\n",
            "25/25 [==============================] - ETA: 0s - loss: 0.4775 - accuracy: 0.7962\n",
            "Epoch 145: val_loss improved from 0.49792 to 0.49753, saving model to best_weights.h5\n",
            "25/25 [==============================] - 7s 281ms/step - loss: 0.4775 - accuracy: 0.7962 - val_loss: 0.4975 - val_accuracy: 0.7786 - lr: 1.0000e-05\n",
            "Epoch 146/200\n",
            "25/25 [==============================] - ETA: 0s - loss: 0.4772 - accuracy: 0.7950\n",
            "Epoch 146: val_loss improved from 0.49753 to 0.49737, saving model to best_weights.h5\n",
            "25/25 [==============================] - 8s 321ms/step - loss: 0.4772 - accuracy: 0.7950 - val_loss: 0.4974 - val_accuracy: 0.7821 - lr: 1.0000e-05\n",
            "Epoch 147/200\n",
            "25/25 [==============================] - ETA: 0s - loss: 0.4786 - accuracy: 0.7906\n",
            "Epoch 147: val_loss did not improve from 0.49737\n",
            "25/25 [==============================] - 6s 234ms/step - loss: 0.4786 - accuracy: 0.7906 - val_loss: 0.4974 - val_accuracy: 0.7786 - lr: 1.0000e-05\n",
            "Epoch 148/200\n",
            "25/25 [==============================] - ETA: 0s - loss: 0.4768 - accuracy: 0.7994\n",
            "Epoch 148: val_loss did not improve from 0.49737\n",
            "25/25 [==============================] - 6s 245ms/step - loss: 0.4768 - accuracy: 0.7994 - val_loss: 0.4975 - val_accuracy: 0.7786 - lr: 1.0000e-05\n",
            "Epoch 149/200\n",
            "25/25 [==============================] - ETA: 0s - loss: 0.4879 - accuracy: 0.7844\n",
            "Epoch 149: val_loss improved from 0.49737 to 0.49700, saving model to best_weights.h5\n",
            "25/25 [==============================] - 7s 299ms/step - loss: 0.4879 - accuracy: 0.7844 - val_loss: 0.4970 - val_accuracy: 0.7821 - lr: 1.0000e-05\n",
            "Epoch 150/200\n",
            "25/25 [==============================] - ETA: 0s - loss: 0.4816 - accuracy: 0.7931\n",
            "Epoch 150: val_loss did not improve from 0.49700\n",
            "25/25 [==============================] - 6s 230ms/step - loss: 0.4816 - accuracy: 0.7931 - val_loss: 0.4972 - val_accuracy: 0.7821 - lr: 1.0000e-05\n",
            "Epoch 151/200\n",
            "25/25 [==============================] - ETA: 0s - loss: 0.4819 - accuracy: 0.7881\n",
            "Epoch 151: val_loss did not improve from 0.49700\n",
            "25/25 [==============================] - 6s 245ms/step - loss: 0.4819 - accuracy: 0.7881 - val_loss: 0.4971 - val_accuracy: 0.7786 - lr: 1.0000e-05\n",
            "Epoch 152/200\n",
            "25/25 [==============================] - ETA: 0s - loss: 0.4840 - accuracy: 0.7875\n",
            "Epoch 152: val_loss did not improve from 0.49700\n",
            "25/25 [==============================] - 6s 233ms/step - loss: 0.4840 - accuracy: 0.7875 - val_loss: 0.4970 - val_accuracy: 0.7786 - lr: 1.0000e-05\n",
            "Epoch 153/200\n",
            "25/25 [==============================] - ETA: 0s - loss: 0.4789 - accuracy: 0.7856\n",
            "Epoch 153: val_loss improved from 0.49700 to 0.49657, saving model to best_weights.h5\n",
            "25/25 [==============================] - 7s 297ms/step - loss: 0.4789 - accuracy: 0.7856 - val_loss: 0.4966 - val_accuracy: 0.7786 - lr: 1.0000e-05\n",
            "Epoch 154/200\n",
            "25/25 [==============================] - ETA: 0s - loss: 0.4732 - accuracy: 0.7906\n",
            "Epoch 154: val_loss improved from 0.49657 to 0.49601, saving model to best_weights.h5\n",
            "25/25 [==============================] - 7s 303ms/step - loss: 0.4732 - accuracy: 0.7906 - val_loss: 0.4960 - val_accuracy: 0.7786 - lr: 1.0000e-05\n",
            "Epoch 155/200\n",
            "25/25 [==============================] - ETA: 0s - loss: 0.4695 - accuracy: 0.8037\n",
            "Epoch 155: val_loss improved from 0.49601 to 0.49597, saving model to best_weights.h5\n",
            "25/25 [==============================] - 7s 297ms/step - loss: 0.4695 - accuracy: 0.8037 - val_loss: 0.4960 - val_accuracy: 0.7786 - lr: 1.0000e-05\n",
            "Epoch 156/200\n",
            "25/25 [==============================] - ETA: 0s - loss: 0.4744 - accuracy: 0.7887\n",
            "Epoch 156: val_loss improved from 0.49597 to 0.49590, saving model to best_weights.h5\n",
            "25/25 [==============================] - 7s 304ms/step - loss: 0.4744 - accuracy: 0.7887 - val_loss: 0.4959 - val_accuracy: 0.7786 - lr: 1.0000e-05\n",
            "Epoch 157/200\n",
            "25/25 [==============================] - ETA: 0s - loss: 0.4678 - accuracy: 0.7944\n",
            "Epoch 157: val_loss improved from 0.49590 to 0.49570, saving model to best_weights.h5\n",
            "25/25 [==============================] - 7s 293ms/step - loss: 0.4678 - accuracy: 0.7944 - val_loss: 0.4957 - val_accuracy: 0.7786 - lr: 1.0000e-05\n",
            "Epoch 158/200\n",
            "25/25 [==============================] - ETA: 0s - loss: 0.4762 - accuracy: 0.7987\n",
            "Epoch 158: val_loss improved from 0.49570 to 0.49554, saving model to best_weights.h5\n",
            "25/25 [==============================] - 8s 307ms/step - loss: 0.4762 - accuracy: 0.7987 - val_loss: 0.4955 - val_accuracy: 0.7821 - lr: 1.0000e-05\n",
            "Epoch 159/200\n",
            "25/25 [==============================] - ETA: 0s - loss: 0.4709 - accuracy: 0.7962\n",
            "Epoch 159: val_loss improved from 0.49554 to 0.49554, saving model to best_weights.h5\n",
            "25/25 [==============================] - 7s 274ms/step - loss: 0.4709 - accuracy: 0.7962 - val_loss: 0.4955 - val_accuracy: 0.7750 - lr: 1.0000e-05\n",
            "Epoch 160/200\n",
            "25/25 [==============================] - ETA: 0s - loss: 0.4728 - accuracy: 0.8031\n",
            "Epoch 160: val_loss did not improve from 0.49554\n",
            "25/25 [==============================] - 6s 253ms/step - loss: 0.4728 - accuracy: 0.8031 - val_loss: 0.4958 - val_accuracy: 0.7786 - lr: 1.0000e-05\n",
            "Epoch 161/200\n",
            "25/25 [==============================] - ETA: 0s - loss: 0.4686 - accuracy: 0.7969\n",
            "Epoch 161: val_loss did not improve from 0.49554\n",
            "25/25 [==============================] - 6s 251ms/step - loss: 0.4686 - accuracy: 0.7969 - val_loss: 0.4956 - val_accuracy: 0.7821 - lr: 1.0000e-05\n",
            "Epoch 162/200\n",
            "25/25 [==============================] - ETA: 0s - loss: 0.4730 - accuracy: 0.7962\n",
            "Epoch 162: val_loss did not improve from 0.49554\n",
            "25/25 [==============================] - 6s 247ms/step - loss: 0.4730 - accuracy: 0.7962 - val_loss: 0.4957 - val_accuracy: 0.7786 - lr: 1.0000e-05\n",
            "Epoch 163/200\n",
            "25/25 [==============================] - ETA: 0s - loss: 0.4701 - accuracy: 0.8006\n",
            "Epoch 163: val_loss improved from 0.49554 to 0.49544, saving model to best_weights.h5\n",
            "25/25 [==============================] - 8s 306ms/step - loss: 0.4701 - accuracy: 0.8006 - val_loss: 0.4954 - val_accuracy: 0.7786 - lr: 1.0000e-05\n",
            "Epoch 164/200\n",
            "25/25 [==============================] - ETA: 0s - loss: 0.4697 - accuracy: 0.7994\n",
            "Epoch 164: val_loss improved from 0.49544 to 0.49542, saving model to best_weights.h5\n",
            "25/25 [==============================] - 7s 293ms/step - loss: 0.4697 - accuracy: 0.7994 - val_loss: 0.4954 - val_accuracy: 0.7786 - lr: 1.0000e-05\n",
            "Epoch 165/200\n",
            "25/25 [==============================] - ETA: 0s - loss: 0.4662 - accuracy: 0.7981\n",
            "Epoch 165: val_loss improved from 0.49542 to 0.49492, saving model to best_weights.h5\n",
            "25/25 [==============================] - 8s 315ms/step - loss: 0.4662 - accuracy: 0.7981 - val_loss: 0.4949 - val_accuracy: 0.7786 - lr: 1.0000e-05\n",
            "Epoch 166/200\n",
            "25/25 [==============================] - ETA: 0s - loss: 0.4689 - accuracy: 0.8031\n",
            "Epoch 166: val_loss improved from 0.49492 to 0.49483, saving model to best_weights.h5\n",
            "25/25 [==============================] - 7s 290ms/step - loss: 0.4689 - accuracy: 0.8031 - val_loss: 0.4948 - val_accuracy: 0.7786 - lr: 1.0000e-05\n",
            "Epoch 167/200\n",
            "25/25 [==============================] - ETA: 0s - loss: 0.4666 - accuracy: 0.7919\n",
            "Epoch 167: val_loss improved from 0.49483 to 0.49471, saving model to best_weights.h5\n",
            "25/25 [==============================] - 8s 307ms/step - loss: 0.4666 - accuracy: 0.7919 - val_loss: 0.4947 - val_accuracy: 0.7786 - lr: 1.0000e-05\n",
            "Epoch 168/200\n",
            "25/25 [==============================] - ETA: 0s - loss: 0.4677 - accuracy: 0.7937\n",
            "Epoch 168: val_loss did not improve from 0.49471\n",
            "25/25 [==============================] - 6s 246ms/step - loss: 0.4677 - accuracy: 0.7937 - val_loss: 0.4952 - val_accuracy: 0.7750 - lr: 1.0000e-05\n",
            "Epoch 169/200\n",
            "25/25 [==============================] - ETA: 0s - loss: 0.4693 - accuracy: 0.8062\n",
            "Epoch 169: val_loss improved from 0.49471 to 0.49468, saving model to best_weights.h5\n",
            "25/25 [==============================] - 8s 318ms/step - loss: 0.4693 - accuracy: 0.8062 - val_loss: 0.4947 - val_accuracy: 0.7786 - lr: 1.0000e-05\n",
            "Epoch 170/200\n",
            "25/25 [==============================] - ETA: 0s - loss: 0.4695 - accuracy: 0.7906\n",
            "Epoch 170: val_loss improved from 0.49468 to 0.49467, saving model to best_weights.h5\n",
            "25/25 [==============================] - 7s 276ms/step - loss: 0.4695 - accuracy: 0.7906 - val_loss: 0.4947 - val_accuracy: 0.7786 - lr: 1.0000e-05\n",
            "Epoch 171/200\n",
            "25/25 [==============================] - ETA: 0s - loss: 0.4681 - accuracy: 0.7937\n",
            "Epoch 171: val_loss improved from 0.49467 to 0.49465, saving model to best_weights.h5\n",
            "25/25 [==============================] - 8s 323ms/step - loss: 0.4681 - accuracy: 0.7937 - val_loss: 0.4947 - val_accuracy: 0.7786 - lr: 1.0000e-05\n",
            "Epoch 172/200\n",
            "25/25 [==============================] - ETA: 0s - loss: 0.4667 - accuracy: 0.7994\n",
            "Epoch 172: val_loss improved from 0.49465 to 0.49457, saving model to best_weights.h5\n",
            "25/25 [==============================] - 7s 275ms/step - loss: 0.4667 - accuracy: 0.7994 - val_loss: 0.4946 - val_accuracy: 0.7750 - lr: 1.0000e-05\n",
            "Epoch 173/200\n",
            "25/25 [==============================] - ETA: 0s - loss: 0.4587 - accuracy: 0.8000\n",
            "Epoch 173: val_loss improved from 0.49457 to 0.49419, saving model to best_weights.h5\n",
            "25/25 [==============================] - 8s 321ms/step - loss: 0.4587 - accuracy: 0.8000 - val_loss: 0.4942 - val_accuracy: 0.7750 - lr: 1.0000e-05\n",
            "Epoch 174/200\n",
            "25/25 [==============================] - ETA: 0s - loss: 0.4705 - accuracy: 0.7944\n",
            "Epoch 174: val_loss improved from 0.49419 to 0.49406, saving model to best_weights.h5\n",
            "25/25 [==============================] - 7s 294ms/step - loss: 0.4705 - accuracy: 0.7944 - val_loss: 0.4941 - val_accuracy: 0.7786 - lr: 1.0000e-05\n",
            "Epoch 175/200\n",
            "25/25 [==============================] - ETA: 0s - loss: 0.4639 - accuracy: 0.8019\n",
            "Epoch 175: val_loss did not improve from 0.49406\n",
            "25/25 [==============================] - 6s 250ms/step - loss: 0.4639 - accuracy: 0.8019 - val_loss: 0.4941 - val_accuracy: 0.7786 - lr: 1.0000e-05\n",
            "Epoch 176/200\n",
            "25/25 [==============================] - ETA: 0s - loss: 0.4626 - accuracy: 0.7950\n",
            "Epoch 176: val_loss improved from 0.49406 to 0.49397, saving model to best_weights.h5\n",
            "25/25 [==============================] - 7s 278ms/step - loss: 0.4626 - accuracy: 0.7950 - val_loss: 0.4940 - val_accuracy: 0.7786 - lr: 1.0000e-05\n",
            "Epoch 177/200\n",
            "25/25 [==============================] - ETA: 0s - loss: 0.4659 - accuracy: 0.8012\n",
            "Epoch 177: val_loss improved from 0.49397 to 0.49371, saving model to best_weights.h5\n",
            "25/25 [==============================] - 7s 292ms/step - loss: 0.4659 - accuracy: 0.8012 - val_loss: 0.4937 - val_accuracy: 0.7786 - lr: 1.0000e-05\n",
            "Epoch 178/200\n",
            "25/25 [==============================] - ETA: 0s - loss: 0.4613 - accuracy: 0.7937\n",
            "Epoch 178: val_loss did not improve from 0.49371\n",
            "25/25 [==============================] - 6s 255ms/step - loss: 0.4613 - accuracy: 0.7937 - val_loss: 0.4938 - val_accuracy: 0.7750 - lr: 1.0000e-05\n",
            "Epoch 179/200\n",
            "25/25 [==============================] - ETA: 0s - loss: 0.4657 - accuracy: 0.7962\n",
            "Epoch 179: val_loss did not improve from 0.49371\n",
            "25/25 [==============================] - 6s 230ms/step - loss: 0.4657 - accuracy: 0.7962 - val_loss: 0.4937 - val_accuracy: 0.7750 - lr: 1.0000e-05\n",
            "Epoch 180/200\n",
            "25/25 [==============================] - ETA: 0s - loss: 0.4644 - accuracy: 0.7987\n",
            "Epoch 180: val_loss improved from 0.49371 to 0.49332, saving model to best_weights.h5\n",
            "25/25 [==============================] - 8s 311ms/step - loss: 0.4644 - accuracy: 0.7987 - val_loss: 0.4933 - val_accuracy: 0.7786 - lr: 1.0000e-05\n",
            "Epoch 181/200\n",
            "25/25 [==============================] - ETA: 0s - loss: 0.4581 - accuracy: 0.8044\n",
            "Epoch 181: val_loss did not improve from 0.49332\n",
            "25/25 [==============================] - 6s 255ms/step - loss: 0.4581 - accuracy: 0.8044 - val_loss: 0.4941 - val_accuracy: 0.7750 - lr: 1.0000e-05\n",
            "Epoch 182/200\n",
            "25/25 [==============================] - ETA: 0s - loss: 0.4650 - accuracy: 0.7994\n",
            "Epoch 182: val_loss improved from 0.49332 to 0.49313, saving model to best_weights.h5\n",
            "25/25 [==============================] - 8s 312ms/step - loss: 0.4650 - accuracy: 0.7994 - val_loss: 0.4931 - val_accuracy: 0.7786 - lr: 1.0000e-05\n",
            "Epoch 183/200\n",
            "25/25 [==============================] - ETA: 0s - loss: 0.4650 - accuracy: 0.8081\n",
            "Epoch 183: val_loss improved from 0.49313 to 0.49282, saving model to best_weights.h5\n",
            "25/25 [==============================] - 7s 278ms/step - loss: 0.4650 - accuracy: 0.8081 - val_loss: 0.4928 - val_accuracy: 0.7786 - lr: 1.0000e-05\n",
            "Epoch 184/200\n",
            "25/25 [==============================] - ETA: 0s - loss: 0.4636 - accuracy: 0.7925\n",
            "Epoch 184: val_loss did not improve from 0.49282\n",
            "25/25 [==============================] - 6s 252ms/step - loss: 0.4636 - accuracy: 0.7925 - val_loss: 0.4929 - val_accuracy: 0.7750 - lr: 1.0000e-05\n",
            "Epoch 185/200\n",
            "25/25 [==============================] - ETA: 0s - loss: 0.4611 - accuracy: 0.8006\n",
            "Epoch 185: val_loss improved from 0.49282 to 0.49281, saving model to best_weights.h5\n",
            "25/25 [==============================] - 7s 294ms/step - loss: 0.4611 - accuracy: 0.8006 - val_loss: 0.4928 - val_accuracy: 0.7786 - lr: 1.0000e-05\n",
            "Epoch 186/200\n",
            "25/25 [==============================] - ETA: 0s - loss: 0.4603 - accuracy: 0.8006\n",
            "Epoch 186: val_loss improved from 0.49281 to 0.49266, saving model to best_weights.h5\n",
            "25/25 [==============================] - 8s 307ms/step - loss: 0.4603 - accuracy: 0.8006 - val_loss: 0.4927 - val_accuracy: 0.7821 - lr: 1.0000e-05\n",
            "Epoch 187/200\n",
            "25/25 [==============================] - ETA: 0s - loss: 0.4581 - accuracy: 0.8019\n",
            "Epoch 187: val_loss did not improve from 0.49266\n",
            "25/25 [==============================] - 6s 246ms/step - loss: 0.4581 - accuracy: 0.8019 - val_loss: 0.4933 - val_accuracy: 0.7750 - lr: 1.0000e-05\n",
            "Epoch 188/200\n",
            "25/25 [==============================] - ETA: 0s - loss: 0.4601 - accuracy: 0.8012\n",
            "Epoch 188: val_loss improved from 0.49266 to 0.49238, saving model to best_weights.h5\n",
            "25/25 [==============================] - 7s 287ms/step - loss: 0.4601 - accuracy: 0.8012 - val_loss: 0.4924 - val_accuracy: 0.7786 - lr: 1.0000e-05\n",
            "Epoch 189/200\n",
            "25/25 [==============================] - ETA: 0s - loss: 0.4596 - accuracy: 0.7981\n",
            "Epoch 189: val_loss improved from 0.49238 to 0.49225, saving model to best_weights.h5\n",
            "25/25 [==============================] - 8s 303ms/step - loss: 0.4596 - accuracy: 0.7981 - val_loss: 0.4923 - val_accuracy: 0.7821 - lr: 1.0000e-05\n",
            "Epoch 190/200\n",
            "25/25 [==============================] - ETA: 0s - loss: 0.4586 - accuracy: 0.8050\n",
            "Epoch 190: val_loss did not improve from 0.49225\n",
            "25/25 [==============================] - 6s 245ms/step - loss: 0.4586 - accuracy: 0.8050 - val_loss: 0.4926 - val_accuracy: 0.7750 - lr: 1.0000e-05\n",
            "Epoch 191/200\n",
            "25/25 [==============================] - ETA: 0s - loss: 0.4503 - accuracy: 0.8037\n",
            "Epoch 191: val_loss did not improve from 0.49225\n",
            "25/25 [==============================] - 6s 243ms/step - loss: 0.4503 - accuracy: 0.8037 - val_loss: 0.4923 - val_accuracy: 0.7821 - lr: 1.0000e-05\n",
            "Epoch 192/200\n",
            "25/25 [==============================] - ETA: 0s - loss: 0.4590 - accuracy: 0.8031\n",
            "Epoch 192: val_loss improved from 0.49225 to 0.49204, saving model to best_weights.h5\n",
            "25/25 [==============================] - 7s 282ms/step - loss: 0.4590 - accuracy: 0.8031 - val_loss: 0.4920 - val_accuracy: 0.7821 - lr: 1.0000e-05\n",
            "Epoch 193/200\n",
            "25/25 [==============================] - ETA: 0s - loss: 0.4531 - accuracy: 0.8050\n",
            "Epoch 193: val_loss did not improve from 0.49204\n",
            "25/25 [==============================] - 6s 252ms/step - loss: 0.4531 - accuracy: 0.8050 - val_loss: 0.4923 - val_accuracy: 0.7750 - lr: 1.0000e-05\n",
            "Epoch 194/200\n",
            "25/25 [==============================] - ETA: 0s - loss: 0.4525 - accuracy: 0.8031\n",
            "Epoch 194: val_loss improved from 0.49204 to 0.49191, saving model to best_weights.h5\n",
            "25/25 [==============================] - 7s 298ms/step - loss: 0.4525 - accuracy: 0.8031 - val_loss: 0.4919 - val_accuracy: 0.7821 - lr: 1.0000e-05\n",
            "Epoch 195/200\n",
            "25/25 [==============================] - ETA: 0s - loss: 0.4587 - accuracy: 0.7969\n",
            "Epoch 195: val_loss did not improve from 0.49191\n",
            "25/25 [==============================] - 6s 228ms/step - loss: 0.4587 - accuracy: 0.7969 - val_loss: 0.4925 - val_accuracy: 0.7750 - lr: 1.0000e-05\n",
            "Epoch 196/200\n",
            "25/25 [==============================] - ETA: 0s - loss: 0.4522 - accuracy: 0.8050\n",
            "Epoch 196: val_loss did not improve from 0.49191\n",
            "25/25 [==============================] - 7s 263ms/step - loss: 0.4522 - accuracy: 0.8050 - val_loss: 0.4923 - val_accuracy: 0.7786 - lr: 1.0000e-05\n",
            "Epoch 197/200\n",
            "25/25 [==============================] - ETA: 0s - loss: 0.4537 - accuracy: 0.8019\n",
            "Epoch 197: val_loss did not improve from 0.49191\n",
            "25/25 [==============================] - 6s 229ms/step - loss: 0.4537 - accuracy: 0.8019 - val_loss: 0.4921 - val_accuracy: 0.7821 - lr: 1.0000e-05\n",
            "Epoch 198/200\n",
            "25/25 [==============================] - ETA: 0s - loss: 0.4502 - accuracy: 0.8062\n",
            "Epoch 198: val_loss improved from 0.49191 to 0.49185, saving model to best_weights.h5\n",
            "25/25 [==============================] - 7s 299ms/step - loss: 0.4502 - accuracy: 0.8062 - val_loss: 0.4918 - val_accuracy: 0.7786 - lr: 1.0000e-05\n",
            "Epoch 199/200\n",
            "25/25 [==============================] - ETA: 0s - loss: 0.4496 - accuracy: 0.8094\n",
            "Epoch 199: val_loss improved from 0.49185 to 0.49180, saving model to best_weights.h5\n",
            "25/25 [==============================] - 7s 279ms/step - loss: 0.4496 - accuracy: 0.8094 - val_loss: 0.4918 - val_accuracy: 0.7750 - lr: 1.0000e-05\n",
            "Epoch 200/200\n",
            "25/25 [==============================] - ETA: 0s - loss: 0.4502 - accuracy: 0.8075\n",
            "Epoch 200: val_loss improved from 0.49180 to 0.49167, saving model to best_weights.h5\n",
            "25/25 [==============================] - 7s 304ms/step - loss: 0.4502 - accuracy: 0.8075 - val_loss: 0.4917 - val_accuracy: 0.7786 - lr: 1.0000e-05\n"
          ]
        }
      ],
      "source": [
        "r = model.fit(x_train, y_train, batch_size = 64, epochs = 200,  validation_data =(x_val, y_val), callbacks=[checkpoint,early_stopping,reduce_lr])"
      ]
    },
    {
      "cell_type": "code",
      "execution_count": null,
      "metadata": {
        "colab": {
          "base_uri": "https://localhost:8080/",
          "height": 380
        },
        "execution": {
          "iopub.execute_input": "2023-10-09T12:04:33.148054Z",
          "iopub.status.busy": "2023-10-09T12:04:33.147618Z",
          "iopub.status.idle": "2023-10-09T12:04:33.629517Z",
          "shell.execute_reply": "2023-10-09T12:04:33.628627Z",
          "shell.execute_reply.started": "2023-10-09T12:04:33.148021Z"
        },
        "id": "BzXKScmhVz36",
        "outputId": "602cbbdf-de77-4354-9b3f-2b1da76420fd",
        "trusted": true
      },
      "outputs": [
        {
          "data": {
            "text/plain": [
              "Text(0.5, 1.0, 'Accuracy Evolution')"
            ]
          },
          "execution_count": 64,
          "metadata": {},
          "output_type": "execute_result"
        },
        {
          "data": {
            "image/png": "[encoded data removed]",
            "text/plain": [
              "<Figure size 1200x800 with 2 Axes>"
            ]
          },
          "metadata": {},
          "output_type": "display_data"
        }
      ],
      "source": [
        "# plot the accuracy and loss curves\n",
        "plt.figure(figsize=(12, 8))\n",
        "\n",
        "plt.subplot(2, 2, 1)\n",
        "plt.plot(r.history['loss'], label='Loss')\n",
        "plt.plot(r.history['val_loss'], label='Val_Loss')\n",
        "plt.legend()\n",
        "plt.title('Loss Evolution')\n",
        "\n",
        "plt.subplot(2, 2, 2)\n",
        "plt.plot(r.history['accuracy'], label='Accuracy')\n",
        "plt.plot(r.history['val_accuracy'], label='Val_Accuracy')\n",
        "plt.legend()\n",
        "plt.title('Accuracy Evolution')\n"
      ]
    },
    {
      "cell_type": "code",
      "execution_count": null,
      "metadata": {
        "colab": {
          "base_uri": "https://localhost:8080/"
        },
        "execution": {
          "iopub.execute_input": "2023-10-09T12:04:33.630758Z",
          "iopub.status.busy": "2023-10-09T12:04:33.630456Z",
          "iopub.status.idle": "2023-10-09T12:04:33.637278Z",
          "shell.execute_reply": "2023-10-09T12:04:33.636281Z",
          "shell.execute_reply.started": "2023-10-09T12:04:33.630728Z"
        },
        "id": "xPhD17YrVz36",
        "outputId": "81cab9b0-91ad-49e6-c08d-772baaf29967",
        "trusted": true
      },
      "outputs": [
        {
          "name": "stdout",
          "output_type": "stream",
          "text": [
            "Best Training Loss: 0.4496\n",
            "Best Training Accuracy: 80.94%\n"
          ]
        }
      ],
      "source": [
        "# Print training loss and accuracy for best weights\n",
        "best_train_loss = min(r.history['loss'])  # Minimum training loss\n",
        "best_train_accuracy = max(r.history['accuracy'])  # Maximum training accuracy\n",
        "print(f'Best Training Loss: {best_train_loss:.4f}')\n",
        "print(f'Best Training Accuracy: {best_train_accuracy:.2%}')"
      ]
    },
    {
      "cell_type": "code",
      "execution_count": null,
      "metadata": {
        "colab": {
          "base_uri": "https://localhost:8080/"
        },
        "execution": {
          "iopub.execute_input": "2023-10-09T12:04:33.639761Z",
          "iopub.status.busy": "2023-10-09T12:04:33.638765Z",
          "iopub.status.idle": "2023-10-09T12:04:36.484502Z",
          "shell.execute_reply": "2023-10-09T12:04:36.483484Z",
          "shell.execute_reply.started": "2023-10-09T12:04:33.639731Z"
        },
        "id": "gjUxO2IhVz37",
        "outputId": "7d822a3d-e009-4d07-8878-e623ceb78537",
        "trusted": true
      },
      "outputs": [
        {
          "name": "stdout",
          "output_type": "stream",
          "text": [
            "9/9 [==============================] - 4s 99ms/step - loss: 0.4917 - accuracy: 0.7786\n",
            "Best Validation Loss: 0.4917\n",
            "Best Validation Accuracy: 77.86%\n"
          ]
        }
      ],
      "source": [
        "# Load the best weights\n",
        "model.load_weights('best_weights.h5')\n",
        "\n",
        "# Evaluate the model with the best weights\n",
        "val_loss, val_accuracy = model.evaluate(x_val, y_val)\n",
        "\n",
        "print(f'Best Validation Loss: {val_loss:.4f}')\n",
        "print(f'Best Validation Accuracy: {val_accuracy:.2%}')"
      ]
    },
    {
      "cell_type": "code",
      "execution_count": null,
      "metadata": {
        "execution": {
          "iopub.execute_input": "2023-10-09T12:06:03.951914Z",
          "iopub.status.busy": "2023-10-09T12:06:03.951568Z",
          "iopub.status.idle": "2023-10-09T12:06:04.557107Z",
          "shell.execute_reply": "2023-10-09T12:06:04.556161Z",
          "shell.execute_reply.started": "2023-10-09T12:06:03.951886Z"
        },
        "id": "2bUHvAnqVz37",
        "trusted": true
      },
      "outputs": [],
      "source": [
        "from tensorflow.keras.models import load_model, save_model\n",
        "\n",
        "# Save the trained model to a file\n",
        "model.save('densenet121.h5')"
      ]
    },
    {
      "cell_type": "code",
      "execution_count": null,
      "metadata": {
        "execution": {
          "iopub.execute_input": "2023-10-09T12:06:04.559861Z",
          "iopub.status.busy": "2023-10-09T12:06:04.559293Z",
          "iopub.status.idle": "2023-10-09T12:06:07.529129Z",
          "shell.execute_reply": "2023-10-09T12:06:07.528178Z",
          "shell.execute_reply.started": "2023-10-09T12:06:04.559826Z"
        },
        "id": "5tPnko4yVz37",
        "trusted": true
      },
      "outputs": [],
      "source": [
        "from tensorflow.keras.models import load_model\n",
        "\n",
        "# Load your trained model\n",
        "model = load_model('densenet121.h5')"
      ]
    },
    {
      "cell_type": "code",
      "execution_count": null,
      "metadata": {
        "colab": {
          "base_uri": "https://localhost:8080/"
        },
        "execution": {
          "iopub.execute_input": "2023-10-09T12:06:07.531092Z",
          "iopub.status.busy": "2023-10-09T12:06:07.530744Z",
          "iopub.status.idle": "2023-10-09T12:06:10.302349Z",
          "shell.execute_reply": "2023-10-09T12:06:10.301457Z",
          "shell.execute_reply.started": "2023-10-09T12:06:07.531062Z"
        },
        "id": "uzWTgs5wVz37",
        "outputId": "7a6e492d-0d42-40af-9267-02b1dd254db1",
        "trusted": true
      },
      "outputs": [
        {
          "name": "stdout",
          "output_type": "stream",
          "text": [
            "9/9 [==============================] - 4s 98ms/step\n"
          ]
        }
      ],
      "source": [
        "from sklearn.metrics import accuracy_score, precision_score, recall_score, f1_score\n",
        "\n",
        "# Predict on the test set\n",
        "y_pred_ = model.predict(x_val)"
      ]
    },
    {
      "cell_type": "markdown",
      "source": [
        "**11. Selecting the threshold value for binary classification: 0 for 'No Lung Opacity or 1 for 'Lung Opacity', from range 0.1 to 0.9 on the basis of the best F1-score obtained using the validation data.**"
      ],
      "metadata": {
        "id": "Q-MxPTraqRRc"
      }
    },
    {
      "cell_type": "code",
      "execution_count": null,
      "metadata": {
        "colab": {
          "base_uri": "https://localhost:8080/"
        },
        "execution": {
          "iopub.execute_input": "2023-10-09T12:06:10.305282Z",
          "iopub.status.busy": "2023-10-09T12:06:10.304285Z",
          "iopub.status.idle": "2023-10-09T12:06:10.328467Z",
          "shell.execute_reply": "2023-10-09T12:06:10.327472Z",
          "shell.execute_reply.started": "2023-10-09T12:06:10.305249Z"
        },
        "id": "4D4YhVp6Vz37",
        "outputId": "1a0e28f0-6bd3-4ec3-814f-bbcce8251bc6",
        "trusted": true
      },
      "outputs": [
        {
          "name": "stdout",
          "output_type": "stream",
          "text": [
            "Best Threshold: 0.40\n",
            "Best F1 Score: 0.79\n"
          ]
        }
      ],
      "source": [
        "import numpy as np\n",
        "from sklearn.metrics import f1_score\n",
        "\n",
        "thresholds = np.linspace(0.1, 0.9, 9)\n",
        "\n",
        "best_f1 = 0.0  # Initialize the best F1-score\n",
        "best_threshold = 0.5  # Initialize the best threshold\n",
        "\n",
        "# Iterate through the thresholds and calculate F1-score for each\n",
        "for threshold in thresholds:\n",
        "    # Convert predicted probabilities to binary labels using the current threshold\n",
        "    y_pred_binary = (y_pred_ > threshold).astype(int)\n",
        "\n",
        "    # Calculate F1-score for the current threshold\n",
        "    current_f1 = f1_score(y_val, y_pred_binary)\n",
        "\n",
        "    # Check if the current threshold gives a better F1-score\n",
        "    if current_f1 > best_f1:\n",
        "        best_f1 = current_f1\n",
        "        best_threshold = threshold\n",
        "\n",
        "print(f'Best Threshold: {best_threshold:.2f}')\n",
        "print(f'Best F1 Score: {best_f1:.2f}')\n"
      ]
    },
    {
      "cell_type": "markdown",
      "source": [
        "**12. Predicting the model on test dataset**"
      ],
      "metadata": {
        "id": "FA4YUULrqmF4"
      }
    },
    {
      "cell_type": "code",
      "execution_count": null,
      "metadata": {
        "colab": {
          "base_uri": "https://localhost:8080/"
        },
        "execution": {
          "iopub.execute_input": "2023-10-09T12:06:15.075798Z",
          "iopub.status.busy": "2023-10-09T12:06:15.075471Z",
          "iopub.status.idle": "2023-10-09T12:06:15.531426Z",
          "shell.execute_reply": "2023-10-09T12:06:15.530551Z",
          "shell.execute_reply.started": "2023-10-09T12:06:15.075771Z"
        },
        "id": "_qc5RhaqVz38",
        "outputId": "7760d50d-0cad-4f81-f155-8c021ba8103d",
        "trusted": true
      },
      "outputs": [
        {
          "name": "stdout",
          "output_type": "stream",
          "text": [
            "4/4 [==============================] - 0s 89ms/step\n"
          ]
        }
      ],
      "source": [
        "from sklearn.metrics import accuracy_score, precision_score, recall_score, f1_score\n",
        "\n",
        "# Predict on the test set\n",
        "y_pred = model.predict(x_test)\n"
      ]
    },
    {
      "cell_type": "code",
      "execution_count": null,
      "metadata": {
        "colab": {
          "base_uri": "https://localhost:8080/"
        },
        "execution": {
          "iopub.execute_input": "2023-10-09T12:06:17.259396Z",
          "iopub.status.busy": "2023-10-09T12:06:17.259063Z",
          "iopub.status.idle": "2023-10-09T12:06:17.274528Z",
          "shell.execute_reply": "2023-10-09T12:06:17.273378Z",
          "shell.execute_reply.started": "2023-10-09T12:06:17.259369Z"
        },
        "id": "jOc-mgpBVz38",
        "outputId": "12e528d5-5b4b-4b5d-c29a-ea9d7f98b397",
        "trusted": true
      },
      "outputs": [
        {
          "name": "stdout",
          "output_type": "stream",
          "text": [
            "Test Accuracy: 70.00%\n",
            "Test Precision: 0.64\n",
            "Test Recall: 0.82\n",
            "Test F1 Score: 0.72\n"
          ]
        }
      ],
      "source": [
        "from sklearn.metrics import accuracy_score, precision_score, recall_score, f1_score\n",
        "\n",
        "# Convert predicted probabilities to binary labels\n",
        "y_pred_binary = (y_pred > best_threshold).astype(int)\n",
        "\n",
        "# Calculate accuracy\n",
        "accuracy = accuracy_score(y_test, y_pred_binary)\n",
        "\n",
        "# Calculate precision\n",
        "precision = precision_score(y_test, y_pred_binary)\n",
        "\n",
        "# Calculate recall\n",
        "recall = recall_score(y_test, y_pred_binary)\n",
        "\n",
        "# Calculate F1-score\n",
        "f1 = f1_score(y_test, y_pred_binary)\n",
        "\n",
        "print(f'Test Accuracy: {accuracy:.2%}')\n",
        "print(f'Test Precision: {precision:.2f}')\n",
        "print(f'Test Recall: {recall:.2f}')\n",
        "print(f'Test F1 Score: {f1:.2f}')"
      ]
    },
    {
      "cell_type": "code",
      "execution_count": null,
      "metadata": {
        "colab": {
          "base_uri": "https://localhost:8080/"
        },
        "execution": {
          "iopub.execute_input": "2023-10-09T12:06:21.045681Z",
          "iopub.status.busy": "2023-10-09T12:06:21.045322Z",
          "iopub.status.idle": "2023-10-09T12:06:21.060704Z",
          "shell.execute_reply": "2023-10-09T12:06:21.059674Z",
          "shell.execute_reply.started": "2023-10-09T12:06:21.045655Z"
        },
        "id": "w0YdICCpVz38",
        "outputId": "d6a70e92-abea-46e9-82a0-c56fcc293665",
        "trusted": true
      },
      "outputs": [
        {
          "name": "stdout",
          "output_type": "stream",
          "text": [
            "Classification Report:\n",
            "                  precision    recall  f1-score   support\n",
            "\n",
            "No Lung Opacity       0.79      0.59      0.68        64\n",
            "   Lung Opacity       0.64      0.82      0.72        56\n",
            "\n",
            "       accuracy                           0.70       120\n",
            "      macro avg       0.72      0.71      0.70       120\n",
            "   weighted avg       0.72      0.70      0.70       120\n",
            "\n"
          ]
        }
      ],
      "source": [
        "import numpy as np\n",
        "from sklearn.metrics import classification_report, confusion_matrix, roc_curve, auc\n",
        "import matplotlib.pyplot as plt\n",
        "\n",
        "# Generate a classification report\n",
        "class_report = classification_report(y_test, y_pred_binary , target_names=['No Lung Opacity','Lung Opacity'])\n",
        "\n",
        "# Print the classification report\n",
        "print(\"Classification Report:\\n\", class_report)"
      ]
    },
    {
      "cell_type": "code",
      "execution_count": null,
      "metadata": {
        "colab": {
          "base_uri": "https://localhost:8080/",
          "height": 410
        },
        "execution": {
          "iopub.execute_input": "2023-10-09T12:06:21.990190Z",
          "iopub.status.busy": "2023-10-09T12:06:21.989866Z",
          "iopub.status.idle": "2023-10-09T12:06:22.240597Z",
          "shell.execute_reply": "2023-10-09T12:06:22.239689Z",
          "shell.execute_reply.started": "2023-10-09T12:06:21.990163Z"
        },
        "id": "dNfr0UEgVz38",
        "outputId": "a50e22ae-bf36-4e4a-8569-9ad0bee38621",
        "trusted": true
      },
      "outputs": [
        {
          "data": {
            "image/png": "[encoded data removed]",
            "text/plain": [
              "<Figure size 600x400 with 2 Axes>"
            ]
          },
          "metadata": {},
          "output_type": "display_data"
        }
      ],
      "source": [
        "import numpy as np\n",
        "import matplotlib.pyplot as plt\n",
        "from sklearn.metrics import confusion_matrix\n",
        "\n",
        "# Calculate the confusion matrix\n",
        "conf_matrix = confusion_matrix(y_test, y_pred_binary)\n",
        "\n",
        "# Calculate TP, FP, TN, FN\n",
        "TP = conf_matrix[1, 1]\n",
        "FP = conf_matrix[0, 1]\n",
        "TN = conf_matrix[0, 0]\n",
        "FN = conf_matrix[1, 0]\n",
        "\n",
        "# Calculate percentages\n",
        "total_samples = len(y_test)\n",
        "percent_TP = (TP / total_samples) * 100\n",
        "percent_FP = (FP / total_samples) * 100\n",
        "percent_TN = (TN / total_samples) * 100\n",
        "percent_FN = (FN / total_samples) * 100\n",
        "\n",
        "# Create a custom function for annotating the confusion matrix\n",
        "def annotate_confusion_matrix(conf_matrix):\n",
        "    plt.imshow(conf_matrix, interpolation='nearest',cmap = 'turbo')\n",
        "    plt.title('Confusion Matrix')\n",
        "    plt.colorbar()\n",
        "    tick_marks = np.arange(len(['No Lung Opacity', 'Lung Opacity']))\n",
        "    plt.xticks(tick_marks, ['No Lung Opacity', 'Lung Opacity'])\n",
        "    plt.yticks(tick_marks, ['No Lung Opacity', 'Lung Opacity'])\n",
        "    plt.ylabel('True Label')\n",
        "    plt.xlabel('Predicted Label')\n",
        "\n",
        "    # Annotate TP, FP, TN, FN, and their percentages\n",
        "    for i in range(2):\n",
        "        for j in range(2):\n",
        "            plt.text(j, i, f'TP: {conf_matrix[1, 1]} ({percent_TP:.2f}%)' if i == 1 and j == 1\n",
        "                             else f'FP: {conf_matrix[0, 1]} ({percent_FP:.2f}%)' if i == 0 and j == 1\n",
        "                             else f'TN: {conf_matrix[0, 0]} ({percent_TN:.2f}%)' if i == 0 and j == 0\n",
        "                             else f'FN: {conf_matrix[1, 0]} ({percent_FN:.2f}%)' if i == 1 and j == 0\n",
        "                             else '',\n",
        "                     horizontalalignment='center',\n",
        "                     verticalalignment='center',\n",
        "                     color='white', fontsize=10)\n",
        "\n",
        "# Plot the annotated confusion matrix\n",
        "plt.figure(figsize=(6, 4))\n",
        "annotate_confusion_matrix(conf_matrix)\n",
        "plt.show()\n"
      ]
    },
    {
      "cell_type": "markdown",
      "metadata": {
        "id": "rEOisnzRVz38"
      },
      "source": [
        "The two classes in this confusion matrix are \"No Lung Opacity\" and \"Lung Opacity.\" The matrix shows that the model correctly predicted 38 instances of \"No Lung Opacity\" and 46 instances of \"Lung Opacity.\" However, the model also incorrectly predicted 10 instances of \"Lung Opacity\" as \"No Lung Opacity\" and 26 instances of \"No Lung Opacity\" as \"Lung Opacity.\""
      ]
    },
    {
      "cell_type": "markdown",
      "source": [
        "**13. Creating AUC-ROC curve using predicted probabilties on the test set.**"
      ],
      "metadata": {
        "id": "Mwf7TINPqf2z"
      }
    },
    {
      "cell_type": "code",
      "execution_count": null,
      "metadata": {
        "colab": {
          "base_uri": "https://localhost:8080/",
          "height": 472
        },
        "execution": {
          "iopub.execute_input": "2023-10-09T12:06:23.044761Z",
          "iopub.status.busy": "2023-10-09T12:06:23.043841Z",
          "iopub.status.idle": "2023-10-09T12:06:23.282182Z",
          "shell.execute_reply": "2023-10-09T12:06:23.281244Z",
          "shell.execute_reply.started": "2023-10-09T12:06:23.044719Z"
        },
        "id": "zioAy03sVz3-",
        "outputId": "cf914b51-1604-4687-b899-66d00e8fbd20",
        "trusted": true
      },
      "outputs": [
        {
          "data": {
            "image/png": "[encoded data removed]",
            "text/plain": [
              "<Figure size 640x480 with 1 Axes>"
            ]
          },
          "metadata": {},
          "output_type": "display_data"
        }
      ],
      "source": [
        "# Generate ROC curve and calculate AUC\n",
        "fpr, tpr, thresholds = roc_curve(y_test, y_pred)\n",
        "roc_auc = auc(fpr, tpr)\n",
        "\n",
        "# Plot ROC curve\n",
        "plt.figure()\n",
        "plt.plot(fpr, tpr, color='darkorange', lw=2, label=f'ROC curve (area = {roc_auc:.2f})')\n",
        "plt.plot([0, 1], [0, 1], color='navy', lw=2, linestyle='--')\n",
        "plt.xlim([0.0, 1.0])\n",
        "plt.ylim([0.0, 1.05])\n",
        "plt.xlabel('False Positive Rate')\n",
        "plt.ylabel('True Positive Rate')\n",
        "plt.title('Receiver Operating Characteristic')\n",
        "plt.legend(loc='lower right')\n",
        "plt.show()"
      ]
    },
    {
      "cell_type": "markdown",
      "source": [
        "**14. Creating AUC-ROC curve after converting the predicted probabilities on test data to binary labels.**"
      ],
      "metadata": {
        "id": "qj17quZQq0nE"
      }
    },
    {
      "cell_type": "code",
      "execution_count": null,
      "metadata": {
        "colab": {
          "base_uri": "https://localhost:8080/",
          "height": 472
        },
        "id": "3ikvseyvVz3-",
        "outputId": "916eb80e-9c3f-4482-b578-17dbfa2e7241"
      },
      "outputs": [
        {
          "data": {
            "image/png": "[encoded data removed]",
            "text/plain": [
              "<Figure size 640x480 with 1 Axes>"
            ]
          },
          "metadata": {},
          "output_type": "display_data"
        }
      ],
      "source": [
        "# Generate ROC curve and calculate AUC\n",
        "fpr, tpr, thresholds = roc_curve(y_test, y_pred_binary)\n",
        "roc_auc = auc(fpr, tpr)\n",
        "\n",
        "# Plot ROC curve\n",
        "plt.figure()\n",
        "plt.plot(fpr, tpr, color='darkorange', lw=2, label=f'ROC curve (area = {roc_auc:.2f})')\n",
        "plt.plot([0, 1], [0, 1], color='navy', lw=2, linestyle='--')\n",
        "plt.xlim([0.0, 1.0])\n",
        "plt.ylim([0.0, 1.05])\n",
        "plt.xlabel('False Positive Rate')\n",
        "plt.ylabel('True Positive Rate')\n",
        "plt.title('Receiver Operating Characteristic')\n",
        "plt.legend(loc='lower right')\n",
        "plt.show()"
      ]
    }
  ],
  "metadata": {
    "accelerator": "GPU",
    "colab": {
      "gpuType": "T4",
      "provenance": []
    },
    "kernelspec": {
      "display_name": "Python 3",
      "name": "python3"
    },
    "language_info": {
      "codemirror_mode": {
        "name": "ipython",
        "version": 3
      },
      "file_extension": ".py",
      "mimetype": "text/x-python",
      "name": "python",
      "nbconvert_exporter": "python",
      "pygments_lexer": "ipython3",
      "version": "3.10.12"
    }
  },
  "nbformat": 4,
  "nbformat_minor": 0
}