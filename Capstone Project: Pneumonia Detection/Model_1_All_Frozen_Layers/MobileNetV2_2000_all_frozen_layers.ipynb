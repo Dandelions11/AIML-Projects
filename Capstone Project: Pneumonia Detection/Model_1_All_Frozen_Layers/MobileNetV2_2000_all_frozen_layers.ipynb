{
  "cells": [
    {
      "cell_type": "markdown",
      "source": [
        "##                                                     MODEL 1: ALL LAYERS FROZEN"
      ],
      "metadata": {
        "id": "Pt1_3BnGuYrS"
      }
    },
    {
      "cell_type": "markdown",
      "source": [
        "**1. Importing necessary libraries**"
      ],
      "metadata": {
        "id": "cTxpI-xmubc8"
      }
    },
    {
      "cell_type": "code",
      "execution_count": null,
      "metadata": {
        "colab": {
          "base_uri": "https://localhost:8080/"
        },
        "id": "R9vSxovP31w7",
        "outputId": "2834cf5a-2c83-476f-f81a-462dac846a87"
      },
      "outputs": [
        {
          "name": "stdout",
          "output_type": "stream",
          "text": [
            "Collecting pydicom\n",
            "  Downloading pydicom-2.4.3-py3-none-any.whl (1.8 MB)\n",
            "\u001b[2K     \u001b[90m━━━━━━━━━━━━━━━━━━━━━━━━━━━━━━━━━━━━━━━━\u001b[0m \u001b[32m1.8/1.8 MB\u001b[0m \u001b[31m12.4 MB/s\u001b[0m eta \u001b[36m0:00:00\u001b[0m\n",
            "\u001b[?25hInstalling collected packages: pydicom\n",
            "Successfully installed pydicom-2.4.3\n"
          ]
        }
      ],
      "source": [
        "!pip install pydicom"
      ]
    },
    {
      "cell_type": "code",
      "execution_count": null,
      "metadata": {
        "execution": {
          "iopub.execute_input": "2023-10-09T12:22:39.437565Z",
          "iopub.status.busy": "2023-10-09T12:22:39.436308Z",
          "iopub.status.idle": "2023-10-09T12:22:47.486267Z",
          "shell.execute_reply": "2023-10-09T12:22:47.485198Z",
          "shell.execute_reply.started": "2023-10-09T12:22:39.437518Z"
        },
        "id": "aXVFaMkN3wr7",
        "trusted": true
      },
      "outputs": [],
      "source": [
        "import random\n",
        "import numpy as np\n",
        "import pandas as pd\n",
        "import matplotlib.pyplot as plt\n",
        "\n",
        "from pathlib import Path\n",
        "import pydicom\n",
        "import os\n",
        "import cv2\n",
        "import tensorflow as tf\n",
        "from sklearn.model_selection import train_test_split\n",
        "from sklearn.metrics import classification_report\n",
        "from tensorflow.keras.layers import Dense, Activation, Flatten, Dropout, GlobalAveragePooling2D, BatchNormalization\n",
        "from tensorflow.keras.models import Model, Sequential\n",
        "from tensorflow.keras import layers\n",
        "from tensorflow.keras.optimizers import Adam\n",
        "from tensorflow.keras import losses, optimizers\n",
        "from tensorflow.keras import regularizers\n",
        "from tensorflow.keras.regularizers import l2\n",
        "from keras import backend as K\n",
        "from tensorflow.keras.callbacks import Callback, EarlyStopping, ModelCheckpoint, ReduceLROnPlateau\n",
        "from sklearn.metrics import make_scorer, accuracy_score\n",
        "from tensorflow.keras.applications import DenseNet121, MobileNetV2, ResNet152V2, Xception"
      ]
    },
    {
      "cell_type": "code",
      "execution_count": null,
      "metadata": {
        "colab": {
          "base_uri": "https://localhost:8080/"
        },
        "execution": {
          "iopub.execute_input": "2023-10-09T12:22:47.493105Z",
          "iopub.status.busy": "2023-10-09T12:22:47.490629Z",
          "iopub.status.idle": "2023-10-09T12:22:47.573626Z",
          "shell.execute_reply": "2023-10-09T12:22:47.572705Z",
          "shell.execute_reply.started": "2023-10-09T12:22:47.493070Z"
        },
        "id": "La5w86Hp3wr7",
        "outputId": "424cbc00-1a20-4d8a-d16f-3caf5605e533",
        "trusted": true
      },
      "outputs": [
        {
          "name": "stdout",
          "output_type": "stream",
          "text": [
            "Mounted at /content/drive\n"
          ]
        }
      ],
      "source": [
        "# mounting the google drive\n",
        "\n",
        "from google.colab import drive\n",
        "drive.mount('/content/drive')"
      ]
    },
    {
      "cell_type": "markdown",
      "source": [
        "**2. Extracting the files from stage_2_dataset.zip file**"
      ],
      "metadata": {
        "id": "hKkG0-lOufcg"
      }
    },
    {
      "cell_type": "code",
      "execution_count": null,
      "metadata": {
        "id": "9jiuDoPL38gr"
      },
      "outputs": [],
      "source": [
        "path = \"/content/drive/MyDrive/stage_2_dataset.zip\""
      ]
    },
    {
      "cell_type": "code",
      "execution_count": null,
      "metadata": {
        "id": "RpwDfp3238jx"
      },
      "outputs": [],
      "source": [
        "from zipfile import ZipFile\n",
        "with ZipFile(path,'r') as zip:\n",
        "  zip.extractall()"
      ]
    },
    {
      "cell_type": "code",
      "execution_count": null,
      "metadata": {
        "colab": {
          "base_uri": "https://localhost:8080/"
        },
        "id": "oKc3lILR38nM",
        "outputId": "77f6ce01-d2bb-44bd-b7c3-797d8a30c810"
      },
      "outputs": [
        {
          "name": "stdout",
          "output_type": "stream",
          "text": [
            "Extraction complete.\n"
          ]
        }
      ],
      "source": [
        "from zipfile import ZipFile\n",
        "import os\n",
        "\n",
        "# Path to the zip file\n",
        "train_images_path = '/content/drive/MyDrive/stage_2_train_images.zip'\n",
        "\n",
        "# Directory where you want to create the folder and extract the images\n",
        "extraction_folder = '/content/stage_2_train_images'\n",
        "\n",
        "# Create the extraction folder if it doesn't exist\n",
        "os.makedirs(extraction_folder, exist_ok=True)\n",
        "\n",
        "# Open the zip file\n",
        "with ZipFile(train_images_path, 'r') as zip_ref:\n",
        "    # Extract all images to the extraction folder\n",
        "    zip_ref.extractall(extraction_folder)\n",
        "\n",
        "print(\"Extraction complete.\")"
      ]
    },
    {
      "cell_type": "code",
      "execution_count": null,
      "metadata": {
        "id": "loqpqEgy38qS"
      },
      "outputs": [],
      "source": [
        "class_info_df = pd.read_csv('/content/Copy of stage_2_detailed_class_info.csv')"
      ]
    },
    {
      "cell_type": "code",
      "execution_count": null,
      "metadata": {
        "colab": {
          "base_uri": "https://localhost:8080/"
        },
        "execution": {
          "iopub.execute_input": "2023-10-09T12:22:47.579898Z",
          "iopub.status.busy": "2023-10-09T12:22:47.578890Z",
          "iopub.status.idle": "2023-10-09T12:22:47.591379Z",
          "shell.execute_reply": "2023-10-09T12:22:47.589834Z",
          "shell.execute_reply.started": "2023-10-09T12:22:47.579865Z"
        },
        "id": "fRU4rZ9s3wr7",
        "outputId": "7aea7459-40fb-4514-c6d8-1f87e00327ba",
        "trusted": true
      },
      "outputs": [
        {
          "data": {
            "text/plain": [
              "(30227, 2)"
            ]
          },
          "execution_count": 9,
          "metadata": {},
          "output_type": "execute_result"
        }
      ],
      "source": [
        "class_info_df.shape"
      ]
    },
    {
      "cell_type": "markdown",
      "source": [
        "**3. Removing duplicate entries from the dataframe**"
      ],
      "metadata": {
        "id": "V7Fd9Tc9ukDs"
      }
    },
    {
      "cell_type": "code",
      "execution_count": null,
      "metadata": {
        "execution": {
          "iopub.execute_input": "2023-10-09T12:22:47.595350Z",
          "iopub.status.busy": "2023-10-09T12:22:47.593914Z",
          "iopub.status.idle": "2023-10-09T12:22:47.604083Z",
          "shell.execute_reply": "2023-10-09T12:22:47.603191Z",
          "shell.execute_reply.started": "2023-10-09T12:22:47.595320Z"
        },
        "id": "wwJy65Zx3wr8",
        "trusted": true
      },
      "outputs": [],
      "source": [
        "df = class_info_df.copy()"
      ]
    },
    {
      "cell_type": "code",
      "execution_count": null,
      "metadata": {
        "execution": {
          "iopub.execute_input": "2023-10-09T12:22:47.606383Z",
          "iopub.status.busy": "2023-10-09T12:22:47.605702Z",
          "iopub.status.idle": "2023-10-09T12:22:47.649152Z",
          "shell.execute_reply": "2023-10-09T12:22:47.648328Z",
          "shell.execute_reply.started": "2023-10-09T12:22:47.606354Z"
        },
        "id": "dcvqILNr3wr8",
        "trusted": true
      },
      "outputs": [],
      "source": [
        "df.drop_duplicates(inplace = True)"
      ]
    },
    {
      "cell_type": "code",
      "execution_count": null,
      "metadata": {
        "colab": {
          "base_uri": "https://localhost:8080/"
        },
        "execution": {
          "iopub.execute_input": "2023-10-09T12:22:47.651176Z",
          "iopub.status.busy": "2023-10-09T12:22:47.650552Z",
          "iopub.status.idle": "2023-10-09T12:22:47.667951Z",
          "shell.execute_reply": "2023-10-09T12:22:47.667159Z",
          "shell.execute_reply.started": "2023-10-09T12:22:47.651146Z"
        },
        "id": "H5nBdJJ03wr8",
        "outputId": "0e05e493-e483-4f8f-e015-6eb6a5486069",
        "trusted": true
      },
      "outputs": [
        {
          "data": {
            "text/plain": [
              "0"
            ]
          },
          "execution_count": 12,
          "metadata": {},
          "output_type": "execute_result"
        }
      ],
      "source": [
        "df.duplicated().sum()"
      ]
    },
    {
      "cell_type": "code",
      "execution_count": null,
      "metadata": {
        "colab": {
          "base_uri": "https://localhost:8080/",
          "height": 466
        },
        "execution": {
          "iopub.execute_input": "2023-10-09T12:22:47.669390Z",
          "iopub.status.busy": "2023-10-09T12:22:47.668929Z",
          "iopub.status.idle": "2023-10-09T12:22:48.273174Z",
          "shell.execute_reply": "2023-10-09T12:22:48.272340Z",
          "shell.execute_reply.started": "2023-10-09T12:22:47.669361Z"
        },
        "id": "8wFJ48Gl3wr9",
        "outputId": "4ac0e04e-1518-42d8-be42-fb32689376a1",
        "trusted": true
      },
      "outputs": [
        {
          "data": {
            "text/plain": [
              "<Axes: xlabel='class', ylabel='count'>"
            ]
          },
          "execution_count": 13,
          "metadata": {},
          "output_type": "execute_result"
        },
        {
          "data": {
            "image/png": "[encoded data removed]",
            "text/plain": [
              "<Figure size 640x480 with 1 Axes>"
            ]
          },
          "metadata": {},
          "output_type": "display_data"
        }
      ],
      "source": [
        "import seaborn as sns\n",
        "sns.countplot(data = df, x = 'class')"
      ]
    },
    {
      "cell_type": "code",
      "execution_count": null,
      "metadata": {
        "execution": {
          "iopub.execute_input": "2023-10-09T12:22:48.296835Z",
          "iopub.status.busy": "2023-10-09T12:22:48.296069Z",
          "iopub.status.idle": "2023-10-09T12:22:48.323198Z",
          "shell.execute_reply": "2023-10-09T12:22:48.322419Z",
          "shell.execute_reply.started": "2023-10-09T12:22:48.296804Z"
        },
        "id": "h1exY5-h3wr-",
        "trusted": true
      },
      "outputs": [],
      "source": [
        "\n",
        "import pandas as pd\n",
        "import os\n",
        "\n",
        "# Path to the directory containing DICOM images\n",
        "image_folder = '/content/stage_2_train_images'\n",
        "\n",
        "\n",
        "# Convert 'patientId' column to string explicitly\n",
        "df['patientId'] = df['patientId'].astype(str)\n",
        "\n",
        "# Create a new column 'image_path' by concatenating the folder path and 'patientId'\n",
        "df['image_path'] = image_folder + os.path.sep + df['patientId'] + '.dcm'\n",
        "\n",
        "\n",
        "# Save the updated DataFrame back to the CSV file\n",
        "#df.to_csv(csv_file, index=False)\n",
        "\n"
      ]
    },
    {
      "cell_type": "code",
      "execution_count": null,
      "metadata": {
        "colab": {
          "base_uri": "https://localhost:8080/",
          "height": 206
        },
        "execution": {
          "iopub.execute_input": "2023-10-09T12:22:48.329076Z",
          "iopub.status.busy": "2023-10-09T12:22:48.327094Z",
          "iopub.status.idle": "2023-10-09T12:22:48.346588Z",
          "shell.execute_reply": "2023-10-09T12:22:48.345801Z",
          "shell.execute_reply.started": "2023-10-09T12:22:48.329045Z"
        },
        "id": "X2Lu35s73wr_",
        "outputId": "56c72c33-9856-4a1b-f4d0-97aaf9195af7",
        "trusted": true
      },
      "outputs": [
        {
          "data": {
            "text/html": [
              "\n",
              "  <div id=\"df-ca479d8d-3e54-4414-ac76-6a30ef0bf3c7\" class=\"colab-df-container\">\n",
              "    <div>\n",
              "<style scoped>\n",
              "    .dataframe tbody tr th:only-of-type {\n",
              "        vertical-align: middle;\n",
              "    }\n",
              "\n",
              "    .dataframe tbody tr th {\n",
              "        vertical-align: top;\n",
              "    }\n",
              "\n",
              "    .dataframe thead th {\n",
              "        text-align: right;\n",
              "    }\n",
              "</style>\n",
              "<table border=\"1\" class=\"dataframe\">\n",
              "  <thead>\n",
              "    <tr style=\"text-align: right;\">\n",
              "      <th></th>\n",
              "      <th>patientId</th>\n",
              "      <th>class</th>\n",
              "      <th>image_path</th>\n",
              "    </tr>\n",
              "  </thead>\n",
              "  <tbody>\n",
              "    <tr>\n",
              "      <th>0</th>\n",
              "      <td>0004cfab-14fd-4e49-80ba-63a80b6bddd6</td>\n",
              "      <td>No Lung Opacity / Not Normal</td>\n",
              "      <td>/content/stage_2_train_images/0004cfab-14fd-4e...</td>\n",
              "    </tr>\n",
              "    <tr>\n",
              "      <th>1</th>\n",
              "      <td>00313ee0-9eaa-42f4-b0ab-c148ed3241cd</td>\n",
              "      <td>No Lung Opacity / Not Normal</td>\n",
              "      <td>/content/stage_2_train_images/00313ee0-9eaa-42...</td>\n",
              "    </tr>\n",
              "    <tr>\n",
              "      <th>2</th>\n",
              "      <td>00322d4d-1c29-4943-afc9-b6754be640eb</td>\n",
              "      <td>No Lung Opacity / Not Normal</td>\n",
              "      <td>/content/stage_2_train_images/00322d4d-1c29-49...</td>\n",
              "    </tr>\n",
              "    <tr>\n",
              "      <th>3</th>\n",
              "      <td>003d8fa0-6bf1-40ed-b54c-ac657f8495c5</td>\n",
              "      <td>Normal</td>\n",
              "      <td>/content/stage_2_train_images/003d8fa0-6bf1-40...</td>\n",
              "    </tr>\n",
              "    <tr>\n",
              "      <th>4</th>\n",
              "      <td>00436515-870c-4b36-a041-de91049b9ab4</td>\n",
              "      <td>Lung Opacity</td>\n",
              "      <td>/content/stage_2_train_images/00436515-870c-4b...</td>\n",
              "    </tr>\n",
              "  </tbody>\n",
              "</table>\n",
              "</div>\n",
              "    <div class=\"colab-df-buttons\">\n",
              "\n",
              "  <div class=\"colab-df-container\">\n",
              "    <button class=\"colab-df-convert\" onclick=\"convertToInteractive('df-ca479d8d-3e54-4414-ac76-6a30ef0bf3c7')\"\n",
              "            title=\"Convert this dataframe to an interactive table.\"\n",
              "            style=\"display:none;\">\n",
              "\n",
              "  <svg xmlns=\"http://www.w3.org/2000/svg\" height=\"24px\" viewBox=\"0 -960 960 960\">\n",
              "    <path d=\"M120-120v-720h720v720H120Zm60-500h600v-160H180v160Zm220 220h160v-160H400v160Zm0 220h160v-160H400v160ZM180-400h160v-160H180v160Zm440 0h160v-160H620v160ZM180-180h160v-160H180v160Zm440 0h160v-160H620v160Z\"/>\n",
              "  </svg>\n",
              "    </button>\n",
              "\n",
              "  <style>\n",
              "    .colab-df-container {\n",
              "      display:flex;\n",
              "      gap: 12px;\n",
              "    }\n",
              "\n",
              "    .colab-df-convert {\n",
              "      background-color: #E8F0FE;\n",
              "      border: none;\n",
              "      border-radius: 50%;\n",
              "      cursor: pointer;\n",
              "      display: none;\n",
              "      fill: #1967D2;\n",
              "      height: 32px;\n",
              "      padding: 0 0 0 0;\n",
              "      width: 32px;\n",
              "    }\n",
              "\n",
              "    .colab-df-convert:hover {\n",
              "      background-color: #E2EBFA;\n",
              "      box-shadow: 0px 1px 2px rgba(60, 64, 67, 0.3), 0px 1px 3px 1px rgba(60, 64, 67, 0.15);\n",
              "      fill: #174EA6;\n",
              "    }\n",
              "\n",
              "    .colab-df-buttons div {\n",
              "      margin-bottom: 4px;\n",
              "    }\n",
              "\n",
              "    [theme=dark] .colab-df-convert {\n",
              "      background-color: #3B4455;\n",
              "      fill: #D2E3FC;\n",
              "    }\n",
              "\n",
              "    [theme=dark] .colab-df-convert:hover {\n",
              "      background-color: #434B5C;\n",
              "      box-shadow: 0px 1px 3px 1px rgba(0, 0, 0, 0.15);\n",
              "      filter: drop-shadow(0px 1px 2px rgba(0, 0, 0, 0.3));\n",
              "      fill: #FFFFFF;\n",
              "    }\n",
              "  </style>\n",
              "\n",
              "    <script>\n",
              "      const buttonEl =\n",
              "        document.querySelector('#df-ca479d8d-3e54-4414-ac76-6a30ef0bf3c7 button.colab-df-convert');\n",
              "      buttonEl.style.display =\n",
              "        google.colab.kernel.accessAllowed ? 'block' : 'none';\n",
              "\n",
              "      async function convertToInteractive(key) {\n",
              "        const element = document.querySelector('#df-ca479d8d-3e54-4414-ac76-6a30ef0bf3c7');\n",
              "        const dataTable =\n",
              "          await google.colab.kernel.invokeFunction('convertToInteractive',\n",
              "                                                    [key], {});\n",
              "        if (!dataTable) return;\n",
              "\n",
              "        const docLinkHtml = 'Like what you see? Visit the ' +\n",
              "          '<a target=\"_blank\" href=https://colab.research.google.com/notebooks/data_table.ipynb>data table notebook</a>'\n",
              "          + ' to learn more about interactive tables.';\n",
              "        element.innerHTML = '';\n",
              "        dataTable['output_type'] = 'display_data';\n",
              "        await google.colab.output.renderOutput(dataTable, element);\n",
              "        const docLink = document.createElement('div');\n",
              "        docLink.innerHTML = docLinkHtml;\n",
              "        element.appendChild(docLink);\n",
              "      }\n",
              "    </script>\n",
              "  </div>\n",
              "\n",
              "\n",
              "<div id=\"df-d4934a66-97ef-4477-b199-d490b82458b8\">\n",
              "  <button class=\"colab-df-quickchart\" onclick=\"quickchart('df-d4934a66-97ef-4477-b199-d490b82458b8')\"\n",
              "            title=\"Suggest charts.\"\n",
              "            style=\"display:none;\">\n",
              "\n",
              "<svg xmlns=\"http://www.w3.org/2000/svg\" height=\"24px\"viewBox=\"0 0 24 24\"\n",
              "     width=\"24px\">\n",
              "    <g>\n",
              "        <path d=\"M19 3H5c-1.1 0-2 .9-2 2v14c0 1.1.9 2 2 2h14c1.1 0 2-.9 2-2V5c0-1.1-.9-2-2-2zM9 17H7v-7h2v7zm4 0h-2V7h2v10zm4 0h-2v-4h2v4z\"/>\n",
              "    </g>\n",
              "</svg>\n",
              "  </button>\n",
              "\n",
              "<style>\n",
              "  .colab-df-quickchart {\n",
              "      --bg-color: #E8F0FE;\n",
              "      --fill-color: #1967D2;\n",
              "      --hover-bg-color: #E2EBFA;\n",
              "      --hover-fill-color: #174EA6;\n",
              "      --disabled-fill-color: #AAA;\n",
              "      --disabled-bg-color: #DDD;\n",
              "  }\n",
              "\n",
              "  [theme=dark] .colab-df-quickchart {\n",
              "      --bg-color: #3B4455;\n",
              "      --fill-color: #D2E3FC;\n",
              "      --hover-bg-color: #434B5C;\n",
              "      --hover-fill-color: #FFFFFF;\n",
              "      --disabled-bg-color: #3B4455;\n",
              "      --disabled-fill-color: #666;\n",
              "  }\n",
              "\n",
              "  .colab-df-quickchart {\n",
              "    background-color: var(--bg-color);\n",
              "    border: none;\n",
              "    border-radius: 50%;\n",
              "    cursor: pointer;\n",
              "    display: none;\n",
              "    fill: var(--fill-color);\n",
              "    height: 32px;\n",
              "    padding: 0;\n",
              "    width: 32px;\n",
              "  }\n",
              "\n",
              "  .colab-df-quickchart:hover {\n",
              "    background-color: var(--hover-bg-color);\n",
              "    box-shadow: 0 1px 2px rgba(60, 64, 67, 0.3), 0 1px 3px 1px rgba(60, 64, 67, 0.15);\n",
              "    fill: var(--button-hover-fill-color);\n",
              "  }\n",
              "\n",
              "  .colab-df-quickchart-complete:disabled,\n",
              "  .colab-df-quickchart-complete:disabled:hover {\n",
              "    background-color: var(--disabled-bg-color);\n",
              "    fill: var(--disabled-fill-color);\n",
              "    box-shadow: none;\n",
              "  }\n",
              "\n",
              "  .colab-df-spinner {\n",
              "    border: 2px solid var(--fill-color);\n",
              "    border-color: transparent;\n",
              "    border-bottom-color: var(--fill-color);\n",
              "    animation:\n",
              "      spin 1s steps(1) infinite;\n",
              "  }\n",
              "\n",
              "  @keyframes spin {\n",
              "    0% {\n",
              "      border-color: transparent;\n",
              "      border-bottom-color: var(--fill-color);\n",
              "      border-left-color: var(--fill-color);\n",
              "    }\n",
              "    20% {\n",
              "      border-color: transparent;\n",
              "      border-left-color: var(--fill-color);\n",
              "      border-top-color: var(--fill-color);\n",
              "    }\n",
              "    30% {\n",
              "      border-color: transparent;\n",
              "      border-left-color: var(--fill-color);\n",
              "      border-top-color: var(--fill-color);\n",
              "      border-right-color: var(--fill-color);\n",
              "    }\n",
              "    40% {\n",
              "      border-color: transparent;\n",
              "      border-right-color: var(--fill-color);\n",
              "      border-top-color: var(--fill-color);\n",
              "    }\n",
              "    60% {\n",
              "      border-color: transparent;\n",
              "      border-right-color: var(--fill-color);\n",
              "    }\n",
              "    80% {\n",
              "      border-color: transparent;\n",
              "      border-right-color: var(--fill-color);\n",
              "      border-bottom-color: var(--fill-color);\n",
              "    }\n",
              "    90% {\n",
              "      border-color: transparent;\n",
              "      border-bottom-color: var(--fill-color);\n",
              "    }\n",
              "  }\n",
              "</style>\n",
              "\n",
              "  <script>\n",
              "    async function quickchart(key) {\n",
              "      const quickchartButtonEl =\n",
              "        document.querySelector('#' + key + ' button');\n",
              "      quickchartButtonEl.disabled = true;  // To prevent multiple clicks.\n",
              "      quickchartButtonEl.classList.add('colab-df-spinner');\n",
              "      try {\n",
              "        const charts = await google.colab.kernel.invokeFunction(\n",
              "            'suggestCharts', [key], {});\n",
              "      } catch (error) {\n",
              "        console.error('Error during call to suggestCharts:', error);\n",
              "      }\n",
              "      quickchartButtonEl.classList.remove('colab-df-spinner');\n",
              "      quickchartButtonEl.classList.add('colab-df-quickchart-complete');\n",
              "    }\n",
              "    (() => {\n",
              "      let quickchartButtonEl =\n",
              "        document.querySelector('#df-d4934a66-97ef-4477-b199-d490b82458b8 button');\n",
              "      quickchartButtonEl.style.display =\n",
              "        google.colab.kernel.accessAllowed ? 'block' : 'none';\n",
              "    })();\n",
              "  </script>\n",
              "</div>\n",
              "    </div>\n",
              "  </div>\n"
            ],
            "text/plain": [
              "                              patientId                         class  \\\n",
              "0  0004cfab-14fd-4e49-80ba-63a80b6bddd6  No Lung Opacity / Not Normal   \n",
              "1  00313ee0-9eaa-42f4-b0ab-c148ed3241cd  No Lung Opacity / Not Normal   \n",
              "2  00322d4d-1c29-4943-afc9-b6754be640eb  No Lung Opacity / Not Normal   \n",
              "3  003d8fa0-6bf1-40ed-b54c-ac657f8495c5                        Normal   \n",
              "4  00436515-870c-4b36-a041-de91049b9ab4                  Lung Opacity   \n",
              "\n",
              "                                          image_path  \n",
              "0  /content/stage_2_train_images/0004cfab-14fd-4e...  \n",
              "1  /content/stage_2_train_images/00313ee0-9eaa-42...  \n",
              "2  /content/stage_2_train_images/00322d4d-1c29-49...  \n",
              "3  /content/stage_2_train_images/003d8fa0-6bf1-40...  \n",
              "4  /content/stage_2_train_images/00436515-870c-4b...  "
            ]
          },
          "execution_count": 16,
          "metadata": {},
          "output_type": "execute_result"
        }
      ],
      "source": [
        "df.head()"
      ]
    },
    {
      "cell_type": "markdown",
      "source": [
        "**4. Selecting only 2000 rows out of the whole dataframe**"
      ],
      "metadata": {
        "id": "QG6nIXg2uqVY"
      }
    },
    {
      "cell_type": "code",
      "execution_count": null,
      "metadata": {
        "execution": {
          "iopub.execute_input": "2023-10-09T12:22:48.382827Z",
          "iopub.status.busy": "2023-10-09T12:22:48.382159Z",
          "iopub.status.idle": "2023-10-09T12:22:48.429382Z",
          "shell.execute_reply": "2023-10-09T12:22:48.428635Z",
          "shell.execute_reply.started": "2023-10-09T12:22:48.382778Z"
        },
        "id": "WSrU_LSh3wsA",
        "trusted": true
      },
      "outputs": [],
      "source": [
        "import pandas as pd\n",
        "import random\n",
        "\n",
        "# Create three separate DataFrames based on 'class' values\n",
        "df_normal = df[df['class'] == 'Normal']\n",
        "df_lung_opacity = df[df['class'] == 'Lung Opacity']\n",
        "df_not_normal = df[df['class'] == 'No Lung Opacity / Not Normal']\n",
        "\n",
        "\n",
        "# Define the number of entries you want to select for each class\n",
        "num_lung_opacity = 1000\n",
        "num_normal = 500\n",
        "num_not_normal = 500\n",
        "\n",
        "# Randomly select entries for each class\n",
        "selected_normal = df_normal.sample(n=num_normal, random_state=42)\n",
        "selected_lung_opacity = df_lung_opacity.sample(n=num_lung_opacity, random_state=42)\n",
        "selected_not_normal = df_not_normal.sample(n=num_not_normal, random_state=42)\n",
        "\n",
        "# Concatenate the selected DataFrames to create the final DataFrame\n",
        "final_df = pd.concat([selected_normal, selected_lung_opacity, selected_not_normal])\n",
        "\n",
        "# Shuffle the final DataFrame to randomize the order\n",
        "final_df = final_df.sample(frac=1, random_state=42)\n",
        "\n",
        "# Extract 'image_path' entries corresponding to the selected rows\n",
        "selected_image_paths = final_df['image_path'].tolist()\n",
        "\n",
        "# Create a new DataFrame that includes both selected rows and 'image_path' entries\n",
        "filtered_df = df[df['image_path'].isin(selected_image_paths)]\n",
        "filtered_df = filtered_df.reset_index(drop=True)\n",
        "# Now 'selected_df_with_images' contains the selected rows and their corresponding 'image_path' entries\n"
      ]
    },
    {
      "cell_type": "code",
      "execution_count": null,
      "metadata": {
        "colab": {
          "base_uri": "https://localhost:8080/",
          "height": 206
        },
        "execution": {
          "iopub.execute_input": "2023-10-09T12:22:48.435307Z",
          "iopub.status.busy": "2023-10-09T12:22:48.433233Z",
          "iopub.status.idle": "2023-10-09T12:22:48.449572Z",
          "shell.execute_reply": "2023-10-09T12:22:48.448559Z",
          "shell.execute_reply.started": "2023-10-09T12:22:48.435277Z"
        },
        "id": "89HrNDBw3wsA",
        "outputId": "93865dd1-3176-4e59-9d00-8a92c647d82c",
        "trusted": true
      },
      "outputs": [
        {
          "data": {
            "text/html": [
              "\n",
              "  <div id=\"df-249052d6-86be-40d3-912a-66bf3bc2258e\" class=\"colab-df-container\">\n",
              "    <div>\n",
              "<style scoped>\n",
              "    .dataframe tbody tr th:only-of-type {\n",
              "        vertical-align: middle;\n",
              "    }\n",
              "\n",
              "    .dataframe tbody tr th {\n",
              "        vertical-align: top;\n",
              "    }\n",
              "\n",
              "    .dataframe thead th {\n",
              "        text-align: right;\n",
              "    }\n",
              "</style>\n",
              "<table border=\"1\" class=\"dataframe\">\n",
              "  <thead>\n",
              "    <tr style=\"text-align: right;\">\n",
              "      <th></th>\n",
              "      <th>patientId</th>\n",
              "      <th>class</th>\n",
              "      <th>image_path</th>\n",
              "    </tr>\n",
              "  </thead>\n",
              "  <tbody>\n",
              "    <tr>\n",
              "      <th>0</th>\n",
              "      <td>0174c4bb-28f5-41e3-a13f-a396badc18bd</td>\n",
              "      <td>Lung Opacity</td>\n",
              "      <td>/content/stage_2_train_images/0174c4bb-28f5-41...</td>\n",
              "    </tr>\n",
              "    <tr>\n",
              "      <th>1</th>\n",
              "      <td>01be392f-a46d-4aef-a57e-9cd1a80dd47e</td>\n",
              "      <td>Lung Opacity</td>\n",
              "      <td>/content/stage_2_train_images/01be392f-a46d-4a...</td>\n",
              "    </tr>\n",
              "    <tr>\n",
              "      <th>2</th>\n",
              "      <td>01c09fb1-a917-46ee-8d94-44f844a4eb85</td>\n",
              "      <td>No Lung Opacity / Not Normal</td>\n",
              "      <td>/content/stage_2_train_images/01c09fb1-a917-46...</td>\n",
              "    </tr>\n",
              "    <tr>\n",
              "      <th>3</th>\n",
              "      <td>01cad8d0-45cd-4603-b099-94055d322310</td>\n",
              "      <td>Lung Opacity</td>\n",
              "      <td>/content/stage_2_train_images/01cad8d0-45cd-46...</td>\n",
              "    </tr>\n",
              "    <tr>\n",
              "      <th>4</th>\n",
              "      <td>01d4fa0f-97a0-4522-b0d8-134400db2a3e</td>\n",
              "      <td>Lung Opacity</td>\n",
              "      <td>/content/stage_2_train_images/01d4fa0f-97a0-45...</td>\n",
              "    </tr>\n",
              "  </tbody>\n",
              "</table>\n",
              "</div>\n",
              "    <div class=\"colab-df-buttons\">\n",
              "\n",
              "  <div class=\"colab-df-container\">\n",
              "    <button class=\"colab-df-convert\" onclick=\"convertToInteractive('df-249052d6-86be-40d3-912a-66bf3bc2258e')\"\n",
              "            title=\"Convert this dataframe to an interactive table.\"\n",
              "            style=\"display:none;\">\n",
              "\n",
              "  <svg xmlns=\"http://www.w3.org/2000/svg\" height=\"24px\" viewBox=\"0 -960 960 960\">\n",
              "    <path d=\"M120-120v-720h720v720H120Zm60-500h600v-160H180v160Zm220 220h160v-160H400v160Zm0 220h160v-160H400v160ZM180-400h160v-160H180v160Zm440 0h160v-160H620v160ZM180-180h160v-160H180v160Zm440 0h160v-160H620v160Z\"/>\n",
              "  </svg>\n",
              "    </button>\n",
              "\n",
              "  <style>\n",
              "    .colab-df-container {\n",
              "      display:flex;\n",
              "      gap: 12px;\n",
              "    }\n",
              "\n",
              "    .colab-df-convert {\n",
              "      background-color: #E8F0FE;\n",
              "      border: none;\n",
              "      border-radius: 50%;\n",
              "      cursor: pointer;\n",
              "      display: none;\n",
              "      fill: #1967D2;\n",
              "      height: 32px;\n",
              "      padding: 0 0 0 0;\n",
              "      width: 32px;\n",
              "    }\n",
              "\n",
              "    .colab-df-convert:hover {\n",
              "      background-color: #E2EBFA;\n",
              "      box-shadow: 0px 1px 2px rgba(60, 64, 67, 0.3), 0px 1px 3px 1px rgba(60, 64, 67, 0.15);\n",
              "      fill: #174EA6;\n",
              "    }\n",
              "\n",
              "    .colab-df-buttons div {\n",
              "      margin-bottom: 4px;\n",
              "    }\n",
              "\n",
              "    [theme=dark] .colab-df-convert {\n",
              "      background-color: #3B4455;\n",
              "      fill: #D2E3FC;\n",
              "    }\n",
              "\n",
              "    [theme=dark] .colab-df-convert:hover {\n",
              "      background-color: #434B5C;\n",
              "      box-shadow: 0px 1px 3px 1px rgba(0, 0, 0, 0.15);\n",
              "      filter: drop-shadow(0px 1px 2px rgba(0, 0, 0, 0.3));\n",
              "      fill: #FFFFFF;\n",
              "    }\n",
              "  </style>\n",
              "\n",
              "    <script>\n",
              "      const buttonEl =\n",
              "        document.querySelector('#df-249052d6-86be-40d3-912a-66bf3bc2258e button.colab-df-convert');\n",
              "      buttonEl.style.display =\n",
              "        google.colab.kernel.accessAllowed ? 'block' : 'none';\n",
              "\n",
              "      async function convertToInteractive(key) {\n",
              "        const element = document.querySelector('#df-249052d6-86be-40d3-912a-66bf3bc2258e');\n",
              "        const dataTable =\n",
              "          await google.colab.kernel.invokeFunction('convertToInteractive',\n",
              "                                                    [key], {});\n",
              "        if (!dataTable) return;\n",
              "\n",
              "        const docLinkHtml = 'Like what you see? Visit the ' +\n",
              "          '<a target=\"_blank\" href=https://colab.research.google.com/notebooks/data_table.ipynb>data table notebook</a>'\n",
              "          + ' to learn more about interactive tables.';\n",
              "        element.innerHTML = '';\n",
              "        dataTable['output_type'] = 'display_data';\n",
              "        await google.colab.output.renderOutput(dataTable, element);\n",
              "        const docLink = document.createElement('div');\n",
              "        docLink.innerHTML = docLinkHtml;\n",
              "        element.appendChild(docLink);\n",
              "      }\n",
              "    </script>\n",
              "  </div>\n",
              "\n",
              "\n",
              "<div id=\"df-ecd505c2-e823-4cd1-a47a-082f0b8b8f9c\">\n",
              "  <button class=\"colab-df-quickchart\" onclick=\"quickchart('df-ecd505c2-e823-4cd1-a47a-082f0b8b8f9c')\"\n",
              "            title=\"Suggest charts.\"\n",
              "            style=\"display:none;\">\n",
              "\n",
              "<svg xmlns=\"http://www.w3.org/2000/svg\" height=\"24px\"viewBox=\"0 0 24 24\"\n",
              "     width=\"24px\">\n",
              "    <g>\n",
              "        <path d=\"M19 3H5c-1.1 0-2 .9-2 2v14c0 1.1.9 2 2 2h14c1.1 0 2-.9 2-2V5c0-1.1-.9-2-2-2zM9 17H7v-7h2v7zm4 0h-2V7h2v10zm4 0h-2v-4h2v4z\"/>\n",
              "    </g>\n",
              "</svg>\n",
              "  </button>\n",
              "\n",
              "<style>\n",
              "  .colab-df-quickchart {\n",
              "      --bg-color: #E8F0FE;\n",
              "      --fill-color: #1967D2;\n",
              "      --hover-bg-color: #E2EBFA;\n",
              "      --hover-fill-color: #174EA6;\n",
              "      --disabled-fill-color: #AAA;\n",
              "      --disabled-bg-color: #DDD;\n",
              "  }\n",
              "\n",
              "  [theme=dark] .colab-df-quickchart {\n",
              "      --bg-color: #3B4455;\n",
              "      --fill-color: #D2E3FC;\n",
              "      --hover-bg-color: #434B5C;\n",
              "      --hover-fill-color: #FFFFFF;\n",
              "      --disabled-bg-color: #3B4455;\n",
              "      --disabled-fill-color: #666;\n",
              "  }\n",
              "\n",
              "  .colab-df-quickchart {\n",
              "    background-color: var(--bg-color);\n",
              "    border: none;\n",
              "    border-radius: 50%;\n",
              "    cursor: pointer;\n",
              "    display: none;\n",
              "    fill: var(--fill-color);\n",
              "    height: 32px;\n",
              "    padding: 0;\n",
              "    width: 32px;\n",
              "  }\n",
              "\n",
              "  .colab-df-quickchart:hover {\n",
              "    background-color: var(--hover-bg-color);\n",
              "    box-shadow: 0 1px 2px rgba(60, 64, 67, 0.3), 0 1px 3px 1px rgba(60, 64, 67, 0.15);\n",
              "    fill: var(--button-hover-fill-color);\n",
              "  }\n",
              "\n",
              "  .colab-df-quickchart-complete:disabled,\n",
              "  .colab-df-quickchart-complete:disabled:hover {\n",
              "    background-color: var(--disabled-bg-color);\n",
              "    fill: var(--disabled-fill-color);\n",
              "    box-shadow: none;\n",
              "  }\n",
              "\n",
              "  .colab-df-spinner {\n",
              "    border: 2px solid var(--fill-color);\n",
              "    border-color: transparent;\n",
              "    border-bottom-color: var(--fill-color);\n",
              "    animation:\n",
              "      spin 1s steps(1) infinite;\n",
              "  }\n",
              "\n",
              "  @keyframes spin {\n",
              "    0% {\n",
              "      border-color: transparent;\n",
              "      border-bottom-color: var(--fill-color);\n",
              "      border-left-color: var(--fill-color);\n",
              "    }\n",
              "    20% {\n",
              "      border-color: transparent;\n",
              "      border-left-color: var(--fill-color);\n",
              "      border-top-color: var(--fill-color);\n",
              "    }\n",
              "    30% {\n",
              "      border-color: transparent;\n",
              "      border-left-color: var(--fill-color);\n",
              "      border-top-color: var(--fill-color);\n",
              "      border-right-color: var(--fill-color);\n",
              "    }\n",
              "    40% {\n",
              "      border-color: transparent;\n",
              "      border-right-color: var(--fill-color);\n",
              "      border-top-color: var(--fill-color);\n",
              "    }\n",
              "    60% {\n",
              "      border-color: transparent;\n",
              "      border-right-color: var(--fill-color);\n",
              "    }\n",
              "    80% {\n",
              "      border-color: transparent;\n",
              "      border-right-color: var(--fill-color);\n",
              "      border-bottom-color: var(--fill-color);\n",
              "    }\n",
              "    90% {\n",
              "      border-color: transparent;\n",
              "      border-bottom-color: var(--fill-color);\n",
              "    }\n",
              "  }\n",
              "</style>\n",
              "\n",
              "  <script>\n",
              "    async function quickchart(key) {\n",
              "      const quickchartButtonEl =\n",
              "        document.querySelector('#' + key + ' button');\n",
              "      quickchartButtonEl.disabled = true;  // To prevent multiple clicks.\n",
              "      quickchartButtonEl.classList.add('colab-df-spinner');\n",
              "      try {\n",
              "        const charts = await google.colab.kernel.invokeFunction(\n",
              "            'suggestCharts', [key], {});\n",
              "      } catch (error) {\n",
              "        console.error('Error during call to suggestCharts:', error);\n",
              "      }\n",
              "      quickchartButtonEl.classList.remove('colab-df-spinner');\n",
              "      quickchartButtonEl.classList.add('colab-df-quickchart-complete');\n",
              "    }\n",
              "    (() => {\n",
              "      let quickchartButtonEl =\n",
              "        document.querySelector('#df-ecd505c2-e823-4cd1-a47a-082f0b8b8f9c button');\n",
              "      quickchartButtonEl.style.display =\n",
              "        google.colab.kernel.accessAllowed ? 'block' : 'none';\n",
              "    })();\n",
              "  </script>\n",
              "</div>\n",
              "    </div>\n",
              "  </div>\n"
            ],
            "text/plain": [
              "                              patientId                         class  \\\n",
              "0  0174c4bb-28f5-41e3-a13f-a396badc18bd                  Lung Opacity   \n",
              "1  01be392f-a46d-4aef-a57e-9cd1a80dd47e                  Lung Opacity   \n",
              "2  01c09fb1-a917-46ee-8d94-44f844a4eb85  No Lung Opacity / Not Normal   \n",
              "3  01cad8d0-45cd-4603-b099-94055d322310                  Lung Opacity   \n",
              "4  01d4fa0f-97a0-4522-b0d8-134400db2a3e                  Lung Opacity   \n",
              "\n",
              "                                          image_path  \n",
              "0  /content/stage_2_train_images/0174c4bb-28f5-41...  \n",
              "1  /content/stage_2_train_images/01be392f-a46d-4a...  \n",
              "2  /content/stage_2_train_images/01c09fb1-a917-46...  \n",
              "3  /content/stage_2_train_images/01cad8d0-45cd-46...  \n",
              "4  /content/stage_2_train_images/01d4fa0f-97a0-45...  "
            ]
          },
          "execution_count": 21,
          "metadata": {},
          "output_type": "execute_result"
        }
      ],
      "source": [
        "filtered_df.head()"
      ]
    },
    {
      "cell_type": "code",
      "execution_count": null,
      "metadata": {
        "colab": {
          "base_uri": "https://localhost:8080/"
        },
        "execution": {
          "iopub.execute_input": "2023-10-09T12:22:48.455263Z",
          "iopub.status.busy": "2023-10-09T12:22:48.453103Z",
          "iopub.status.idle": "2023-10-09T12:22:48.466879Z",
          "shell.execute_reply": "2023-10-09T12:22:48.466008Z",
          "shell.execute_reply.started": "2023-10-09T12:22:48.455233Z"
        },
        "id": "PHWzH-JR3wsA",
        "outputId": "8e7bfd6e-b37a-4eaa-92fd-a385118d58da",
        "trusted": true
      },
      "outputs": [
        {
          "data": {
            "text/plain": [
              "Lung Opacity                    1000\n",
              "No Lung Opacity / Not Normal     500\n",
              "Normal                           500\n",
              "Name: class, dtype: int64"
            ]
          },
          "execution_count": 22,
          "metadata": {},
          "output_type": "execute_result"
        }
      ],
      "source": [
        "filtered_df['class'].value_counts()"
      ]
    },
    {
      "cell_type": "markdown",
      "source": [
        "**5. Creating a new column 'label' containing 0 for 'Normal and No Lung Opacity/Not Normal' classes and 1 for 'Lung Opacity'.**"
      ],
      "metadata": {
        "id": "xu4xWuEqux-5"
      }
    },
    {
      "cell_type": "code",
      "execution_count": null,
      "metadata": {
        "colab": {
          "base_uri": "https://localhost:8080/",
          "height": 363
        },
        "execution": {
          "iopub.execute_input": "2023-10-09T12:22:48.498596Z",
          "iopub.status.busy": "2023-10-09T12:22:48.498023Z",
          "iopub.status.idle": "2023-10-09T12:22:48.520318Z",
          "shell.execute_reply": "2023-10-09T12:22:48.519561Z",
          "shell.execute_reply.started": "2023-10-09T12:22:48.498564Z"
        },
        "id": "Sg6BUuXQ3wsA",
        "outputId": "cd675f53-84a2-427b-c4c9-4e22d381c5e7",
        "trusted": true
      },
      "outputs": [
        {
          "data": {
            "text/html": [
              "\n",
              "  <div id=\"df-b376bc17-9194-4704-ae23-d4e239c40e14\" class=\"colab-df-container\">\n",
              "    <div>\n",
              "<style scoped>\n",
              "    .dataframe tbody tr th:only-of-type {\n",
              "        vertical-align: middle;\n",
              "    }\n",
              "\n",
              "    .dataframe tbody tr th {\n",
              "        vertical-align: top;\n",
              "    }\n",
              "\n",
              "    .dataframe thead th {\n",
              "        text-align: right;\n",
              "    }\n",
              "</style>\n",
              "<table border=\"1\" class=\"dataframe\">\n",
              "  <thead>\n",
              "    <tr style=\"text-align: right;\">\n",
              "      <th></th>\n",
              "      <th>patientId</th>\n",
              "      <th>class</th>\n",
              "      <th>image_path</th>\n",
              "      <th>label</th>\n",
              "    </tr>\n",
              "  </thead>\n",
              "  <tbody>\n",
              "    <tr>\n",
              "      <th>0</th>\n",
              "      <td>0174c4bb-28f5-41e3-a13f-a396badc18bd</td>\n",
              "      <td>Lung Opacity</td>\n",
              "      <td>/content/stage_2_train_images/0174c4bb-28f5-41...</td>\n",
              "      <td>1</td>\n",
              "    </tr>\n",
              "    <tr>\n",
              "      <th>1</th>\n",
              "      <td>01be392f-a46d-4aef-a57e-9cd1a80dd47e</td>\n",
              "      <td>Lung Opacity</td>\n",
              "      <td>/content/stage_2_train_images/01be392f-a46d-4a...</td>\n",
              "      <td>1</td>\n",
              "    </tr>\n",
              "    <tr>\n",
              "      <th>2</th>\n",
              "      <td>01c09fb1-a917-46ee-8d94-44f844a4eb85</td>\n",
              "      <td>No Lung Opacity / Not Normal</td>\n",
              "      <td>/content/stage_2_train_images/01c09fb1-a917-46...</td>\n",
              "      <td>0</td>\n",
              "    </tr>\n",
              "    <tr>\n",
              "      <th>3</th>\n",
              "      <td>01cad8d0-45cd-4603-b099-94055d322310</td>\n",
              "      <td>Lung Opacity</td>\n",
              "      <td>/content/stage_2_train_images/01cad8d0-45cd-46...</td>\n",
              "      <td>1</td>\n",
              "    </tr>\n",
              "    <tr>\n",
              "      <th>4</th>\n",
              "      <td>01d4fa0f-97a0-4522-b0d8-134400db2a3e</td>\n",
              "      <td>Lung Opacity</td>\n",
              "      <td>/content/stage_2_train_images/01d4fa0f-97a0-45...</td>\n",
              "      <td>1</td>\n",
              "    </tr>\n",
              "    <tr>\n",
              "      <th>5</th>\n",
              "      <td>01e16ddb-682d-4901-b56d-8686c4f9f976</td>\n",
              "      <td>No Lung Opacity / Not Normal</td>\n",
              "      <td>/content/stage_2_train_images/01e16ddb-682d-49...</td>\n",
              "      <td>0</td>\n",
              "    </tr>\n",
              "    <tr>\n",
              "      <th>6</th>\n",
              "      <td>01e4fd43-4f2c-421f-bd68-c756dceb5742</td>\n",
              "      <td>Normal</td>\n",
              "      <td>/content/stage_2_train_images/01e4fd43-4f2c-42...</td>\n",
              "      <td>0</td>\n",
              "    </tr>\n",
              "    <tr>\n",
              "      <th>7</th>\n",
              "      <td>01f4cd36-caa1-480f-9d8c-92e80cf7b197</td>\n",
              "      <td>Normal</td>\n",
              "      <td>/content/stage_2_train_images/01f4cd36-caa1-48...</td>\n",
              "      <td>0</td>\n",
              "    </tr>\n",
              "    <tr>\n",
              "      <th>8</th>\n",
              "      <td>020380f8-5c5a-4ded-bdf3-9ce3036945b4</td>\n",
              "      <td>Lung Opacity</td>\n",
              "      <td>/content/stage_2_train_images/020380f8-5c5a-4d...</td>\n",
              "      <td>1</td>\n",
              "    </tr>\n",
              "    <tr>\n",
              "      <th>9</th>\n",
              "      <td>0280a39c-4891-4a7b-8073-710c3f5577a3</td>\n",
              "      <td>Normal</td>\n",
              "      <td>/content/stage_2_train_images/0280a39c-4891-4a...</td>\n",
              "      <td>0</td>\n",
              "    </tr>\n",
              "  </tbody>\n",
              "</table>\n",
              "</div>\n",
              "    <div class=\"colab-df-buttons\">\n",
              "\n",
              "  <div class=\"colab-df-container\">\n",
              "    <button class=\"colab-df-convert\" onclick=\"convertToInteractive('df-b376bc17-9194-4704-ae23-d4e239c40e14')\"\n",
              "            title=\"Convert this dataframe to an interactive table.\"\n",
              "            style=\"display:none;\">\n",
              "\n",
              "  <svg xmlns=\"http://www.w3.org/2000/svg\" height=\"24px\" viewBox=\"0 -960 960 960\">\n",
              "    <path d=\"M120-120v-720h720v720H120Zm60-500h600v-160H180v160Zm220 220h160v-160H400v160Zm0 220h160v-160H400v160ZM180-400h160v-160H180v160Zm440 0h160v-160H620v160ZM180-180h160v-160H180v160Zm440 0h160v-160H620v160Z\"/>\n",
              "  </svg>\n",
              "    </button>\n",
              "\n",
              "  <style>\n",
              "    .colab-df-container {\n",
              "      display:flex;\n",
              "      gap: 12px;\n",
              "    }\n",
              "\n",
              "    .colab-df-convert {\n",
              "      background-color: #E8F0FE;\n",
              "      border: none;\n",
              "      border-radius: 50%;\n",
              "      cursor: pointer;\n",
              "      display: none;\n",
              "      fill: #1967D2;\n",
              "      height: 32px;\n",
              "      padding: 0 0 0 0;\n",
              "      width: 32px;\n",
              "    }\n",
              "\n",
              "    .colab-df-convert:hover {\n",
              "      background-color: #E2EBFA;\n",
              "      box-shadow: 0px 1px 2px rgba(60, 64, 67, 0.3), 0px 1px 3px 1px rgba(60, 64, 67, 0.15);\n",
              "      fill: #174EA6;\n",
              "    }\n",
              "\n",
              "    .colab-df-buttons div {\n",
              "      margin-bottom: 4px;\n",
              "    }\n",
              "\n",
              "    [theme=dark] .colab-df-convert {\n",
              "      background-color: #3B4455;\n",
              "      fill: #D2E3FC;\n",
              "    }\n",
              "\n",
              "    [theme=dark] .colab-df-convert:hover {\n",
              "      background-color: #434B5C;\n",
              "      box-shadow: 0px 1px 3px 1px rgba(0, 0, 0, 0.15);\n",
              "      filter: drop-shadow(0px 1px 2px rgba(0, 0, 0, 0.3));\n",
              "      fill: #FFFFFF;\n",
              "    }\n",
              "  </style>\n",
              "\n",
              "    <script>\n",
              "      const buttonEl =\n",
              "        document.querySelector('#df-b376bc17-9194-4704-ae23-d4e239c40e14 button.colab-df-convert');\n",
              "      buttonEl.style.display =\n",
              "        google.colab.kernel.accessAllowed ? 'block' : 'none';\n",
              "\n",
              "      async function convertToInteractive(key) {\n",
              "        const element = document.querySelector('#df-b376bc17-9194-4704-ae23-d4e239c40e14');\n",
              "        const dataTable =\n",
              "          await google.colab.kernel.invokeFunction('convertToInteractive',\n",
              "                                                    [key], {});\n",
              "        if (!dataTable) return;\n",
              "\n",
              "        const docLinkHtml = 'Like what you see? Visit the ' +\n",
              "          '<a target=\"_blank\" href=https://colab.research.google.com/notebooks/data_table.ipynb>data table notebook</a>'\n",
              "          + ' to learn more about interactive tables.';\n",
              "        element.innerHTML = '';\n",
              "        dataTable['output_type'] = 'display_data';\n",
              "        await google.colab.output.renderOutput(dataTable, element);\n",
              "        const docLink = document.createElement('div');\n",
              "        docLink.innerHTML = docLinkHtml;\n",
              "        element.appendChild(docLink);\n",
              "      }\n",
              "    </script>\n",
              "  </div>\n",
              "\n",
              "\n",
              "<div id=\"df-b0c7de5d-4c7d-4271-bb82-1e7f3ca414a1\">\n",
              "  <button class=\"colab-df-quickchart\" onclick=\"quickchart('df-b0c7de5d-4c7d-4271-bb82-1e7f3ca414a1')\"\n",
              "            title=\"Suggest charts.\"\n",
              "            style=\"display:none;\">\n",
              "\n",
              "<svg xmlns=\"http://www.w3.org/2000/svg\" height=\"24px\"viewBox=\"0 0 24 24\"\n",
              "     width=\"24px\">\n",
              "    <g>\n",
              "        <path d=\"M19 3H5c-1.1 0-2 .9-2 2v14c0 1.1.9 2 2 2h14c1.1 0 2-.9 2-2V5c0-1.1-.9-2-2-2zM9 17H7v-7h2v7zm4 0h-2V7h2v10zm4 0h-2v-4h2v4z\"/>\n",
              "    </g>\n",
              "</svg>\n",
              "  </button>\n",
              "\n",
              "<style>\n",
              "  .colab-df-quickchart {\n",
              "      --bg-color: #E8F0FE;\n",
              "      --fill-color: #1967D2;\n",
              "      --hover-bg-color: #E2EBFA;\n",
              "      --hover-fill-color: #174EA6;\n",
              "      --disabled-fill-color: #AAA;\n",
              "      --disabled-bg-color: #DDD;\n",
              "  }\n",
              "\n",
              "  [theme=dark] .colab-df-quickchart {\n",
              "      --bg-color: #3B4455;\n",
              "      --fill-color: #D2E3FC;\n",
              "      --hover-bg-color: #434B5C;\n",
              "      --hover-fill-color: #FFFFFF;\n",
              "      --disabled-bg-color: #3B4455;\n",
              "      --disabled-fill-color: #666;\n",
              "  }\n",
              "\n",
              "  .colab-df-quickchart {\n",
              "    background-color: var(--bg-color);\n",
              "    border: none;\n",
              "    border-radius: 50%;\n",
              "    cursor: pointer;\n",
              "    display: none;\n",
              "    fill: var(--fill-color);\n",
              "    height: 32px;\n",
              "    padding: 0;\n",
              "    width: 32px;\n",
              "  }\n",
              "\n",
              "  .colab-df-quickchart:hover {\n",
              "    background-color: var(--hover-bg-color);\n",
              "    box-shadow: 0 1px 2px rgba(60, 64, 67, 0.3), 0 1px 3px 1px rgba(60, 64, 67, 0.15);\n",
              "    fill: var(--button-hover-fill-color);\n",
              "  }\n",
              "\n",
              "  .colab-df-quickchart-complete:disabled,\n",
              "  .colab-df-quickchart-complete:disabled:hover {\n",
              "    background-color: var(--disabled-bg-color);\n",
              "    fill: var(--disabled-fill-color);\n",
              "    box-shadow: none;\n",
              "  }\n",
              "\n",
              "  .colab-df-spinner {\n",
              "    border: 2px solid var(--fill-color);\n",
              "    border-color: transparent;\n",
              "    border-bottom-color: var(--fill-color);\n",
              "    animation:\n",
              "      spin 1s steps(1) infinite;\n",
              "  }\n",
              "\n",
              "  @keyframes spin {\n",
              "    0% {\n",
              "      border-color: transparent;\n",
              "      border-bottom-color: var(--fill-color);\n",
              "      border-left-color: var(--fill-color);\n",
              "    }\n",
              "    20% {\n",
              "      border-color: transparent;\n",
              "      border-left-color: var(--fill-color);\n",
              "      border-top-color: var(--fill-color);\n",
              "    }\n",
              "    30% {\n",
              "      border-color: transparent;\n",
              "      border-left-color: var(--fill-color);\n",
              "      border-top-color: var(--fill-color);\n",
              "      border-right-color: var(--fill-color);\n",
              "    }\n",
              "    40% {\n",
              "      border-color: transparent;\n",
              "      border-right-color: var(--fill-color);\n",
              "      border-top-color: var(--fill-color);\n",
              "    }\n",
              "    60% {\n",
              "      border-color: transparent;\n",
              "      border-right-color: var(--fill-color);\n",
              "    }\n",
              "    80% {\n",
              "      border-color: transparent;\n",
              "      border-right-color: var(--fill-color);\n",
              "      border-bottom-color: var(--fill-color);\n",
              "    }\n",
              "    90% {\n",
              "      border-color: transparent;\n",
              "      border-bottom-color: var(--fill-color);\n",
              "    }\n",
              "  }\n",
              "</style>\n",
              "\n",
              "  <script>\n",
              "    async function quickchart(key) {\n",
              "      const quickchartButtonEl =\n",
              "        document.querySelector('#' + key + ' button');\n",
              "      quickchartButtonEl.disabled = true;  // To prevent multiple clicks.\n",
              "      quickchartButtonEl.classList.add('colab-df-spinner');\n",
              "      try {\n",
              "        const charts = await google.colab.kernel.invokeFunction(\n",
              "            'suggestCharts', [key], {});\n",
              "      } catch (error) {\n",
              "        console.error('Error during call to suggestCharts:', error);\n",
              "      }\n",
              "      quickchartButtonEl.classList.remove('colab-df-spinner');\n",
              "      quickchartButtonEl.classList.add('colab-df-quickchart-complete');\n",
              "    }\n",
              "    (() => {\n",
              "      let quickchartButtonEl =\n",
              "        document.querySelector('#df-b0c7de5d-4c7d-4271-bb82-1e7f3ca414a1 button');\n",
              "      quickchartButtonEl.style.display =\n",
              "        google.colab.kernel.accessAllowed ? 'block' : 'none';\n",
              "    })();\n",
              "  </script>\n",
              "</div>\n",
              "    </div>\n",
              "  </div>\n"
            ],
            "text/plain": [
              "                              patientId                         class  \\\n",
              "0  0174c4bb-28f5-41e3-a13f-a396badc18bd                  Lung Opacity   \n",
              "1  01be392f-a46d-4aef-a57e-9cd1a80dd47e                  Lung Opacity   \n",
              "2  01c09fb1-a917-46ee-8d94-44f844a4eb85  No Lung Opacity / Not Normal   \n",
              "3  01cad8d0-45cd-4603-b099-94055d322310                  Lung Opacity   \n",
              "4  01d4fa0f-97a0-4522-b0d8-134400db2a3e                  Lung Opacity   \n",
              "5  01e16ddb-682d-4901-b56d-8686c4f9f976  No Lung Opacity / Not Normal   \n",
              "6  01e4fd43-4f2c-421f-bd68-c756dceb5742                        Normal   \n",
              "7  01f4cd36-caa1-480f-9d8c-92e80cf7b197                        Normal   \n",
              "8  020380f8-5c5a-4ded-bdf3-9ce3036945b4                  Lung Opacity   \n",
              "9  0280a39c-4891-4a7b-8073-710c3f5577a3                        Normal   \n",
              "\n",
              "                                          image_path  label  \n",
              "0  /content/stage_2_train_images/0174c4bb-28f5-41...      1  \n",
              "1  /content/stage_2_train_images/01be392f-a46d-4a...      1  \n",
              "2  /content/stage_2_train_images/01c09fb1-a917-46...      0  \n",
              "3  /content/stage_2_train_images/01cad8d0-45cd-46...      1  \n",
              "4  /content/stage_2_train_images/01d4fa0f-97a0-45...      1  \n",
              "5  /content/stage_2_train_images/01e16ddb-682d-49...      0  \n",
              "6  /content/stage_2_train_images/01e4fd43-4f2c-42...      0  \n",
              "7  /content/stage_2_train_images/01f4cd36-caa1-48...      0  \n",
              "8  /content/stage_2_train_images/020380f8-5c5a-4d...      1  \n",
              "9  /content/stage_2_train_images/0280a39c-4891-4a...      0  "
            ]
          },
          "execution_count": 25,
          "metadata": {},
          "output_type": "execute_result"
        }
      ],
      "source": [
        "filtered_df['label'] = filtered_df['class'].apply(lambda x: 1 if x == 'Lung Opacity' else 0)\n",
        "\n",
        "filtered_df.head(10)"
      ]
    },
    {
      "cell_type": "code",
      "execution_count": null,
      "metadata": {
        "colab": {
          "base_uri": "https://localhost:8080/"
        },
        "execution": {
          "iopub.execute_input": "2023-10-09T12:22:48.524255Z",
          "iopub.status.busy": "2023-10-09T12:22:48.523552Z",
          "iopub.status.idle": "2023-10-09T12:22:48.536879Z",
          "shell.execute_reply": "2023-10-09T12:22:48.536114Z",
          "shell.execute_reply.started": "2023-10-09T12:22:48.524221Z"
        },
        "id": "MSMLN5vh3wsB",
        "outputId": "6e71328d-f028-4ba5-a2b4-a95e07586daf",
        "trusted": true
      },
      "outputs": [
        {
          "data": {
            "text/plain": [
              "1    1000\n",
              "0    1000\n",
              "Name: label, dtype: int64"
            ]
          },
          "execution_count": 26,
          "metadata": {},
          "output_type": "execute_result"
        }
      ],
      "source": [
        "filtered_df['label'].value_counts()"
      ]
    },
    {
      "cell_type": "code",
      "execution_count": null,
      "metadata": {
        "colab": {
          "base_uri": "https://localhost:8080/",
          "height": 466
        },
        "execution": {
          "iopub.execute_input": "2023-10-09T12:22:48.538918Z",
          "iopub.status.busy": "2023-10-09T12:22:48.538318Z",
          "iopub.status.idle": "2023-10-09T12:22:48.786160Z",
          "shell.execute_reply": "2023-10-09T12:22:48.785383Z",
          "shell.execute_reply.started": "2023-10-09T12:22:48.538889Z"
        },
        "id": "Cd3EkPJK3wsB",
        "outputId": "1b427fe0-bc65-40f9-f18c-c47e4c0483fd",
        "trusted": true
      },
      "outputs": [
        {
          "data": {
            "text/plain": [
              "<Axes: xlabel='label', ylabel='count'>"
            ]
          },
          "execution_count": 27,
          "metadata": {},
          "output_type": "execute_result"
        },
        {
          "data": {
            "image/png": "[encoded data removed]",
            "text/plain": [
              "<Figure size 640x480 with 1 Axes>"
            ]
          },
          "metadata": {},
          "output_type": "display_data"
        }
      ],
      "source": [
        "import seaborn as sns\n",
        "sns.countplot(x = filtered_df['label'])"
      ]
    },
    {
      "cell_type": "code",
      "execution_count": null,
      "metadata": {
        "colab": {
          "base_uri": "https://localhost:8080/"
        },
        "execution": {
          "iopub.execute_input": "2023-10-09T12:22:48.792091Z",
          "iopub.status.busy": "2023-10-09T12:22:48.790078Z",
          "iopub.status.idle": "2023-10-09T12:22:48.800836Z",
          "shell.execute_reply": "2023-10-09T12:22:48.799976Z",
          "shell.execute_reply.started": "2023-10-09T12:22:48.792060Z"
        },
        "id": "0XJfpwcJ3wsB",
        "outputId": "866644fd-5056-4c40-8554-6d7bdce03a0a",
        "trusted": true
      },
      "outputs": [
        {
          "data": {
            "text/plain": [
              "(2000, 4)"
            ]
          },
          "execution_count": 28,
          "metadata": {},
          "output_type": "execute_result"
        }
      ],
      "source": [
        "filtered_df.shape"
      ]
    },
    {
      "cell_type": "code",
      "execution_count": null,
      "metadata": {
        "colab": {
          "base_uri": "https://localhost:8080/",
          "height": 206
        },
        "execution": {
          "iopub.execute_input": "2023-10-09T12:22:48.806451Z",
          "iopub.status.busy": "2023-10-09T12:22:48.804931Z",
          "iopub.status.idle": "2023-10-09T12:22:48.822501Z",
          "shell.execute_reply": "2023-10-09T12:22:48.821779Z",
          "shell.execute_reply.started": "2023-10-09T12:22:48.806421Z"
        },
        "id": "pSqw6PfZ3wsB",
        "outputId": "fbc322ef-9af3-4af4-c505-72fc08f53710",
        "trusted": true
      },
      "outputs": [
        {
          "data": {
            "text/html": [
              "\n",
              "  <div id=\"df-00d8d885-5b3f-4767-a56c-f1e73db5b7cd\" class=\"colab-df-container\">\n",
              "    <div>\n",
              "<style scoped>\n",
              "    .dataframe tbody tr th:only-of-type {\n",
              "        vertical-align: middle;\n",
              "    }\n",
              "\n",
              "    .dataframe tbody tr th {\n",
              "        vertical-align: top;\n",
              "    }\n",
              "\n",
              "    .dataframe thead th {\n",
              "        text-align: right;\n",
              "    }\n",
              "</style>\n",
              "<table border=\"1\" class=\"dataframe\">\n",
              "  <thead>\n",
              "    <tr style=\"text-align: right;\">\n",
              "      <th></th>\n",
              "      <th>patientId</th>\n",
              "      <th>class</th>\n",
              "      <th>image_path</th>\n",
              "      <th>label</th>\n",
              "    </tr>\n",
              "  </thead>\n",
              "  <tbody>\n",
              "    <tr>\n",
              "      <th>0</th>\n",
              "      <td>0174c4bb-28f5-41e3-a13f-a396badc18bd</td>\n",
              "      <td>Lung Opacity</td>\n",
              "      <td>/content/stage_2_train_images/0174c4bb-28f5-41...</td>\n",
              "      <td>1</td>\n",
              "    </tr>\n",
              "    <tr>\n",
              "      <th>1</th>\n",
              "      <td>01be392f-a46d-4aef-a57e-9cd1a80dd47e</td>\n",
              "      <td>Lung Opacity</td>\n",
              "      <td>/content/stage_2_train_images/01be392f-a46d-4a...</td>\n",
              "      <td>1</td>\n",
              "    </tr>\n",
              "    <tr>\n",
              "      <th>2</th>\n",
              "      <td>01c09fb1-a917-46ee-8d94-44f844a4eb85</td>\n",
              "      <td>No Lung Opacity / Not Normal</td>\n",
              "      <td>/content/stage_2_train_images/01c09fb1-a917-46...</td>\n",
              "      <td>0</td>\n",
              "    </tr>\n",
              "    <tr>\n",
              "      <th>3</th>\n",
              "      <td>01cad8d0-45cd-4603-b099-94055d322310</td>\n",
              "      <td>Lung Opacity</td>\n",
              "      <td>/content/stage_2_train_images/01cad8d0-45cd-46...</td>\n",
              "      <td>1</td>\n",
              "    </tr>\n",
              "    <tr>\n",
              "      <th>4</th>\n",
              "      <td>01d4fa0f-97a0-4522-b0d8-134400db2a3e</td>\n",
              "      <td>Lung Opacity</td>\n",
              "      <td>/content/stage_2_train_images/01d4fa0f-97a0-45...</td>\n",
              "      <td>1</td>\n",
              "    </tr>\n",
              "  </tbody>\n",
              "</table>\n",
              "</div>\n",
              "    <div class=\"colab-df-buttons\">\n",
              "\n",
              "  <div class=\"colab-df-container\">\n",
              "    <button class=\"colab-df-convert\" onclick=\"convertToInteractive('df-00d8d885-5b3f-4767-a56c-f1e73db5b7cd')\"\n",
              "            title=\"Convert this dataframe to an interactive table.\"\n",
              "            style=\"display:none;\">\n",
              "\n",
              "  <svg xmlns=\"http://www.w3.org/2000/svg\" height=\"24px\" viewBox=\"0 -960 960 960\">\n",
              "    <path d=\"M120-120v-720h720v720H120Zm60-500h600v-160H180v160Zm220 220h160v-160H400v160Zm0 220h160v-160H400v160ZM180-400h160v-160H180v160Zm440 0h160v-160H620v160ZM180-180h160v-160H180v160Zm440 0h160v-160H620v160Z\"/>\n",
              "  </svg>\n",
              "    </button>\n",
              "\n",
              "  <style>\n",
              "    .colab-df-container {\n",
              "      display:flex;\n",
              "      gap: 12px;\n",
              "    }\n",
              "\n",
              "    .colab-df-convert {\n",
              "      background-color: #E8F0FE;\n",
              "      border: none;\n",
              "      border-radius: 50%;\n",
              "      cursor: pointer;\n",
              "      display: none;\n",
              "      fill: #1967D2;\n",
              "      height: 32px;\n",
              "      padding: 0 0 0 0;\n",
              "      width: 32px;\n",
              "    }\n",
              "\n",
              "    .colab-df-convert:hover {\n",
              "      background-color: #E2EBFA;\n",
              "      box-shadow: 0px 1px 2px rgba(60, 64, 67, 0.3), 0px 1px 3px 1px rgba(60, 64, 67, 0.15);\n",
              "      fill: #174EA6;\n",
              "    }\n",
              "\n",
              "    .colab-df-buttons div {\n",
              "      margin-bottom: 4px;\n",
              "    }\n",
              "\n",
              "    [theme=dark] .colab-df-convert {\n",
              "      background-color: #3B4455;\n",
              "      fill: #D2E3FC;\n",
              "    }\n",
              "\n",
              "    [theme=dark] .colab-df-convert:hover {\n",
              "      background-color: #434B5C;\n",
              "      box-shadow: 0px 1px 3px 1px rgba(0, 0, 0, 0.15);\n",
              "      filter: drop-shadow(0px 1px 2px rgba(0, 0, 0, 0.3));\n",
              "      fill: #FFFFFF;\n",
              "    }\n",
              "  </style>\n",
              "\n",
              "    <script>\n",
              "      const buttonEl =\n",
              "        document.querySelector('#df-00d8d885-5b3f-4767-a56c-f1e73db5b7cd button.colab-df-convert');\n",
              "      buttonEl.style.display =\n",
              "        google.colab.kernel.accessAllowed ? 'block' : 'none';\n",
              "\n",
              "      async function convertToInteractive(key) {\n",
              "        const element = document.querySelector('#df-00d8d885-5b3f-4767-a56c-f1e73db5b7cd');\n",
              "        const dataTable =\n",
              "          await google.colab.kernel.invokeFunction('convertToInteractive',\n",
              "                                                    [key], {});\n",
              "        if (!dataTable) return;\n",
              "\n",
              "        const docLinkHtml = 'Like what you see? Visit the ' +\n",
              "          '<a target=\"_blank\" href=https://colab.research.google.com/notebooks/data_table.ipynb>data table notebook</a>'\n",
              "          + ' to learn more about interactive tables.';\n",
              "        element.innerHTML = '';\n",
              "        dataTable['output_type'] = 'display_data';\n",
              "        await google.colab.output.renderOutput(dataTable, element);\n",
              "        const docLink = document.createElement('div');\n",
              "        docLink.innerHTML = docLinkHtml;\n",
              "        element.appendChild(docLink);\n",
              "      }\n",
              "    </script>\n",
              "  </div>\n",
              "\n",
              "\n",
              "<div id=\"df-b420103d-bfae-497f-909a-ca856e9bc94a\">\n",
              "  <button class=\"colab-df-quickchart\" onclick=\"quickchart('df-b420103d-bfae-497f-909a-ca856e9bc94a')\"\n",
              "            title=\"Suggest charts.\"\n",
              "            style=\"display:none;\">\n",
              "\n",
              "<svg xmlns=\"http://www.w3.org/2000/svg\" height=\"24px\"viewBox=\"0 0 24 24\"\n",
              "     width=\"24px\">\n",
              "    <g>\n",
              "        <path d=\"M19 3H5c-1.1 0-2 .9-2 2v14c0 1.1.9 2 2 2h14c1.1 0 2-.9 2-2V5c0-1.1-.9-2-2-2zM9 17H7v-7h2v7zm4 0h-2V7h2v10zm4 0h-2v-4h2v4z\"/>\n",
              "    </g>\n",
              "</svg>\n",
              "  </button>\n",
              "\n",
              "<style>\n",
              "  .colab-df-quickchart {\n",
              "      --bg-color: #E8F0FE;\n",
              "      --fill-color: #1967D2;\n",
              "      --hover-bg-color: #E2EBFA;\n",
              "      --hover-fill-color: #174EA6;\n",
              "      --disabled-fill-color: #AAA;\n",
              "      --disabled-bg-color: #DDD;\n",
              "  }\n",
              "\n",
              "  [theme=dark] .colab-df-quickchart {\n",
              "      --bg-color: #3B4455;\n",
              "      --fill-color: #D2E3FC;\n",
              "      --hover-bg-color: #434B5C;\n",
              "      --hover-fill-color: #FFFFFF;\n",
              "      --disabled-bg-color: #3B4455;\n",
              "      --disabled-fill-color: #666;\n",
              "  }\n",
              "\n",
              "  .colab-df-quickchart {\n",
              "    background-color: var(--bg-color);\n",
              "    border: none;\n",
              "    border-radius: 50%;\n",
              "    cursor: pointer;\n",
              "    display: none;\n",
              "    fill: var(--fill-color);\n",
              "    height: 32px;\n",
              "    padding: 0;\n",
              "    width: 32px;\n",
              "  }\n",
              "\n",
              "  .colab-df-quickchart:hover {\n",
              "    background-color: var(--hover-bg-color);\n",
              "    box-shadow: 0 1px 2px rgba(60, 64, 67, 0.3), 0 1px 3px 1px rgba(60, 64, 67, 0.15);\n",
              "    fill: var(--button-hover-fill-color);\n",
              "  }\n",
              "\n",
              "  .colab-df-quickchart-complete:disabled,\n",
              "  .colab-df-quickchart-complete:disabled:hover {\n",
              "    background-color: var(--disabled-bg-color);\n",
              "    fill: var(--disabled-fill-color);\n",
              "    box-shadow: none;\n",
              "  }\n",
              "\n",
              "  .colab-df-spinner {\n",
              "    border: 2px solid var(--fill-color);\n",
              "    border-color: transparent;\n",
              "    border-bottom-color: var(--fill-color);\n",
              "    animation:\n",
              "      spin 1s steps(1) infinite;\n",
              "  }\n",
              "\n",
              "  @keyframes spin {\n",
              "    0% {\n",
              "      border-color: transparent;\n",
              "      border-bottom-color: var(--fill-color);\n",
              "      border-left-color: var(--fill-color);\n",
              "    }\n",
              "    20% {\n",
              "      border-color: transparent;\n",
              "      border-left-color: var(--fill-color);\n",
              "      border-top-color: var(--fill-color);\n",
              "    }\n",
              "    30% {\n",
              "      border-color: transparent;\n",
              "      border-left-color: var(--fill-color);\n",
              "      border-top-color: var(--fill-color);\n",
              "      border-right-color: var(--fill-color);\n",
              "    }\n",
              "    40% {\n",
              "      border-color: transparent;\n",
              "      border-right-color: var(--fill-color);\n",
              "      border-top-color: var(--fill-color);\n",
              "    }\n",
              "    60% {\n",
              "      border-color: transparent;\n",
              "      border-right-color: var(--fill-color);\n",
              "    }\n",
              "    80% {\n",
              "      border-color: transparent;\n",
              "      border-right-color: var(--fill-color);\n",
              "      border-bottom-color: var(--fill-color);\n",
              "    }\n",
              "    90% {\n",
              "      border-color: transparent;\n",
              "      border-bottom-color: var(--fill-color);\n",
              "    }\n",
              "  }\n",
              "</style>\n",
              "\n",
              "  <script>\n",
              "    async function quickchart(key) {\n",
              "      const quickchartButtonEl =\n",
              "        document.querySelector('#' + key + ' button');\n",
              "      quickchartButtonEl.disabled = true;  // To prevent multiple clicks.\n",
              "      quickchartButtonEl.classList.add('colab-df-spinner');\n",
              "      try {\n",
              "        const charts = await google.colab.kernel.invokeFunction(\n",
              "            'suggestCharts', [key], {});\n",
              "      } catch (error) {\n",
              "        console.error('Error during call to suggestCharts:', error);\n",
              "      }\n",
              "      quickchartButtonEl.classList.remove('colab-df-spinner');\n",
              "      quickchartButtonEl.classList.add('colab-df-quickchart-complete');\n",
              "    }\n",
              "    (() => {\n",
              "      let quickchartButtonEl =\n",
              "        document.querySelector('#df-b420103d-bfae-497f-909a-ca856e9bc94a button');\n",
              "      quickchartButtonEl.style.display =\n",
              "        google.colab.kernel.accessAllowed ? 'block' : 'none';\n",
              "    })();\n",
              "  </script>\n",
              "</div>\n",
              "    </div>\n",
              "  </div>\n"
            ],
            "text/plain": [
              "                              patientId                         class  \\\n",
              "0  0174c4bb-28f5-41e3-a13f-a396badc18bd                  Lung Opacity   \n",
              "1  01be392f-a46d-4aef-a57e-9cd1a80dd47e                  Lung Opacity   \n",
              "2  01c09fb1-a917-46ee-8d94-44f844a4eb85  No Lung Opacity / Not Normal   \n",
              "3  01cad8d0-45cd-4603-b099-94055d322310                  Lung Opacity   \n",
              "4  01d4fa0f-97a0-4522-b0d8-134400db2a3e                  Lung Opacity   \n",
              "\n",
              "                                          image_path  label  \n",
              "0  /content/stage_2_train_images/0174c4bb-28f5-41...      1  \n",
              "1  /content/stage_2_train_images/01be392f-a46d-4a...      1  \n",
              "2  /content/stage_2_train_images/01c09fb1-a917-46...      0  \n",
              "3  /content/stage_2_train_images/01cad8d0-45cd-46...      1  \n",
              "4  /content/stage_2_train_images/01d4fa0f-97a0-45...      1  "
            ]
          },
          "execution_count": 29,
          "metadata": {},
          "output_type": "execute_result"
        }
      ],
      "source": [
        "filtered_df.head()"
      ]
    },
    {
      "cell_type": "code",
      "execution_count": null,
      "metadata": {
        "colab": {
          "base_uri": "https://localhost:8080/"
        },
        "execution": {
          "iopub.execute_input": "2023-10-09T12:22:48.828238Z",
          "iopub.status.busy": "2023-10-09T12:22:48.826217Z",
          "iopub.status.idle": "2023-10-09T12:22:48.839927Z",
          "shell.execute_reply": "2023-10-09T12:22:48.838619Z",
          "shell.execute_reply.started": "2023-10-09T12:22:48.828206Z"
        },
        "id": "npY2naIn3wsB",
        "outputId": "9a0231df-df56-4bd9-8674-08b4324d88ca",
        "trusted": true
      },
      "outputs": [
        {
          "data": {
            "text/plain": [
              "Lung Opacity                    1000\n",
              "No Lung Opacity / Not Normal     500\n",
              "Normal                           500\n",
              "Name: class, dtype: int64"
            ]
          },
          "execution_count": 30,
          "metadata": {},
          "output_type": "execute_result"
        }
      ],
      "source": [
        "filtered_df['class'].value_counts()"
      ]
    },
    {
      "cell_type": "code",
      "execution_count": null,
      "metadata": {
        "execution": {
          "iopub.execute_input": "2023-10-09T12:22:48.849307Z",
          "iopub.status.busy": "2023-10-09T12:22:48.848339Z",
          "iopub.status.idle": "2023-10-09T12:22:48.858722Z",
          "shell.execute_reply": "2023-10-09T12:22:48.857804Z",
          "shell.execute_reply.started": "2023-10-09T12:22:48.849276Z"
        },
        "id": "EPTDRzPl3wsB",
        "trusted": true
      },
      "outputs": [],
      "source": [
        "filtered_df['label'] = filtered_df['label'].astype(str)"
      ]
    },
    {
      "cell_type": "markdown",
      "source": [
        "**6. Using only two columns, 'image_path' and 'label' for training,validation and testing our model.  \n",
        "Storing in 'x', the images after reading them from 'image_path' column, downsizing them from 1024 pixels to 224 pixels, and converting them to 3 channel(RGB) images as the pre-trained models expect the input image in 3 channel format.  \n",
        "Storing in 'y' the labels for each image after converting them in array format.**"
      ],
      "metadata": {
        "id": "xyVm5s-su270"
      }
    },
    {
      "cell_type": "code",
      "execution_count": null,
      "metadata": {
        "execution": {
          "iopub.execute_input": "2023-10-09T12:22:48.903133Z",
          "iopub.status.busy": "2023-10-09T12:22:48.902752Z",
          "iopub.status.idle": "2023-10-09T12:22:48.915949Z",
          "shell.execute_reply": "2023-10-09T12:22:48.914996Z",
          "shell.execute_reply.started": "2023-10-09T12:22:48.903105Z"
        },
        "id": "R0ArCceV3wsC",
        "trusted": true
      },
      "outputs": [],
      "source": [
        "import pydicom\n",
        "import cv2\n",
        "def read_and_resize_images(df):\n",
        "    resized_images = []\n",
        "    boxes = []\n",
        "    for i in range(len(df)):\n",
        "        image_path = df['image_path'][i]\n",
        "        target = df['label'][i]\n",
        "        dicom_data = pydicom.read_file(image_path)\n",
        "        img = dicom_data.pixel_array\n",
        "\n",
        "        #Resize image to 224x224 because we are going to use MobileNetV2 that takes in rgb images(3 channels)\n",
        "        img = cv2.resize(img, (224, 224))\n",
        "        img = cv2.cvtColor(img, cv2.COLOR_GRAY2RGB)\n",
        "        resized_images.append(img)\n",
        "        boxes.append(np.array(target, dtype=np.float32))\n",
        "    return np.array(resized_images), np.array(boxes)"
      ]
    },
    {
      "cell_type": "code",
      "execution_count": null,
      "metadata": {
        "execution": {
          "iopub.execute_input": "2023-10-09T12:22:48.917783Z",
          "iopub.status.busy": "2023-10-09T12:22:48.917189Z",
          "iopub.status.idle": "2023-10-09T12:23:13.007292Z",
          "shell.execute_reply": "2023-10-09T12:23:13.006311Z",
          "shell.execute_reply.started": "2023-10-09T12:22:48.917753Z"
        },
        "id": "o96UWKu83wsC",
        "trusted": true
      },
      "outputs": [],
      "source": [
        "x, y = read_and_resize_images(filtered_df)"
      ]
    },
    {
      "cell_type": "markdown",
      "source": [
        "**7. Splitting the dataset into train, validation and test sets**"
      ],
      "metadata": {
        "id": "VbDubVJCu8HO"
      }
    },
    {
      "cell_type": "code",
      "execution_count": null,
      "metadata": {
        "execution": {
          "iopub.execute_input": "2023-10-09T12:23:13.069519Z",
          "iopub.status.busy": "2023-10-09T12:23:13.069176Z",
          "iopub.status.idle": "2023-10-09T12:23:13.162658Z",
          "shell.execute_reply": "2023-10-09T12:23:13.161719Z",
          "shell.execute_reply.started": "2023-10-09T12:23:13.069490Z"
        },
        "id": "OjVf7ASY3wsH",
        "trusted": true
      },
      "outputs": [],
      "source": [
        "from sklearn.model_selection import train_test_split\n",
        "\n",
        "x_train, x_temp, y_train, y_temp = train_test_split(x, y, test_size = 0.2, random_state = 42)"
      ]
    },
    {
      "cell_type": "code",
      "execution_count": null,
      "metadata": {
        "colab": {
          "base_uri": "https://localhost:8080/"
        },
        "execution": {
          "iopub.execute_input": "2023-10-09T12:23:13.164657Z",
          "iopub.status.busy": "2023-10-09T12:23:13.164118Z",
          "iopub.status.idle": "2023-10-09T12:23:13.170389Z",
          "shell.execute_reply": "2023-10-09T12:23:13.169170Z",
          "shell.execute_reply.started": "2023-10-09T12:23:13.164623Z"
        },
        "id": "hOmpWW2_3wsH",
        "outputId": "485a0192-2ac9-457f-fbb9-08197d1f78b7",
        "trusted": true
      },
      "outputs": [
        {
          "name": "stdout",
          "output_type": "stream",
          "text": [
            "(1600, 224, 224, 3) (1600,)\n",
            "(400, 224, 224, 3) (400,)\n"
          ]
        }
      ],
      "source": [
        "print(x_train.shape, y_train.shape)\n",
        "print(x_temp.shape, y_temp.shape)\n"
      ]
    },
    {
      "cell_type": "code",
      "execution_count": null,
      "metadata": {
        "execution": {
          "iopub.execute_input": "2023-10-09T12:23:13.172609Z",
          "iopub.status.busy": "2023-10-09T12:23:13.171641Z",
          "iopub.status.idle": "2023-10-09T12:23:13.200230Z",
          "shell.execute_reply": "2023-10-09T12:23:13.199257Z",
          "shell.execute_reply.started": "2023-10-09T12:23:13.172579Z"
        },
        "id": "MjIhYae93wsH",
        "trusted": true
      },
      "outputs": [],
      "source": [
        "x_val, x_test, y_val, y_test = train_test_split(x_temp, y_temp, test_size = 0.3, random_state = 42)"
      ]
    },
    {
      "cell_type": "code",
      "execution_count": null,
      "metadata": {
        "colab": {
          "base_uri": "https://localhost:8080/"
        },
        "execution": {
          "iopub.execute_input": "2023-10-09T12:23:13.201828Z",
          "iopub.status.busy": "2023-10-09T12:23:13.201519Z",
          "iopub.status.idle": "2023-10-09T12:23:13.207098Z",
          "shell.execute_reply": "2023-10-09T12:23:13.206119Z",
          "shell.execute_reply.started": "2023-10-09T12:23:13.201796Z"
        },
        "id": "s9v7Gfbv3wsH",
        "outputId": "b61c5dd1-2fab-4473-efb3-8a0bc0ca6fa1",
        "trusted": true
      },
      "outputs": [
        {
          "name": "stdout",
          "output_type": "stream",
          "text": [
            "(1600, 224, 224, 3) (1600,)\n",
            "(120, 224, 224, 3) (120,)\n",
            "(280, 224, 224, 3) (280,)\n"
          ]
        }
      ],
      "source": [
        "print(x_train.shape, y_train.shape)\n",
        "print(x_test.shape, y_test.shape)\n",
        "print(x_val.shape, y_val.shape)"
      ]
    },
    {
      "cell_type": "markdown",
      "source": [
        "**8. Normalising the image pixels by dividing them by the maximum pixel value 255.**"
      ],
      "metadata": {
        "id": "eB8u-BRtu-sS"
      }
    },
    {
      "cell_type": "code",
      "execution_count": null,
      "metadata": {
        "execution": {
          "iopub.execute_input": "2023-10-09T12:23:13.208893Z",
          "iopub.status.busy": "2023-10-09T12:23:13.208334Z",
          "iopub.status.idle": "2023-10-09T12:23:13.974987Z",
          "shell.execute_reply": "2023-10-09T12:23:13.973971Z",
          "shell.execute_reply.started": "2023-10-09T12:23:13.208862Z"
        },
        "id": "9AvRWV0r3wsH",
        "trusted": true
      },
      "outputs": [],
      "source": [
        "def preprocess_and_reshape(images):\n",
        "    images = images/ 255.0\n",
        "    return images\n",
        "x_train = preprocess_and_reshape(x_train)\n",
        "x_val = preprocess_and_reshape(x_val)\n",
        "x_test = preprocess_and_reshape(x_test)"
      ]
    },
    {
      "cell_type": "markdown",
      "source": [
        "**9. Setting image augmentation parameters using ImageDataGenerator for train images only**"
      ],
      "metadata": {
        "id": "MIMO_nUPvDFt"
      }
    },
    {
      "cell_type": "code",
      "execution_count": null,
      "metadata": {
        "execution": {
          "iopub.execute_input": "2023-10-09T12:23:13.976853Z",
          "iopub.status.busy": "2023-10-09T12:23:13.976483Z",
          "iopub.status.idle": "2023-10-09T12:23:13.983210Z",
          "shell.execute_reply": "2023-10-09T12:23:13.982050Z",
          "shell.execute_reply.started": "2023-10-09T12:23:13.976821Z"
        },
        "id": "GTxwonES3wsH",
        "trusted": true
      },
      "outputs": [],
      "source": [
        "import tensorflow as tf\n",
        "from tensorflow.keras.preprocessing.image import ImageDataGenerator"
      ]
    },
    {
      "cell_type": "code",
      "execution_count": null,
      "metadata": {
        "execution": {
          "iopub.execute_input": "2023-10-09T12:23:13.985070Z",
          "iopub.status.busy": "2023-10-09T12:23:13.984649Z",
          "iopub.status.idle": "2023-10-09T12:23:13.993911Z",
          "shell.execute_reply": "2023-10-09T12:23:13.993001Z",
          "shell.execute_reply.started": "2023-10-09T12:23:13.985039Z"
        },
        "id": "Q-l8tAEF3wsI",
        "trusted": true
      },
      "outputs": [],
      "source": [
        "\n",
        "train_datagen = ImageDataGenerator(\n",
        "      rotation_range=5,\n",
        "      width_shift_range=0.2,\n",
        "      height_shift_range=0.2,\n",
        "      shear_range=0.2,\n",
        "      zoom_range=0.2,\n",
        "      horizontal_flip=True,\n",
        "      fill_mode='nearest')"
      ]
    },
    {
      "cell_type": "markdown",
      "source": [
        "**10. Building the base model using MobileNetV2**"
      ],
      "metadata": {
        "id": "Vnf8NytQvHOy"
      }
    },
    {
      "cell_type": "code",
      "execution_count": null,
      "metadata": {
        "colab": {
          "base_uri": "https://localhost:8080/"
        },
        "execution": {
          "iopub.execute_input": "2023-10-09T12:23:14.097866Z",
          "iopub.status.busy": "2023-10-09T12:23:14.097224Z",
          "iopub.status.idle": "2023-10-09T12:23:18.713877Z",
          "shell.execute_reply": "2023-10-09T12:23:18.712984Z",
          "shell.execute_reply.started": "2023-10-09T12:23:14.097837Z"
        },
        "id": "JXrrZb2E3wsK",
        "outputId": "8ef942b0-16c4-4ed6-b7e0-c46c50f4ff6d",
        "trusted": true
      },
      "outputs": [
        {
          "name": "stdout",
          "output_type": "stream",
          "text": [
            "Downloading data from https://storage.googleapis.com/tensorflow/keras-applications/mobilenet_v2/mobilenet_v2_weights_tf_dim_ordering_tf_kernels_1.0_224_no_top.h5\n",
            "9406464/9406464 [==============================] - 0s 0us/step\n"
          ]
        }
      ],
      "source": [
        "# build the model\n",
        "\n",
        "base_model = MobileNetV2(input_shape=(224, 224, 3), include_top=False, weights='imagenet')\n",
        "for l in base_model.layers:\n",
        "    l.trainable=False\n",
        "x = base_model.output\n",
        "x = GlobalAveragePooling2D()(x)\n",
        "x = Dense(256, activation='relu', kernel_regularizer=l2(0.0001))(x)\n",
        "x = Dropout(0.25)(x)\n",
        "#x = Dense(128, activation='relu', kernel_regularizer=l2(0.0001))(x)\n",
        "#x = Dropout(0.25)(x)\n",
        "#x = Dense(64, activation='relu', kernel_regularizer=l2(0.0001))(x)\n",
        "#x = Dropout(0.25)(x)\n",
        "predictions = Dense(1, activation='sigmoid')(x)"
      ]
    },
    {
      "cell_type": "code",
      "execution_count": null,
      "metadata": {
        "execution": {
          "iopub.execute_input": "2023-10-09T12:23:18.715622Z",
          "iopub.status.busy": "2023-10-09T12:23:18.715287Z",
          "iopub.status.idle": "2023-10-09T12:23:18.730659Z",
          "shell.execute_reply": "2023-10-09T12:23:18.729787Z",
          "shell.execute_reply.started": "2023-10-09T12:23:18.715592Z"
        },
        "id": "ChsRDBBV3wsK",
        "trusted": true
      },
      "outputs": [],
      "source": [
        "model = Model(inputs=base_model.input, outputs=predictions)\n"
      ]
    },
    {
      "cell_type": "code",
      "execution_count": null,
      "metadata": {
        "execution": {
          "iopub.execute_input": "2023-10-09T12:23:18.732977Z",
          "iopub.status.busy": "2023-10-09T12:23:18.731843Z",
          "iopub.status.idle": "2023-10-09T12:23:18.751561Z",
          "shell.execute_reply": "2023-10-09T12:23:18.750713Z",
          "shell.execute_reply.started": "2023-10-09T12:23:18.732946Z"
        },
        "id": "tu_GLrf43wsK",
        "trusted": true
      },
      "outputs": [],
      "source": [
        "# Compile the model with an appropriate optimizer and loss function\n",
        "from tensorflow.keras.optimizers import Adam\n",
        "\n",
        "model.compile(optimizer=Adam(learning_rate = 0.00001), loss='binary_crossentropy', metrics=['accuracy'])"
      ]
    },
    {
      "cell_type": "code",
      "execution_count": null,
      "metadata": {
        "execution": {
          "iopub.execute_input": "2023-10-09T12:23:18.753184Z",
          "iopub.status.busy": "2023-10-09T12:23:18.752866Z",
          "iopub.status.idle": "2023-10-09T12:23:18.758391Z",
          "shell.execute_reply": "2023-10-09T12:23:18.757418Z",
          "shell.execute_reply.started": "2023-10-09T12:23:18.753153Z"
        },
        "id": "r4yzXtXB3wsK",
        "trusted": true
      },
      "outputs": [],
      "source": [
        "from keras.callbacks import ModelCheckpoint, EarlyStopping, ReduceLROnPlateau\n",
        "\n",
        "# Define a ModelCheckpoint callback to save the best weights\n",
        "checkpoint = ModelCheckpoint('best_weights.h5', monitor='val_loss', save_best_only=True, verbose=1)"
      ]
    },
    {
      "cell_type": "code",
      "execution_count": null,
      "metadata": {
        "execution": {
          "iopub.execute_input": "2023-10-09T12:23:18.760111Z",
          "iopub.status.busy": "2023-10-09T12:23:18.759795Z",
          "iopub.status.idle": "2023-10-09T12:23:18.770394Z",
          "shell.execute_reply": "2023-10-09T12:23:18.769448Z",
          "shell.execute_reply.started": "2023-10-09T12:23:18.760082Z"
        },
        "id": "5sty-tPN3wsK",
        "trusted": true
      },
      "outputs": [],
      "source": [
        "from tensorflow.keras.callbacks import EarlyStopping\n",
        "\n",
        "from tensorflow.keras.callbacks import ReduceLROnPlateau\n",
        "\n",
        "# Define the callbacks\n",
        "early_stopping = EarlyStopping(monitor='val_loss', patience=10, restore_best_weights=True)\n",
        "reduce_lr = ReduceLROnPlateau(monitor='val_loss', factor=0.5, patience=10, min_lr=1e-6)"
      ]
    },
    {
      "cell_type": "code",
      "execution_count": null,
      "metadata": {
        "colab": {
          "base_uri": "https://localhost:8080/"
        },
        "execution": {
          "iopub.execute_input": "2023-10-09T12:23:18.772350Z",
          "iopub.status.busy": "2023-10-09T12:23:18.771505Z",
          "iopub.status.idle": "2023-10-09T12:28:06.789163Z",
          "shell.execute_reply": "2023-10-09T12:28:06.788068Z",
          "shell.execute_reply.started": "2023-10-09T12:23:18.772320Z"
        },
        "id": "DTuksFud3wsK",
        "outputId": "0724ad27-5def-41ca-f505-3a04423dc40e",
        "trusted": true
      },
      "outputs": [
        {
          "name": "stdout",
          "output_type": "stream",
          "text": [
            "Epoch 1/200\n",
            "25/25 [==============================] - ETA: 0s - loss: 0.7667 - accuracy: 0.5562\n",
            "Epoch 1: val_loss improved from inf to 0.68891, saving model to best_weights.h5\n",
            "25/25 [==============================] - 17s 229ms/step - loss: 0.7667 - accuracy: 0.5562 - val_loss: 0.6889 - val_accuracy: 0.6429 - lr: 1.0000e-05\n",
            "Epoch 2/200\n",
            "25/25 [==============================] - ETA: 0s - loss: 0.7067 - accuracy: 0.6125\n",
            "Epoch 2: val_loss improved from 0.68891 to 0.65127, saving model to best_weights.h5\n",
            "25/25 [==============================] - 3s 126ms/step - loss: 0.7067 - accuracy: 0.6125 - val_loss: 0.6513 - val_accuracy: 0.7071 - lr: 1.0000e-05\n",
            "Epoch 3/200\n",
            "25/25 [==============================] - ETA: 0s - loss: 0.6829 - accuracy: 0.6350\n",
            "Epoch 3: val_loss improved from 0.65127 to 0.62525, saving model to best_weights.h5\n",
            "25/25 [==============================] - 3s 129ms/step - loss: 0.6829 - accuracy: 0.6350 - val_loss: 0.6252 - val_accuracy: 0.7036 - lr: 1.0000e-05\n",
            "Epoch 4/200\n",
            "25/25 [==============================] - ETA: 0s - loss: 0.6355 - accuracy: 0.6919\n",
            "Epoch 4: val_loss improved from 0.62525 to 0.60720, saving model to best_weights.h5\n",
            "25/25 [==============================] - 3s 120ms/step - loss: 0.6355 - accuracy: 0.6919 - val_loss: 0.6072 - val_accuracy: 0.7321 - lr: 1.0000e-05\n",
            "Epoch 5/200\n",
            "25/25 [==============================] - ETA: 0s - loss: 0.6260 - accuracy: 0.6850\n",
            "Epoch 5: val_loss improved from 0.60720 to 0.59405, saving model to best_weights.h5\n",
            "25/25 [==============================] - 3s 135ms/step - loss: 0.6260 - accuracy: 0.6850 - val_loss: 0.5940 - val_accuracy: 0.7357 - lr: 1.0000e-05\n",
            "Epoch 6/200\n",
            "25/25 [==============================] - ETA: 0s - loss: 0.6173 - accuracy: 0.7044\n",
            "Epoch 6: val_loss improved from 0.59405 to 0.58499, saving model to best_weights.h5\n",
            "25/25 [==============================] - 3s 115ms/step - loss: 0.6173 - accuracy: 0.7044 - val_loss: 0.5850 - val_accuracy: 0.7429 - lr: 1.0000e-05\n",
            "Epoch 7/200\n",
            "25/25 [==============================] - ETA: 0s - loss: 0.6148 - accuracy: 0.7125\n",
            "Epoch 7: val_loss improved from 0.58499 to 0.57754, saving model to best_weights.h5\n",
            "25/25 [==============================] - 3s 125ms/step - loss: 0.6148 - accuracy: 0.7125 - val_loss: 0.5775 - val_accuracy: 0.7536 - lr: 1.0000e-05\n",
            "Epoch 8/200\n",
            "25/25 [==============================] - ETA: 0s - loss: 0.5981 - accuracy: 0.7244\n",
            "Epoch 8: val_loss improved from 0.57754 to 0.57256, saving model to best_weights.h5\n",
            "25/25 [==============================] - 3s 126ms/step - loss: 0.5981 - accuracy: 0.7244 - val_loss: 0.5726 - val_accuracy: 0.7464 - lr: 1.0000e-05\n",
            "Epoch 9/200\n",
            "25/25 [==============================] - ETA: 0s - loss: 0.5932 - accuracy: 0.7300\n",
            "Epoch 9: val_loss improved from 0.57256 to 0.56721, saving model to best_weights.h5\n",
            "25/25 [==============================] - 3s 116ms/step - loss: 0.5932 - accuracy: 0.7300 - val_loss: 0.5672 - val_accuracy: 0.7500 - lr: 1.0000e-05\n",
            "Epoch 10/200\n",
            "25/25 [==============================] - ETA: 0s - loss: 0.5858 - accuracy: 0.7356\n",
            "Epoch 10: val_loss improved from 0.56721 to 0.56307, saving model to best_weights.h5\n",
            "25/25 [==============================] - 3s 125ms/step - loss: 0.5858 - accuracy: 0.7356 - val_loss: 0.5631 - val_accuracy: 0.7464 - lr: 1.0000e-05\n",
            "Epoch 11/200\n",
            "25/25 [==============================] - ETA: 0s - loss: 0.5770 - accuracy: 0.7406\n",
            "Epoch 11: val_loss improved from 0.56307 to 0.55953, saving model to best_weights.h5\n",
            "25/25 [==============================] - 3s 125ms/step - loss: 0.5770 - accuracy: 0.7406 - val_loss: 0.5595 - val_accuracy: 0.7500 - lr: 1.0000e-05\n",
            "Epoch 12/200\n",
            "25/25 [==============================] - ETA: 0s - loss: 0.5724 - accuracy: 0.7450\n",
            "Epoch 12: val_loss improved from 0.55953 to 0.55663, saving model to best_weights.h5\n",
            "25/25 [==============================] - 3s 129ms/step - loss: 0.5724 - accuracy: 0.7450 - val_loss: 0.5566 - val_accuracy: 0.7536 - lr: 1.0000e-05\n",
            "Epoch 13/200\n",
            "25/25 [==============================] - ETA: 0s - loss: 0.5742 - accuracy: 0.7437\n",
            "Epoch 13: val_loss improved from 0.55663 to 0.55361, saving model to best_weights.h5\n",
            "25/25 [==============================] - 3s 118ms/step - loss: 0.5742 - accuracy: 0.7437 - val_loss: 0.5536 - val_accuracy: 0.7571 - lr: 1.0000e-05\n",
            "Epoch 14/200\n",
            "25/25 [==============================] - ETA: 0s - loss: 0.5718 - accuracy: 0.7444\n",
            "Epoch 14: val_loss improved from 0.55361 to 0.55121, saving model to best_weights.h5\n",
            "25/25 [==============================] - 3s 126ms/step - loss: 0.5718 - accuracy: 0.7444 - val_loss: 0.5512 - val_accuracy: 0.7571 - lr: 1.0000e-05\n",
            "Epoch 15/200\n",
            "25/25 [==============================] - ETA: 0s - loss: 0.5625 - accuracy: 0.7519\n",
            "Epoch 15: val_loss improved from 0.55121 to 0.54931, saving model to best_weights.h5\n",
            "25/25 [==============================] - 3s 115ms/step - loss: 0.5625 - accuracy: 0.7519 - val_loss: 0.5493 - val_accuracy: 0.7464 - lr: 1.0000e-05\n",
            "Epoch 16/200\n",
            "25/25 [==============================] - ETA: 0s - loss: 0.5654 - accuracy: 0.7519\n",
            "Epoch 16: val_loss improved from 0.54931 to 0.54684, saving model to best_weights.h5\n",
            "25/25 [==============================] - 4s 147ms/step - loss: 0.5654 - accuracy: 0.7519 - val_loss: 0.5468 - val_accuracy: 0.7464 - lr: 1.0000e-05\n",
            "Epoch 17/200\n",
            "25/25 [==============================] - ETA: 0s - loss: 0.5551 - accuracy: 0.7519\n",
            "Epoch 17: val_loss improved from 0.54684 to 0.54453, saving model to best_weights.h5\n",
            "25/25 [==============================] - 4s 153ms/step - loss: 0.5551 - accuracy: 0.7519 - val_loss: 0.5445 - val_accuracy: 0.7429 - lr: 1.0000e-05\n",
            "Epoch 18/200\n",
            "25/25 [==============================] - ETA: 0s - loss: 0.5514 - accuracy: 0.7550\n",
            "Epoch 18: val_loss improved from 0.54453 to 0.54315, saving model to best_weights.h5\n",
            "25/25 [==============================] - 3s 138ms/step - loss: 0.5514 - accuracy: 0.7550 - val_loss: 0.5431 - val_accuracy: 0.7536 - lr: 1.0000e-05\n",
            "Epoch 19/200\n",
            "25/25 [==============================] - ETA: 0s - loss: 0.5522 - accuracy: 0.7606\n",
            "Epoch 19: val_loss improved from 0.54315 to 0.54099, saving model to best_weights.h5\n",
            "25/25 [==============================] - 3s 135ms/step - loss: 0.5522 - accuracy: 0.7606 - val_loss: 0.5410 - val_accuracy: 0.7500 - lr: 1.0000e-05\n",
            "Epoch 20/200\n",
            "25/25 [==============================] - ETA: 0s - loss: 0.5589 - accuracy: 0.7531\n",
            "Epoch 20: val_loss improved from 0.54099 to 0.53925, saving model to best_weights.h5\n",
            "25/25 [==============================] - 4s 144ms/step - loss: 0.5589 - accuracy: 0.7531 - val_loss: 0.5392 - val_accuracy: 0.7536 - lr: 1.0000e-05\n",
            "Epoch 21/200\n",
            "25/25 [==============================] - ETA: 0s - loss: 0.5431 - accuracy: 0.7725\n",
            "Epoch 21: val_loss improved from 0.53925 to 0.53764, saving model to best_weights.h5\n",
            "25/25 [==============================] - 4s 154ms/step - loss: 0.5431 - accuracy: 0.7725 - val_loss: 0.5376 - val_accuracy: 0.7536 - lr: 1.0000e-05\n",
            "Epoch 22/200\n",
            "25/25 [==============================] - ETA: 0s - loss: 0.5404 - accuracy: 0.7656\n",
            "Epoch 22: val_loss improved from 0.53764 to 0.53601, saving model to best_weights.h5\n",
            "25/25 [==============================] - 3s 139ms/step - loss: 0.5404 - accuracy: 0.7656 - val_loss: 0.5360 - val_accuracy: 0.7536 - lr: 1.0000e-05\n",
            "Epoch 23/200\n",
            "25/25 [==============================] - ETA: 0s - loss: 0.5453 - accuracy: 0.7619\n",
            "Epoch 23: val_loss improved from 0.53601 to 0.53439, saving model to best_weights.h5\n",
            "25/25 [==============================] - 3s 136ms/step - loss: 0.5453 - accuracy: 0.7619 - val_loss: 0.5344 - val_accuracy: 0.7536 - lr: 1.0000e-05\n",
            "Epoch 24/200\n",
            "25/25 [==============================] - ETA: 0s - loss: 0.5314 - accuracy: 0.7613\n",
            "Epoch 24: val_loss improved from 0.53439 to 0.53300, saving model to best_weights.h5\n",
            "25/25 [==============================] - 3s 138ms/step - loss: 0.5314 - accuracy: 0.7613 - val_loss: 0.5330 - val_accuracy: 0.7536 - lr: 1.0000e-05\n",
            "Epoch 25/200\n",
            "25/25 [==============================] - ETA: 0s - loss: 0.5377 - accuracy: 0.7669\n",
            "Epoch 25: val_loss improved from 0.53300 to 0.53179, saving model to best_weights.h5\n",
            "25/25 [==============================] - 4s 144ms/step - loss: 0.5377 - accuracy: 0.7669 - val_loss: 0.5318 - val_accuracy: 0.7536 - lr: 1.0000e-05\n",
            "Epoch 26/200\n",
            "25/25 [==============================] - ETA: 0s - loss: 0.5371 - accuracy: 0.7631\n",
            "Epoch 26: val_loss improved from 0.53179 to 0.53069, saving model to best_weights.h5\n",
            "25/25 [==============================] - 4s 145ms/step - loss: 0.5371 - accuracy: 0.7631 - val_loss: 0.5307 - val_accuracy: 0.7500 - lr: 1.0000e-05\n",
            "Epoch 27/200\n",
            "25/25 [==============================] - ETA: 0s - loss: 0.5311 - accuracy: 0.7700\n",
            "Epoch 27: val_loss improved from 0.53069 to 0.52966, saving model to best_weights.h5\n",
            "25/25 [==============================] - 3s 135ms/step - loss: 0.5311 - accuracy: 0.7700 - val_loss: 0.5297 - val_accuracy: 0.7500 - lr: 1.0000e-05\n",
            "Epoch 28/200\n",
            "25/25 [==============================] - ETA: 0s - loss: 0.5254 - accuracy: 0.7725\n",
            "Epoch 28: val_loss improved from 0.52966 to 0.52867, saving model to best_weights.h5\n",
            "25/25 [==============================] - 3s 139ms/step - loss: 0.5254 - accuracy: 0.7725 - val_loss: 0.5287 - val_accuracy: 0.7571 - lr: 1.0000e-05\n",
            "Epoch 29/200\n",
            "25/25 [==============================] - ETA: 0s - loss: 0.5290 - accuracy: 0.7588\n",
            "Epoch 29: val_loss improved from 0.52867 to 0.52707, saving model to best_weights.h5\n",
            "25/25 [==============================] - 4s 145ms/step - loss: 0.5290 - accuracy: 0.7588 - val_loss: 0.5271 - val_accuracy: 0.7571 - lr: 1.0000e-05\n",
            "Epoch 30/200\n",
            "25/25 [==============================] - ETA: 0s - loss: 0.5297 - accuracy: 0.7713\n",
            "Epoch 30: val_loss improved from 0.52707 to 0.52606, saving model to best_weights.h5\n",
            "25/25 [==============================] - 4s 178ms/step - loss: 0.5297 - accuracy: 0.7713 - val_loss: 0.5261 - val_accuracy: 0.7571 - lr: 1.0000e-05\n",
            "Epoch 31/200\n",
            "25/25 [==============================] - ETA: 0s - loss: 0.5183 - accuracy: 0.7719\n",
            "Epoch 31: val_loss improved from 0.52606 to 0.52486, saving model to best_weights.h5\n",
            "25/25 [==============================] - 4s 142ms/step - loss: 0.5183 - accuracy: 0.7719 - val_loss: 0.5249 - val_accuracy: 0.7607 - lr: 1.0000e-05\n",
            "Epoch 32/200\n",
            "25/25 [==============================] - ETA: 0s - loss: 0.5237 - accuracy: 0.7719\n",
            "Epoch 32: val_loss improved from 0.52486 to 0.52421, saving model to best_weights.h5\n",
            "25/25 [==============================] - 3s 140ms/step - loss: 0.5237 - accuracy: 0.7719 - val_loss: 0.5242 - val_accuracy: 0.7571 - lr: 1.0000e-05\n",
            "Epoch 33/200\n",
            "25/25 [==============================] - ETA: 0s - loss: 0.5223 - accuracy: 0.7775\n",
            "Epoch 33: val_loss improved from 0.52421 to 0.52333, saving model to best_weights.h5\n",
            "25/25 [==============================] - 3s 134ms/step - loss: 0.5223 - accuracy: 0.7775 - val_loss: 0.5233 - val_accuracy: 0.7643 - lr: 1.0000e-05\n",
            "Epoch 34/200\n",
            "25/25 [==============================] - ETA: 0s - loss: 0.5154 - accuracy: 0.7788\n",
            "Epoch 34: val_loss improved from 0.52333 to 0.52241, saving model to best_weights.h5\n",
            "25/25 [==============================] - 3s 141ms/step - loss: 0.5154 - accuracy: 0.7788 - val_loss: 0.5224 - val_accuracy: 0.7643 - lr: 1.0000e-05\n",
            "Epoch 35/200\n",
            "25/25 [==============================] - ETA: 0s - loss: 0.5204 - accuracy: 0.7781\n",
            "Epoch 35: val_loss improved from 0.52241 to 0.52178, saving model to best_weights.h5\n",
            "25/25 [==============================] - 4s 142ms/step - loss: 0.5204 - accuracy: 0.7781 - val_loss: 0.5218 - val_accuracy: 0.7643 - lr: 1.0000e-05\n",
            "Epoch 36/200\n",
            "25/25 [==============================] - ETA: 0s - loss: 0.5092 - accuracy: 0.7825\n",
            "Epoch 36: val_loss improved from 0.52178 to 0.52074, saving model to best_weights.h5\n",
            "25/25 [==============================] - 3s 136ms/step - loss: 0.5092 - accuracy: 0.7825 - val_loss: 0.5207 - val_accuracy: 0.7679 - lr: 1.0000e-05\n",
            "Epoch 37/200\n",
            "25/25 [==============================] - ETA: 0s - loss: 0.5072 - accuracy: 0.7763\n",
            "Epoch 37: val_loss improved from 0.52074 to 0.51984, saving model to best_weights.h5\n",
            "25/25 [==============================] - 3s 137ms/step - loss: 0.5072 - accuracy: 0.7763 - val_loss: 0.5198 - val_accuracy: 0.7679 - lr: 1.0000e-05\n",
            "Epoch 38/200\n",
            "25/25 [==============================] - ETA: 0s - loss: 0.5103 - accuracy: 0.7837\n",
            "Epoch 38: val_loss improved from 0.51984 to 0.51924, saving model to best_weights.h5\n",
            "25/25 [==============================] - 4s 143ms/step - loss: 0.5103 - accuracy: 0.7837 - val_loss: 0.5192 - val_accuracy: 0.7714 - lr: 1.0000e-05\n",
            "Epoch 39/200\n",
            "25/25 [==============================] - ETA: 0s - loss: 0.5103 - accuracy: 0.7788\n",
            "Epoch 39: val_loss did not improve from 0.51924\n",
            "25/25 [==============================] - 3s 121ms/step - loss: 0.5103 - accuracy: 0.7788 - val_loss: 0.5198 - val_accuracy: 0.7714 - lr: 1.0000e-05\n",
            "Epoch 40/200\n",
            "25/25 [==============================] - ETA: 0s - loss: 0.5059 - accuracy: 0.7781\n",
            "Epoch 40: val_loss improved from 0.51924 to 0.51797, saving model to best_weights.h5\n",
            "25/25 [==============================] - 4s 144ms/step - loss: 0.5059 - accuracy: 0.7781 - val_loss: 0.5180 - val_accuracy: 0.7714 - lr: 1.0000e-05\n",
            "Epoch 41/200\n",
            "25/25 [==============================] - ETA: 0s - loss: 0.4996 - accuracy: 0.7844\n",
            "Epoch 41: val_loss improved from 0.51797 to 0.51751, saving model to best_weights.h5\n",
            "25/25 [==============================] - 3s 135ms/step - loss: 0.4996 - accuracy: 0.7844 - val_loss: 0.5175 - val_accuracy: 0.7679 - lr: 1.0000e-05\n",
            "Epoch 42/200\n",
            "25/25 [==============================] - ETA: 0s - loss: 0.5013 - accuracy: 0.7819\n",
            "Epoch 42: val_loss improved from 0.51751 to 0.51690, saving model to best_weights.h5\n",
            "25/25 [==============================] - 3s 133ms/step - loss: 0.5013 - accuracy: 0.7819 - val_loss: 0.5169 - val_accuracy: 0.7679 - lr: 1.0000e-05\n",
            "Epoch 43/200\n",
            "25/25 [==============================] - ETA: 0s - loss: 0.5002 - accuracy: 0.7919\n",
            "Epoch 43: val_loss improved from 0.51690 to 0.51630, saving model to best_weights.h5\n",
            "25/25 [==============================] - 4s 157ms/step - loss: 0.5002 - accuracy: 0.7919 - val_loss: 0.5163 - val_accuracy: 0.7679 - lr: 1.0000e-05\n",
            "Epoch 44/200\n",
            "25/25 [==============================] - ETA: 0s - loss: 0.5000 - accuracy: 0.7800\n",
            "Epoch 44: val_loss improved from 0.51630 to 0.51587, saving model to best_weights.h5\n",
            "25/25 [==============================] - 3s 140ms/step - loss: 0.5000 - accuracy: 0.7800 - val_loss: 0.5159 - val_accuracy: 0.7714 - lr: 1.0000e-05\n",
            "Epoch 45/200\n",
            "25/25 [==============================] - ETA: 0s - loss: 0.5026 - accuracy: 0.7856\n",
            "Epoch 45: val_loss improved from 0.51587 to 0.51524, saving model to best_weights.h5\n",
            "25/25 [==============================] - 3s 127ms/step - loss: 0.5026 - accuracy: 0.7856 - val_loss: 0.5152 - val_accuracy: 0.7714 - lr: 1.0000e-05\n",
            "Epoch 46/200\n",
            "25/25 [==============================] - ETA: 0s - loss: 0.4875 - accuracy: 0.7887\n",
            "Epoch 46: val_loss improved from 0.51524 to 0.51472, saving model to best_weights.h5\n",
            "25/25 [==============================] - 3s 136ms/step - loss: 0.4875 - accuracy: 0.7887 - val_loss: 0.5147 - val_accuracy: 0.7643 - lr: 1.0000e-05\n",
            "Epoch 47/200\n",
            "25/25 [==============================] - ETA: 0s - loss: 0.4933 - accuracy: 0.7844\n",
            "Epoch 47: val_loss improved from 0.51472 to 0.51426, saving model to best_weights.h5\n",
            "25/25 [==============================] - 4s 156ms/step - loss: 0.4933 - accuracy: 0.7844 - val_loss: 0.5143 - val_accuracy: 0.7679 - lr: 1.0000e-05\n",
            "Epoch 48/200\n",
            "25/25 [==============================] - ETA: 0s - loss: 0.4895 - accuracy: 0.7862\n",
            "Epoch 48: val_loss improved from 0.51426 to 0.51404, saving model to best_weights.h5\n",
            "25/25 [==============================] - 4s 143ms/step - loss: 0.4895 - accuracy: 0.7862 - val_loss: 0.5140 - val_accuracy: 0.7714 - lr: 1.0000e-05\n",
            "Epoch 49/200\n",
            "25/25 [==============================] - ETA: 0s - loss: 0.4950 - accuracy: 0.7862\n",
            "Epoch 49: val_loss improved from 0.51404 to 0.51338, saving model to best_weights.h5\n",
            "25/25 [==============================] - 3s 137ms/step - loss: 0.4950 - accuracy: 0.7862 - val_loss: 0.5134 - val_accuracy: 0.7643 - lr: 1.0000e-05\n",
            "Epoch 50/200\n",
            "25/25 [==============================] - ETA: 0s - loss: 0.4874 - accuracy: 0.7912\n",
            "Epoch 50: val_loss improved from 0.51338 to 0.51288, saving model to best_weights.h5\n",
            "25/25 [==============================] - 3s 138ms/step - loss: 0.4874 - accuracy: 0.7912 - val_loss: 0.5129 - val_accuracy: 0.7679 - lr: 1.0000e-05\n",
            "Epoch 51/200\n",
            "25/25 [==============================] - ETA: 0s - loss: 0.4853 - accuracy: 0.7994\n",
            "Epoch 51: val_loss improved from 0.51288 to 0.51257, saving model to best_weights.h5\n",
            "25/25 [==============================] - 3s 141ms/step - loss: 0.4853 - accuracy: 0.7994 - val_loss: 0.5126 - val_accuracy: 0.7643 - lr: 1.0000e-05\n",
            "Epoch 52/200\n",
            "25/25 [==============================] - ETA: 0s - loss: 0.4872 - accuracy: 0.7837\n",
            "Epoch 52: val_loss improved from 0.51257 to 0.51231, saving model to best_weights.h5\n",
            "25/25 [==============================] - 4s 144ms/step - loss: 0.4872 - accuracy: 0.7837 - val_loss: 0.5123 - val_accuracy: 0.7714 - lr: 1.0000e-05\n",
            "Epoch 53/200\n",
            "25/25 [==============================] - ETA: 0s - loss: 0.4864 - accuracy: 0.7831\n",
            "Epoch 53: val_loss improved from 0.51231 to 0.51168, saving model to best_weights.h5\n",
            "25/25 [==============================] - 3s 139ms/step - loss: 0.4864 - accuracy: 0.7831 - val_loss: 0.5117 - val_accuracy: 0.7679 - lr: 1.0000e-05\n",
            "Epoch 54/200\n",
            "25/25 [==============================] - ETA: 0s - loss: 0.4891 - accuracy: 0.7937\n",
            "Epoch 54: val_loss improved from 0.51168 to 0.51106, saving model to best_weights.h5\n",
            "25/25 [==============================] - 3s 140ms/step - loss: 0.4891 - accuracy: 0.7937 - val_loss: 0.5111 - val_accuracy: 0.7679 - lr: 1.0000e-05\n",
            "Epoch 55/200\n",
            "25/25 [==============================] - ETA: 0s - loss: 0.4864 - accuracy: 0.8019\n",
            "Epoch 55: val_loss improved from 0.51106 to 0.51081, saving model to best_weights.h5\n",
            "25/25 [==============================] - 4s 147ms/step - loss: 0.4864 - accuracy: 0.8019 - val_loss: 0.5108 - val_accuracy: 0.7679 - lr: 1.0000e-05\n",
            "Epoch 56/200\n",
            "25/25 [==============================] - ETA: 0s - loss: 0.4845 - accuracy: 0.7969\n",
            "Epoch 56: val_loss improved from 0.51081 to 0.51036, saving model to best_weights.h5\n",
            "25/25 [==============================] - 4s 152ms/step - loss: 0.4845 - accuracy: 0.7969 - val_loss: 0.5104 - val_accuracy: 0.7714 - lr: 1.0000e-05\n",
            "Epoch 57/200\n",
            "25/25 [==============================] - ETA: 0s - loss: 0.4858 - accuracy: 0.7981\n",
            "Epoch 57: val_loss improved from 0.51036 to 0.51032, saving model to best_weights.h5\n",
            "25/25 [==============================] - 3s 140ms/step - loss: 0.4858 - accuracy: 0.7981 - val_loss: 0.5103 - val_accuracy: 0.7714 - lr: 1.0000e-05\n",
            "Epoch 58/200\n",
            "25/25 [==============================] - ETA: 0s - loss: 0.4825 - accuracy: 0.7981\n",
            "Epoch 58: val_loss improved from 0.51032 to 0.50996, saving model to best_weights.h5\n",
            "25/25 [==============================] - 3s 131ms/step - loss: 0.4825 - accuracy: 0.7981 - val_loss: 0.5100 - val_accuracy: 0.7714 - lr: 1.0000e-05\n",
            "Epoch 59/200\n",
            "25/25 [==============================] - ETA: 0s - loss: 0.4776 - accuracy: 0.7956\n",
            "Epoch 59: val_loss improved from 0.50996 to 0.50967, saving model to best_weights.h5\n",
            "25/25 [==============================] - 3s 138ms/step - loss: 0.4776 - accuracy: 0.7956 - val_loss: 0.5097 - val_accuracy: 0.7571 - lr: 1.0000e-05\n",
            "Epoch 60/200\n",
            "25/25 [==============================] - ETA: 0s - loss: 0.4676 - accuracy: 0.8031\n",
            "Epoch 60: val_loss improved from 0.50967 to 0.50935, saving model to best_weights.h5\n",
            "25/25 [==============================] - 4s 151ms/step - loss: 0.4676 - accuracy: 0.8031 - val_loss: 0.5093 - val_accuracy: 0.7750 - lr: 1.0000e-05\n",
            "Epoch 61/200\n",
            "25/25 [==============================] - ETA: 0s - loss: 0.4771 - accuracy: 0.7881\n",
            "Epoch 61: val_loss improved from 0.50935 to 0.50883, saving model to best_weights.h5\n",
            "25/25 [==============================] - 4s 146ms/step - loss: 0.4771 - accuracy: 0.7881 - val_loss: 0.5088 - val_accuracy: 0.7679 - lr: 1.0000e-05\n",
            "Epoch 62/200\n",
            "25/25 [==============================] - ETA: 0s - loss: 0.4770 - accuracy: 0.8069\n",
            "Epoch 62: val_loss improved from 0.50883 to 0.50852, saving model to best_weights.h5\n",
            "25/25 [==============================] - 3s 132ms/step - loss: 0.4770 - accuracy: 0.8069 - val_loss: 0.5085 - val_accuracy: 0.7643 - lr: 1.0000e-05\n",
            "Epoch 63/200\n",
            "25/25 [==============================] - ETA: 0s - loss: 0.4748 - accuracy: 0.7987\n",
            "Epoch 63: val_loss improved from 0.50852 to 0.50823, saving model to best_weights.h5\n",
            "25/25 [==============================] - 3s 131ms/step - loss: 0.4748 - accuracy: 0.7987 - val_loss: 0.5082 - val_accuracy: 0.7643 - lr: 1.0000e-05\n",
            "Epoch 64/200\n",
            "25/25 [==============================] - ETA: 0s - loss: 0.4738 - accuracy: 0.7950\n",
            "Epoch 64: val_loss improved from 0.50823 to 0.50803, saving model to best_weights.h5\n",
            "25/25 [==============================] - 4s 144ms/step - loss: 0.4738 - accuracy: 0.7950 - val_loss: 0.5080 - val_accuracy: 0.7714 - lr: 1.0000e-05\n",
            "Epoch 65/200\n",
            "25/25 [==============================] - ETA: 0s - loss: 0.4755 - accuracy: 0.7969\n",
            "Epoch 65: val_loss improved from 0.50803 to 0.50779, saving model to best_weights.h5\n",
            "25/25 [==============================] - 4s 150ms/step - loss: 0.4755 - accuracy: 0.7969 - val_loss: 0.5078 - val_accuracy: 0.7679 - lr: 1.0000e-05\n",
            "Epoch 66/200\n",
            "25/25 [==============================] - ETA: 0s - loss: 0.4783 - accuracy: 0.8037\n",
            "Epoch 66: val_loss improved from 0.50779 to 0.50734, saving model to best_weights.h5\n",
            "25/25 [==============================] - 3s 141ms/step - loss: 0.4783 - accuracy: 0.8037 - val_loss: 0.5073 - val_accuracy: 0.7643 - lr: 1.0000e-05\n",
            "Epoch 67/200\n",
            "25/25 [==============================] - ETA: 0s - loss: 0.4703 - accuracy: 0.8019\n",
            "Epoch 67: val_loss improved from 0.50734 to 0.50734, saving model to best_weights.h5\n",
            "25/25 [==============================] - 3s 138ms/step - loss: 0.4703 - accuracy: 0.8019 - val_loss: 0.5073 - val_accuracy: 0.7643 - lr: 1.0000e-05\n",
            "Epoch 68/200\n",
            "25/25 [==============================] - ETA: 0s - loss: 0.4723 - accuracy: 0.7975\n",
            "Epoch 68: val_loss did not improve from 0.50734\n",
            "25/25 [==============================] - 3s 121ms/step - loss: 0.4723 - accuracy: 0.7975 - val_loss: 0.5074 - val_accuracy: 0.7679 - lr: 1.0000e-05\n",
            "Epoch 69/200\n",
            "25/25 [==============================] - ETA: 0s - loss: 0.4736 - accuracy: 0.8012\n",
            "Epoch 69: val_loss improved from 0.50734 to 0.50731, saving model to best_weights.h5\n",
            "25/25 [==============================] - 4s 147ms/step - loss: 0.4736 - accuracy: 0.8012 - val_loss: 0.5073 - val_accuracy: 0.7714 - lr: 1.0000e-05\n",
            "Epoch 70/200\n",
            "25/25 [==============================] - ETA: 0s - loss: 0.4646 - accuracy: 0.8069\n",
            "Epoch 70: val_loss improved from 0.50731 to 0.50693, saving model to best_weights.h5\n",
            "25/25 [==============================] - 3s 137ms/step - loss: 0.4646 - accuracy: 0.8069 - val_loss: 0.5069 - val_accuracy: 0.7679 - lr: 1.0000e-05\n",
            "Epoch 71/200\n",
            "25/25 [==============================] - ETA: 0s - loss: 0.4674 - accuracy: 0.8062\n",
            "Epoch 71: val_loss improved from 0.50693 to 0.50634, saving model to best_weights.h5\n",
            "25/25 [==============================] - 3s 140ms/step - loss: 0.4674 - accuracy: 0.8062 - val_loss: 0.5063 - val_accuracy: 0.7714 - lr: 1.0000e-05\n",
            "Epoch 72/200\n",
            "25/25 [==============================] - ETA: 0s - loss: 0.4671 - accuracy: 0.8044\n",
            "Epoch 72: val_loss improved from 0.50634 to 0.50627, saving model to best_weights.h5\n",
            "25/25 [==============================] - 3s 130ms/step - loss: 0.4671 - accuracy: 0.8044 - val_loss: 0.5063 - val_accuracy: 0.7679 - lr: 1.0000e-05\n",
            "Epoch 73/200\n",
            "25/25 [==============================] - ETA: 0s - loss: 0.4657 - accuracy: 0.8025\n",
            "Epoch 73: val_loss did not improve from 0.50627\n",
            "25/25 [==============================] - 3s 126ms/step - loss: 0.4657 - accuracy: 0.8025 - val_loss: 0.5064 - val_accuracy: 0.7714 - lr: 1.0000e-05\n",
            "Epoch 74/200\n",
            "25/25 [==============================] - ETA: 0s - loss: 0.4662 - accuracy: 0.8037\n",
            "Epoch 74: val_loss improved from 0.50627 to 0.50623, saving model to best_weights.h5\n",
            "25/25 [==============================] - 4s 155ms/step - loss: 0.4662 - accuracy: 0.8037 - val_loss: 0.5062 - val_accuracy: 0.7714 - lr: 1.0000e-05\n",
            "Epoch 75/200\n",
            "25/25 [==============================] - ETA: 0s - loss: 0.4615 - accuracy: 0.8094\n",
            "Epoch 75: val_loss improved from 0.50623 to 0.50616, saving model to best_weights.h5\n",
            "25/25 [==============================] - 3s 138ms/step - loss: 0.4615 - accuracy: 0.8094 - val_loss: 0.5062 - val_accuracy: 0.7679 - lr: 1.0000e-05\n",
            "Epoch 76/200\n",
            "25/25 [==============================] - ETA: 0s - loss: 0.4625 - accuracy: 0.8031\n",
            "Epoch 76: val_loss improved from 0.50616 to 0.50588, saving model to best_weights.h5\n",
            "25/25 [==============================] - 4s 142ms/step - loss: 0.4625 - accuracy: 0.8031 - val_loss: 0.5059 - val_accuracy: 0.7714 - lr: 1.0000e-05\n",
            "Epoch 77/200\n",
            "25/25 [==============================] - ETA: 0s - loss: 0.4599 - accuracy: 0.8087\n",
            "Epoch 77: val_loss did not improve from 0.50588\n",
            "25/25 [==============================] - 3s 113ms/step - loss: 0.4599 - accuracy: 0.8087 - val_loss: 0.5061 - val_accuracy: 0.7714 - lr: 1.0000e-05\n",
            "Epoch 78/200\n",
            "25/25 [==============================] - ETA: 0s - loss: 0.4606 - accuracy: 0.8025\n",
            "Epoch 78: val_loss improved from 0.50588 to 0.50537, saving model to best_weights.h5\n",
            "25/25 [==============================] - 4s 151ms/step - loss: 0.4606 - accuracy: 0.8025 - val_loss: 0.5054 - val_accuracy: 0.7714 - lr: 1.0000e-05\n",
            "Epoch 79/200\n",
            "25/25 [==============================] - ETA: 0s - loss: 0.4614 - accuracy: 0.8044\n",
            "Epoch 79: val_loss did not improve from 0.50537\n",
            "25/25 [==============================] - 3s 118ms/step - loss: 0.4614 - accuracy: 0.8044 - val_loss: 0.5055 - val_accuracy: 0.7714 - lr: 1.0000e-05\n",
            "Epoch 80/200\n",
            "25/25 [==============================] - ETA: 0s - loss: 0.4578 - accuracy: 0.8119\n",
            "Epoch 80: val_loss improved from 0.50537 to 0.50535, saving model to best_weights.h5\n",
            "25/25 [==============================] - 3s 131ms/step - loss: 0.4578 - accuracy: 0.8119 - val_loss: 0.5053 - val_accuracy: 0.7714 - lr: 1.0000e-05\n",
            "Epoch 81/200\n",
            "25/25 [==============================] - ETA: 0s - loss: 0.4578 - accuracy: 0.8037\n",
            "Epoch 81: val_loss improved from 0.50535 to 0.50520, saving model to best_weights.h5\n",
            "25/25 [==============================] - 3s 131ms/step - loss: 0.4578 - accuracy: 0.8037 - val_loss: 0.5052 - val_accuracy: 0.7750 - lr: 1.0000e-05\n",
            "Epoch 82/200\n",
            "25/25 [==============================] - ETA: 0s - loss: 0.4549 - accuracy: 0.8037\n",
            "Epoch 82: val_loss improved from 0.50520 to 0.50490, saving model to best_weights.h5\n",
            "25/25 [==============================] - 3s 140ms/step - loss: 0.4549 - accuracy: 0.8037 - val_loss: 0.5049 - val_accuracy: 0.7750 - lr: 1.0000e-05\n",
            "Epoch 83/200\n",
            "25/25 [==============================] - ETA: 0s - loss: 0.4530 - accuracy: 0.8112\n",
            "Epoch 83: val_loss improved from 0.50490 to 0.50478, saving model to best_weights.h5\n",
            "25/25 [==============================] - 4s 160ms/step - loss: 0.4530 - accuracy: 0.8112 - val_loss: 0.5048 - val_accuracy: 0.7750 - lr: 1.0000e-05\n",
            "Epoch 84/200\n",
            "25/25 [==============================] - ETA: 0s - loss: 0.4486 - accuracy: 0.8194\n",
            "Epoch 84: val_loss improved from 0.50478 to 0.50423, saving model to best_weights.h5\n",
            "25/25 [==============================] - 3s 133ms/step - loss: 0.4486 - accuracy: 0.8194 - val_loss: 0.5042 - val_accuracy: 0.7714 - lr: 1.0000e-05\n",
            "Epoch 85/200\n",
            "25/25 [==============================] - ETA: 0s - loss: 0.4504 - accuracy: 0.8163\n",
            "Epoch 85: val_loss did not improve from 0.50423\n",
            "25/25 [==============================] - 3s 121ms/step - loss: 0.4504 - accuracy: 0.8163 - val_loss: 0.5045 - val_accuracy: 0.7750 - lr: 1.0000e-05\n",
            "Epoch 86/200\n",
            "25/25 [==============================] - ETA: 0s - loss: 0.4502 - accuracy: 0.8213\n",
            "Epoch 86: val_loss did not improve from 0.50423\n",
            "25/25 [==============================] - 3s 110ms/step - loss: 0.4502 - accuracy: 0.8213 - val_loss: 0.5043 - val_accuracy: 0.7679 - lr: 1.0000e-05\n",
            "Epoch 87/200\n",
            "25/25 [==============================] - ETA: 0s - loss: 0.4478 - accuracy: 0.8050\n",
            "Epoch 87: val_loss did not improve from 0.50423\n",
            "25/25 [==============================] - 3s 125ms/step - loss: 0.4478 - accuracy: 0.8050 - val_loss: 0.5043 - val_accuracy: 0.7750 - lr: 1.0000e-05\n",
            "Epoch 88/200\n",
            "25/25 [==============================] - ETA: 0s - loss: 0.4480 - accuracy: 0.8125\n",
            "Epoch 88: val_loss improved from 0.50423 to 0.50379, saving model to best_weights.h5\n",
            "25/25 [==============================] - 4s 147ms/step - loss: 0.4480 - accuracy: 0.8125 - val_loss: 0.5038 - val_accuracy: 0.7750 - lr: 1.0000e-05\n",
            "Epoch 89/200\n",
            "25/25 [==============================] - ETA: 0s - loss: 0.4428 - accuracy: 0.8213\n",
            "Epoch 89: val_loss improved from 0.50379 to 0.50366, saving model to best_weights.h5\n",
            "25/25 [==============================] - 3s 134ms/step - loss: 0.4428 - accuracy: 0.8213 - val_loss: 0.5037 - val_accuracy: 0.7750 - lr: 1.0000e-05\n",
            "Epoch 90/200\n",
            "25/25 [==============================] - ETA: 0s - loss: 0.4448 - accuracy: 0.8138\n",
            "Epoch 90: val_loss improved from 0.50366 to 0.50360, saving model to best_weights.h5\n",
            "25/25 [==============================] - 4s 143ms/step - loss: 0.4448 - accuracy: 0.8138 - val_loss: 0.5036 - val_accuracy: 0.7750 - lr: 1.0000e-05\n",
            "Epoch 91/200\n",
            "25/25 [==============================] - ETA: 0s - loss: 0.4447 - accuracy: 0.8206\n",
            "Epoch 91: val_loss improved from 0.50360 to 0.50353, saving model to best_weights.h5\n",
            "25/25 [==============================] - 4s 145ms/step - loss: 0.4447 - accuracy: 0.8206 - val_loss: 0.5035 - val_accuracy: 0.7786 - lr: 1.0000e-05\n",
            "Epoch 92/200\n",
            "25/25 [==============================] - ETA: 0s - loss: 0.4466 - accuracy: 0.8175\n",
            "Epoch 92: val_loss improved from 0.50353 to 0.50329, saving model to best_weights.h5\n",
            "25/25 [==============================] - 4s 157ms/step - loss: 0.4466 - accuracy: 0.8175 - val_loss: 0.5033 - val_accuracy: 0.7679 - lr: 1.0000e-05\n",
            "Epoch 93/200\n",
            "25/25 [==============================] - ETA: 0s - loss: 0.4483 - accuracy: 0.8156\n",
            "Epoch 93: val_loss did not improve from 0.50329\n",
            "25/25 [==============================] - 3s 114ms/step - loss: 0.4483 - accuracy: 0.8156 - val_loss: 0.5036 - val_accuracy: 0.7750 - lr: 1.0000e-05\n",
            "Epoch 94/200\n",
            "25/25 [==============================] - ETA: 0s - loss: 0.4423 - accuracy: 0.8119\n",
            "Epoch 94: val_loss improved from 0.50329 to 0.50294, saving model to best_weights.h5\n",
            "25/25 [==============================] - 3s 131ms/step - loss: 0.4423 - accuracy: 0.8119 - val_loss: 0.5029 - val_accuracy: 0.7714 - lr: 1.0000e-05\n",
            "Epoch 95/200\n",
            "25/25 [==============================] - ETA: 0s - loss: 0.4395 - accuracy: 0.8175\n",
            "Epoch 95: val_loss did not improve from 0.50294\n",
            "25/25 [==============================] - 3s 112ms/step - loss: 0.4395 - accuracy: 0.8175 - val_loss: 0.5030 - val_accuracy: 0.7750 - lr: 1.0000e-05\n",
            "Epoch 96/200\n",
            "25/25 [==============================] - ETA: 0s - loss: 0.4442 - accuracy: 0.8150\n",
            "Epoch 96: val_loss improved from 0.50294 to 0.50275, saving model to best_weights.h5\n",
            "25/25 [==============================] - 3s 141ms/step - loss: 0.4442 - accuracy: 0.8150 - val_loss: 0.5027 - val_accuracy: 0.7714 - lr: 1.0000e-05\n",
            "Epoch 97/200\n",
            "25/25 [==============================] - ETA: 0s - loss: 0.4411 - accuracy: 0.8181\n",
            "Epoch 97: val_loss improved from 0.50275 to 0.50257, saving model to best_weights.h5\n",
            "25/25 [==============================] - 4s 146ms/step - loss: 0.4411 - accuracy: 0.8181 - val_loss: 0.5026 - val_accuracy: 0.7750 - lr: 1.0000e-05\n",
            "Epoch 98/200\n",
            "25/25 [==============================] - ETA: 0s - loss: 0.4315 - accuracy: 0.8244\n",
            "Epoch 98: val_loss did not improve from 0.50257\n",
            "25/25 [==============================] - 3s 120ms/step - loss: 0.4315 - accuracy: 0.8244 - val_loss: 0.5032 - val_accuracy: 0.7786 - lr: 1.0000e-05\n",
            "Epoch 99/200\n",
            "25/25 [==============================] - ETA: 0s - loss: 0.4315 - accuracy: 0.8213\n",
            "Epoch 99: val_loss improved from 0.50257 to 0.50255, saving model to best_weights.h5\n",
            "25/25 [==============================] - 3s 140ms/step - loss: 0.4315 - accuracy: 0.8213 - val_loss: 0.5026 - val_accuracy: 0.7714 - lr: 1.0000e-05\n",
            "Epoch 100/200\n",
            "25/25 [==============================] - ETA: 0s - loss: 0.4427 - accuracy: 0.8169\n",
            "Epoch 100: val_loss improved from 0.50255 to 0.50247, saving model to best_weights.h5\n",
            "25/25 [==============================] - 3s 130ms/step - loss: 0.4427 - accuracy: 0.8169 - val_loss: 0.5025 - val_accuracy: 0.7714 - lr: 1.0000e-05\n",
            "Epoch 101/200\n",
            "25/25 [==============================] - ETA: 0s - loss: 0.4401 - accuracy: 0.8256\n",
            "Epoch 101: val_loss did not improve from 0.50247\n",
            "25/25 [==============================] - 3s 129ms/step - loss: 0.4401 - accuracy: 0.8256 - val_loss: 0.5025 - val_accuracy: 0.7786 - lr: 1.0000e-05\n",
            "Epoch 102/200\n",
            "25/25 [==============================] - ETA: 0s - loss: 0.4395 - accuracy: 0.8169\n",
            "Epoch 102: val_loss improved from 0.50247 to 0.50228, saving model to best_weights.h5\n",
            "25/25 [==============================] - 4s 150ms/step - loss: 0.4395 - accuracy: 0.8169 - val_loss: 0.5023 - val_accuracy: 0.7750 - lr: 1.0000e-05\n",
            "Epoch 103/200\n",
            "25/25 [==============================] - ETA: 0s - loss: 0.4388 - accuracy: 0.8194\n",
            "Epoch 103: val_loss improved from 0.50228 to 0.50218, saving model to best_weights.h5\n",
            "25/25 [==============================] - 3s 132ms/step - loss: 0.4388 - accuracy: 0.8194 - val_loss: 0.5022 - val_accuracy: 0.7679 - lr: 1.0000e-05\n",
            "Epoch 104/200\n",
            "25/25 [==============================] - ETA: 0s - loss: 0.4322 - accuracy: 0.8219\n",
            "Epoch 104: val_loss improved from 0.50218 to 0.50200, saving model to best_weights.h5\n",
            "25/25 [==============================] - 3s 132ms/step - loss: 0.4322 - accuracy: 0.8219 - val_loss: 0.5020 - val_accuracy: 0.7714 - lr: 1.0000e-05\n",
            "Epoch 105/200\n",
            "25/25 [==============================] - ETA: 0s - loss: 0.4371 - accuracy: 0.8163\n",
            "Epoch 105: val_loss did not improve from 0.50200\n",
            "25/25 [==============================] - 3s 120ms/step - loss: 0.4371 - accuracy: 0.8163 - val_loss: 0.5027 - val_accuracy: 0.7786 - lr: 1.0000e-05\n",
            "Epoch 106/200\n",
            "25/25 [==============================] - ETA: 0s - loss: 0.4283 - accuracy: 0.8256\n",
            "Epoch 106: val_loss did not improve from 0.50200\n",
            "25/25 [==============================] - 3s 131ms/step - loss: 0.4283 - accuracy: 0.8256 - val_loss: 0.5021 - val_accuracy: 0.7679 - lr: 1.0000e-05\n",
            "Epoch 107/200\n",
            "25/25 [==============================] - ETA: 0s - loss: 0.4309 - accuracy: 0.8219\n",
            "Epoch 107: val_loss did not improve from 0.50200\n",
            "25/25 [==============================] - 3s 119ms/step - loss: 0.4309 - accuracy: 0.8219 - val_loss: 0.5024 - val_accuracy: 0.7750 - lr: 1.0000e-05\n",
            "Epoch 108/200\n",
            "25/25 [==============================] - ETA: 0s - loss: 0.4289 - accuracy: 0.8188\n",
            "Epoch 108: val_loss improved from 0.50200 to 0.50171, saving model to best_weights.h5\n",
            "25/25 [==============================] - 4s 143ms/step - loss: 0.4289 - accuracy: 0.8188 - val_loss: 0.5017 - val_accuracy: 0.7750 - lr: 1.0000e-05\n",
            "Epoch 109/200\n",
            "25/25 [==============================] - ETA: 0s - loss: 0.4250 - accuracy: 0.8431\n",
            "Epoch 109: val_loss improved from 0.50171 to 0.50154, saving model to best_weights.h5\n",
            "25/25 [==============================] - 3s 130ms/step - loss: 0.4250 - accuracy: 0.8431 - val_loss: 0.5015 - val_accuracy: 0.7750 - lr: 1.0000e-05\n",
            "Epoch 110/200\n",
            "25/25 [==============================] - ETA: 0s - loss: 0.4240 - accuracy: 0.8331\n",
            "Epoch 110: val_loss did not improve from 0.50154\n",
            "25/25 [==============================] - 3s 122ms/step - loss: 0.4240 - accuracy: 0.8331 - val_loss: 0.5019 - val_accuracy: 0.7750 - lr: 1.0000e-05\n",
            "Epoch 111/200\n",
            "25/25 [==============================] - ETA: 0s - loss: 0.4266 - accuracy: 0.8338\n",
            "Epoch 111: val_loss did not improve from 0.50154\n",
            "25/25 [==============================] - 3s 127ms/step - loss: 0.4266 - accuracy: 0.8338 - val_loss: 0.5019 - val_accuracy: 0.7786 - lr: 1.0000e-05\n",
            "Epoch 112/200\n",
            "25/25 [==============================] - ETA: 0s - loss: 0.4311 - accuracy: 0.8225\n",
            "Epoch 112: val_loss improved from 0.50154 to 0.50151, saving model to best_weights.h5\n",
            "25/25 [==============================] - 4s 162ms/step - loss: 0.4311 - accuracy: 0.8225 - val_loss: 0.5015 - val_accuracy: 0.7750 - lr: 1.0000e-05\n",
            "Epoch 113/200\n",
            "25/25 [==============================] - ETA: 0s - loss: 0.4305 - accuracy: 0.8225\n",
            "Epoch 113: val_loss improved from 0.50151 to 0.50142, saving model to best_weights.h5\n",
            "25/25 [==============================] - 3s 140ms/step - loss: 0.4305 - accuracy: 0.8225 - val_loss: 0.5014 - val_accuracy: 0.7679 - lr: 1.0000e-05\n",
            "Epoch 114/200\n",
            "25/25 [==============================] - ETA: 0s - loss: 0.4289 - accuracy: 0.8275\n",
            "Epoch 114: val_loss did not improve from 0.50142\n",
            "25/25 [==============================] - 3s 114ms/step - loss: 0.4289 - accuracy: 0.8275 - val_loss: 0.5022 - val_accuracy: 0.7821 - lr: 1.0000e-05\n",
            "Epoch 115/200\n",
            "25/25 [==============================] - ETA: 0s - loss: 0.4301 - accuracy: 0.8206\n",
            "Epoch 115: val_loss did not improve from 0.50142\n",
            "25/25 [==============================] - 3s 124ms/step - loss: 0.4301 - accuracy: 0.8206 - val_loss: 0.5015 - val_accuracy: 0.7714 - lr: 1.0000e-05\n",
            "Epoch 116/200\n",
            "25/25 [==============================] - ETA: 0s - loss: 0.4243 - accuracy: 0.8256\n",
            "Epoch 116: val_loss did not improve from 0.50142\n",
            "25/25 [==============================] - 3s 130ms/step - loss: 0.4243 - accuracy: 0.8256 - val_loss: 0.5016 - val_accuracy: 0.7821 - lr: 1.0000e-05\n",
            "Epoch 117/200\n",
            "25/25 [==============================] - ETA: 0s - loss: 0.4290 - accuracy: 0.8300\n",
            "Epoch 117: val_loss did not improve from 0.50142\n",
            "25/25 [==============================] - 3s 122ms/step - loss: 0.4290 - accuracy: 0.8300 - val_loss: 0.5016 - val_accuracy: 0.7750 - lr: 1.0000e-05\n",
            "Epoch 118/200\n",
            "25/25 [==============================] - ETA: 0s - loss: 0.4230 - accuracy: 0.8263\n",
            "Epoch 118: val_loss did not improve from 0.50142\n",
            "25/25 [==============================] - 3s 121ms/step - loss: 0.4230 - accuracy: 0.8263 - val_loss: 0.5015 - val_accuracy: 0.7786 - lr: 1.0000e-05\n",
            "Epoch 119/200\n",
            "25/25 [==============================] - ETA: 0s - loss: 0.4202 - accuracy: 0.8319\n",
            "Epoch 119: val_loss did not improve from 0.50142\n",
            "25/25 [==============================] - 3s 111ms/step - loss: 0.4202 - accuracy: 0.8319 - val_loss: 0.5015 - val_accuracy: 0.7750 - lr: 1.0000e-05\n",
            "Epoch 120/200\n",
            "25/25 [==============================] - ETA: 0s - loss: 0.4244 - accuracy: 0.8313\n",
            "Epoch 120: val_loss improved from 0.50142 to 0.50121, saving model to best_weights.h5\n",
            "25/25 [==============================] - 3s 133ms/step - loss: 0.4244 - accuracy: 0.8313 - val_loss: 0.5012 - val_accuracy: 0.7679 - lr: 1.0000e-05\n",
            "Epoch 121/200\n",
            "25/25 [==============================] - ETA: 0s - loss: 0.4207 - accuracy: 0.8163\n",
            "Epoch 121: val_loss improved from 0.50121 to 0.50115, saving model to best_weights.h5\n",
            "25/25 [==============================] - 4s 157ms/step - loss: 0.4207 - accuracy: 0.8163 - val_loss: 0.5011 - val_accuracy: 0.7821 - lr: 1.0000e-05\n",
            "Epoch 122/200\n",
            "25/25 [==============================] - ETA: 0s - loss: 0.4251 - accuracy: 0.8288\n",
            "Epoch 122: val_loss did not improve from 0.50115\n",
            "25/25 [==============================] - 3s 126ms/step - loss: 0.4251 - accuracy: 0.8288 - val_loss: 0.5012 - val_accuracy: 0.7821 - lr: 1.0000e-05\n",
            "Epoch 123/200\n",
            "25/25 [==============================] - ETA: 0s - loss: 0.4212 - accuracy: 0.8269\n",
            "Epoch 123: val_loss improved from 0.50115 to 0.50098, saving model to best_weights.h5\n",
            "25/25 [==============================] - 4s 144ms/step - loss: 0.4212 - accuracy: 0.8269 - val_loss: 0.5010 - val_accuracy: 0.7714 - lr: 1.0000e-05\n",
            "Epoch 124/200\n",
            "25/25 [==============================] - ETA: 0s - loss: 0.4155 - accuracy: 0.8275\n",
            "Epoch 124: val_loss did not improve from 0.50098\n",
            "25/25 [==============================] - 3s 121ms/step - loss: 0.4155 - accuracy: 0.8275 - val_loss: 0.5011 - val_accuracy: 0.7750 - lr: 1.0000e-05\n",
            "Epoch 125/200\n",
            "25/25 [==============================] - ETA: 0s - loss: 0.4134 - accuracy: 0.8375\n",
            "Epoch 125: val_loss did not improve from 0.50098\n",
            "25/25 [==============================] - 3s 122ms/step - loss: 0.4134 - accuracy: 0.8375 - val_loss: 0.5012 - val_accuracy: 0.7857 - lr: 1.0000e-05\n",
            "Epoch 126/200\n",
            "25/25 [==============================] - ETA: 0s - loss: 0.4141 - accuracy: 0.8319\n",
            "Epoch 126: val_loss did not improve from 0.50098\n",
            "25/25 [==============================] - 3s 126ms/step - loss: 0.4141 - accuracy: 0.8319 - val_loss: 0.5010 - val_accuracy: 0.7821 - lr: 1.0000e-05\n",
            "Epoch 127/200\n",
            "25/25 [==============================] - ETA: 0s - loss: 0.4174 - accuracy: 0.8256\n",
            "Epoch 127: val_loss improved from 0.50098 to 0.50075, saving model to best_weights.h5\n",
            "25/25 [==============================] - 4s 145ms/step - loss: 0.4174 - accuracy: 0.8256 - val_loss: 0.5007 - val_accuracy: 0.7750 - lr: 1.0000e-05\n",
            "Epoch 128/200\n",
            "25/25 [==============================] - ETA: 0s - loss: 0.4091 - accuracy: 0.8431\n",
            "Epoch 128: val_loss did not improve from 0.50075\n",
            "25/25 [==============================] - 3s 121ms/step - loss: 0.4091 - accuracy: 0.8431 - val_loss: 0.5010 - val_accuracy: 0.7821 - lr: 1.0000e-05\n",
            "Epoch 129/200\n",
            "25/25 [==============================] - ETA: 0s - loss: 0.4132 - accuracy: 0.8462\n",
            "Epoch 129: val_loss did not improve from 0.50075\n",
            "25/25 [==============================] - 3s 123ms/step - loss: 0.4132 - accuracy: 0.8462 - val_loss: 0.5011 - val_accuracy: 0.7714 - lr: 1.0000e-05\n",
            "Epoch 130/200\n",
            "25/25 [==============================] - ETA: 0s - loss: 0.4114 - accuracy: 0.8406\n",
            "Epoch 130: val_loss did not improve from 0.50075\n",
            "25/25 [==============================] - 3s 112ms/step - loss: 0.4114 - accuracy: 0.8406 - val_loss: 0.5010 - val_accuracy: 0.7821 - lr: 1.0000e-05\n",
            "Epoch 131/200\n",
            "25/25 [==============================] - ETA: 0s - loss: 0.4161 - accuracy: 0.8375\n",
            "Epoch 131: val_loss did not improve from 0.50075\n",
            "25/25 [==============================] - 3s 124ms/step - loss: 0.4161 - accuracy: 0.8375 - val_loss: 0.5007 - val_accuracy: 0.7750 - lr: 1.0000e-05\n",
            "Epoch 132/200\n",
            "25/25 [==============================] - ETA: 0s - loss: 0.4106 - accuracy: 0.8331\n",
            "Epoch 132: val_loss did not improve from 0.50075\n",
            "25/25 [==============================] - 3s 136ms/step - loss: 0.4106 - accuracy: 0.8331 - val_loss: 0.5012 - val_accuracy: 0.7821 - lr: 1.0000e-05\n",
            "Epoch 133/200\n",
            "25/25 [==============================] - ETA: 0s - loss: 0.4162 - accuracy: 0.8388\n",
            "Epoch 133: val_loss did not improve from 0.50075\n",
            "25/25 [==============================] - 3s 121ms/step - loss: 0.4162 - accuracy: 0.8388 - val_loss: 0.5012 - val_accuracy: 0.7750 - lr: 1.0000e-05\n",
            "Epoch 134/200\n",
            "25/25 [==============================] - ETA: 0s - loss: 0.4099 - accuracy: 0.8344\n",
            "Epoch 134: val_loss did not improve from 0.50075\n",
            "25/25 [==============================] - 3s 113ms/step - loss: 0.4099 - accuracy: 0.8344 - val_loss: 0.5008 - val_accuracy: 0.7750 - lr: 1.0000e-05\n",
            "Epoch 135/200\n",
            "25/25 [==============================] - ETA: 0s - loss: 0.4124 - accuracy: 0.8306\n",
            "Epoch 135: val_loss did not improve from 0.50075\n",
            "25/25 [==============================] - 3s 123ms/step - loss: 0.4124 - accuracy: 0.8306 - val_loss: 0.5010 - val_accuracy: 0.7821 - lr: 1.0000e-05\n",
            "Epoch 136/200\n",
            "25/25 [==============================] - ETA: 0s - loss: 0.4022 - accuracy: 0.8438\n",
            "Epoch 136: val_loss improved from 0.50075 to 0.50054, saving model to best_weights.h5\n",
            "25/25 [==============================] - 4s 147ms/step - loss: 0.4022 - accuracy: 0.8438 - val_loss: 0.5005 - val_accuracy: 0.7714 - lr: 1.0000e-05\n",
            "Epoch 137/200\n",
            "25/25 [==============================] - ETA: 0s - loss: 0.4101 - accuracy: 0.8269\n",
            "Epoch 137: val_loss did not improve from 0.50054\n",
            "25/25 [==============================] - 3s 126ms/step - loss: 0.4101 - accuracy: 0.8269 - val_loss: 0.5006 - val_accuracy: 0.7786 - lr: 1.0000e-05\n",
            "Epoch 138/200\n",
            "25/25 [==============================] - ETA: 0s - loss: 0.4071 - accuracy: 0.8363\n",
            "Epoch 138: val_loss did not improve from 0.50054\n",
            "25/25 [==============================] - 3s 118ms/step - loss: 0.4071 - accuracy: 0.8363 - val_loss: 0.5007 - val_accuracy: 0.7714 - lr: 1.0000e-05\n",
            "Epoch 139/200\n",
            "25/25 [==============================] - ETA: 0s - loss: 0.4053 - accuracy: 0.8375\n",
            "Epoch 139: val_loss improved from 0.50054 to 0.50052, saving model to best_weights.h5\n",
            "25/25 [==============================] - 3s 136ms/step - loss: 0.4053 - accuracy: 0.8375 - val_loss: 0.5005 - val_accuracy: 0.7750 - lr: 1.0000e-05\n",
            "Epoch 140/200\n",
            "25/25 [==============================] - ETA: 0s - loss: 0.4065 - accuracy: 0.8406\n",
            "Epoch 140: val_loss improved from 0.50052 to 0.50035, saving model to best_weights.h5\n",
            "25/25 [==============================] - 3s 136ms/step - loss: 0.4065 - accuracy: 0.8406 - val_loss: 0.5004 - val_accuracy: 0.7750 - lr: 1.0000e-05\n",
            "Epoch 141/200\n",
            "25/25 [==============================] - ETA: 0s - loss: 0.4043 - accuracy: 0.8406\n",
            "Epoch 141: val_loss improved from 0.50035 to 0.50018, saving model to best_weights.h5\n",
            "25/25 [==============================] - 4s 153ms/step - loss: 0.4043 - accuracy: 0.8406 - val_loss: 0.5002 - val_accuracy: 0.7786 - lr: 1.0000e-05\n",
            "Epoch 142/200\n",
            "25/25 [==============================] - ETA: 0s - loss: 0.4038 - accuracy: 0.8406\n",
            "Epoch 142: val_loss did not improve from 0.50018\n",
            "25/25 [==============================] - 3s 131ms/step - loss: 0.4038 - accuracy: 0.8406 - val_loss: 0.5004 - val_accuracy: 0.7714 - lr: 1.0000e-05\n",
            "Epoch 143/200\n",
            "25/25 [==============================] - ETA: 0s - loss: 0.4021 - accuracy: 0.8469\n",
            "Epoch 143: val_loss improved from 0.50018 to 0.50012, saving model to best_weights.h5\n",
            "25/25 [==============================] - 3s 134ms/step - loss: 0.4021 - accuracy: 0.8469 - val_loss: 0.5001 - val_accuracy: 0.7714 - lr: 1.0000e-05\n",
            "Epoch 144/200\n",
            "25/25 [==============================] - ETA: 0s - loss: 0.3982 - accuracy: 0.8375\n",
            "Epoch 144: val_loss did not improve from 0.50012\n",
            "25/25 [==============================] - 3s 114ms/step - loss: 0.3982 - accuracy: 0.8375 - val_loss: 0.5007 - val_accuracy: 0.7929 - lr: 1.0000e-05\n",
            "Epoch 145/200\n",
            "25/25 [==============================] - ETA: 0s - loss: 0.4009 - accuracy: 0.8350\n",
            "Epoch 145: val_loss did not improve from 0.50012\n",
            "25/25 [==============================] - 3s 120ms/step - loss: 0.4009 - accuracy: 0.8350 - val_loss: 0.5003 - val_accuracy: 0.7750 - lr: 1.0000e-05\n",
            "Epoch 146/200\n",
            "25/25 [==============================] - ETA: 0s - loss: 0.4036 - accuracy: 0.8388\n",
            "Epoch 146: val_loss did not improve from 0.50012\n",
            "25/25 [==============================] - 3s 130ms/step - loss: 0.4036 - accuracy: 0.8388 - val_loss: 0.5005 - val_accuracy: 0.7929 - lr: 1.0000e-05\n",
            "Epoch 147/200\n",
            "25/25 [==============================] - ETA: 0s - loss: 0.3969 - accuracy: 0.8406\n",
            "Epoch 147: val_loss did not improve from 0.50012\n",
            "25/25 [==============================] - 3s 130ms/step - loss: 0.3969 - accuracy: 0.8406 - val_loss: 0.5004 - val_accuracy: 0.7821 - lr: 1.0000e-05\n",
            "Epoch 148/200\n",
            "25/25 [==============================] - ETA: 0s - loss: 0.3919 - accuracy: 0.8444\n",
            "Epoch 148: val_loss did not improve from 0.50012\n",
            "25/25 [==============================] - 3s 108ms/step - loss: 0.3919 - accuracy: 0.8444 - val_loss: 0.5003 - val_accuracy: 0.7857 - lr: 1.0000e-05\n",
            "Epoch 149/200\n",
            "25/25 [==============================] - ETA: 0s - loss: 0.3966 - accuracy: 0.8456\n",
            "Epoch 149: val_loss improved from 0.50012 to 0.49964, saving model to best_weights.h5\n",
            "25/25 [==============================] - 3s 133ms/step - loss: 0.3966 - accuracy: 0.8456 - val_loss: 0.4996 - val_accuracy: 0.7786 - lr: 1.0000e-05\n",
            "Epoch 150/200\n",
            "25/25 [==============================] - ETA: 0s - loss: 0.4023 - accuracy: 0.8388\n",
            "Epoch 150: val_loss did not improve from 0.49964\n",
            "25/25 [==============================] - 3s 105ms/step - loss: 0.4023 - accuracy: 0.8388 - val_loss: 0.4997 - val_accuracy: 0.7786 - lr: 1.0000e-05\n",
            "Epoch 151/200\n",
            "25/25 [==============================] - ETA: 0s - loss: 0.3925 - accuracy: 0.8456\n",
            "Epoch 151: val_loss did not improve from 0.49964\n",
            "25/25 [==============================] - 3s 117ms/step - loss: 0.3925 - accuracy: 0.8456 - val_loss: 0.5002 - val_accuracy: 0.7964 - lr: 1.0000e-05\n",
            "Epoch 152/200\n",
            "25/25 [==============================] - ETA: 0s - loss: 0.3983 - accuracy: 0.8506\n",
            "Epoch 152: val_loss did not improve from 0.49964\n",
            "25/25 [==============================] - 3s 128ms/step - loss: 0.3983 - accuracy: 0.8506 - val_loss: 0.5000 - val_accuracy: 0.7679 - lr: 1.0000e-05\n",
            "Epoch 153/200\n",
            "25/25 [==============================] - ETA: 0s - loss: 0.3940 - accuracy: 0.8450\n",
            "Epoch 153: val_loss did not improve from 0.49964\n",
            "25/25 [==============================] - 3s 112ms/step - loss: 0.3940 - accuracy: 0.8450 - val_loss: 0.5001 - val_accuracy: 0.7893 - lr: 1.0000e-05\n",
            "Epoch 154/200\n",
            "25/25 [==============================] - ETA: 0s - loss: 0.3929 - accuracy: 0.8494\n",
            "Epoch 154: val_loss did not improve from 0.49964\n",
            "25/25 [==============================] - 3s 116ms/step - loss: 0.3929 - accuracy: 0.8494 - val_loss: 0.4998 - val_accuracy: 0.7750 - lr: 1.0000e-05\n",
            "Epoch 155/200\n",
            "25/25 [==============================] - ETA: 0s - loss: 0.3928 - accuracy: 0.8438\n",
            "Epoch 155: val_loss did not improve from 0.49964\n",
            "25/25 [==============================] - 3s 117ms/step - loss: 0.3928 - accuracy: 0.8438 - val_loss: 0.4999 - val_accuracy: 0.7786 - lr: 1.0000e-05\n",
            "Epoch 156/200\n",
            "25/25 [==============================] - ETA: 0s - loss: 0.3923 - accuracy: 0.8475\n",
            "Epoch 156: val_loss did not improve from 0.49964\n",
            "25/25 [==============================] - 3s 123ms/step - loss: 0.3923 - accuracy: 0.8475 - val_loss: 0.4998 - val_accuracy: 0.7857 - lr: 1.0000e-05\n",
            "Epoch 157/200\n",
            "25/25 [==============================] - ETA: 0s - loss: 0.3935 - accuracy: 0.8556\n",
            "Epoch 157: val_loss did not improve from 0.49964\n",
            "25/25 [==============================] - 3s 126ms/step - loss: 0.3935 - accuracy: 0.8556 - val_loss: 0.5000 - val_accuracy: 0.7893 - lr: 1.0000e-05\n",
            "Epoch 158/200\n",
            "25/25 [==============================] - ETA: 0s - loss: 0.3815 - accuracy: 0.8531\n",
            "Epoch 158: val_loss did not improve from 0.49964\n",
            "25/25 [==============================] - 3s 106ms/step - loss: 0.3815 - accuracy: 0.8531 - val_loss: 0.4997 - val_accuracy: 0.7857 - lr: 1.0000e-05\n",
            "Epoch 159/200\n",
            "25/25 [==============================] - ETA: 0s - loss: 0.3952 - accuracy: 0.8450\n",
            "Epoch 159: val_loss did not improve from 0.49964\n",
            "25/25 [==============================] - 3s 121ms/step - loss: 0.3952 - accuracy: 0.8450 - val_loss: 0.5000 - val_accuracy: 0.7786 - lr: 1.0000e-05\n"
          ]
        }
      ],
      "source": [
        "r = model.fit(x_train, y_train, batch_size = 64, epochs = 200,  validation_data =(x_val, y_val), callbacks=[checkpoint,early_stopping,reduce_lr])"
      ]
    },
    {
      "cell_type": "code",
      "execution_count": null,
      "metadata": {
        "colab": {
          "base_uri": "https://localhost:8080/",
          "height": 380
        },
        "execution": {
          "iopub.execute_input": "2023-10-09T12:28:06.804717Z",
          "iopub.status.busy": "2023-10-09T12:28:06.801067Z",
          "iopub.status.idle": "2023-10-09T12:28:46.233205Z",
          "shell.execute_reply": "2023-10-09T12:28:46.232282Z",
          "shell.execute_reply.started": "2023-10-09T12:28:06.804638Z"
        },
        "id": "0x0UXrnR3wsL",
        "outputId": "017be188-c31c-4e65-d18b-7ffb988fc2ff",
        "trusted": true
      },
      "outputs": [
        {
          "data": {
            "text/plain": [
              "Text(0.5, 1.0, 'Accuracy Evolution')"
            ]
          },
          "execution_count": 62,
          "metadata": {},
          "output_type": "execute_result"
        },
        {
          "data": {
            "image/png": "[encoded data removed]",
            "text/plain": [
              "<Figure size 1200x800 with 2 Axes>"
            ]
          },
          "metadata": {},
          "output_type": "display_data"
        }
      ],
      "source": [
        "\n",
        "plt.figure(figsize=(12, 8))\n",
        "\n",
        "plt.subplot(2, 2, 1)\n",
        "plt.plot(r.history['loss'], label='Loss')\n",
        "plt.plot(r.history['val_loss'], label='Val_Loss')\n",
        "plt.legend()\n",
        "plt.title('Loss Evolution')\n",
        "\n",
        "plt.subplot(2, 2, 2)\n",
        "plt.plot(r.history['accuracy'], label='Accuracy')\n",
        "plt.plot(r.history['val_accuracy'], label='Val_Accuracy')\n",
        "plt.legend()\n",
        "plt.title('Accuracy Evolution')\n"
      ]
    },
    {
      "cell_type": "code",
      "execution_count": null,
      "metadata": {
        "colab": {
          "base_uri": "https://localhost:8080/"
        },
        "execution": {
          "iopub.execute_input": "2023-10-09T12:28:46.235152Z",
          "iopub.status.busy": "2023-10-09T12:28:46.234570Z",
          "iopub.status.idle": "2023-10-09T12:28:46.241470Z",
          "shell.execute_reply": "2023-10-09T12:28:46.240516Z",
          "shell.execute_reply.started": "2023-10-09T12:28:46.235117Z"
        },
        "id": "Xmxq9-IJ3wsL",
        "outputId": "a36c18a9-bc06-4caa-9e78-6ec8f74646c9",
        "trusted": true
      },
      "outputs": [
        {
          "name": "stdout",
          "output_type": "stream",
          "text": [
            "Best Training Loss: 0.3815\n",
            "Best Training Accuracy: 85.56%\n"
          ]
        }
      ],
      "source": [
        "# Print training loss and accuracy for best weights\n",
        "best_train_loss = min(r.history['loss'])  # Minimum training loss\n",
        "best_train_accuracy = max(r.history['accuracy'])  # Maximum training accuracy\n",
        "print(f'Best Training Loss: {best_train_loss:.4f}')\n",
        "print(f'Best Training Accuracy: {best_train_accuracy:.2%}')"
      ]
    },
    {
      "cell_type": "code",
      "execution_count": null,
      "metadata": {
        "colab": {
          "base_uri": "https://localhost:8080/"
        },
        "execution": {
          "iopub.execute_input": "2023-10-09T12:28:46.243144Z",
          "iopub.status.busy": "2023-10-09T12:28:46.242822Z",
          "iopub.status.idle": "2023-10-09T12:28:48.229159Z",
          "shell.execute_reply": "2023-10-09T12:28:48.228026Z",
          "shell.execute_reply.started": "2023-10-09T12:28:46.243115Z"
        },
        "id": "8SALoACE3wsL",
        "outputId": "9e82bea9-5f5e-4670-d879-91c2137b9fc4",
        "trusted": true
      },
      "outputs": [
        {
          "name": "stdout",
          "output_type": "stream",
          "text": [
            "9/9 [==============================] - 1s 45ms/step - loss: 0.4996 - accuracy: 0.7786\n",
            "Best Validation Loss: 0.4996\n",
            "Best Validation Accuracy: 77.86%\n"
          ]
        }
      ],
      "source": [
        "# Load the best weights\n",
        "model.load_weights('best_weights.h5')\n",
        "\n",
        "# Evaluate the model with the best weights\n",
        "val_loss, val_accuracy = model.evaluate(x_val, y_val)\n",
        "\n",
        "print(f'Best Validation Loss: {val_loss:.4f}')\n",
        "print(f'Best Validation Accuracy: {val_accuracy:.2%}')"
      ]
    },
    {
      "cell_type": "code",
      "execution_count": null,
      "metadata": {
        "execution": {
          "iopub.execute_input": "2023-10-09T12:28:48.239823Z",
          "iopub.status.busy": "2023-10-09T12:28:48.238827Z",
          "iopub.status.idle": "2023-10-09T12:28:48.512122Z",
          "shell.execute_reply": "2023-10-09T12:28:48.511170Z",
          "shell.execute_reply.started": "2023-10-09T12:28:48.239791Z"
        },
        "id": "OXWykFHV3wsL",
        "trusted": true
      },
      "outputs": [],
      "source": [
        "from tensorflow.keras.models import load_model, save_model\n",
        "\n",
        "# Save the trained model to a file\n",
        "model.save('MobileNetV2.h5')"
      ]
    },
    {
      "cell_type": "code",
      "execution_count": null,
      "metadata": {
        "execution": {
          "iopub.execute_input": "2023-10-09T12:28:48.514163Z",
          "iopub.status.busy": "2023-10-09T12:28:48.513622Z",
          "iopub.status.idle": "2023-10-09T12:28:49.731567Z",
          "shell.execute_reply": "2023-10-09T12:28:49.730609Z",
          "shell.execute_reply.started": "2023-10-09T12:28:48.514131Z"
        },
        "id": "SbgM4o573wsM",
        "trusted": true
      },
      "outputs": [],
      "source": [
        "from tensorflow.keras.models import load_model\n",
        "\n",
        "# Load your trained model\n",
        "model = load_model('MobileNetV2.h5')"
      ]
    },
    {
      "cell_type": "code",
      "execution_count": null,
      "metadata": {
        "colab": {
          "base_uri": "https://localhost:8080/"
        },
        "execution": {
          "iopub.execute_input": "2023-10-09T12:28:49.733886Z",
          "iopub.status.busy": "2023-10-09T12:28:49.733213Z",
          "iopub.status.idle": "2023-10-09T12:28:51.145753Z",
          "shell.execute_reply": "2023-10-09T12:28:51.144821Z",
          "shell.execute_reply.started": "2023-10-09T12:28:49.733851Z"
        },
        "id": "B0IvKHTt3wsM",
        "outputId": "f79acb90-080b-4c4a-d329-8de530c9ec6b",
        "trusted": true
      },
      "outputs": [
        {
          "name": "stdout",
          "output_type": "stream",
          "text": [
            "9/9 [==============================] - 1s 47ms/step\n"
          ]
        }
      ],
      "source": [
        "from sklearn.metrics import accuracy_score, precision_score, recall_score, f1_score\n",
        "\n",
        "# Predict on the test set\n",
        "y_pred_ = model.predict(x_val)"
      ]
    },
    {
      "cell_type": "markdown",
      "source": [
        "**11. Selecting the threshold value for binary classification: 0 for 'No Lung Opacity or 1 for 'Lung Opacity', from range 0.1 to 0.9 on the basis of the best F1-score obtained using the validation data.**"
      ],
      "metadata": {
        "id": "tDwPcL-DvSia"
      }
    },
    {
      "cell_type": "code",
      "execution_count": null,
      "metadata": {
        "colab": {
          "base_uri": "https://localhost:8080/"
        },
        "execution": {
          "iopub.execute_input": "2023-10-09T12:28:51.147516Z",
          "iopub.status.busy": "2023-10-09T12:28:51.147164Z",
          "iopub.status.idle": "2023-10-09T12:28:51.171012Z",
          "shell.execute_reply": "2023-10-09T12:28:51.170045Z",
          "shell.execute_reply.started": "2023-10-09T12:28:51.147466Z"
        },
        "id": "iEUxw5bW3wsM",
        "outputId": "9dff03b1-6f09-4e92-8043-739e314617da",
        "trusted": true
      },
      "outputs": [
        {
          "name": "stdout",
          "output_type": "stream",
          "text": [
            "Best Threshold: 0.30\n",
            "Best F1 Score: 0.79\n"
          ]
        }
      ],
      "source": [
        "import numpy as np\n",
        "from sklearn.metrics import f1_score\n",
        "\n",
        "thresholds = np.linspace(0.1, 0.9, 9)\n",
        "\n",
        "best_f1 = 0.0  # Initialize the best F1-score\n",
        "best_threshold = 0.5  # Initialize the best threshold\n",
        "\n",
        "# Iterate through the thresholds and calculate F1-score for each\n",
        "for threshold in thresholds:\n",
        "    # Convert predicted probabilities to binary labels using the current threshold\n",
        "    y_pred_binary = (y_pred_ > threshold).astype(int)\n",
        "\n",
        "    # Calculate F1-score for the current threshold\n",
        "    current_f1 = f1_score(y_val, y_pred_binary)\n",
        "\n",
        "    # Check if the current threshold gives a better F1-score\n",
        "    if current_f1 > best_f1:\n",
        "        best_f1 = current_f1\n",
        "        best_threshold = threshold\n",
        "\n",
        "print(f'Best Threshold: {best_threshold:.2f}')\n",
        "print(f'Best F1 Score: {best_f1:.2f}')\n"
      ]
    },
    {
      "cell_type": "markdown",
      "source": [
        "**12. Predicting the model on test dataset**"
      ],
      "metadata": {
        "id": "3D5faVSGvXle"
      }
    },
    {
      "cell_type": "code",
      "execution_count": null,
      "metadata": {
        "colab": {
          "base_uri": "https://localhost:8080/"
        },
        "execution": {
          "iopub.execute_input": "2023-10-09T12:28:51.172827Z",
          "iopub.status.busy": "2023-10-09T12:28:51.172291Z",
          "iopub.status.idle": "2023-10-09T12:28:51.549076Z",
          "shell.execute_reply": "2023-10-09T12:28:51.548221Z",
          "shell.execute_reply.started": "2023-10-09T12:28:51.172796Z"
        },
        "id": "KySSAoS03wsM",
        "outputId": "a3b4b58c-bb79-48e0-ca4e-f6a1f435569d",
        "trusted": true
      },
      "outputs": [
        {
          "name": "stdout",
          "output_type": "stream",
          "text": [
            "4/4 [==============================] - 0s 39ms/step\n"
          ]
        }
      ],
      "source": [
        "from sklearn.metrics import accuracy_score, precision_score, recall_score, f1_score\n",
        "\n",
        "# Predict on the test set\n",
        "y_pred = model.predict(x_test)\n"
      ]
    },
    {
      "cell_type": "code",
      "execution_count": null,
      "metadata": {
        "colab": {
          "base_uri": "https://localhost:8080/"
        },
        "execution": {
          "iopub.execute_input": "2023-10-09T12:28:51.551252Z",
          "iopub.status.busy": "2023-10-09T12:28:51.550627Z",
          "iopub.status.idle": "2023-10-09T12:28:51.564974Z",
          "shell.execute_reply": "2023-10-09T12:28:51.564023Z",
          "shell.execute_reply.started": "2023-10-09T12:28:51.551217Z"
        },
        "id": "czxOHVLo3wsM",
        "outputId": "9f0b4e62-f7bf-4d5d-a818-55734115dedd",
        "trusted": true
      },
      "outputs": [
        {
          "name": "stdout",
          "output_type": "stream",
          "text": [
            "Test Accuracy: 70.00%\n",
            "Test Precision: 0.63\n",
            "Test Recall: 0.86\n",
            "Test F1 Score: 0.73\n"
          ]
        }
      ],
      "source": [
        "from sklearn.metrics import accuracy_score, precision_score, recall_score, f1_score\n",
        "\n",
        "# Convert predicted probabilities to binary labels (assuming binary classification)\n",
        "y_pred_binary = (y_pred > best_threshold).astype(int)\n",
        "\n",
        "# Calculate accuracy\n",
        "accuracy = accuracy_score(y_test, y_pred_binary)\n",
        "\n",
        "# Calculate precision\n",
        "precision = precision_score(y_test, y_pred_binary)\n",
        "\n",
        "# Calculate recall\n",
        "recall = recall_score(y_test, y_pred_binary)\n",
        "\n",
        "# Calculate F1-score\n",
        "f1 = f1_score(y_test, y_pred_binary)\n",
        "\n",
        "print(f'Test Accuracy: {accuracy:.2%}')\n",
        "print(f'Test Precision: {precision:.2f}')\n",
        "print(f'Test Recall: {recall:.2f}')\n",
        "print(f'Test F1 Score: {f1:.2f}')"
      ]
    },
    {
      "cell_type": "code",
      "execution_count": null,
      "metadata": {
        "colab": {
          "base_uri": "https://localhost:8080/"
        },
        "execution": {
          "iopub.execute_input": "2023-10-09T12:28:51.567106Z",
          "iopub.status.busy": "2023-10-09T12:28:51.566398Z",
          "iopub.status.idle": "2023-10-09T12:28:51.582906Z",
          "shell.execute_reply": "2023-10-09T12:28:51.581923Z",
          "shell.execute_reply.started": "2023-10-09T12:28:51.567074Z"
        },
        "id": "P2_WiO1m3wsN",
        "outputId": "79599150-b461-4365-b384-61441be4f744",
        "trusted": true
      },
      "outputs": [
        {
          "name": "stdout",
          "output_type": "stream",
          "text": [
            "Classification Report:\n",
            "                  precision    recall  f1-score   support\n",
            "\n",
            "No Lung Opacity       0.82      0.56      0.67        64\n",
            "   Lung Opacity       0.63      0.86      0.73        56\n",
            "\n",
            "       accuracy                           0.70       120\n",
            "      macro avg       0.72      0.71      0.70       120\n",
            "   weighted avg       0.73      0.70      0.69       120\n",
            "\n"
          ]
        }
      ],
      "source": [
        "import numpy as np\n",
        "from sklearn.metrics import classification_report, confusion_matrix, roc_curve, auc\n",
        "import matplotlib.pyplot as plt\n",
        "\n",
        "# Generate a classification report\n",
        "class_report = classification_report(y_test, y_pred_binary , target_names=['No Lung Opacity','Lung Opacity'])\n",
        "\n",
        "# Print the classification report\n",
        "print(\"Classification Report:\\n\", class_report)"
      ]
    },
    {
      "cell_type": "code",
      "execution_count": null,
      "metadata": {
        "colab": {
          "base_uri": "https://localhost:8080/",
          "height": 410
        },
        "execution": {
          "iopub.execute_input": "2023-10-09T12:28:51.584765Z",
          "iopub.status.busy": "2023-10-09T12:28:51.584364Z",
          "iopub.status.idle": "2023-10-09T12:28:51.851690Z",
          "shell.execute_reply": "2023-10-09T12:28:51.850821Z",
          "shell.execute_reply.started": "2023-10-09T12:28:51.584729Z"
        },
        "id": "4kl_gbf33wsN",
        "outputId": "4038cc90-27aa-4630-84fc-276f059b6bf3",
        "trusted": true
      },
      "outputs": [
        {
          "data": {
            "image/png": "[encoded data removed]",
            "text/plain": [
              "<Figure size 600x400 with 2 Axes>"
            ]
          },
          "metadata": {},
          "output_type": "display_data"
        }
      ],
      "source": [
        "import numpy as np\n",
        "import matplotlib.pyplot as plt\n",
        "from sklearn.metrics import confusion_matrix\n",
        "\n",
        "# Calculate the confusion matrix\n",
        "conf_matrix = confusion_matrix(y_test, y_pred_binary)\n",
        "\n",
        "# Calculate TP, FP, TN, FN\n",
        "TP = conf_matrix[1, 1]\n",
        "FP = conf_matrix[0, 1]\n",
        "TN = conf_matrix[0, 0]\n",
        "FN = conf_matrix[1, 0]\n",
        "\n",
        "# Calculate percentages\n",
        "total_samples = len(y_test)\n",
        "percent_TP = (TP / total_samples) * 100\n",
        "percent_FP = (FP / total_samples) * 100\n",
        "percent_TN = (TN / total_samples) * 100\n",
        "percent_FN = (FN / total_samples) * 100\n",
        "\n",
        "# Create a custom function for annotating the confusion matrix\n",
        "def annotate_confusion_matrix(conf_matrix):\n",
        "    plt.imshow(conf_matrix, interpolation='nearest',cmap = 'turbo')\n",
        "    plt.title('Confusion Matrix')\n",
        "    plt.colorbar()\n",
        "    tick_marks = np.arange(len(['No Lung Opacity', 'Lung Opacity']))\n",
        "    plt.xticks(tick_marks, ['No Lung Opacity', 'Lung Opacity'])\n",
        "    plt.yticks(tick_marks, ['No Lung Opacity', 'Lung Opacity'])\n",
        "    plt.ylabel('True Label')\n",
        "    plt.xlabel('Predicted Label')\n",
        "\n",
        "    # Annotate TP, FP, TN, FN, and their percentages\n",
        "    for i in range(2):\n",
        "        for j in range(2):\n",
        "            plt.text(j, i, f'TP: {conf_matrix[1, 1]} ({percent_TP:.2f}%)' if i == 1 and j == 1\n",
        "                             else f'FP: {conf_matrix[0, 1]} ({percent_FP:.2f}%)' if i == 0 and j == 1\n",
        "                             else f'TN: {conf_matrix[0, 0]} ({percent_TN:.2f}%)' if i == 0 and j == 0\n",
        "                             else f'FN: {conf_matrix[1, 0]} ({percent_FN:.2f}%)' if i == 1 and j == 0\n",
        "                             else '',\n",
        "                     horizontalalignment='center',\n",
        "                     verticalalignment='center',\n",
        "                     color='white', fontsize=10)\n",
        "\n",
        "# Plot the annotated confusion matrix\n",
        "plt.figure(figsize=(6, 4))\n",
        "annotate_confusion_matrix(conf_matrix)\n",
        "plt.show()\n"
      ]
    },
    {
      "cell_type": "markdown",
      "metadata": {
        "id": "3037ENEV3wsN"
      },
      "source": [
        "The two classes in this confusion matrix are \"No Lung Opacity\" and \"Lung Opacity.\" The matrix shows that the model correctly predicted 36 instances of \"No Lung Opacity\" and 48 instances of \"Lung Opacity.\" However, the model also incorrectly predicted 8 instances of \"Lung Opacity\" as \"No Lung Opacity\" and 28 instances of \"No Lung Opacity\" as \"Lung Opacity.\""
      ]
    },
    {
      "cell_type": "markdown",
      "source": [
        "**13. Creating AUC-ROC curve using predicted probabilties on the test set.**"
      ],
      "metadata": {
        "id": "9KmH0axxvgRB"
      }
    },
    {
      "cell_type": "code",
      "execution_count": null,
      "metadata": {
        "colab": {
          "base_uri": "https://localhost:8080/",
          "height": 472
        },
        "execution": {
          "iopub.execute_input": "2023-10-09T12:28:51.853523Z",
          "iopub.status.busy": "2023-10-09T12:28:51.853202Z",
          "iopub.status.idle": "2023-10-09T12:28:52.089214Z",
          "shell.execute_reply": "2023-10-09T12:28:52.088266Z",
          "shell.execute_reply.started": "2023-10-09T12:28:51.853492Z"
        },
        "id": "yCTtVZ_z3wsO",
        "outputId": "499c330c-4bcd-424f-f6b0-6ab7212de269",
        "trusted": true
      },
      "outputs": [
        {
          "data": {
            "image/png": "[encoded data removed]",
            "text/plain": [
              "<Figure size 640x480 with 1 Axes>"
            ]
          },
          "metadata": {},
          "output_type": "display_data"
        }
      ],
      "source": [
        "# Generate ROC curve and calculate AUC\n",
        "fpr, tpr, thresholds = roc_curve(y_test, y_pred)\n",
        "roc_auc = auc(fpr, tpr)\n",
        "\n",
        "# Plot ROC curve\n",
        "plt.figure()\n",
        "plt.plot(fpr, tpr, color='darkorange', lw=2, label=f'ROC curve (area = {roc_auc:.2f})')\n",
        "plt.plot([0, 1], [0, 1], color='navy', lw=2, linestyle='--')\n",
        "plt.xlim([0.0, 1.0])\n",
        "plt.ylim([0.0, 1.05])\n",
        "plt.xlabel('False Positive Rate')\n",
        "plt.ylabel('True Positive Rate')\n",
        "plt.title('Receiver Operating Characteristic')\n",
        "plt.legend(loc='lower right')\n",
        "plt.show()"
      ]
    },
    {
      "cell_type": "markdown",
      "source": [
        "**14. Creating AUC-ROC curve after converting the predicted probabilities on test data to binary labels.**"
      ],
      "metadata": {
        "id": "pXlbXBeTviOO"
      }
    },
    {
      "cell_type": "code",
      "execution_count": null,
      "metadata": {
        "colab": {
          "base_uri": "https://localhost:8080/",
          "height": 472
        },
        "id": "mMT2SXF23wsO",
        "outputId": "a1ed4be0-c8dc-40d8-d577-1bc8698ba982"
      },
      "outputs": [
        {
          "data": {
            "image/png": "[encoded data removed]",
            "text/plain": [
              "<Figure size 640x480 with 1 Axes>"
            ]
          },
          "metadata": {},
          "output_type": "display_data"
        }
      ],
      "source": [
        "# Generate ROC curve and calculate AUC\n",
        "fpr, tpr, thresholds = roc_curve(y_test, y_pred_binary)\n",
        "roc_auc = auc(fpr, tpr)\n",
        "\n",
        "# Plot ROC curve\n",
        "plt.figure()\n",
        "plt.plot(fpr, tpr, color='darkorange', lw=2, label=f'ROC curve (area = {roc_auc:.2f})')\n",
        "plt.plot([0, 1], [0, 1], color='navy', lw=2, linestyle='--')\n",
        "plt.xlim([0.0, 1.0])\n",
        "plt.ylim([0.0, 1.05])\n",
        "plt.xlabel('False Positive Rate')\n",
        "plt.ylabel('True Positive Rate')\n",
        "plt.title('Receiver Operating Characteristic')\n",
        "plt.legend(loc='lower right')\n",
        "plt.show()"
      ]
    }
  ],
  "metadata": {
    "accelerator": "GPU",
    "colab": {
      "gpuType": "T4",
      "provenance": []
    },
    "kernelspec": {
      "display_name": "Python 3",
      "name": "python3"
    },
    "language_info": {
      "codemirror_mode": {
        "name": "ipython",
        "version": 3
      },
      "file_extension": ".py",
      "mimetype": "text/x-python",
      "name": "python",
      "nbconvert_exporter": "python",
      "pygments_lexer": "ipython3",
      "version": "3.10.12"
    }
  },
  "nbformat": 4,
  "nbformat_minor": 0
}