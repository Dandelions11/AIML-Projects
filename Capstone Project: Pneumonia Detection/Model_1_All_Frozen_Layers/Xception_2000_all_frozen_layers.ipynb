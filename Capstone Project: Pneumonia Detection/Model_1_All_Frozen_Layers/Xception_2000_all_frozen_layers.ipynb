{
  "cells": [
    {
      "cell_type": "markdown",
      "metadata": {
        "id": "zeY5EOf49CMA"
      },
      "source": [
        "##                                                     MODEL 1: ALL LAYERS FROZEN"
      ]
    },
    {
      "cell_type": "markdown",
      "metadata": {
        "id": "0sZWjUmh9B_K"
      },
      "source": [
        "**1. Importing necessary libraries**"
      ]
    },
    {
      "cell_type": "code",
      "execution_count": null,
      "metadata": {
        "colab": {
          "base_uri": "https://localhost:8080/"
        },
        "id": "3kP2Wn0D67Q9",
        "outputId": "ddcc135e-839c-42fa-d224-d33983dbc39c",
        "trusted": true
      },
      "outputs": [
        {
          "name": "stdout",
          "output_type": "stream",
          "text": [
            "Collecting pydicom\n",
            "  Downloading pydicom-2.4.3-py3-none-any.whl (1.8 MB)\n",
            "\u001b[2K     \u001b[90m━━━━━━━━━━━━━━━━━━━━━━━━━━━━━━━━━━━━━━━━\u001b[0m \u001b[32m1.8/1.8 MB\u001b[0m \u001b[31m8.6 MB/s\u001b[0m eta \u001b[36m0:00:00\u001b[0m\n",
            "\u001b[?25hInstalling collected packages: pydicom\n",
            "Successfully installed pydicom-2.4.3\n"
          ]
        }
      ],
      "source": [
        "!pip install pydicom"
      ]
    },
    {
      "cell_type": "code",
      "execution_count": null,
      "metadata": {
        "id": "vak-OowY4obJ",
        "trusted": true
      },
      "outputs": [],
      "source": [
        "import random\n",
        "import numpy as np\n",
        "import pandas as pd\n",
        "import matplotlib.pyplot as plt\n",
        "\n",
        "from pathlib import Path\n",
        "import pydicom\n",
        "import os\n",
        "import cv2\n",
        "import tensorflow as tf\n",
        "from sklearn.model_selection import train_test_split\n",
        "from sklearn.metrics import classification_report\n",
        "from tensorflow.keras.layers import Dense, Activation, Flatten, Dropout, GlobalAveragePooling2D, BatchNormalization\n",
        "from tensorflow.keras.models import Model, Sequential\n",
        "from tensorflow.keras import layers\n",
        "from tensorflow.keras.optimizers import Adam\n",
        "from tensorflow.keras import losses, optimizers\n",
        "from tensorflow.keras import regularizers\n",
        "from tensorflow.keras.regularizers import l2\n",
        "from keras import backend as K\n",
        "from tensorflow.keras.callbacks import Callback, EarlyStopping, ModelCheckpoint, ReduceLROnPlateau\n",
        "from sklearn.metrics import make_scorer, accuracy_score\n",
        "from tensorflow.keras.applications import DenseNet121, MobileNetV2, ResNet152V2, Xception"
      ]
    },
    {
      "cell_type": "code",
      "execution_count": null,
      "metadata": {
        "colab": {
          "base_uri": "https://localhost:8080/"
        },
        "id": "AfYsF3NE4uio",
        "outputId": "a3fd5393-7ff5-4a18-eba1-9245c496c60b",
        "trusted": true
      },
      "outputs": [
        {
          "name": "stdout",
          "output_type": "stream",
          "text": [
            "Mounted at /content/drive\n"
          ]
        }
      ],
      "source": [
        "# mounting the google drive\n",
        "\n",
        "from google.colab import drive\n",
        "drive.mount('/content/drive')"
      ]
    },
    {
      "cell_type": "markdown",
      "metadata": {
        "id": "JWu9beFK9MBl"
      },
      "source": [
        "**2. Extracting the files from stage_2_dataset.zip file**"
      ]
    },
    {
      "cell_type": "code",
      "execution_count": null,
      "metadata": {
        "id": "1SL48gC44ulj",
        "trusted": true
      },
      "outputs": [],
      "source": [
        "path = \"/content/drive/MyDrive/stage_2_dataset.zip\""
      ]
    },
    {
      "cell_type": "code",
      "execution_count": null,
      "metadata": {
        "id": "Kc_kmvrS4uor",
        "trusted": true
      },
      "outputs": [],
      "source": [
        "\n",
        "from zipfile import ZipFile\n",
        "with ZipFile(path,'r') as zip:\n",
        "  zip.extractall()\n"
      ]
    },
    {
      "cell_type": "code",
      "execution_count": null,
      "metadata": {
        "colab": {
          "base_uri": "https://localhost:8080/"
        },
        "id": "DnynT7Fa4urk",
        "outputId": "32d495dc-af14-4c4f-8499-a9fcb5bbddcc",
        "trusted": true
      },
      "outputs": [
        {
          "name": "stdout",
          "output_type": "stream",
          "text": [
            "Extraction complete.\n"
          ]
        }
      ],
      "source": [
        "\n",
        "from zipfile import ZipFile\n",
        "import os\n",
        "\n",
        "# Path to the zip file\n",
        "train_images_path = '/content/drive/MyDrive/stage_2_train_images.zip'\n",
        "\n",
        "# Directory where you want to create the folder and extract the images\n",
        "extraction_folder = '/content/stage_2_train_images'\n",
        "\n",
        "# Create the extraction folder if it doesn't exist\n",
        "os.makedirs(extraction_folder, exist_ok=True)\n",
        "\n",
        "# Open the zip file\n",
        "with ZipFile(train_images_path, 'r') as zip_ref:\n",
        "    # Extract all images to the extraction folder\n",
        "    zip_ref.extractall(extraction_folder)\n",
        "\n",
        "print(\"Extraction complete.\")\n"
      ]
    },
    {
      "cell_type": "code",
      "execution_count": null,
      "metadata": {
        "id": "6Ryiw9r74uuc",
        "trusted": true
      },
      "outputs": [],
      "source": [
        "class_info_df = pd.read_csv('/content/Copy of stage_2_detailed_class_info.csv')"
      ]
    },
    {
      "cell_type": "code",
      "execution_count": null,
      "metadata": {
        "colab": {
          "base_uri": "https://localhost:8080/"
        },
        "id": "OMd6ixB44obK",
        "outputId": "cbda8588-e15b-409d-d1e7-e55cf229b406",
        "trusted": true
      },
      "outputs": [
        {
          "data": {
            "text/plain": [
              "(30227, 2)"
            ]
          },
          "execution_count": 10,
          "metadata": {},
          "output_type": "execute_result"
        }
      ],
      "source": [
        "class_info_df.shape"
      ]
    },
    {
      "cell_type": "markdown",
      "metadata": {
        "id": "iOyF9aI_9RMP"
      },
      "source": [
        "**3. Removing duplicate entries from the dataframe**"
      ]
    },
    {
      "cell_type": "code",
      "execution_count": null,
      "metadata": {
        "id": "cLRGHkdZ4obK",
        "trusted": true
      },
      "outputs": [],
      "source": [
        "df = class_info_df.copy()"
      ]
    },
    {
      "cell_type": "code",
      "execution_count": null,
      "metadata": {
        "id": "Ml7mS-Y04obK",
        "trusted": true
      },
      "outputs": [],
      "source": [
        "df.drop_duplicates(inplace = True)"
      ]
    },
    {
      "cell_type": "code",
      "execution_count": null,
      "metadata": {
        "colab": {
          "base_uri": "https://localhost:8080/"
        },
        "id": "jucP6tYm4obK",
        "outputId": "de081d17-34a3-4fd0-b4a9-3a8af223af09",
        "trusted": true
      },
      "outputs": [
        {
          "data": {
            "text/plain": [
              "0"
            ]
          },
          "execution_count": 13,
          "metadata": {},
          "output_type": "execute_result"
        }
      ],
      "source": [
        "df.duplicated().sum()"
      ]
    },
    {
      "cell_type": "code",
      "execution_count": null,
      "metadata": {
        "id": "IxY3oFHc4obM",
        "trusted": true
      },
      "outputs": [],
      "source": [
        "# create a new column with complete paths to images in train folder\n",
        "import pandas as pd\n",
        "import os\n",
        "\n",
        "# Path to the directory containing DICOM images\n",
        "image_folder = '/content/stage_2_train_images'\n",
        "\n",
        "\n",
        "# Convert 'patientId' column to string explicitly\n",
        "df['patientId'] = df['patientId'].astype(str)\n",
        "\n",
        "# Create a new column 'image_path' by concatenating the folder path and 'patientId'\n",
        "df['image_path'] = image_folder + os.path.sep + df['patientId'] + '.dcm'\n",
        "\n",
        "# Save the updated DataFrame back to the CSV file\n",
        "#df.to_csv(csv_file, index=False)\n"
      ]
    },
    {
      "cell_type": "code",
      "execution_count": null,
      "metadata": {
        "colab": {
          "base_uri": "https://localhost:8080/",
          "height": 206
        },
        "id": "dBINf-em4obN",
        "outputId": "64ad69d3-7475-47c4-a419-ac7cc260b2bb",
        "trusted": true
      },
      "outputs": [
        {
          "data": {
            "text/html": [
              "\n",
              "  <div id=\"df-ec3c2677-ebca-4424-891f-92c1b5890185\" class=\"colab-df-container\">\n",
              "    <div>\n",
              "<style scoped>\n",
              "    .dataframe tbody tr th:only-of-type {\n",
              "        vertical-align: middle;\n",
              "    }\n",
              "\n",
              "    .dataframe tbody tr th {\n",
              "        vertical-align: top;\n",
              "    }\n",
              "\n",
              "    .dataframe thead th {\n",
              "        text-align: right;\n",
              "    }\n",
              "</style>\n",
              "<table border=\"1\" class=\"dataframe\">\n",
              "  <thead>\n",
              "    <tr style=\"text-align: right;\">\n",
              "      <th></th>\n",
              "      <th>patientId</th>\n",
              "      <th>class</th>\n",
              "      <th>image_path</th>\n",
              "    </tr>\n",
              "  </thead>\n",
              "  <tbody>\n",
              "    <tr>\n",
              "      <th>0</th>\n",
              "      <td>0004cfab-14fd-4e49-80ba-63a80b6bddd6</td>\n",
              "      <td>No Lung Opacity / Not Normal</td>\n",
              "      <td>/content/stage_2_train_images/0004cfab-14fd-4e...</td>\n",
              "    </tr>\n",
              "    <tr>\n",
              "      <th>1</th>\n",
              "      <td>00313ee0-9eaa-42f4-b0ab-c148ed3241cd</td>\n",
              "      <td>No Lung Opacity / Not Normal</td>\n",
              "      <td>/content/stage_2_train_images/00313ee0-9eaa-42...</td>\n",
              "    </tr>\n",
              "    <tr>\n",
              "      <th>2</th>\n",
              "      <td>00322d4d-1c29-4943-afc9-b6754be640eb</td>\n",
              "      <td>No Lung Opacity / Not Normal</td>\n",
              "      <td>/content/stage_2_train_images/00322d4d-1c29-49...</td>\n",
              "    </tr>\n",
              "    <tr>\n",
              "      <th>3</th>\n",
              "      <td>003d8fa0-6bf1-40ed-b54c-ac657f8495c5</td>\n",
              "      <td>Normal</td>\n",
              "      <td>/content/stage_2_train_images/003d8fa0-6bf1-40...</td>\n",
              "    </tr>\n",
              "    <tr>\n",
              "      <th>4</th>\n",
              "      <td>00436515-870c-4b36-a041-de91049b9ab4</td>\n",
              "      <td>Lung Opacity</td>\n",
              "      <td>/content/stage_2_train_images/00436515-870c-4b...</td>\n",
              "    </tr>\n",
              "  </tbody>\n",
              "</table>\n",
              "</div>\n",
              "    <div class=\"colab-df-buttons\">\n",
              "\n",
              "  <div class=\"colab-df-container\">\n",
              "    <button class=\"colab-df-convert\" onclick=\"convertToInteractive('df-ec3c2677-ebca-4424-891f-92c1b5890185')\"\n",
              "            title=\"Convert this dataframe to an interactive table.\"\n",
              "            style=\"display:none;\">\n",
              "\n",
              "  <svg xmlns=\"http://www.w3.org/2000/svg\" height=\"24px\" viewBox=\"0 -960 960 960\">\n",
              "    <path d=\"M120-120v-720h720v720H120Zm60-500h600v-160H180v160Zm220 220h160v-160H400v160Zm0 220h160v-160H400v160ZM180-400h160v-160H180v160Zm440 0h160v-160H620v160ZM180-180h160v-160H180v160Zm440 0h160v-160H620v160Z\"/>\n",
              "  </svg>\n",
              "    </button>\n",
              "\n",
              "  <style>\n",
              "    .colab-df-container {\n",
              "      display:flex;\n",
              "      gap: 12px;\n",
              "    }\n",
              "\n",
              "    .colab-df-convert {\n",
              "      background-color: #E8F0FE;\n",
              "      border: none;\n",
              "      border-radius: 50%;\n",
              "      cursor: pointer;\n",
              "      display: none;\n",
              "      fill: #1967D2;\n",
              "      height: 32px;\n",
              "      padding: 0 0 0 0;\n",
              "      width: 32px;\n",
              "    }\n",
              "\n",
              "    .colab-df-convert:hover {\n",
              "      background-color: #E2EBFA;\n",
              "      box-shadow: 0px 1px 2px rgba(60, 64, 67, 0.3), 0px 1px 3px 1px rgba(60, 64, 67, 0.15);\n",
              "      fill: #174EA6;\n",
              "    }\n",
              "\n",
              "    .colab-df-buttons div {\n",
              "      margin-bottom: 4px;\n",
              "    }\n",
              "\n",
              "    [theme=dark] .colab-df-convert {\n",
              "      background-color: #3B4455;\n",
              "      fill: #D2E3FC;\n",
              "    }\n",
              "\n",
              "    [theme=dark] .colab-df-convert:hover {\n",
              "      background-color: #434B5C;\n",
              "      box-shadow: 0px 1px 3px 1px rgba(0, 0, 0, 0.15);\n",
              "      filter: drop-shadow(0px 1px 2px rgba(0, 0, 0, 0.3));\n",
              "      fill: #FFFFFF;\n",
              "    }\n",
              "  </style>\n",
              "\n",
              "    <script>\n",
              "      const buttonEl =\n",
              "        document.querySelector('#df-ec3c2677-ebca-4424-891f-92c1b5890185 button.colab-df-convert');\n",
              "      buttonEl.style.display =\n",
              "        google.colab.kernel.accessAllowed ? 'block' : 'none';\n",
              "\n",
              "      async function convertToInteractive(key) {\n",
              "        const element = document.querySelector('#df-ec3c2677-ebca-4424-891f-92c1b5890185');\n",
              "        const dataTable =\n",
              "          await google.colab.kernel.invokeFunction('convertToInteractive',\n",
              "                                                    [key], {});\n",
              "        if (!dataTable) return;\n",
              "\n",
              "        const docLinkHtml = 'Like what you see? Visit the ' +\n",
              "          '<a target=\"_blank\" href=https://colab.research.google.com/notebooks/data_table.ipynb>data table notebook</a>'\n",
              "          + ' to learn more about interactive tables.';\n",
              "        element.innerHTML = '';\n",
              "        dataTable['output_type'] = 'display_data';\n",
              "        await google.colab.output.renderOutput(dataTable, element);\n",
              "        const docLink = document.createElement('div');\n",
              "        docLink.innerHTML = docLinkHtml;\n",
              "        element.appendChild(docLink);\n",
              "      }\n",
              "    </script>\n",
              "  </div>\n",
              "\n",
              "\n",
              "<div id=\"df-92c20e9c-53fc-43db-aecc-65f44b9a414f\">\n",
              "  <button class=\"colab-df-quickchart\" onclick=\"quickchart('df-92c20e9c-53fc-43db-aecc-65f44b9a414f')\"\n",
              "            title=\"Suggest charts.\"\n",
              "            style=\"display:none;\">\n",
              "\n",
              "<svg xmlns=\"http://www.w3.org/2000/svg\" height=\"24px\"viewBox=\"0 0 24 24\"\n",
              "     width=\"24px\">\n",
              "    <g>\n",
              "        <path d=\"M19 3H5c-1.1 0-2 .9-2 2v14c0 1.1.9 2 2 2h14c1.1 0 2-.9 2-2V5c0-1.1-.9-2-2-2zM9 17H7v-7h2v7zm4 0h-2V7h2v10zm4 0h-2v-4h2v4z\"/>\n",
              "    </g>\n",
              "</svg>\n",
              "  </button>\n",
              "\n",
              "<style>\n",
              "  .colab-df-quickchart {\n",
              "      --bg-color: #E8F0FE;\n",
              "      --fill-color: #1967D2;\n",
              "      --hover-bg-color: #E2EBFA;\n",
              "      --hover-fill-color: #174EA6;\n",
              "      --disabled-fill-color: #AAA;\n",
              "      --disabled-bg-color: #DDD;\n",
              "  }\n",
              "\n",
              "  [theme=dark] .colab-df-quickchart {\n",
              "      --bg-color: #3B4455;\n",
              "      --fill-color: #D2E3FC;\n",
              "      --hover-bg-color: #434B5C;\n",
              "      --hover-fill-color: #FFFFFF;\n",
              "      --disabled-bg-color: #3B4455;\n",
              "      --disabled-fill-color: #666;\n",
              "  }\n",
              "\n",
              "  .colab-df-quickchart {\n",
              "    background-color: var(--bg-color);\n",
              "    border: none;\n",
              "    border-radius: 50%;\n",
              "    cursor: pointer;\n",
              "    display: none;\n",
              "    fill: var(--fill-color);\n",
              "    height: 32px;\n",
              "    padding: 0;\n",
              "    width: 32px;\n",
              "  }\n",
              "\n",
              "  .colab-df-quickchart:hover {\n",
              "    background-color: var(--hover-bg-color);\n",
              "    box-shadow: 0 1px 2px rgba(60, 64, 67, 0.3), 0 1px 3px 1px rgba(60, 64, 67, 0.15);\n",
              "    fill: var(--button-hover-fill-color);\n",
              "  }\n",
              "\n",
              "  .colab-df-quickchart-complete:disabled,\n",
              "  .colab-df-quickchart-complete:disabled:hover {\n",
              "    background-color: var(--disabled-bg-color);\n",
              "    fill: var(--disabled-fill-color);\n",
              "    box-shadow: none;\n",
              "  }\n",
              "\n",
              "  .colab-df-spinner {\n",
              "    border: 2px solid var(--fill-color);\n",
              "    border-color: transparent;\n",
              "    border-bottom-color: var(--fill-color);\n",
              "    animation:\n",
              "      spin 1s steps(1) infinite;\n",
              "  }\n",
              "\n",
              "  @keyframes spin {\n",
              "    0% {\n",
              "      border-color: transparent;\n",
              "      border-bottom-color: var(--fill-color);\n",
              "      border-left-color: var(--fill-color);\n",
              "    }\n",
              "    20% {\n",
              "      border-color: transparent;\n",
              "      border-left-color: var(--fill-color);\n",
              "      border-top-color: var(--fill-color);\n",
              "    }\n",
              "    30% {\n",
              "      border-color: transparent;\n",
              "      border-left-color: var(--fill-color);\n",
              "      border-top-color: var(--fill-color);\n",
              "      border-right-color: var(--fill-color);\n",
              "    }\n",
              "    40% {\n",
              "      border-color: transparent;\n",
              "      border-right-color: var(--fill-color);\n",
              "      border-top-color: var(--fill-color);\n",
              "    }\n",
              "    60% {\n",
              "      border-color: transparent;\n",
              "      border-right-color: var(--fill-color);\n",
              "    }\n",
              "    80% {\n",
              "      border-color: transparent;\n",
              "      border-right-color: var(--fill-color);\n",
              "      border-bottom-color: var(--fill-color);\n",
              "    }\n",
              "    90% {\n",
              "      border-color: transparent;\n",
              "      border-bottom-color: var(--fill-color);\n",
              "    }\n",
              "  }\n",
              "</style>\n",
              "\n",
              "  <script>\n",
              "    async function quickchart(key) {\n",
              "      const quickchartButtonEl =\n",
              "        document.querySelector('#' + key + ' button');\n",
              "      quickchartButtonEl.disabled = true;  // To prevent multiple clicks.\n",
              "      quickchartButtonEl.classList.add('colab-df-spinner');\n",
              "      try {\n",
              "        const charts = await google.colab.kernel.invokeFunction(\n",
              "            'suggestCharts', [key], {});\n",
              "      } catch (error) {\n",
              "        console.error('Error during call to suggestCharts:', error);\n",
              "      }\n",
              "      quickchartButtonEl.classList.remove('colab-df-spinner');\n",
              "      quickchartButtonEl.classList.add('colab-df-quickchart-complete');\n",
              "    }\n",
              "    (() => {\n",
              "      let quickchartButtonEl =\n",
              "        document.querySelector('#df-92c20e9c-53fc-43db-aecc-65f44b9a414f button');\n",
              "      quickchartButtonEl.style.display =\n",
              "        google.colab.kernel.accessAllowed ? 'block' : 'none';\n",
              "    })();\n",
              "  </script>\n",
              "</div>\n",
              "    </div>\n",
              "  </div>\n"
            ],
            "text/plain": [
              "                              patientId                         class  \\\n",
              "0  0004cfab-14fd-4e49-80ba-63a80b6bddd6  No Lung Opacity / Not Normal   \n",
              "1  00313ee0-9eaa-42f4-b0ab-c148ed3241cd  No Lung Opacity / Not Normal   \n",
              "2  00322d4d-1c29-4943-afc9-b6754be640eb  No Lung Opacity / Not Normal   \n",
              "3  003d8fa0-6bf1-40ed-b54c-ac657f8495c5                        Normal   \n",
              "4  00436515-870c-4b36-a041-de91049b9ab4                  Lung Opacity   \n",
              "\n",
              "                                          image_path  \n",
              "0  /content/stage_2_train_images/0004cfab-14fd-4e...  \n",
              "1  /content/stage_2_train_images/00313ee0-9eaa-42...  \n",
              "2  /content/stage_2_train_images/00322d4d-1c29-49...  \n",
              "3  /content/stage_2_train_images/003d8fa0-6bf1-40...  \n",
              "4  /content/stage_2_train_images/00436515-870c-4b...  "
            ]
          },
          "execution_count": 16,
          "metadata": {},
          "output_type": "execute_result"
        }
      ],
      "source": [
        "df.head()"
      ]
    },
    {
      "cell_type": "markdown",
      "metadata": {
        "id": "X7HwGZ_H9Zqw"
      },
      "source": [
        "**4. Selecting only 2000 rows out of the whole dataframe**"
      ]
    },
    {
      "cell_type": "code",
      "execution_count": null,
      "metadata": {
        "id": "TLirVhbl4obO",
        "trusted": true
      },
      "outputs": [],
      "source": [
        "import pandas as pd\n",
        "import random\n",
        "\n",
        "# Create three separate DataFrames based on 'class' values\n",
        "df_normal = df[df['class'] == 'Normal']\n",
        "df_lung_opacity = df[df['class'] == 'Lung Opacity']\n",
        "df_not_normal = df[df['class'] == 'No Lung Opacity / Not Normal']\n",
        "\n",
        "\n",
        "# Define the number of entries you want to select for each class\n",
        "num_lung_opacity = 1000\n",
        "num_normal = 500\n",
        "num_not_normal = 500\n",
        "\n",
        "# Randomly select entries for each class\n",
        "selected_normal = df_normal.sample(n=num_normal, random_state=42)\n",
        "selected_lung_opacity = df_lung_opacity.sample(n=num_lung_opacity, random_state=42)\n",
        "selected_not_normal = df_not_normal.sample(n=num_not_normal, random_state=42)\n",
        "\n",
        "# Concatenate the selected DataFrames to create the final DataFrame\n",
        "final_df = pd.concat([selected_normal, selected_lung_opacity, selected_not_normal])\n",
        "\n",
        "# Shuffle the final DataFrame to randomize the order\n",
        "final_df = final_df.sample(frac=1, random_state=42)\n",
        "\n",
        "# Extract 'image_path' entries corresponding to the selected rows\n",
        "selected_image_paths = final_df['image_path'].tolist()\n",
        "\n",
        "# Create a new DataFrame that includes both selected rows and 'image_path' entries\n",
        "filtered_df = df[df['image_path'].isin(selected_image_paths)]\n",
        "filtered_df = filtered_df.reset_index(drop=True)\n"
      ]
    },
    {
      "cell_type": "code",
      "execution_count": null,
      "metadata": {
        "colab": {
          "base_uri": "https://localhost:8080/",
          "height": 206
        },
        "id": "3rX-yE6S4obO",
        "outputId": "8fd51531-19e3-4a21-f7f5-406e0cd43f2b",
        "trusted": true
      },
      "outputs": [
        {
          "data": {
            "text/html": [
              "\n",
              "  <div id=\"df-2b1e3f6f-ba18-4c97-aba9-d749ba44aa30\" class=\"colab-df-container\">\n",
              "    <div>\n",
              "<style scoped>\n",
              "    .dataframe tbody tr th:only-of-type {\n",
              "        vertical-align: middle;\n",
              "    }\n",
              "\n",
              "    .dataframe tbody tr th {\n",
              "        vertical-align: top;\n",
              "    }\n",
              "\n",
              "    .dataframe thead th {\n",
              "        text-align: right;\n",
              "    }\n",
              "</style>\n",
              "<table border=\"1\" class=\"dataframe\">\n",
              "  <thead>\n",
              "    <tr style=\"text-align: right;\">\n",
              "      <th></th>\n",
              "      <th>patientId</th>\n",
              "      <th>class</th>\n",
              "      <th>image_path</th>\n",
              "    </tr>\n",
              "  </thead>\n",
              "  <tbody>\n",
              "    <tr>\n",
              "      <th>0</th>\n",
              "      <td>0174c4bb-28f5-41e3-a13f-a396badc18bd</td>\n",
              "      <td>Lung Opacity</td>\n",
              "      <td>/content/stage_2_train_images/0174c4bb-28f5-41...</td>\n",
              "    </tr>\n",
              "    <tr>\n",
              "      <th>1</th>\n",
              "      <td>01be392f-a46d-4aef-a57e-9cd1a80dd47e</td>\n",
              "      <td>Lung Opacity</td>\n",
              "      <td>/content/stage_2_train_images/01be392f-a46d-4a...</td>\n",
              "    </tr>\n",
              "    <tr>\n",
              "      <th>2</th>\n",
              "      <td>01c09fb1-a917-46ee-8d94-44f844a4eb85</td>\n",
              "      <td>No Lung Opacity / Not Normal</td>\n",
              "      <td>/content/stage_2_train_images/01c09fb1-a917-46...</td>\n",
              "    </tr>\n",
              "    <tr>\n",
              "      <th>3</th>\n",
              "      <td>01cad8d0-45cd-4603-b099-94055d322310</td>\n",
              "      <td>Lung Opacity</td>\n",
              "      <td>/content/stage_2_train_images/01cad8d0-45cd-46...</td>\n",
              "    </tr>\n",
              "    <tr>\n",
              "      <th>4</th>\n",
              "      <td>01d4fa0f-97a0-4522-b0d8-134400db2a3e</td>\n",
              "      <td>Lung Opacity</td>\n",
              "      <td>/content/stage_2_train_images/01d4fa0f-97a0-45...</td>\n",
              "    </tr>\n",
              "  </tbody>\n",
              "</table>\n",
              "</div>\n",
              "    <div class=\"colab-df-buttons\">\n",
              "\n",
              "  <div class=\"colab-df-container\">\n",
              "    <button class=\"colab-df-convert\" onclick=\"convertToInteractive('df-2b1e3f6f-ba18-4c97-aba9-d749ba44aa30')\"\n",
              "            title=\"Convert this dataframe to an interactive table.\"\n",
              "            style=\"display:none;\">\n",
              "\n",
              "  <svg xmlns=\"http://www.w3.org/2000/svg\" height=\"24px\" viewBox=\"0 -960 960 960\">\n",
              "    <path d=\"M120-120v-720h720v720H120Zm60-500h600v-160H180v160Zm220 220h160v-160H400v160Zm0 220h160v-160H400v160ZM180-400h160v-160H180v160Zm440 0h160v-160H620v160ZM180-180h160v-160H180v160Zm440 0h160v-160H620v160Z\"/>\n",
              "  </svg>\n",
              "    </button>\n",
              "\n",
              "  <style>\n",
              "    .colab-df-container {\n",
              "      display:flex;\n",
              "      gap: 12px;\n",
              "    }\n",
              "\n",
              "    .colab-df-convert {\n",
              "      background-color: #E8F0FE;\n",
              "      border: none;\n",
              "      border-radius: 50%;\n",
              "      cursor: pointer;\n",
              "      display: none;\n",
              "      fill: #1967D2;\n",
              "      height: 32px;\n",
              "      padding: 0 0 0 0;\n",
              "      width: 32px;\n",
              "    }\n",
              "\n",
              "    .colab-df-convert:hover {\n",
              "      background-color: #E2EBFA;\n",
              "      box-shadow: 0px 1px 2px rgba(60, 64, 67, 0.3), 0px 1px 3px 1px rgba(60, 64, 67, 0.15);\n",
              "      fill: #174EA6;\n",
              "    }\n",
              "\n",
              "    .colab-df-buttons div {\n",
              "      margin-bottom: 4px;\n",
              "    }\n",
              "\n",
              "    [theme=dark] .colab-df-convert {\n",
              "      background-color: #3B4455;\n",
              "      fill: #D2E3FC;\n",
              "    }\n",
              "\n",
              "    [theme=dark] .colab-df-convert:hover {\n",
              "      background-color: #434B5C;\n",
              "      box-shadow: 0px 1px 3px 1px rgba(0, 0, 0, 0.15);\n",
              "      filter: drop-shadow(0px 1px 2px rgba(0, 0, 0, 0.3));\n",
              "      fill: #FFFFFF;\n",
              "    }\n",
              "  </style>\n",
              "\n",
              "    <script>\n",
              "      const buttonEl =\n",
              "        document.querySelector('#df-2b1e3f6f-ba18-4c97-aba9-d749ba44aa30 button.colab-df-convert');\n",
              "      buttonEl.style.display =\n",
              "        google.colab.kernel.accessAllowed ? 'block' : 'none';\n",
              "\n",
              "      async function convertToInteractive(key) {\n",
              "        const element = document.querySelector('#df-2b1e3f6f-ba18-4c97-aba9-d749ba44aa30');\n",
              "        const dataTable =\n",
              "          await google.colab.kernel.invokeFunction('convertToInteractive',\n",
              "                                                    [key], {});\n",
              "        if (!dataTable) return;\n",
              "\n",
              "        const docLinkHtml = 'Like what you see? Visit the ' +\n",
              "          '<a target=\"_blank\" href=https://colab.research.google.com/notebooks/data_table.ipynb>data table notebook</a>'\n",
              "          + ' to learn more about interactive tables.';\n",
              "        element.innerHTML = '';\n",
              "        dataTable['output_type'] = 'display_data';\n",
              "        await google.colab.output.renderOutput(dataTable, element);\n",
              "        const docLink = document.createElement('div');\n",
              "        docLink.innerHTML = docLinkHtml;\n",
              "        element.appendChild(docLink);\n",
              "      }\n",
              "    </script>\n",
              "  </div>\n",
              "\n",
              "\n",
              "<div id=\"df-d6606fff-1092-4d0a-80c9-75154d921339\">\n",
              "  <button class=\"colab-df-quickchart\" onclick=\"quickchart('df-d6606fff-1092-4d0a-80c9-75154d921339')\"\n",
              "            title=\"Suggest charts.\"\n",
              "            style=\"display:none;\">\n",
              "\n",
              "<svg xmlns=\"http://www.w3.org/2000/svg\" height=\"24px\"viewBox=\"0 0 24 24\"\n",
              "     width=\"24px\">\n",
              "    <g>\n",
              "        <path d=\"M19 3H5c-1.1 0-2 .9-2 2v14c0 1.1.9 2 2 2h14c1.1 0 2-.9 2-2V5c0-1.1-.9-2-2-2zM9 17H7v-7h2v7zm4 0h-2V7h2v10zm4 0h-2v-4h2v4z\"/>\n",
              "    </g>\n",
              "</svg>\n",
              "  </button>\n",
              "\n",
              "<style>\n",
              "  .colab-df-quickchart {\n",
              "      --bg-color: #E8F0FE;\n",
              "      --fill-color: #1967D2;\n",
              "      --hover-bg-color: #E2EBFA;\n",
              "      --hover-fill-color: #174EA6;\n",
              "      --disabled-fill-color: #AAA;\n",
              "      --disabled-bg-color: #DDD;\n",
              "  }\n",
              "\n",
              "  [theme=dark] .colab-df-quickchart {\n",
              "      --bg-color: #3B4455;\n",
              "      --fill-color: #D2E3FC;\n",
              "      --hover-bg-color: #434B5C;\n",
              "      --hover-fill-color: #FFFFFF;\n",
              "      --disabled-bg-color: #3B4455;\n",
              "      --disabled-fill-color: #666;\n",
              "  }\n",
              "\n",
              "  .colab-df-quickchart {\n",
              "    background-color: var(--bg-color);\n",
              "    border: none;\n",
              "    border-radius: 50%;\n",
              "    cursor: pointer;\n",
              "    display: none;\n",
              "    fill: var(--fill-color);\n",
              "    height: 32px;\n",
              "    padding: 0;\n",
              "    width: 32px;\n",
              "  }\n",
              "\n",
              "  .colab-df-quickchart:hover {\n",
              "    background-color: var(--hover-bg-color);\n",
              "    box-shadow: 0 1px 2px rgba(60, 64, 67, 0.3), 0 1px 3px 1px rgba(60, 64, 67, 0.15);\n",
              "    fill: var(--button-hover-fill-color);\n",
              "  }\n",
              "\n",
              "  .colab-df-quickchart-complete:disabled,\n",
              "  .colab-df-quickchart-complete:disabled:hover {\n",
              "    background-color: var(--disabled-bg-color);\n",
              "    fill: var(--disabled-fill-color);\n",
              "    box-shadow: none;\n",
              "  }\n",
              "\n",
              "  .colab-df-spinner {\n",
              "    border: 2px solid var(--fill-color);\n",
              "    border-color: transparent;\n",
              "    border-bottom-color: var(--fill-color);\n",
              "    animation:\n",
              "      spin 1s steps(1) infinite;\n",
              "  }\n",
              "\n",
              "  @keyframes spin {\n",
              "    0% {\n",
              "      border-color: transparent;\n",
              "      border-bottom-color: var(--fill-color);\n",
              "      border-left-color: var(--fill-color);\n",
              "    }\n",
              "    20% {\n",
              "      border-color: transparent;\n",
              "      border-left-color: var(--fill-color);\n",
              "      border-top-color: var(--fill-color);\n",
              "    }\n",
              "    30% {\n",
              "      border-color: transparent;\n",
              "      border-left-color: var(--fill-color);\n",
              "      border-top-color: var(--fill-color);\n",
              "      border-right-color: var(--fill-color);\n",
              "    }\n",
              "    40% {\n",
              "      border-color: transparent;\n",
              "      border-right-color: var(--fill-color);\n",
              "      border-top-color: var(--fill-color);\n",
              "    }\n",
              "    60% {\n",
              "      border-color: transparent;\n",
              "      border-right-color: var(--fill-color);\n",
              "    }\n",
              "    80% {\n",
              "      border-color: transparent;\n",
              "      border-right-color: var(--fill-color);\n",
              "      border-bottom-color: var(--fill-color);\n",
              "    }\n",
              "    90% {\n",
              "      border-color: transparent;\n",
              "      border-bottom-color: var(--fill-color);\n",
              "    }\n",
              "  }\n",
              "</style>\n",
              "\n",
              "  <script>\n",
              "    async function quickchart(key) {\n",
              "      const quickchartButtonEl =\n",
              "        document.querySelector('#' + key + ' button');\n",
              "      quickchartButtonEl.disabled = true;  // To prevent multiple clicks.\n",
              "      quickchartButtonEl.classList.add('colab-df-spinner');\n",
              "      try {\n",
              "        const charts = await google.colab.kernel.invokeFunction(\n",
              "            'suggestCharts', [key], {});\n",
              "      } catch (error) {\n",
              "        console.error('Error during call to suggestCharts:', error);\n",
              "      }\n",
              "      quickchartButtonEl.classList.remove('colab-df-spinner');\n",
              "      quickchartButtonEl.classList.add('colab-df-quickchart-complete');\n",
              "    }\n",
              "    (() => {\n",
              "      let quickchartButtonEl =\n",
              "        document.querySelector('#df-d6606fff-1092-4d0a-80c9-75154d921339 button');\n",
              "      quickchartButtonEl.style.display =\n",
              "        google.colab.kernel.accessAllowed ? 'block' : 'none';\n",
              "    })();\n",
              "  </script>\n",
              "</div>\n",
              "    </div>\n",
              "  </div>\n"
            ],
            "text/plain": [
              "                              patientId                         class  \\\n",
              "0  0174c4bb-28f5-41e3-a13f-a396badc18bd                  Lung Opacity   \n",
              "1  01be392f-a46d-4aef-a57e-9cd1a80dd47e                  Lung Opacity   \n",
              "2  01c09fb1-a917-46ee-8d94-44f844a4eb85  No Lung Opacity / Not Normal   \n",
              "3  01cad8d0-45cd-4603-b099-94055d322310                  Lung Opacity   \n",
              "4  01d4fa0f-97a0-4522-b0d8-134400db2a3e                  Lung Opacity   \n",
              "\n",
              "                                          image_path  \n",
              "0  /content/stage_2_train_images/0174c4bb-28f5-41...  \n",
              "1  /content/stage_2_train_images/01be392f-a46d-4a...  \n",
              "2  /content/stage_2_train_images/01c09fb1-a917-46...  \n",
              "3  /content/stage_2_train_images/01cad8d0-45cd-46...  \n",
              "4  /content/stage_2_train_images/01d4fa0f-97a0-45...  "
            ]
          },
          "execution_count": 21,
          "metadata": {},
          "output_type": "execute_result"
        }
      ],
      "source": [
        "filtered_df.head()"
      ]
    },
    {
      "cell_type": "code",
      "execution_count": null,
      "metadata": {
        "colab": {
          "base_uri": "https://localhost:8080/"
        },
        "id": "89bdC73s4obO",
        "outputId": "dab50323-922b-43e6-af50-49ba2b4d150e",
        "trusted": true
      },
      "outputs": [
        {
          "data": {
            "text/plain": [
              "Lung Opacity                    1000\n",
              "No Lung Opacity / Not Normal     500\n",
              "Normal                           500\n",
              "Name: class, dtype: int64"
            ]
          },
          "execution_count": 22,
          "metadata": {},
          "output_type": "execute_result"
        }
      ],
      "source": [
        "filtered_df['class'].value_counts()"
      ]
    },
    {
      "cell_type": "markdown",
      "metadata": {
        "id": "T_EvxdF69d8W"
      },
      "source": [
        "**5. Creating a new column 'label' containing 0 for 'Normal and No Lung Opacity/Not Normal' classes and 1 for 'Lung Opacity'.**"
      ]
    },
    {
      "cell_type": "code",
      "execution_count": null,
      "metadata": {
        "colab": {
          "base_uri": "https://localhost:8080/",
          "height": 363
        },
        "id": "TzvUdWg74obP",
        "outputId": "70f0d19e-bb1c-4c95-8845-02a590ac3e37",
        "trusted": true
      },
      "outputs": [
        {
          "data": {
            "text/html": [
              "\n",
              "  <div id=\"df-84690230-fe98-4bf5-a97d-e0a6703d2ffe\" class=\"colab-df-container\">\n",
              "    <div>\n",
              "<style scoped>\n",
              "    .dataframe tbody tr th:only-of-type {\n",
              "        vertical-align: middle;\n",
              "    }\n",
              "\n",
              "    .dataframe tbody tr th {\n",
              "        vertical-align: top;\n",
              "    }\n",
              "\n",
              "    .dataframe thead th {\n",
              "        text-align: right;\n",
              "    }\n",
              "</style>\n",
              "<table border=\"1\" class=\"dataframe\">\n",
              "  <thead>\n",
              "    <tr style=\"text-align: right;\">\n",
              "      <th></th>\n",
              "      <th>patientId</th>\n",
              "      <th>class</th>\n",
              "      <th>image_path</th>\n",
              "      <th>label</th>\n",
              "    </tr>\n",
              "  </thead>\n",
              "  <tbody>\n",
              "    <tr>\n",
              "      <th>0</th>\n",
              "      <td>0174c4bb-28f5-41e3-a13f-a396badc18bd</td>\n",
              "      <td>Lung Opacity</td>\n",
              "      <td>/content/stage_2_train_images/0174c4bb-28f5-41...</td>\n",
              "      <td>1</td>\n",
              "    </tr>\n",
              "    <tr>\n",
              "      <th>1</th>\n",
              "      <td>01be392f-a46d-4aef-a57e-9cd1a80dd47e</td>\n",
              "      <td>Lung Opacity</td>\n",
              "      <td>/content/stage_2_train_images/01be392f-a46d-4a...</td>\n",
              "      <td>1</td>\n",
              "    </tr>\n",
              "    <tr>\n",
              "      <th>2</th>\n",
              "      <td>01c09fb1-a917-46ee-8d94-44f844a4eb85</td>\n",
              "      <td>No Lung Opacity / Not Normal</td>\n",
              "      <td>/content/stage_2_train_images/01c09fb1-a917-46...</td>\n",
              "      <td>0</td>\n",
              "    </tr>\n",
              "    <tr>\n",
              "      <th>3</th>\n",
              "      <td>01cad8d0-45cd-4603-b099-94055d322310</td>\n",
              "      <td>Lung Opacity</td>\n",
              "      <td>/content/stage_2_train_images/01cad8d0-45cd-46...</td>\n",
              "      <td>1</td>\n",
              "    </tr>\n",
              "    <tr>\n",
              "      <th>4</th>\n",
              "      <td>01d4fa0f-97a0-4522-b0d8-134400db2a3e</td>\n",
              "      <td>Lung Opacity</td>\n",
              "      <td>/content/stage_2_train_images/01d4fa0f-97a0-45...</td>\n",
              "      <td>1</td>\n",
              "    </tr>\n",
              "    <tr>\n",
              "      <th>5</th>\n",
              "      <td>01e16ddb-682d-4901-b56d-8686c4f9f976</td>\n",
              "      <td>No Lung Opacity / Not Normal</td>\n",
              "      <td>/content/stage_2_train_images/01e16ddb-682d-49...</td>\n",
              "      <td>0</td>\n",
              "    </tr>\n",
              "    <tr>\n",
              "      <th>6</th>\n",
              "      <td>01e4fd43-4f2c-421f-bd68-c756dceb5742</td>\n",
              "      <td>Normal</td>\n",
              "      <td>/content/stage_2_train_images/01e4fd43-4f2c-42...</td>\n",
              "      <td>0</td>\n",
              "    </tr>\n",
              "    <tr>\n",
              "      <th>7</th>\n",
              "      <td>01f4cd36-caa1-480f-9d8c-92e80cf7b197</td>\n",
              "      <td>Normal</td>\n",
              "      <td>/content/stage_2_train_images/01f4cd36-caa1-48...</td>\n",
              "      <td>0</td>\n",
              "    </tr>\n",
              "    <tr>\n",
              "      <th>8</th>\n",
              "      <td>020380f8-5c5a-4ded-bdf3-9ce3036945b4</td>\n",
              "      <td>Lung Opacity</td>\n",
              "      <td>/content/stage_2_train_images/020380f8-5c5a-4d...</td>\n",
              "      <td>1</td>\n",
              "    </tr>\n",
              "    <tr>\n",
              "      <th>9</th>\n",
              "      <td>0280a39c-4891-4a7b-8073-710c3f5577a3</td>\n",
              "      <td>Normal</td>\n",
              "      <td>/content/stage_2_train_images/0280a39c-4891-4a...</td>\n",
              "      <td>0</td>\n",
              "    </tr>\n",
              "  </tbody>\n",
              "</table>\n",
              "</div>\n",
              "    <div class=\"colab-df-buttons\">\n",
              "\n",
              "  <div class=\"colab-df-container\">\n",
              "    <button class=\"colab-df-convert\" onclick=\"convertToInteractive('df-84690230-fe98-4bf5-a97d-e0a6703d2ffe')\"\n",
              "            title=\"Convert this dataframe to an interactive table.\"\n",
              "            style=\"display:none;\">\n",
              "\n",
              "  <svg xmlns=\"http://www.w3.org/2000/svg\" height=\"24px\" viewBox=\"0 -960 960 960\">\n",
              "    <path d=\"M120-120v-720h720v720H120Zm60-500h600v-160H180v160Zm220 220h160v-160H400v160Zm0 220h160v-160H400v160ZM180-400h160v-160H180v160Zm440 0h160v-160H620v160ZM180-180h160v-160H180v160Zm440 0h160v-160H620v160Z\"/>\n",
              "  </svg>\n",
              "    </button>\n",
              "\n",
              "  <style>\n",
              "    .colab-df-container {\n",
              "      display:flex;\n",
              "      gap: 12px;\n",
              "    }\n",
              "\n",
              "    .colab-df-convert {\n",
              "      background-color: #E8F0FE;\n",
              "      border: none;\n",
              "      border-radius: 50%;\n",
              "      cursor: pointer;\n",
              "      display: none;\n",
              "      fill: #1967D2;\n",
              "      height: 32px;\n",
              "      padding: 0 0 0 0;\n",
              "      width: 32px;\n",
              "    }\n",
              "\n",
              "    .colab-df-convert:hover {\n",
              "      background-color: #E2EBFA;\n",
              "      box-shadow: 0px 1px 2px rgba(60, 64, 67, 0.3), 0px 1px 3px 1px rgba(60, 64, 67, 0.15);\n",
              "      fill: #174EA6;\n",
              "    }\n",
              "\n",
              "    .colab-df-buttons div {\n",
              "      margin-bottom: 4px;\n",
              "    }\n",
              "\n",
              "    [theme=dark] .colab-df-convert {\n",
              "      background-color: #3B4455;\n",
              "      fill: #D2E3FC;\n",
              "    }\n",
              "\n",
              "    [theme=dark] .colab-df-convert:hover {\n",
              "      background-color: #434B5C;\n",
              "      box-shadow: 0px 1px 3px 1px rgba(0, 0, 0, 0.15);\n",
              "      filter: drop-shadow(0px 1px 2px rgba(0, 0, 0, 0.3));\n",
              "      fill: #FFFFFF;\n",
              "    }\n",
              "  </style>\n",
              "\n",
              "    <script>\n",
              "      const buttonEl =\n",
              "        document.querySelector('#df-84690230-fe98-4bf5-a97d-e0a6703d2ffe button.colab-df-convert');\n",
              "      buttonEl.style.display =\n",
              "        google.colab.kernel.accessAllowed ? 'block' : 'none';\n",
              "\n",
              "      async function convertToInteractive(key) {\n",
              "        const element = document.querySelector('#df-84690230-fe98-4bf5-a97d-e0a6703d2ffe');\n",
              "        const dataTable =\n",
              "          await google.colab.kernel.invokeFunction('convertToInteractive',\n",
              "                                                    [key], {});\n",
              "        if (!dataTable) return;\n",
              "\n",
              "        const docLinkHtml = 'Like what you see? Visit the ' +\n",
              "          '<a target=\"_blank\" href=https://colab.research.google.com/notebooks/data_table.ipynb>data table notebook</a>'\n",
              "          + ' to learn more about interactive tables.';\n",
              "        element.innerHTML = '';\n",
              "        dataTable['output_type'] = 'display_data';\n",
              "        await google.colab.output.renderOutput(dataTable, element);\n",
              "        const docLink = document.createElement('div');\n",
              "        docLink.innerHTML = docLinkHtml;\n",
              "        element.appendChild(docLink);\n",
              "      }\n",
              "    </script>\n",
              "  </div>\n",
              "\n",
              "\n",
              "<div id=\"df-76eca5f9-01e9-46cb-8a2f-c32b30a041e7\">\n",
              "  <button class=\"colab-df-quickchart\" onclick=\"quickchart('df-76eca5f9-01e9-46cb-8a2f-c32b30a041e7')\"\n",
              "            title=\"Suggest charts.\"\n",
              "            style=\"display:none;\">\n",
              "\n",
              "<svg xmlns=\"http://www.w3.org/2000/svg\" height=\"24px\"viewBox=\"0 0 24 24\"\n",
              "     width=\"24px\">\n",
              "    <g>\n",
              "        <path d=\"M19 3H5c-1.1 0-2 .9-2 2v14c0 1.1.9 2 2 2h14c1.1 0 2-.9 2-2V5c0-1.1-.9-2-2-2zM9 17H7v-7h2v7zm4 0h-2V7h2v10zm4 0h-2v-4h2v4z\"/>\n",
              "    </g>\n",
              "</svg>\n",
              "  </button>\n",
              "\n",
              "<style>\n",
              "  .colab-df-quickchart {\n",
              "      --bg-color: #E8F0FE;\n",
              "      --fill-color: #1967D2;\n",
              "      --hover-bg-color: #E2EBFA;\n",
              "      --hover-fill-color: #174EA6;\n",
              "      --disabled-fill-color: #AAA;\n",
              "      --disabled-bg-color: #DDD;\n",
              "  }\n",
              "\n",
              "  [theme=dark] .colab-df-quickchart {\n",
              "      --bg-color: #3B4455;\n",
              "      --fill-color: #D2E3FC;\n",
              "      --hover-bg-color: #434B5C;\n",
              "      --hover-fill-color: #FFFFFF;\n",
              "      --disabled-bg-color: #3B4455;\n",
              "      --disabled-fill-color: #666;\n",
              "  }\n",
              "\n",
              "  .colab-df-quickchart {\n",
              "    background-color: var(--bg-color);\n",
              "    border: none;\n",
              "    border-radius: 50%;\n",
              "    cursor: pointer;\n",
              "    display: none;\n",
              "    fill: var(--fill-color);\n",
              "    height: 32px;\n",
              "    padding: 0;\n",
              "    width: 32px;\n",
              "  }\n",
              "\n",
              "  .colab-df-quickchart:hover {\n",
              "    background-color: var(--hover-bg-color);\n",
              "    box-shadow: 0 1px 2px rgba(60, 64, 67, 0.3), 0 1px 3px 1px rgba(60, 64, 67, 0.15);\n",
              "    fill: var(--button-hover-fill-color);\n",
              "  }\n",
              "\n",
              "  .colab-df-quickchart-complete:disabled,\n",
              "  .colab-df-quickchart-complete:disabled:hover {\n",
              "    background-color: var(--disabled-bg-color);\n",
              "    fill: var(--disabled-fill-color);\n",
              "    box-shadow: none;\n",
              "  }\n",
              "\n",
              "  .colab-df-spinner {\n",
              "    border: 2px solid var(--fill-color);\n",
              "    border-color: transparent;\n",
              "    border-bottom-color: var(--fill-color);\n",
              "    animation:\n",
              "      spin 1s steps(1) infinite;\n",
              "  }\n",
              "\n",
              "  @keyframes spin {\n",
              "    0% {\n",
              "      border-color: transparent;\n",
              "      border-bottom-color: var(--fill-color);\n",
              "      border-left-color: var(--fill-color);\n",
              "    }\n",
              "    20% {\n",
              "      border-color: transparent;\n",
              "      border-left-color: var(--fill-color);\n",
              "      border-top-color: var(--fill-color);\n",
              "    }\n",
              "    30% {\n",
              "      border-color: transparent;\n",
              "      border-left-color: var(--fill-color);\n",
              "      border-top-color: var(--fill-color);\n",
              "      border-right-color: var(--fill-color);\n",
              "    }\n",
              "    40% {\n",
              "      border-color: transparent;\n",
              "      border-right-color: var(--fill-color);\n",
              "      border-top-color: var(--fill-color);\n",
              "    }\n",
              "    60% {\n",
              "      border-color: transparent;\n",
              "      border-right-color: var(--fill-color);\n",
              "    }\n",
              "    80% {\n",
              "      border-color: transparent;\n",
              "      border-right-color: var(--fill-color);\n",
              "      border-bottom-color: var(--fill-color);\n",
              "    }\n",
              "    90% {\n",
              "      border-color: transparent;\n",
              "      border-bottom-color: var(--fill-color);\n",
              "    }\n",
              "  }\n",
              "</style>\n",
              "\n",
              "  <script>\n",
              "    async function quickchart(key) {\n",
              "      const quickchartButtonEl =\n",
              "        document.querySelector('#' + key + ' button');\n",
              "      quickchartButtonEl.disabled = true;  // To prevent multiple clicks.\n",
              "      quickchartButtonEl.classList.add('colab-df-spinner');\n",
              "      try {\n",
              "        const charts = await google.colab.kernel.invokeFunction(\n",
              "            'suggestCharts', [key], {});\n",
              "      } catch (error) {\n",
              "        console.error('Error during call to suggestCharts:', error);\n",
              "      }\n",
              "      quickchartButtonEl.classList.remove('colab-df-spinner');\n",
              "      quickchartButtonEl.classList.add('colab-df-quickchart-complete');\n",
              "    }\n",
              "    (() => {\n",
              "      let quickchartButtonEl =\n",
              "        document.querySelector('#df-76eca5f9-01e9-46cb-8a2f-c32b30a041e7 button');\n",
              "      quickchartButtonEl.style.display =\n",
              "        google.colab.kernel.accessAllowed ? 'block' : 'none';\n",
              "    })();\n",
              "  </script>\n",
              "</div>\n",
              "    </div>\n",
              "  </div>\n"
            ],
            "text/plain": [
              "                              patientId                         class  \\\n",
              "0  0174c4bb-28f5-41e3-a13f-a396badc18bd                  Lung Opacity   \n",
              "1  01be392f-a46d-4aef-a57e-9cd1a80dd47e                  Lung Opacity   \n",
              "2  01c09fb1-a917-46ee-8d94-44f844a4eb85  No Lung Opacity / Not Normal   \n",
              "3  01cad8d0-45cd-4603-b099-94055d322310                  Lung Opacity   \n",
              "4  01d4fa0f-97a0-4522-b0d8-134400db2a3e                  Lung Opacity   \n",
              "5  01e16ddb-682d-4901-b56d-8686c4f9f976  No Lung Opacity / Not Normal   \n",
              "6  01e4fd43-4f2c-421f-bd68-c756dceb5742                        Normal   \n",
              "7  01f4cd36-caa1-480f-9d8c-92e80cf7b197                        Normal   \n",
              "8  020380f8-5c5a-4ded-bdf3-9ce3036945b4                  Lung Opacity   \n",
              "9  0280a39c-4891-4a7b-8073-710c3f5577a3                        Normal   \n",
              "\n",
              "                                          image_path  label  \n",
              "0  /content/stage_2_train_images/0174c4bb-28f5-41...      1  \n",
              "1  /content/stage_2_train_images/01be392f-a46d-4a...      1  \n",
              "2  /content/stage_2_train_images/01c09fb1-a917-46...      0  \n",
              "3  /content/stage_2_train_images/01cad8d0-45cd-46...      1  \n",
              "4  /content/stage_2_train_images/01d4fa0f-97a0-45...      1  \n",
              "5  /content/stage_2_train_images/01e16ddb-682d-49...      0  \n",
              "6  /content/stage_2_train_images/01e4fd43-4f2c-42...      0  \n",
              "7  /content/stage_2_train_images/01f4cd36-caa1-48...      0  \n",
              "8  /content/stage_2_train_images/020380f8-5c5a-4d...      1  \n",
              "9  /content/stage_2_train_images/0280a39c-4891-4a...      0  "
            ]
          },
          "execution_count": 25,
          "metadata": {},
          "output_type": "execute_result"
        }
      ],
      "source": [
        "filtered_df['label'] = filtered_df['class'].apply(lambda x: 1 if x == 'Lung Opacity' else 0)\n",
        "\n",
        "filtered_df.head(10)"
      ]
    },
    {
      "cell_type": "code",
      "execution_count": null,
      "metadata": {
        "colab": {
          "base_uri": "https://localhost:8080/"
        },
        "id": "T11d7wUw4obP",
        "outputId": "631064db-2411-4178-a8b4-500993790533",
        "trusted": true
      },
      "outputs": [
        {
          "data": {
            "text/plain": [
              "1    1000\n",
              "0    1000\n",
              "Name: label, dtype: int64"
            ]
          },
          "execution_count": 26,
          "metadata": {},
          "output_type": "execute_result"
        }
      ],
      "source": [
        "filtered_df['label'].value_counts()"
      ]
    },
    {
      "cell_type": "code",
      "execution_count": null,
      "metadata": {
        "colab": {
          "base_uri": "https://localhost:8080/"
        },
        "id": "-lYOS3pZ4obQ",
        "outputId": "b41daebe-ce5c-4d00-c145-829d8cc40683",
        "trusted": true
      },
      "outputs": [
        {
          "data": {
            "text/plain": [
              "(2000, 4)"
            ]
          },
          "execution_count": 27,
          "metadata": {},
          "output_type": "execute_result"
        }
      ],
      "source": [
        "filtered_df.shape"
      ]
    },
    {
      "cell_type": "code",
      "execution_count": null,
      "metadata": {
        "colab": {
          "base_uri": "https://localhost:8080/",
          "height": 206
        },
        "id": "-ZrdjmMF4obQ",
        "outputId": "29628ce0-c77a-4838-cbf7-f04966267578",
        "trusted": true
      },
      "outputs": [
        {
          "data": {
            "text/html": [
              "\n",
              "  <div id=\"df-fe217310-91c6-4a99-b9c0-befa90793c0d\" class=\"colab-df-container\">\n",
              "    <div>\n",
              "<style scoped>\n",
              "    .dataframe tbody tr th:only-of-type {\n",
              "        vertical-align: middle;\n",
              "    }\n",
              "\n",
              "    .dataframe tbody tr th {\n",
              "        vertical-align: top;\n",
              "    }\n",
              "\n",
              "    .dataframe thead th {\n",
              "        text-align: right;\n",
              "    }\n",
              "</style>\n",
              "<table border=\"1\" class=\"dataframe\">\n",
              "  <thead>\n",
              "    <tr style=\"text-align: right;\">\n",
              "      <th></th>\n",
              "      <th>patientId</th>\n",
              "      <th>class</th>\n",
              "      <th>image_path</th>\n",
              "      <th>label</th>\n",
              "    </tr>\n",
              "  </thead>\n",
              "  <tbody>\n",
              "    <tr>\n",
              "      <th>0</th>\n",
              "      <td>0174c4bb-28f5-41e3-a13f-a396badc18bd</td>\n",
              "      <td>Lung Opacity</td>\n",
              "      <td>/content/stage_2_train_images/0174c4bb-28f5-41...</td>\n",
              "      <td>1</td>\n",
              "    </tr>\n",
              "    <tr>\n",
              "      <th>1</th>\n",
              "      <td>01be392f-a46d-4aef-a57e-9cd1a80dd47e</td>\n",
              "      <td>Lung Opacity</td>\n",
              "      <td>/content/stage_2_train_images/01be392f-a46d-4a...</td>\n",
              "      <td>1</td>\n",
              "    </tr>\n",
              "    <tr>\n",
              "      <th>2</th>\n",
              "      <td>01c09fb1-a917-46ee-8d94-44f844a4eb85</td>\n",
              "      <td>No Lung Opacity / Not Normal</td>\n",
              "      <td>/content/stage_2_train_images/01c09fb1-a917-46...</td>\n",
              "      <td>0</td>\n",
              "    </tr>\n",
              "    <tr>\n",
              "      <th>3</th>\n",
              "      <td>01cad8d0-45cd-4603-b099-94055d322310</td>\n",
              "      <td>Lung Opacity</td>\n",
              "      <td>/content/stage_2_train_images/01cad8d0-45cd-46...</td>\n",
              "      <td>1</td>\n",
              "    </tr>\n",
              "    <tr>\n",
              "      <th>4</th>\n",
              "      <td>01d4fa0f-97a0-4522-b0d8-134400db2a3e</td>\n",
              "      <td>Lung Opacity</td>\n",
              "      <td>/content/stage_2_train_images/01d4fa0f-97a0-45...</td>\n",
              "      <td>1</td>\n",
              "    </tr>\n",
              "  </tbody>\n",
              "</table>\n",
              "</div>\n",
              "    <div class=\"colab-df-buttons\">\n",
              "\n",
              "  <div class=\"colab-df-container\">\n",
              "    <button class=\"colab-df-convert\" onclick=\"convertToInteractive('df-fe217310-91c6-4a99-b9c0-befa90793c0d')\"\n",
              "            title=\"Convert this dataframe to an interactive table.\"\n",
              "            style=\"display:none;\">\n",
              "\n",
              "  <svg xmlns=\"http://www.w3.org/2000/svg\" height=\"24px\" viewBox=\"0 -960 960 960\">\n",
              "    <path d=\"M120-120v-720h720v720H120Zm60-500h600v-160H180v160Zm220 220h160v-160H400v160Zm0 220h160v-160H400v160ZM180-400h160v-160H180v160Zm440 0h160v-160H620v160ZM180-180h160v-160H180v160Zm440 0h160v-160H620v160Z\"/>\n",
              "  </svg>\n",
              "    </button>\n",
              "\n",
              "  <style>\n",
              "    .colab-df-container {\n",
              "      display:flex;\n",
              "      gap: 12px;\n",
              "    }\n",
              "\n",
              "    .colab-df-convert {\n",
              "      background-color: #E8F0FE;\n",
              "      border: none;\n",
              "      border-radius: 50%;\n",
              "      cursor: pointer;\n",
              "      display: none;\n",
              "      fill: #1967D2;\n",
              "      height: 32px;\n",
              "      padding: 0 0 0 0;\n",
              "      width: 32px;\n",
              "    }\n",
              "\n",
              "    .colab-df-convert:hover {\n",
              "      background-color: #E2EBFA;\n",
              "      box-shadow: 0px 1px 2px rgba(60, 64, 67, 0.3), 0px 1px 3px 1px rgba(60, 64, 67, 0.15);\n",
              "      fill: #174EA6;\n",
              "    }\n",
              "\n",
              "    .colab-df-buttons div {\n",
              "      margin-bottom: 4px;\n",
              "    }\n",
              "\n",
              "    [theme=dark] .colab-df-convert {\n",
              "      background-color: #3B4455;\n",
              "      fill: #D2E3FC;\n",
              "    }\n",
              "\n",
              "    [theme=dark] .colab-df-convert:hover {\n",
              "      background-color: #434B5C;\n",
              "      box-shadow: 0px 1px 3px 1px rgba(0, 0, 0, 0.15);\n",
              "      filter: drop-shadow(0px 1px 2px rgba(0, 0, 0, 0.3));\n",
              "      fill: #FFFFFF;\n",
              "    }\n",
              "  </style>\n",
              "\n",
              "    <script>\n",
              "      const buttonEl =\n",
              "        document.querySelector('#df-fe217310-91c6-4a99-b9c0-befa90793c0d button.colab-df-convert');\n",
              "      buttonEl.style.display =\n",
              "        google.colab.kernel.accessAllowed ? 'block' : 'none';\n",
              "\n",
              "      async function convertToInteractive(key) {\n",
              "        const element = document.querySelector('#df-fe217310-91c6-4a99-b9c0-befa90793c0d');\n",
              "        const dataTable =\n",
              "          await google.colab.kernel.invokeFunction('convertToInteractive',\n",
              "                                                    [key], {});\n",
              "        if (!dataTable) return;\n",
              "\n",
              "        const docLinkHtml = 'Like what you see? Visit the ' +\n",
              "          '<a target=\"_blank\" href=https://colab.research.google.com/notebooks/data_table.ipynb>data table notebook</a>'\n",
              "          + ' to learn more about interactive tables.';\n",
              "        element.innerHTML = '';\n",
              "        dataTable['output_type'] = 'display_data';\n",
              "        await google.colab.output.renderOutput(dataTable, element);\n",
              "        const docLink = document.createElement('div');\n",
              "        docLink.innerHTML = docLinkHtml;\n",
              "        element.appendChild(docLink);\n",
              "      }\n",
              "    </script>\n",
              "  </div>\n",
              "\n",
              "\n",
              "<div id=\"df-face5681-6272-4687-8485-ae9045f1f945\">\n",
              "  <button class=\"colab-df-quickchart\" onclick=\"quickchart('df-face5681-6272-4687-8485-ae9045f1f945')\"\n",
              "            title=\"Suggest charts.\"\n",
              "            style=\"display:none;\">\n",
              "\n",
              "<svg xmlns=\"http://www.w3.org/2000/svg\" height=\"24px\"viewBox=\"0 0 24 24\"\n",
              "     width=\"24px\">\n",
              "    <g>\n",
              "        <path d=\"M19 3H5c-1.1 0-2 .9-2 2v14c0 1.1.9 2 2 2h14c1.1 0 2-.9 2-2V5c0-1.1-.9-2-2-2zM9 17H7v-7h2v7zm4 0h-2V7h2v10zm4 0h-2v-4h2v4z\"/>\n",
              "    </g>\n",
              "</svg>\n",
              "  </button>\n",
              "\n",
              "<style>\n",
              "  .colab-df-quickchart {\n",
              "      --bg-color: #E8F0FE;\n",
              "      --fill-color: #1967D2;\n",
              "      --hover-bg-color: #E2EBFA;\n",
              "      --hover-fill-color: #174EA6;\n",
              "      --disabled-fill-color: #AAA;\n",
              "      --disabled-bg-color: #DDD;\n",
              "  }\n",
              "\n",
              "  [theme=dark] .colab-df-quickchart {\n",
              "      --bg-color: #3B4455;\n",
              "      --fill-color: #D2E3FC;\n",
              "      --hover-bg-color: #434B5C;\n",
              "      --hover-fill-color: #FFFFFF;\n",
              "      --disabled-bg-color: #3B4455;\n",
              "      --disabled-fill-color: #666;\n",
              "  }\n",
              "\n",
              "  .colab-df-quickchart {\n",
              "    background-color: var(--bg-color);\n",
              "    border: none;\n",
              "    border-radius: 50%;\n",
              "    cursor: pointer;\n",
              "    display: none;\n",
              "    fill: var(--fill-color);\n",
              "    height: 32px;\n",
              "    padding: 0;\n",
              "    width: 32px;\n",
              "  }\n",
              "\n",
              "  .colab-df-quickchart:hover {\n",
              "    background-color: var(--hover-bg-color);\n",
              "    box-shadow: 0 1px 2px rgba(60, 64, 67, 0.3), 0 1px 3px 1px rgba(60, 64, 67, 0.15);\n",
              "    fill: var(--button-hover-fill-color);\n",
              "  }\n",
              "\n",
              "  .colab-df-quickchart-complete:disabled,\n",
              "  .colab-df-quickchart-complete:disabled:hover {\n",
              "    background-color: var(--disabled-bg-color);\n",
              "    fill: var(--disabled-fill-color);\n",
              "    box-shadow: none;\n",
              "  }\n",
              "\n",
              "  .colab-df-spinner {\n",
              "    border: 2px solid var(--fill-color);\n",
              "    border-color: transparent;\n",
              "    border-bottom-color: var(--fill-color);\n",
              "    animation:\n",
              "      spin 1s steps(1) infinite;\n",
              "  }\n",
              "\n",
              "  @keyframes spin {\n",
              "    0% {\n",
              "      border-color: transparent;\n",
              "      border-bottom-color: var(--fill-color);\n",
              "      border-left-color: var(--fill-color);\n",
              "    }\n",
              "    20% {\n",
              "      border-color: transparent;\n",
              "      border-left-color: var(--fill-color);\n",
              "      border-top-color: var(--fill-color);\n",
              "    }\n",
              "    30% {\n",
              "      border-color: transparent;\n",
              "      border-left-color: var(--fill-color);\n",
              "      border-top-color: var(--fill-color);\n",
              "      border-right-color: var(--fill-color);\n",
              "    }\n",
              "    40% {\n",
              "      border-color: transparent;\n",
              "      border-right-color: var(--fill-color);\n",
              "      border-top-color: var(--fill-color);\n",
              "    }\n",
              "    60% {\n",
              "      border-color: transparent;\n",
              "      border-right-color: var(--fill-color);\n",
              "    }\n",
              "    80% {\n",
              "      border-color: transparent;\n",
              "      border-right-color: var(--fill-color);\n",
              "      border-bottom-color: var(--fill-color);\n",
              "    }\n",
              "    90% {\n",
              "      border-color: transparent;\n",
              "      border-bottom-color: var(--fill-color);\n",
              "    }\n",
              "  }\n",
              "</style>\n",
              "\n",
              "  <script>\n",
              "    async function quickchart(key) {\n",
              "      const quickchartButtonEl =\n",
              "        document.querySelector('#' + key + ' button');\n",
              "      quickchartButtonEl.disabled = true;  // To prevent multiple clicks.\n",
              "      quickchartButtonEl.classList.add('colab-df-spinner');\n",
              "      try {\n",
              "        const charts = await google.colab.kernel.invokeFunction(\n",
              "            'suggestCharts', [key], {});\n",
              "      } catch (error) {\n",
              "        console.error('Error during call to suggestCharts:', error);\n",
              "      }\n",
              "      quickchartButtonEl.classList.remove('colab-df-spinner');\n",
              "      quickchartButtonEl.classList.add('colab-df-quickchart-complete');\n",
              "    }\n",
              "    (() => {\n",
              "      let quickchartButtonEl =\n",
              "        document.querySelector('#df-face5681-6272-4687-8485-ae9045f1f945 button');\n",
              "      quickchartButtonEl.style.display =\n",
              "        google.colab.kernel.accessAllowed ? 'block' : 'none';\n",
              "    })();\n",
              "  </script>\n",
              "</div>\n",
              "    </div>\n",
              "  </div>\n"
            ],
            "text/plain": [
              "                              patientId                         class  \\\n",
              "0  0174c4bb-28f5-41e3-a13f-a396badc18bd                  Lung Opacity   \n",
              "1  01be392f-a46d-4aef-a57e-9cd1a80dd47e                  Lung Opacity   \n",
              "2  01c09fb1-a917-46ee-8d94-44f844a4eb85  No Lung Opacity / Not Normal   \n",
              "3  01cad8d0-45cd-4603-b099-94055d322310                  Lung Opacity   \n",
              "4  01d4fa0f-97a0-4522-b0d8-134400db2a3e                  Lung Opacity   \n",
              "\n",
              "                                          image_path  label  \n",
              "0  /content/stage_2_train_images/0174c4bb-28f5-41...      1  \n",
              "1  /content/stage_2_train_images/01be392f-a46d-4a...      1  \n",
              "2  /content/stage_2_train_images/01c09fb1-a917-46...      0  \n",
              "3  /content/stage_2_train_images/01cad8d0-45cd-46...      1  \n",
              "4  /content/stage_2_train_images/01d4fa0f-97a0-45...      1  "
            ]
          },
          "execution_count": 28,
          "metadata": {},
          "output_type": "execute_result"
        }
      ],
      "source": [
        "filtered_df.head()"
      ]
    },
    {
      "cell_type": "code",
      "execution_count": null,
      "metadata": {
        "colab": {
          "base_uri": "https://localhost:8080/"
        },
        "id": "KxbuxYcf4obQ",
        "outputId": "bcc59de1-f010-462d-b96c-1f74f91c545f",
        "trusted": true
      },
      "outputs": [
        {
          "data": {
            "text/plain": [
              "Lung Opacity                    1000\n",
              "No Lung Opacity / Not Normal     500\n",
              "Normal                           500\n",
              "Name: class, dtype: int64"
            ]
          },
          "execution_count": 29,
          "metadata": {},
          "output_type": "execute_result"
        }
      ],
      "source": [
        "filtered_df['class'].value_counts()"
      ]
    },
    {
      "cell_type": "code",
      "execution_count": null,
      "metadata": {
        "id": "JD5b3PjD4obQ",
        "trusted": true
      },
      "outputs": [],
      "source": [
        "filtered_df['label'] = filtered_df['label'].astype(str)"
      ]
    },
    {
      "cell_type": "markdown",
      "metadata": {
        "id": "I5O8zF_Z9is-"
      },
      "source": [
        "**6. Using only two columns, 'image_path' and 'label' for training,validation and testing our model.  \n",
        "Storing in 'x', the images after reading them from 'image_path' column, downsizing them from 1024 pixels to 224 pixels, and converting them to 3 channel(RGB) images as the pre-trained models expect the input image in 3 channel format.  \n",
        "Storing in 'y' the labels for each image after converting them in array format.**"
      ]
    },
    {
      "cell_type": "code",
      "execution_count": null,
      "metadata": {
        "id": "GymO2wnU4obR",
        "trusted": true
      },
      "outputs": [],
      "source": [
        "import pydicom\n",
        "import cv2\n",
        "def read_and_resize_images(df):\n",
        "    resized_images = []\n",
        "    boxes = []\n",
        "    for i in range(len(df)):\n",
        "        image_path = df['image_path'][i]\n",
        "        target = df['label'][i]\n",
        "        dicom_data = pydicom.read_file(image_path)\n",
        "        img = dicom_data.pixel_array\n",
        "\n",
        "        #Resize image to 224x224 because we are going to use xception that takes in rgb images(3 channels)\n",
        "        img = cv2.resize(img, (224, 224))\n",
        "        img = cv2.cvtColor(img, cv2.COLOR_GRAY2RGB)\n",
        "        resized_images.append(img)\n",
        "        boxes.append(np.array(target, dtype=np.float32))\n",
        "    return np.array(resized_images), np.array(boxes)"
      ]
    },
    {
      "cell_type": "code",
      "execution_count": null,
      "metadata": {
        "id": "C4xAQme-4obR",
        "trusted": true
      },
      "outputs": [],
      "source": [
        "x, y = read_and_resize_images(filtered_df)"
      ]
    },
    {
      "cell_type": "markdown",
      "metadata": {
        "id": "x0GNSeyZ9m7i"
      },
      "source": [
        "**7. Splitting the dataset into train, validation and test sets**"
      ]
    },
    {
      "cell_type": "code",
      "execution_count": null,
      "metadata": {
        "id": "Ad8-xrMa4obS",
        "trusted": true
      },
      "outputs": [],
      "source": [
        "from sklearn.model_selection import train_test_split\n",
        "\n",
        "x_train, x_temp, y_train, y_temp = train_test_split(x, y, test_size = 0.3,stratify =y,random_state = 42)"
      ]
    },
    {
      "cell_type": "code",
      "execution_count": null,
      "metadata": {
        "colab": {
          "base_uri": "https://localhost:8080/"
        },
        "id": "n-eGpOZf4obT",
        "outputId": "e3bd483a-3290-40cd-fa81-f45ec75cbea9",
        "trusted": true
      },
      "outputs": [
        {
          "name": "stdout",
          "output_type": "stream",
          "text": [
            "(1400, 224, 224, 3) (1400,)\n",
            "(600, 224, 224, 3) (600,)\n"
          ]
        }
      ],
      "source": [
        "print(x_train.shape, y_train.shape)\n",
        "print(x_temp.shape, y_temp.shape)\n"
      ]
    },
    {
      "cell_type": "code",
      "execution_count": null,
      "metadata": {
        "id": "Wn6QZ5334obT",
        "trusted": true
      },
      "outputs": [],
      "source": [
        "x_val, x_test, y_val, y_test = train_test_split(x_temp, y_temp, test_size = 0.20, stratify= y_temp, random_state = 42)"
      ]
    },
    {
      "cell_type": "code",
      "execution_count": null,
      "metadata": {
        "colab": {
          "base_uri": "https://localhost:8080/"
        },
        "id": "t50GyVw24obT",
        "outputId": "fe26f8c2-954b-4417-e921-20f79b150542",
        "trusted": true
      },
      "outputs": [
        {
          "name": "stdout",
          "output_type": "stream",
          "text": [
            "(1400, 224, 224, 3) (1400,)\n",
            "(120, 224, 224, 3) (120,)\n",
            "(480, 224, 224, 3) (480,)\n"
          ]
        }
      ],
      "source": [
        "print(x_train.shape, y_train.shape)\n",
        "print(x_test.shape, y_test.shape)\n",
        "print(x_val.shape, y_val.shape)"
      ]
    },
    {
      "cell_type": "markdown",
      "metadata": {
        "id": "duMn4fEl9ucl"
      },
      "source": [
        "**8. Normalising the image pixels by dividing them by the maximum pixel value 255.**"
      ]
    },
    {
      "cell_type": "code",
      "execution_count": null,
      "metadata": {
        "id": "wOOtgPT-4obT",
        "trusted": true
      },
      "outputs": [],
      "source": [
        "def preprocess_and_reshape(images):\n",
        "    images = images/ 255.0\n",
        "    return images\n",
        "x_train = preprocess_and_reshape(x_train)\n",
        "x_val = preprocess_and_reshape(x_val)\n",
        "x_test = preprocess_and_reshape(x_test)"
      ]
    },
    {
      "cell_type": "markdown",
      "metadata": {
        "id": "Hsdzzv9R9yWI"
      },
      "source": [
        "**9. Setting image augmentation parameters using ImageDataGenerator for train images only**"
      ]
    },
    {
      "cell_type": "code",
      "execution_count": null,
      "metadata": {
        "id": "mFe2AVc24obT",
        "trusted": true
      },
      "outputs": [],
      "source": [
        "import tensorflow as tf\n",
        "from tensorflow.keras.preprocessing.image import ImageDataGenerator"
      ]
    },
    {
      "cell_type": "code",
      "execution_count": null,
      "metadata": {
        "id": "n9GXqdH44obU",
        "trusted": true
      },
      "outputs": [],
      "source": [
        "\n",
        "train_datagen = ImageDataGenerator(\n",
        "      rotation_range=5,\n",
        "      width_shift_range=0.2,\n",
        "      height_shift_range=0.2,\n",
        "      shear_range=0.2,\n",
        "      zoom_range=0.2,\n",
        "      horizontal_flip=True,\n",
        "      fill_mode='nearest')"
      ]
    },
    {
      "cell_type": "markdown",
      "metadata": {
        "id": "4hssHk-J92ER"
      },
      "source": [
        "**10. Building the base model using Xception**"
      ]
    },
    {
      "cell_type": "code",
      "execution_count": null,
      "metadata": {
        "colab": {
          "base_uri": "https://localhost:8080/"
        },
        "id": "FZ1cNVYDa3nn",
        "outputId": "22bb3b22-54f8-43ff-91ed-367c513b72cb"
      },
      "outputs": [
        {
          "name": "stdout",
          "output_type": "stream",
          "text": [
            "Downloading data from https://storage.googleapis.com/tensorflow/keras-applications/xception/xception_weights_tf_dim_ordering_tf_kernels_notop.h5\n",
            "83683744/83683744 [==============================] - 1s 0us/step\n",
            "Model: \"model\"\n",
            "__________________________________________________________________________________________________\n",
            " Layer (type)                Output Shape                 Param #   Connected to                  \n",
            "==================================================================================================\n",
            " input_1 (InputLayer)        [(None, 224, 224, 3)]        0         []                            \n",
            "                                                                                                  \n",
            " block1_conv1 (Conv2D)       (None, 111, 111, 32)         864       ['input_1[0][0]']             \n",
            "                                                                                                  \n",
            " block1_conv1_bn (BatchNorm  (None, 111, 111, 32)         128       ['block1_conv1[0][0]']        \n",
            " alization)                                                                                       \n",
            "                                                                                                  \n",
            " block1_conv1_act (Activati  (None, 111, 111, 32)         0         ['block1_conv1_bn[0][0]']     \n",
            " on)                                                                                              \n",
            "                                                                                                  \n",
            " block1_conv2 (Conv2D)       (None, 109, 109, 64)         18432     ['block1_conv1_act[0][0]']    \n",
            "                                                                                                  \n",
            " block1_conv2_bn (BatchNorm  (None, 109, 109, 64)         256       ['block1_conv2[0][0]']        \n",
            " alization)                                                                                       \n",
            "                                                                                                  \n",
            " block1_conv2_act (Activati  (None, 109, 109, 64)         0         ['block1_conv2_bn[0][0]']     \n",
            " on)                                                                                              \n",
            "                                                                                                  \n",
            " block2_sepconv1 (Separable  (None, 109, 109, 128)        8768      ['block1_conv2_act[0][0]']    \n",
            " Conv2D)                                                                                          \n",
            "                                                                                                  \n",
            " block2_sepconv1_bn (BatchN  (None, 109, 109, 128)        512       ['block2_sepconv1[0][0]']     \n",
            " ormalization)                                                                                    \n",
            "                                                                                                  \n",
            " block2_sepconv2_act (Activ  (None, 109, 109, 128)        0         ['block2_sepconv1_bn[0][0]']  \n",
            " ation)                                                                                           \n",
            "                                                                                                  \n",
            " block2_sepconv2 (Separable  (None, 109, 109, 128)        17536     ['block2_sepconv2_act[0][0]'] \n",
            " Conv2D)                                                                                          \n",
            "                                                                                                  \n",
            " block2_sepconv2_bn (BatchN  (None, 109, 109, 128)        512       ['block2_sepconv2[0][0]']     \n",
            " ormalization)                                                                                    \n",
            "                                                                                                  \n",
            " conv2d (Conv2D)             (None, 55, 55, 128)          8192      ['block1_conv2_act[0][0]']    \n",
            "                                                                                                  \n",
            " block2_pool (MaxPooling2D)  (None, 55, 55, 128)          0         ['block2_sepconv2_bn[0][0]']  \n",
            "                                                                                                  \n",
            " batch_normalization (Batch  (None, 55, 55, 128)          512       ['conv2d[0][0]']              \n",
            " Normalization)                                                                                   \n",
            "                                                                                                  \n",
            " add (Add)                   (None, 55, 55, 128)          0         ['block2_pool[0][0]',         \n",
            "                                                                     'batch_normalization[0][0]'] \n",
            "                                                                                                  \n",
            " block3_sepconv1_act (Activ  (None, 55, 55, 128)          0         ['add[0][0]']                 \n",
            " ation)                                                                                           \n",
            "                                                                                                  \n",
            " block3_sepconv1 (Separable  (None, 55, 55, 256)          33920     ['block3_sepconv1_act[0][0]'] \n",
            " Conv2D)                                                                                          \n",
            "                                                                                                  \n",
            " block3_sepconv1_bn (BatchN  (None, 55, 55, 256)          1024      ['block3_sepconv1[0][0]']     \n",
            " ormalization)                                                                                    \n",
            "                                                                                                  \n",
            " block3_sepconv2_act (Activ  (None, 55, 55, 256)          0         ['block3_sepconv1_bn[0][0]']  \n",
            " ation)                                                                                           \n",
            "                                                                                                  \n",
            " block3_sepconv2 (Separable  (None, 55, 55, 256)          67840     ['block3_sepconv2_act[0][0]'] \n",
            " Conv2D)                                                                                          \n",
            "                                                                                                  \n",
            " block3_sepconv2_bn (BatchN  (None, 55, 55, 256)          1024      ['block3_sepconv2[0][0]']     \n",
            " ormalization)                                                                                    \n",
            "                                                                                                  \n",
            " conv2d_1 (Conv2D)           (None, 28, 28, 256)          32768     ['add[0][0]']                 \n",
            "                                                                                                  \n",
            " block3_pool (MaxPooling2D)  (None, 28, 28, 256)          0         ['block3_sepconv2_bn[0][0]']  \n",
            "                                                                                                  \n",
            " batch_normalization_1 (Bat  (None, 28, 28, 256)          1024      ['conv2d_1[0][0]']            \n",
            " chNormalization)                                                                                 \n",
            "                                                                                                  \n",
            " add_1 (Add)                 (None, 28, 28, 256)          0         ['block3_pool[0][0]',         \n",
            "                                                                     'batch_normalization_1[0][0]'\n",
            "                                                                    ]                             \n",
            "                                                                                                  \n",
            " block4_sepconv1_act (Activ  (None, 28, 28, 256)          0         ['add_1[0][0]']               \n",
            " ation)                                                                                           \n",
            "                                                                                                  \n",
            " block4_sepconv1 (Separable  (None, 28, 28, 728)          188672    ['block4_sepconv1_act[0][0]'] \n",
            " Conv2D)                                                                                          \n",
            "                                                                                                  \n",
            " block4_sepconv1_bn (BatchN  (None, 28, 28, 728)          2912      ['block4_sepconv1[0][0]']     \n",
            " ormalization)                                                                                    \n",
            "                                                                                                  \n",
            " block4_sepconv2_act (Activ  (None, 28, 28, 728)          0         ['block4_sepconv1_bn[0][0]']  \n",
            " ation)                                                                                           \n",
            "                                                                                                  \n",
            " block4_sepconv2 (Separable  (None, 28, 28, 728)          536536    ['block4_sepconv2_act[0][0]'] \n",
            " Conv2D)                                                                                          \n",
            "                                                                                                  \n",
            " block4_sepconv2_bn (BatchN  (None, 28, 28, 728)          2912      ['block4_sepconv2[0][0]']     \n",
            " ormalization)                                                                                    \n",
            "                                                                                                  \n",
            " conv2d_2 (Conv2D)           (None, 14, 14, 728)          186368    ['add_1[0][0]']               \n",
            "                                                                                                  \n",
            " block4_pool (MaxPooling2D)  (None, 14, 14, 728)          0         ['block4_sepconv2_bn[0][0]']  \n",
            "                                                                                                  \n",
            " batch_normalization_2 (Bat  (None, 14, 14, 728)          2912      ['conv2d_2[0][0]']            \n",
            " chNormalization)                                                                                 \n",
            "                                                                                                  \n",
            " add_2 (Add)                 (None, 14, 14, 728)          0         ['block4_pool[0][0]',         \n",
            "                                                                     'batch_normalization_2[0][0]'\n",
            "                                                                    ]                             \n",
            "                                                                                                  \n",
            " block5_sepconv1_act (Activ  (None, 14, 14, 728)          0         ['add_2[0][0]']               \n",
            " ation)                                                                                           \n",
            "                                                                                                  \n",
            " block5_sepconv1 (Separable  (None, 14, 14, 728)          536536    ['block5_sepconv1_act[0][0]'] \n",
            " Conv2D)                                                                                          \n",
            "                                                                                                  \n",
            " block5_sepconv1_bn (BatchN  (None, 14, 14, 728)          2912      ['block5_sepconv1[0][0]']     \n",
            " ormalization)                                                                                    \n",
            "                                                                                                  \n",
            " block5_sepconv2_act (Activ  (None, 14, 14, 728)          0         ['block5_sepconv1_bn[0][0]']  \n",
            " ation)                                                                                           \n",
            "                                                                                                  \n",
            " block5_sepconv2 (Separable  (None, 14, 14, 728)          536536    ['block5_sepconv2_act[0][0]'] \n",
            " Conv2D)                                                                                          \n",
            "                                                                                                  \n",
            " block5_sepconv2_bn (BatchN  (None, 14, 14, 728)          2912      ['block5_sepconv2[0][0]']     \n",
            " ormalization)                                                                                    \n",
            "                                                                                                  \n",
            " block5_sepconv3_act (Activ  (None, 14, 14, 728)          0         ['block5_sepconv2_bn[0][0]']  \n",
            " ation)                                                                                           \n",
            "                                                                                                  \n",
            " block5_sepconv3 (Separable  (None, 14, 14, 728)          536536    ['block5_sepconv3_act[0][0]'] \n",
            " Conv2D)                                                                                          \n",
            "                                                                                                  \n",
            " block5_sepconv3_bn (BatchN  (None, 14, 14, 728)          2912      ['block5_sepconv3[0][0]']     \n",
            " ormalization)                                                                                    \n",
            "                                                                                                  \n",
            " add_3 (Add)                 (None, 14, 14, 728)          0         ['block5_sepconv3_bn[0][0]',  \n",
            "                                                                     'add_2[0][0]']               \n",
            "                                                                                                  \n",
            " block6_sepconv1_act (Activ  (None, 14, 14, 728)          0         ['add_3[0][0]']               \n",
            " ation)                                                                                           \n",
            "                                                                                                  \n",
            " block6_sepconv1 (Separable  (None, 14, 14, 728)          536536    ['block6_sepconv1_act[0][0]'] \n",
            " Conv2D)                                                                                          \n",
            "                                                                                                  \n",
            " block6_sepconv1_bn (BatchN  (None, 14, 14, 728)          2912      ['block6_sepconv1[0][0]']     \n",
            " ormalization)                                                                                    \n",
            "                                                                                                  \n",
            " block6_sepconv2_act (Activ  (None, 14, 14, 728)          0         ['block6_sepconv1_bn[0][0]']  \n",
            " ation)                                                                                           \n",
            "                                                                                                  \n",
            " block6_sepconv2 (Separable  (None, 14, 14, 728)          536536    ['block6_sepconv2_act[0][0]'] \n",
            " Conv2D)                                                                                          \n",
            "                                                                                                  \n",
            " block6_sepconv2_bn (BatchN  (None, 14, 14, 728)          2912      ['block6_sepconv2[0][0]']     \n",
            " ormalization)                                                                                    \n",
            "                                                                                                  \n",
            " block6_sepconv3_act (Activ  (None, 14, 14, 728)          0         ['block6_sepconv2_bn[0][0]']  \n",
            " ation)                                                                                           \n",
            "                                                                                                  \n",
            " block6_sepconv3 (Separable  (None, 14, 14, 728)          536536    ['block6_sepconv3_act[0][0]'] \n",
            " Conv2D)                                                                                          \n",
            "                                                                                                  \n",
            " block6_sepconv3_bn (BatchN  (None, 14, 14, 728)          2912      ['block6_sepconv3[0][0]']     \n",
            " ormalization)                                                                                    \n",
            "                                                                                                  \n",
            " add_4 (Add)                 (None, 14, 14, 728)          0         ['block6_sepconv3_bn[0][0]',  \n",
            "                                                                     'add_3[0][0]']               \n",
            "                                                                                                  \n",
            " block7_sepconv1_act (Activ  (None, 14, 14, 728)          0         ['add_4[0][0]']               \n",
            " ation)                                                                                           \n",
            "                                                                                                  \n",
            " block7_sepconv1 (Separable  (None, 14, 14, 728)          536536    ['block7_sepconv1_act[0][0]'] \n",
            " Conv2D)                                                                                          \n",
            "                                                                                                  \n",
            " block7_sepconv1_bn (BatchN  (None, 14, 14, 728)          2912      ['block7_sepconv1[0][0]']     \n",
            " ormalization)                                                                                    \n",
            "                                                                                                  \n",
            " block7_sepconv2_act (Activ  (None, 14, 14, 728)          0         ['block7_sepconv1_bn[0][0]']  \n",
            " ation)                                                                                           \n",
            "                                                                                                  \n",
            " block7_sepconv2 (Separable  (None, 14, 14, 728)          536536    ['block7_sepconv2_act[0][0]'] \n",
            " Conv2D)                                                                                          \n",
            "                                                                                                  \n",
            " block7_sepconv2_bn (BatchN  (None, 14, 14, 728)          2912      ['block7_sepconv2[0][0]']     \n",
            " ormalization)                                                                                    \n",
            "                                                                                                  \n",
            " block7_sepconv3_act (Activ  (None, 14, 14, 728)          0         ['block7_sepconv2_bn[0][0]']  \n",
            " ation)                                                                                           \n",
            "                                                                                                  \n",
            " block7_sepconv3 (Separable  (None, 14, 14, 728)          536536    ['block7_sepconv3_act[0][0]'] \n",
            " Conv2D)                                                                                          \n",
            "                                                                                                  \n",
            " block7_sepconv3_bn (BatchN  (None, 14, 14, 728)          2912      ['block7_sepconv3[0][0]']     \n",
            " ormalization)                                                                                    \n",
            "                                                                                                  \n",
            " add_5 (Add)                 (None, 14, 14, 728)          0         ['block7_sepconv3_bn[0][0]',  \n",
            "                                                                     'add_4[0][0]']               \n",
            "                                                                                                  \n",
            " block8_sepconv1_act (Activ  (None, 14, 14, 728)          0         ['add_5[0][0]']               \n",
            " ation)                                                                                           \n",
            "                                                                                                  \n",
            " block8_sepconv1 (Separable  (None, 14, 14, 728)          536536    ['block8_sepconv1_act[0][0]'] \n",
            " Conv2D)                                                                                          \n",
            "                                                                                                  \n",
            " block8_sepconv1_bn (BatchN  (None, 14, 14, 728)          2912      ['block8_sepconv1[0][0]']     \n",
            " ormalization)                                                                                    \n",
            "                                                                                                  \n",
            " block8_sepconv2_act (Activ  (None, 14, 14, 728)          0         ['block8_sepconv1_bn[0][0]']  \n",
            " ation)                                                                                           \n",
            "                                                                                                  \n",
            " block8_sepconv2 (Separable  (None, 14, 14, 728)          536536    ['block8_sepconv2_act[0][0]'] \n",
            " Conv2D)                                                                                          \n",
            "                                                                                                  \n",
            " block8_sepconv2_bn (BatchN  (None, 14, 14, 728)          2912      ['block8_sepconv2[0][0]']     \n",
            " ormalization)                                                                                    \n",
            "                                                                                                  \n",
            " block8_sepconv3_act (Activ  (None, 14, 14, 728)          0         ['block8_sepconv2_bn[0][0]']  \n",
            " ation)                                                                                           \n",
            "                                                                                                  \n",
            " block8_sepconv3 (Separable  (None, 14, 14, 728)          536536    ['block8_sepconv3_act[0][0]'] \n",
            " Conv2D)                                                                                          \n",
            "                                                                                                  \n",
            " block8_sepconv3_bn (BatchN  (None, 14, 14, 728)          2912      ['block8_sepconv3[0][0]']     \n",
            " ormalization)                                                                                    \n",
            "                                                                                                  \n",
            " add_6 (Add)                 (None, 14, 14, 728)          0         ['block8_sepconv3_bn[0][0]',  \n",
            "                                                                     'add_5[0][0]']               \n",
            "                                                                                                  \n",
            " block9_sepconv1_act (Activ  (None, 14, 14, 728)          0         ['add_6[0][0]']               \n",
            " ation)                                                                                           \n",
            "                                                                                                  \n",
            " block9_sepconv1 (Separable  (None, 14, 14, 728)          536536    ['block9_sepconv1_act[0][0]'] \n",
            " Conv2D)                                                                                          \n",
            "                                                                                                  \n",
            " block9_sepconv1_bn (BatchN  (None, 14, 14, 728)          2912      ['block9_sepconv1[0][0]']     \n",
            " ormalization)                                                                                    \n",
            "                                                                                                  \n",
            " block9_sepconv2_act (Activ  (None, 14, 14, 728)          0         ['block9_sepconv1_bn[0][0]']  \n",
            " ation)                                                                                           \n",
            "                                                                                                  \n",
            " block9_sepconv2 (Separable  (None, 14, 14, 728)          536536    ['block9_sepconv2_act[0][0]'] \n",
            " Conv2D)                                                                                          \n",
            "                                                                                                  \n",
            " block9_sepconv2_bn (BatchN  (None, 14, 14, 728)          2912      ['block9_sepconv2[0][0]']     \n",
            " ormalization)                                                                                    \n",
            "                                                                                                  \n",
            " block9_sepconv3_act (Activ  (None, 14, 14, 728)          0         ['block9_sepconv2_bn[0][0]']  \n",
            " ation)                                                                                           \n",
            "                                                                                                  \n",
            " block9_sepconv3 (Separable  (None, 14, 14, 728)          536536    ['block9_sepconv3_act[0][0]'] \n",
            " Conv2D)                                                                                          \n",
            "                                                                                                  \n",
            " block9_sepconv3_bn (BatchN  (None, 14, 14, 728)          2912      ['block9_sepconv3[0][0]']     \n",
            " ormalization)                                                                                    \n",
            "                                                                                                  \n",
            " add_7 (Add)                 (None, 14, 14, 728)          0         ['block9_sepconv3_bn[0][0]',  \n",
            "                                                                     'add_6[0][0]']               \n",
            "                                                                                                  \n",
            " block10_sepconv1_act (Acti  (None, 14, 14, 728)          0         ['add_7[0][0]']               \n",
            " vation)                                                                                          \n",
            "                                                                                                  \n",
            " block10_sepconv1 (Separabl  (None, 14, 14, 728)          536536    ['block10_sepconv1_act[0][0]']\n",
            " eConv2D)                                                                                         \n",
            "                                                                                                  \n",
            " block10_sepconv1_bn (Batch  (None, 14, 14, 728)          2912      ['block10_sepconv1[0][0]']    \n",
            " Normalization)                                                                                   \n",
            "                                                                                                  \n",
            " block10_sepconv2_act (Acti  (None, 14, 14, 728)          0         ['block10_sepconv1_bn[0][0]'] \n",
            " vation)                                                                                          \n",
            "                                                                                                  \n",
            " block10_sepconv2 (Separabl  (None, 14, 14, 728)          536536    ['block10_sepconv2_act[0][0]']\n",
            " eConv2D)                                                                                         \n",
            "                                                                                                  \n",
            " block10_sepconv2_bn (Batch  (None, 14, 14, 728)          2912      ['block10_sepconv2[0][0]']    \n",
            " Normalization)                                                                                   \n",
            "                                                                                                  \n",
            " block10_sepconv3_act (Acti  (None, 14, 14, 728)          0         ['block10_sepconv2_bn[0][0]'] \n",
            " vation)                                                                                          \n",
            "                                                                                                  \n",
            " block10_sepconv3 (Separabl  (None, 14, 14, 728)          536536    ['block10_sepconv3_act[0][0]']\n",
            " eConv2D)                                                                                         \n",
            "                                                                                                  \n",
            " block10_sepconv3_bn (Batch  (None, 14, 14, 728)          2912      ['block10_sepconv3[0][0]']    \n",
            " Normalization)                                                                                   \n",
            "                                                                                                  \n",
            " add_8 (Add)                 (None, 14, 14, 728)          0         ['block10_sepconv3_bn[0][0]', \n",
            "                                                                     'add_7[0][0]']               \n",
            "                                                                                                  \n",
            " block11_sepconv1_act (Acti  (None, 14, 14, 728)          0         ['add_8[0][0]']               \n",
            " vation)                                                                                          \n",
            "                                                                                                  \n",
            " block11_sepconv1 (Separabl  (None, 14, 14, 728)          536536    ['block11_sepconv1_act[0][0]']\n",
            " eConv2D)                                                                                         \n",
            "                                                                                                  \n",
            " block11_sepconv1_bn (Batch  (None, 14, 14, 728)          2912      ['block11_sepconv1[0][0]']    \n",
            " Normalization)                                                                                   \n",
            "                                                                                                  \n",
            " block11_sepconv2_act (Acti  (None, 14, 14, 728)          0         ['block11_sepconv1_bn[0][0]'] \n",
            " vation)                                                                                          \n",
            "                                                                                                  \n",
            " block11_sepconv2 (Separabl  (None, 14, 14, 728)          536536    ['block11_sepconv2_act[0][0]']\n",
            " eConv2D)                                                                                         \n",
            "                                                                                                  \n",
            " block11_sepconv2_bn (Batch  (None, 14, 14, 728)          2912      ['block11_sepconv2[0][0]']    \n",
            " Normalization)                                                                                   \n",
            "                                                                                                  \n",
            " block11_sepconv3_act (Acti  (None, 14, 14, 728)          0         ['block11_sepconv2_bn[0][0]'] \n",
            " vation)                                                                                          \n",
            "                                                                                                  \n",
            " block11_sepconv3 (Separabl  (None, 14, 14, 728)          536536    ['block11_sepconv3_act[0][0]']\n",
            " eConv2D)                                                                                         \n",
            "                                                                                                  \n",
            " block11_sepconv3_bn (Batch  (None, 14, 14, 728)          2912      ['block11_sepconv3[0][0]']    \n",
            " Normalization)                                                                                   \n",
            "                                                                                                  \n",
            " add_9 (Add)                 (None, 14, 14, 728)          0         ['block11_sepconv3_bn[0][0]', \n",
            "                                                                     'add_8[0][0]']               \n",
            "                                                                                                  \n",
            " block12_sepconv1_act (Acti  (None, 14, 14, 728)          0         ['add_9[0][0]']               \n",
            " vation)                                                                                          \n",
            "                                                                                                  \n",
            " block12_sepconv1 (Separabl  (None, 14, 14, 728)          536536    ['block12_sepconv1_act[0][0]']\n",
            " eConv2D)                                                                                         \n",
            "                                                                                                  \n",
            " block12_sepconv1_bn (Batch  (None, 14, 14, 728)          2912      ['block12_sepconv1[0][0]']    \n",
            " Normalization)                                                                                   \n",
            "                                                                                                  \n",
            " block12_sepconv2_act (Acti  (None, 14, 14, 728)          0         ['block12_sepconv1_bn[0][0]'] \n",
            " vation)                                                                                          \n",
            "                                                                                                  \n",
            " block12_sepconv2 (Separabl  (None, 14, 14, 728)          536536    ['block12_sepconv2_act[0][0]']\n",
            " eConv2D)                                                                                         \n",
            "                                                                                                  \n",
            " block12_sepconv2_bn (Batch  (None, 14, 14, 728)          2912      ['block12_sepconv2[0][0]']    \n",
            " Normalization)                                                                                   \n",
            "                                                                                                  \n",
            " block12_sepconv3_act (Acti  (None, 14, 14, 728)          0         ['block12_sepconv2_bn[0][0]'] \n",
            " vation)                                                                                          \n",
            "                                                                                                  \n",
            " block12_sepconv3 (Separabl  (None, 14, 14, 728)          536536    ['block12_sepconv3_act[0][0]']\n",
            " eConv2D)                                                                                         \n",
            "                                                                                                  \n",
            " block12_sepconv3_bn (Batch  (None, 14, 14, 728)          2912      ['block12_sepconv3[0][0]']    \n",
            " Normalization)                                                                                   \n",
            "                                                                                                  \n",
            " add_10 (Add)                (None, 14, 14, 728)          0         ['block12_sepconv3_bn[0][0]', \n",
            "                                                                     'add_9[0][0]']               \n",
            "                                                                                                  \n",
            " block13_sepconv1_act (Acti  (None, 14, 14, 728)          0         ['add_10[0][0]']              \n",
            " vation)                                                                                          \n",
            "                                                                                                  \n",
            " block13_sepconv1 (Separabl  (None, 14, 14, 728)          536536    ['block13_sepconv1_act[0][0]']\n",
            " eConv2D)                                                                                         \n",
            "                                                                                                  \n",
            " block13_sepconv1_bn (Batch  (None, 14, 14, 728)          2912      ['block13_sepconv1[0][0]']    \n",
            " Normalization)                                                                                   \n",
            "                                                                                                  \n",
            " block13_sepconv2_act (Acti  (None, 14, 14, 728)          0         ['block13_sepconv1_bn[0][0]'] \n",
            " vation)                                                                                          \n",
            "                                                                                                  \n",
            " block13_sepconv2 (Separabl  (None, 14, 14, 1024)         752024    ['block13_sepconv2_act[0][0]']\n",
            " eConv2D)                                                                                         \n",
            "                                                                                                  \n",
            " block13_sepconv2_bn (Batch  (None, 14, 14, 1024)         4096      ['block13_sepconv2[0][0]']    \n",
            " Normalization)                                                                                   \n",
            "                                                                                                  \n",
            " conv2d_3 (Conv2D)           (None, 7, 7, 1024)           745472    ['add_10[0][0]']              \n",
            "                                                                                                  \n",
            " block13_pool (MaxPooling2D  (None, 7, 7, 1024)           0         ['block13_sepconv2_bn[0][0]'] \n",
            " )                                                                                                \n",
            "                                                                                                  \n",
            " batch_normalization_3 (Bat  (None, 7, 7, 1024)           4096      ['conv2d_3[0][0]']            \n",
            " chNormalization)                                                                                 \n",
            "                                                                                                  \n",
            " add_11 (Add)                (None, 7, 7, 1024)           0         ['block13_pool[0][0]',        \n",
            "                                                                     'batch_normalization_3[0][0]'\n",
            "                                                                    ]                             \n",
            "                                                                                                  \n",
            " block14_sepconv1 (Separabl  (None, 7, 7, 1536)           1582080   ['add_11[0][0]']              \n",
            " eConv2D)                                                                                         \n",
            "                                                                                                  \n",
            " block14_sepconv1_bn (Batch  (None, 7, 7, 1536)           6144      ['block14_sepconv1[0][0]']    \n",
            " Normalization)                                                                                   \n",
            "                                                                                                  \n",
            " block14_sepconv1_act (Acti  (None, 7, 7, 1536)           0         ['block14_sepconv1_bn[0][0]'] \n",
            " vation)                                                                                          \n",
            "                                                                                                  \n",
            " block14_sepconv2 (Separabl  (None, 7, 7, 2048)           3159552   ['block14_sepconv1_act[0][0]']\n",
            " eConv2D)                                                                                         \n",
            "                                                                                                  \n",
            " block14_sepconv2_bn (Batch  (None, 7, 7, 2048)           8192      ['block14_sepconv2[0][0]']    \n",
            " Normalization)                                                                                   \n",
            "                                                                                                  \n",
            " block14_sepconv2_act (Acti  (None, 7, 7, 2048)           0         ['block14_sepconv2_bn[0][0]'] \n",
            " vation)                                                                                          \n",
            "                                                                                                  \n",
            " global_average_pooling2d (  (None, 2048)                 0         ['block14_sepconv2_act[0][0]']\n",
            " GlobalAveragePooling2D)                                                                          \n",
            "                                                                                                  \n",
            " dense (Dense)               (None, 512)                  1049088   ['global_average_pooling2d[0][\n",
            "                                                                    0]']                          \n",
            "                                                                                                  \n",
            " dropout (Dropout)           (None, 512)                  0         ['dense[0][0]']               \n",
            "                                                                                                  \n",
            " dense_1 (Dense)             (None, 256)                  131328    ['dropout[0][0]']             \n",
            "                                                                                                  \n",
            " dropout_1 (Dropout)         (None, 256)                  0         ['dense_1[0][0]']             \n",
            "                                                                                                  \n",
            " dense_2 (Dense)             (None, 1)                    257       ['dropout_1[0][0]']           \n",
            "                                                                                                  \n",
            "==================================================================================================\n",
            "Total params: 22042153 (84.08 MB)\n",
            "Trainable params: 1180673 (4.50 MB)\n",
            "Non-trainable params: 20861480 (79.58 MB)\n",
            "__________________________________________________________________________________________________\n"
          ]
        }
      ],
      "source": [
        "# build the base model\n",
        "\n",
        "base_model = Xception(input_shape=(224, 224, 3), include_top=False, weights='imagenet')\n",
        "for l in base_model.layers:\n",
        "    l.trainable=False\n",
        "x = base_model.output\n",
        "x = GlobalAveragePooling2D()(x)\n",
        "x = Dense(512, activation='relu', kernel_regularizer=l2(0.0001))(x)\n",
        "x = Dropout(0.25)(x)\n",
        "x = Dense(256, activation='relu', kernel_regularizer=l2(0.0001))(x)\n",
        "x = Dropout(0.30)(x)\n",
        "\n",
        "predictions = Dense(1, activation='sigmoid')(x)\n",
        "model = Model(inputs=base_model.input, outputs=predictions)\n",
        "\n",
        "model.compile(optimizer=Adam(learning_rate = 0.00001), loss='binary_crossentropy', metrics=['accuracy'])\n",
        "model.summary()"
      ]
    },
    {
      "cell_type": "code",
      "execution_count": null,
      "metadata": {
        "id": "DMV33Q3tZpHH",
        "trusted": true
      },
      "outputs": [],
      "source": [
        "# Define a ModelCheckpoint callback to save the best weights\n",
        "checkpoint = ModelCheckpoint('best_weights.h5', monitor='val_loss', save_best_only=True, verbose=1)\n",
        "# Define the callbacks\n",
        "early_stopping = EarlyStopping(monitor='val_loss', patience=15, restore_best_weights=True)\n",
        "reduce_lr = ReduceLROnPlateau(monitor='val_loss', factor=0.5, patience=15, min_lr=1e-6)"
      ]
    },
    {
      "cell_type": "code",
      "execution_count": null,
      "metadata": {
        "colab": {
          "base_uri": "https://localhost:8080/"
        },
        "id": "1HkY-sfE71Q6",
        "outputId": "349d0a38-83b3-4d05-ba77-6ab92f19a8e7"
      },
      "outputs": [
        {
          "name": "stdout",
          "output_type": "stream",
          "text": [
            "Epoch 1/100\n",
            "22/22 [==============================] - ETA: 0s - loss: 0.8071 - accuracy: 0.5464\n",
            "Epoch 1: val_loss improved from inf to 0.78312, saving model to best_weights.h5\n",
            "22/22 [==============================] - 33s 749ms/step - loss: 0.8071 - accuracy: 0.5464 - val_loss: 0.7831 - val_accuracy: 0.6354 - lr: 1.0000e-05\n",
            "Epoch 2/100\n",
            "22/22 [==============================] - ETA: 0s - loss: 0.7810 - accuracy: 0.6079\n",
            "Epoch 2: val_loss improved from 0.78312 to 0.76333, saving model to best_weights.h5\n",
            "22/22 [==============================] - 9s 397ms/step - loss: 0.7810 - accuracy: 0.6079 - val_loss: 0.7633 - val_accuracy: 0.6958 - lr: 1.0000e-05\n",
            "Epoch 3/100\n",
            "22/22 [==============================] - ETA: 0s - loss: 0.7695 - accuracy: 0.6371\n",
            "Epoch 3: val_loss improved from 0.76333 to 0.74663, saving model to best_weights.h5\n",
            "22/22 [==============================] - 8s 359ms/step - loss: 0.7695 - accuracy: 0.6371 - val_loss: 0.7466 - val_accuracy: 0.7146 - lr: 1.0000e-05\n",
            "Epoch 4/100\n",
            "22/22 [==============================] - ETA: 0s - loss: 0.7492 - accuracy: 0.6664\n",
            "Epoch 4: val_loss improved from 0.74663 to 0.73138, saving model to best_weights.h5\n",
            "22/22 [==============================] - 8s 369ms/step - loss: 0.7492 - accuracy: 0.6664 - val_loss: 0.7314 - val_accuracy: 0.7208 - lr: 1.0000e-05\n",
            "Epoch 5/100\n",
            "22/22 [==============================] - ETA: 0s - loss: 0.7380 - accuracy: 0.6793\n",
            "Epoch 5: val_loss improved from 0.73138 to 0.71778, saving model to best_weights.h5\n",
            "22/22 [==============================] - 8s 372ms/step - loss: 0.7380 - accuracy: 0.6793 - val_loss: 0.7178 - val_accuracy: 0.7271 - lr: 1.0000e-05\n",
            "Epoch 6/100\n",
            "22/22 [==============================] - ETA: 0s - loss: 0.7272 - accuracy: 0.6857\n",
            "Epoch 6: val_loss improved from 0.71778 to 0.70761, saving model to best_weights.h5\n",
            "22/22 [==============================] - 8s 377ms/step - loss: 0.7272 - accuracy: 0.6857 - val_loss: 0.7076 - val_accuracy: 0.7250 - lr: 1.0000e-05\n",
            "Epoch 7/100\n",
            "22/22 [==============================] - ETA: 0s - loss: 0.7185 - accuracy: 0.7143\n",
            "Epoch 7: val_loss improved from 0.70761 to 0.69763, saving model to best_weights.h5\n",
            "22/22 [==============================] - 9s 413ms/step - loss: 0.7185 - accuracy: 0.7143 - val_loss: 0.6976 - val_accuracy: 0.7417 - lr: 1.0000e-05\n",
            "Epoch 8/100\n",
            "22/22 [==============================] - ETA: 0s - loss: 0.7027 - accuracy: 0.7143\n",
            "Epoch 8: val_loss improved from 0.69763 to 0.68870, saving model to best_weights.h5\n",
            "22/22 [==============================] - 9s 401ms/step - loss: 0.7027 - accuracy: 0.7143 - val_loss: 0.6887 - val_accuracy: 0.7396 - lr: 1.0000e-05\n",
            "Epoch 9/100\n",
            "22/22 [==============================] - ETA: 0s - loss: 0.6974 - accuracy: 0.7221\n",
            "Epoch 9: val_loss improved from 0.68870 to 0.68114, saving model to best_weights.h5\n",
            "22/22 [==============================] - 8s 384ms/step - loss: 0.6974 - accuracy: 0.7221 - val_loss: 0.6811 - val_accuracy: 0.7458 - lr: 1.0000e-05\n",
            "Epoch 10/100\n",
            "22/22 [==============================] - ETA: 0s - loss: 0.6848 - accuracy: 0.7371\n",
            "Epoch 10: val_loss improved from 0.68114 to 0.67397, saving model to best_weights.h5\n",
            "22/22 [==============================] - 9s 410ms/step - loss: 0.6848 - accuracy: 0.7371 - val_loss: 0.6740 - val_accuracy: 0.7479 - lr: 1.0000e-05\n",
            "Epoch 11/100\n",
            "22/22 [==============================] - ETA: 0s - loss: 0.6827 - accuracy: 0.7264\n",
            "Epoch 11: val_loss improved from 0.67397 to 0.66905, saving model to best_weights.h5\n",
            "22/22 [==============================] - 9s 401ms/step - loss: 0.6827 - accuracy: 0.7264 - val_loss: 0.6690 - val_accuracy: 0.7521 - lr: 1.0000e-05\n",
            "Epoch 12/100\n",
            "22/22 [==============================] - ETA: 0s - loss: 0.6751 - accuracy: 0.7364\n",
            "Epoch 12: val_loss improved from 0.66905 to 0.66192, saving model to best_weights.h5\n",
            "22/22 [==============================] - 9s 394ms/step - loss: 0.6751 - accuracy: 0.7364 - val_loss: 0.6619 - val_accuracy: 0.7479 - lr: 1.0000e-05\n",
            "Epoch 13/100\n",
            "22/22 [==============================] - ETA: 0s - loss: 0.6740 - accuracy: 0.7371\n",
            "Epoch 13: val_loss improved from 0.66192 to 0.65759, saving model to best_weights.h5\n",
            "22/22 [==============================] - 8s 382ms/step - loss: 0.6740 - accuracy: 0.7371 - val_loss: 0.6576 - val_accuracy: 0.7542 - lr: 1.0000e-05\n",
            "Epoch 14/100\n",
            "22/22 [==============================] - ETA: 0s - loss: 0.6658 - accuracy: 0.7321\n",
            "Epoch 14: val_loss improved from 0.65759 to 0.65573, saving model to best_weights.h5\n",
            "22/22 [==============================] - 9s 419ms/step - loss: 0.6658 - accuracy: 0.7321 - val_loss: 0.6557 - val_accuracy: 0.7542 - lr: 1.0000e-05\n",
            "Epoch 15/100\n",
            "22/22 [==============================] - ETA: 0s - loss: 0.6618 - accuracy: 0.7314\n",
            "Epoch 15: val_loss improved from 0.65573 to 0.65053, saving model to best_weights.h5\n",
            "22/22 [==============================] - 9s 418ms/step - loss: 0.6618 - accuracy: 0.7314 - val_loss: 0.6505 - val_accuracy: 0.7583 - lr: 1.0000e-05\n",
            "Epoch 16/100\n",
            "22/22 [==============================] - ETA: 0s - loss: 0.6486 - accuracy: 0.7557\n",
            "Epoch 16: val_loss improved from 0.65053 to 0.64725, saving model to best_weights.h5\n",
            "22/22 [==============================] - 9s 415ms/step - loss: 0.6486 - accuracy: 0.7557 - val_loss: 0.6472 - val_accuracy: 0.7583 - lr: 1.0000e-05\n",
            "Epoch 17/100\n",
            "22/22 [==============================] - ETA: 0s - loss: 0.6475 - accuracy: 0.7393\n",
            "Epoch 17: val_loss improved from 0.64725 to 0.64468, saving model to best_weights.h5\n",
            "22/22 [==============================] - 9s 406ms/step - loss: 0.6475 - accuracy: 0.7393 - val_loss: 0.6447 - val_accuracy: 0.7563 - lr: 1.0000e-05\n",
            "Epoch 18/100\n",
            "22/22 [==============================] - ETA: 0s - loss: 0.6443 - accuracy: 0.7457\n",
            "Epoch 18: val_loss improved from 0.64468 to 0.64371, saving model to best_weights.h5\n",
            "22/22 [==============================] - 9s 413ms/step - loss: 0.6443 - accuracy: 0.7457 - val_loss: 0.6437 - val_accuracy: 0.7604 - lr: 1.0000e-05\n",
            "Epoch 19/100\n",
            "22/22 [==============================] - ETA: 0s - loss: 0.6361 - accuracy: 0.7500\n",
            "Epoch 19: val_loss improved from 0.64371 to 0.64287, saving model to best_weights.h5\n",
            "22/22 [==============================] - 9s 420ms/step - loss: 0.6361 - accuracy: 0.7500 - val_loss: 0.6429 - val_accuracy: 0.7646 - lr: 1.0000e-05\n",
            "Epoch 20/100\n",
            "22/22 [==============================] - ETA: 0s - loss: 0.6425 - accuracy: 0.7436\n",
            "Epoch 20: val_loss improved from 0.64287 to 0.63728, saving model to best_weights.h5\n",
            "22/22 [==============================] - 9s 423ms/step - loss: 0.6425 - accuracy: 0.7436 - val_loss: 0.6373 - val_accuracy: 0.7625 - lr: 1.0000e-05\n",
            "Epoch 21/100\n",
            "22/22 [==============================] - ETA: 0s - loss: 0.6314 - accuracy: 0.7607\n",
            "Epoch 21: val_loss improved from 0.63728 to 0.63714, saving model to best_weights.h5\n",
            "22/22 [==============================] - 9s 400ms/step - loss: 0.6314 - accuracy: 0.7607 - val_loss: 0.6371 - val_accuracy: 0.7583 - lr: 1.0000e-05\n",
            "Epoch 22/100\n",
            "22/22 [==============================] - ETA: 0s - loss: 0.6220 - accuracy: 0.7607\n",
            "Epoch 22: val_loss improved from 0.63714 to 0.63664, saving model to best_weights.h5\n",
            "22/22 [==============================] - 9s 406ms/step - loss: 0.6220 - accuracy: 0.7607 - val_loss: 0.6366 - val_accuracy: 0.7604 - lr: 1.0000e-05\n",
            "Epoch 23/100\n",
            "22/22 [==============================] - ETA: 0s - loss: 0.6247 - accuracy: 0.7614\n",
            "Epoch 23: val_loss improved from 0.63664 to 0.63342, saving model to best_weights.h5\n",
            "22/22 [==============================] - 9s 425ms/step - loss: 0.6247 - accuracy: 0.7614 - val_loss: 0.6334 - val_accuracy: 0.7542 - lr: 1.0000e-05\n",
            "Epoch 24/100\n",
            "22/22 [==============================] - ETA: 0s - loss: 0.6156 - accuracy: 0.7629\n",
            "Epoch 24: val_loss did not improve from 0.63342\n",
            "22/22 [==============================] - 8s 389ms/step - loss: 0.6156 - accuracy: 0.7629 - val_loss: 0.6346 - val_accuracy: 0.7625 - lr: 1.0000e-05\n",
            "Epoch 25/100\n",
            "22/22 [==============================] - ETA: 0s - loss: 0.6186 - accuracy: 0.7571\n",
            "Epoch 25: val_loss improved from 0.63342 to 0.63166, saving model to best_weights.h5\n",
            "22/22 [==============================] - 9s 412ms/step - loss: 0.6186 - accuracy: 0.7571 - val_loss: 0.6317 - val_accuracy: 0.7583 - lr: 1.0000e-05\n",
            "Epoch 26/100\n",
            "22/22 [==============================] - ETA: 0s - loss: 0.6163 - accuracy: 0.7693\n",
            "Epoch 26: val_loss improved from 0.63166 to 0.63068, saving model to best_weights.h5\n",
            "22/22 [==============================] - 10s 441ms/step - loss: 0.6163 - accuracy: 0.7693 - val_loss: 0.6307 - val_accuracy: 0.7604 - lr: 1.0000e-05\n",
            "Epoch 27/100\n",
            "22/22 [==============================] - ETA: 0s - loss: 0.6223 - accuracy: 0.7600\n",
            "Epoch 27: val_loss improved from 0.63068 to 0.62974, saving model to best_weights.h5\n",
            "22/22 [==============================] - 9s 393ms/step - loss: 0.6223 - accuracy: 0.7600 - val_loss: 0.6297 - val_accuracy: 0.7646 - lr: 1.0000e-05\n",
            "Epoch 28/100\n",
            "22/22 [==============================] - ETA: 0s - loss: 0.6009 - accuracy: 0.7757\n",
            "Epoch 28: val_loss did not improve from 0.62974\n",
            "22/22 [==============================] - 8s 354ms/step - loss: 0.6009 - accuracy: 0.7757 - val_loss: 0.6301 - val_accuracy: 0.7667 - lr: 1.0000e-05\n",
            "Epoch 29/100\n",
            "22/22 [==============================] - ETA: 0s - loss: 0.6019 - accuracy: 0.7721\n",
            "Epoch 29: val_loss improved from 0.62974 to 0.62903, saving model to best_weights.h5\n",
            "22/22 [==============================] - 9s 398ms/step - loss: 0.6019 - accuracy: 0.7721 - val_loss: 0.6290 - val_accuracy: 0.7667 - lr: 1.0000e-05\n",
            "Epoch 30/100\n",
            "22/22 [==============================] - ETA: 0s - loss: 0.5955 - accuracy: 0.7793\n",
            "Epoch 30: val_loss improved from 0.62903 to 0.62863, saving model to best_weights.h5\n",
            "22/22 [==============================] - 9s 416ms/step - loss: 0.5955 - accuracy: 0.7793 - val_loss: 0.6286 - val_accuracy: 0.7646 - lr: 1.0000e-05\n",
            "Epoch 31/100\n",
            "22/22 [==============================] - ETA: 0s - loss: 0.6036 - accuracy: 0.7714\n",
            "Epoch 31: val_loss improved from 0.62863 to 0.62821, saving model to best_weights.h5\n",
            "22/22 [==============================] - 9s 421ms/step - loss: 0.6036 - accuracy: 0.7714 - val_loss: 0.6282 - val_accuracy: 0.7625 - lr: 1.0000e-05\n",
            "Epoch 32/100\n",
            "22/22 [==============================] - ETA: 0s - loss: 0.5962 - accuracy: 0.7650\n",
            "Epoch 32: val_loss improved from 0.62821 to 0.62662, saving model to best_weights.h5\n",
            "22/22 [==============================] - 9s 395ms/step - loss: 0.5962 - accuracy: 0.7650 - val_loss: 0.6266 - val_accuracy: 0.7667 - lr: 1.0000e-05\n",
            "Epoch 33/100\n",
            "22/22 [==============================] - ETA: 0s - loss: 0.5945 - accuracy: 0.7736\n",
            "Epoch 33: val_loss did not improve from 0.62662\n",
            "22/22 [==============================] - 8s 363ms/step - loss: 0.5945 - accuracy: 0.7736 - val_loss: 0.6297 - val_accuracy: 0.7604 - lr: 1.0000e-05\n",
            "Epoch 34/100\n",
            "22/22 [==============================] - ETA: 0s - loss: 0.5895 - accuracy: 0.7771\n",
            "Epoch 34: val_loss improved from 0.62662 to 0.62545, saving model to best_weights.h5\n",
            "22/22 [==============================] - 9s 394ms/step - loss: 0.5895 - accuracy: 0.7771 - val_loss: 0.6255 - val_accuracy: 0.7688 - lr: 1.0000e-05\n",
            "Epoch 35/100\n",
            "22/22 [==============================] - ETA: 0s - loss: 0.5919 - accuracy: 0.7771\n",
            "Epoch 35: val_loss did not improve from 0.62545\n",
            "22/22 [==============================] - 8s 363ms/step - loss: 0.5919 - accuracy: 0.7771 - val_loss: 0.6271 - val_accuracy: 0.7688 - lr: 1.0000e-05\n",
            "Epoch 36/100\n",
            "22/22 [==============================] - ETA: 0s - loss: 0.5901 - accuracy: 0.7671\n",
            "Epoch 36: val_loss did not improve from 0.62545\n",
            "22/22 [==============================] - 8s 383ms/step - loss: 0.5901 - accuracy: 0.7671 - val_loss: 0.6261 - val_accuracy: 0.7667 - lr: 1.0000e-05\n",
            "Epoch 37/100\n",
            "22/22 [==============================] - ETA: 0s - loss: 0.5849 - accuracy: 0.7829\n",
            "Epoch 37: val_loss did not improve from 0.62545\n",
            "22/22 [==============================] - 8s 386ms/step - loss: 0.5849 - accuracy: 0.7829 - val_loss: 0.6264 - val_accuracy: 0.7688 - lr: 1.0000e-05\n",
            "Epoch 38/100\n",
            "22/22 [==============================] - ETA: 0s - loss: 0.5903 - accuracy: 0.7707\n",
            "Epoch 38: val_loss did not improve from 0.62545\n",
            "22/22 [==============================] - 8s 357ms/step - loss: 0.5903 - accuracy: 0.7707 - val_loss: 0.6265 - val_accuracy: 0.7667 - lr: 1.0000e-05\n",
            "Epoch 39/100\n",
            "22/22 [==============================] - ETA: 0s - loss: 0.5876 - accuracy: 0.7714\n",
            "Epoch 39: val_loss did not improve from 0.62545\n",
            "22/22 [==============================] - 8s 386ms/step - loss: 0.5876 - accuracy: 0.7714 - val_loss: 0.6267 - val_accuracy: 0.7667 - lr: 1.0000e-05\n",
            "Epoch 40/100\n",
            "22/22 [==============================] - ETA: 0s - loss: 0.5769 - accuracy: 0.7764\n",
            "Epoch 40: val_loss did not improve from 0.62545\n",
            "22/22 [==============================] - 8s 389ms/step - loss: 0.5769 - accuracy: 0.7764 - val_loss: 0.6303 - val_accuracy: 0.7542 - lr: 1.0000e-05\n",
            "Epoch 41/100\n",
            "22/22 [==============================] - ETA: 0s - loss: 0.5763 - accuracy: 0.7936\n",
            "Epoch 41: val_loss did not improve from 0.62545\n",
            "22/22 [==============================] - 8s 382ms/step - loss: 0.5763 - accuracy: 0.7936 - val_loss: 0.6271 - val_accuracy: 0.7667 - lr: 1.0000e-05\n",
            "Epoch 42/100\n",
            "22/22 [==============================] - ETA: 0s - loss: 0.5780 - accuracy: 0.7807\n",
            "Epoch 42: val_loss did not improve from 0.62545\n",
            "22/22 [==============================] - 8s 387ms/step - loss: 0.5780 - accuracy: 0.7807 - val_loss: 0.6265 - val_accuracy: 0.7667 - lr: 1.0000e-05\n",
            "Epoch 43/100\n",
            "22/22 [==============================] - ETA: 0s - loss: 0.5757 - accuracy: 0.7850\n",
            "Epoch 43: val_loss did not improve from 0.62545\n",
            "22/22 [==============================] - 8s 382ms/step - loss: 0.5757 - accuracy: 0.7850 - val_loss: 0.6271 - val_accuracy: 0.7646 - lr: 1.0000e-05\n",
            "Epoch 44/100\n",
            "22/22 [==============================] - ETA: 0s - loss: 0.5841 - accuracy: 0.7807\n",
            "Epoch 44: val_loss did not improve from 0.62545\n",
            "22/22 [==============================] - 8s 360ms/step - loss: 0.5841 - accuracy: 0.7807 - val_loss: 0.6273 - val_accuracy: 0.7625 - lr: 1.0000e-05\n",
            "Epoch 45/100\n",
            "22/22 [==============================] - ETA: 0s - loss: 0.5776 - accuracy: 0.7786\n",
            "Epoch 45: val_loss did not improve from 0.62545\n",
            "22/22 [==============================] - 8s 351ms/step - loss: 0.5776 - accuracy: 0.7786 - val_loss: 0.6262 - val_accuracy: 0.7646 - lr: 1.0000e-05\n",
            "Epoch 46/100\n",
            "22/22 [==============================] - ETA: 0s - loss: 0.5674 - accuracy: 0.7836\n",
            "Epoch 46: val_loss did not improve from 0.62545\n",
            "22/22 [==============================] - 9s 393ms/step - loss: 0.5674 - accuracy: 0.7836 - val_loss: 0.6269 - val_accuracy: 0.7583 - lr: 1.0000e-05\n",
            "Epoch 47/100\n",
            "22/22 [==============================] - ETA: 0s - loss: 0.5736 - accuracy: 0.7871\n",
            "Epoch 47: val_loss did not improve from 0.62545\n",
            "22/22 [==============================] - 8s 354ms/step - loss: 0.5736 - accuracy: 0.7871 - val_loss: 0.6290 - val_accuracy: 0.7563 - lr: 1.0000e-05\n",
            "Epoch 48/100\n",
            "22/22 [==============================] - ETA: 0s - loss: 0.5632 - accuracy: 0.7864\n",
            "Epoch 48: val_loss did not improve from 0.62545\n",
            "22/22 [==============================] - 8s 357ms/step - loss: 0.5632 - accuracy: 0.7864 - val_loss: 0.6277 - val_accuracy: 0.7563 - lr: 1.0000e-05\n",
            "Epoch 49/100\n",
            "22/22 [==============================] - ETA: 0s - loss: 0.5545 - accuracy: 0.7921\n",
            "Epoch 49: val_loss did not improve from 0.62545\n",
            "22/22 [==============================] - 8s 367ms/step - loss: 0.5545 - accuracy: 0.7921 - val_loss: 0.6291 - val_accuracy: 0.7521 - lr: 1.0000e-05\n"
          ]
        }
      ],
      "source": [
        "r = model.fit(x_train, y_train, batch_size = 64, epochs = 100,  validation_data =(x_val, y_val), callbacks=[checkpoint,early_stopping,reduce_lr])"
      ]
    },
    {
      "cell_type": "code",
      "execution_count": null,
      "metadata": {
        "colab": {
          "base_uri": "https://localhost:8080/",
          "height": 380
        },
        "id": "HHHMQQpS4obX",
        "outputId": "2f7c0214-7cf2-42a7-8fcc-20e2bd98a9e1",
        "trusted": true
      },
      "outputs": [
        {
          "data": {
            "text/plain": [
              "Text(0.5, 1.0, 'Accuracy Evolution')"
            ]
          },
          "execution_count": 69,
          "metadata": {},
          "output_type": "execute_result"
        },
        {
          "data": {
            "image/png": "[encoded data removed]",
            "text/plain": [
              "<Figure size 1200x800 with 2 Axes>"
            ]
          },
          "metadata": {},
          "output_type": "display_data"
        }
      ],
      "source": [
        "\n",
        "plt.figure(figsize=(12, 8))\n",
        "\n",
        "plt.subplot(2, 2, 1)\n",
        "plt.plot(r.history['loss'], label='Loss')\n",
        "plt.plot(r.history['val_loss'], label='Val_Loss')\n",
        "plt.legend()\n",
        "plt.title('Loss Evolution')\n",
        "\n",
        "plt.subplot(2, 2, 2)\n",
        "plt.plot(r.history['accuracy'], label='Accuracy')\n",
        "plt.plot(r.history['val_accuracy'], label='Val_Accuracy')\n",
        "plt.legend()\n",
        "plt.title('Accuracy Evolution')\n"
      ]
    },
    {
      "cell_type": "code",
      "execution_count": null,
      "metadata": {
        "colab": {
          "base_uri": "https://localhost:8080/"
        },
        "id": "h_SKRCcN4obX",
        "outputId": "834e80fb-4eea-4c27-911d-332b58809e15",
        "trusted": true
      },
      "outputs": [
        {
          "name": "stdout",
          "output_type": "stream",
          "text": [
            "Best Training Loss: 0.5545\n",
            "Best Training Accuracy: 79.36%\n"
          ]
        }
      ],
      "source": [
        "# Print training loss and accuracy for best weights\n",
        "best_train_loss = min(r.history['loss'])  # Minimum training loss\n",
        "best_train_accuracy = max(r.history['accuracy'])  # Maximum training accuracy\n",
        "print(f'Best Training Loss: {best_train_loss:.4f}')\n",
        "print(f'Best Training Accuracy: {best_train_accuracy:.2%}')"
      ]
    },
    {
      "cell_type": "code",
      "execution_count": null,
      "metadata": {
        "colab": {
          "base_uri": "https://localhost:8080/"
        },
        "id": "t0qB6qGO4obX",
        "outputId": "5ddb353a-111d-467f-a866-e3f769050d39",
        "trusted": true
      },
      "outputs": [
        {
          "name": "stdout",
          "output_type": "stream",
          "text": [
            "15/15 [==============================] - 2s 135ms/step - loss: 0.6255 - accuracy: 0.7688\n",
            "Best Validation Loss: 0.6255\n",
            "Best Validation Accuracy: 76.88%\n"
          ]
        }
      ],
      "source": [
        "# Load the best weights\n",
        "model.load_weights('best_weights.h5')\n",
        "\n",
        "# Evaluate the model with the best weights\n",
        "val_loss, val_accuracy = model.evaluate(x_val, y_val)\n",
        "\n",
        "print(f'Best Validation Loss: {val_loss:.4f}')\n",
        "print(f'Best Validation Accuracy: {val_accuracy:.2%}')"
      ]
    },
    {
      "cell_type": "code",
      "execution_count": null,
      "metadata": {
        "id": "bKUqMOfR4obX",
        "trusted": true
      },
      "outputs": [],
      "source": [
        "from tensorflow.keras.models import load_model, save_model\n",
        "\n",
        "# Save the trained model to a file\n",
        "model.save('xception.h5')"
      ]
    },
    {
      "cell_type": "code",
      "execution_count": null,
      "metadata": {
        "id": "2ANEUnwX4obY",
        "trusted": true
      },
      "outputs": [],
      "source": [
        "from tensorflow.keras.models import load_model\n",
        "\n",
        "# Load your trained model\n",
        "model = load_model('xception.h5')"
      ]
    },
    {
      "cell_type": "code",
      "execution_count": null,
      "metadata": {
        "colab": {
          "base_uri": "https://localhost:8080/"
        },
        "id": "ZdBiQho-4obY",
        "outputId": "09237b0f-970b-4e8c-faef-661d322d0b45",
        "trusted": true
      },
      "outputs": [
        {
          "name": "stdout",
          "output_type": "stream",
          "text": [
            "15/15 [==============================] - 3s 133ms/step\n"
          ]
        }
      ],
      "source": [
        "from sklearn.metrics import accuracy_score, precision_score, recall_score, f1_score\n",
        "\n",
        "# Predict on the test set\n",
        "y_pred_ = model.predict(x_val)"
      ]
    },
    {
      "cell_type": "markdown",
      "metadata": {
        "id": "19EEeBhi9-4K"
      },
      "source": [
        "**11. Selecting the threshold value for binary classification: 0 for 'No Lung Opacity or 1 for 'Lung Opacity', from range 0.1 to 0.9 on the basis of the best F1-score obtained using the validation data.**"
      ]
    },
    {
      "cell_type": "code",
      "execution_count": null,
      "metadata": {
        "colab": {
          "base_uri": "https://localhost:8080/"
        },
        "id": "UuY6XYIT4obY",
        "outputId": "a9ab8380-b0c0-43e0-f7ab-cb7735e46b43",
        "trusted": true
      },
      "outputs": [
        {
          "name": "stdout",
          "output_type": "stream",
          "text": [
            "Best Threshold: 0.30\n",
            "Best F1 Score: 0.77\n"
          ]
        }
      ],
      "source": [
        "import numpy as np\n",
        "from sklearn.metrics import f1_score\n",
        "\n",
        "thresholds = np.linspace(0.1, 0.9, 9)\n",
        "\n",
        "best_f1 = 0.0  # Initialize the best F1-score\n",
        "best_threshold = 0.5  # Initialize the best threshold\n",
        "\n",
        "# Iterate through the thresholds and calculate F1-score for each\n",
        "for threshold in thresholds:\n",
        "    # Convert predicted probabilities to binary labels using the current threshold\n",
        "    y_pred_binary = (y_pred_ > threshold).astype(int)\n",
        "\n",
        "    # Calculate F1-score for the current threshold\n",
        "    current_f1 = f1_score(y_val, y_pred_binary)\n",
        "\n",
        "    # Check if the current threshold gives a better F1-score\n",
        "    if current_f1 > best_f1:\n",
        "        best_f1 = current_f1\n",
        "        best_threshold = threshold\n",
        "\n",
        "print(f'Best Threshold: {best_threshold:.2f}')\n",
        "print(f'Best F1 Score: {best_f1:.2f}')\n"
      ]
    },
    {
      "cell_type": "markdown",
      "metadata": {
        "id": "0DE5EjKq-DXS"
      },
      "source": [
        "**12. Predicting the model on test dataset**"
      ]
    },
    {
      "cell_type": "code",
      "execution_count": null,
      "metadata": {
        "colab": {
          "base_uri": "https://localhost:8080/"
        },
        "id": "APsP0A5Z4obY",
        "outputId": "5587fece-7ed7-4d78-cc56-c7b9073c2650",
        "trusted": true
      },
      "outputs": [
        {
          "name": "stdout",
          "output_type": "stream",
          "text": [
            "4/4 [==============================] - 3s 662ms/step\n"
          ]
        }
      ],
      "source": [
        "from sklearn.metrics import accuracy_score, precision_score, recall_score, f1_score\n",
        "\n",
        "# Predict on the test set\n",
        "y_pred = model.predict(x_test)\n"
      ]
    },
    {
      "cell_type": "code",
      "execution_count": null,
      "metadata": {
        "colab": {
          "base_uri": "https://localhost:8080/"
        },
        "id": "RXfbfZkY4obY",
        "outputId": "b140f08e-6e50-4741-8071-4d503f0c3201",
        "trusted": true
      },
      "outputs": [
        {
          "name": "stdout",
          "output_type": "stream",
          "text": [
            "Test Accuracy: 73.33%\n",
            "Test Precision: 0.68\n",
            "Test Recall: 0.87\n",
            "Test F1 Score: 0.76\n"
          ]
        }
      ],
      "source": [
        "from sklearn.metrics import accuracy_score, precision_score, recall_score, f1_score\n",
        "\n",
        "# Convert predicted probabilities to binary labels (assuming binary classification)\n",
        "y_pred_binary = (y_pred > best_threshold).astype(int)\n",
        "\n",
        "# Calculate accuracy\n",
        "accuracy = accuracy_score(y_test, y_pred_binary)\n",
        "\n",
        "# Calculate precision\n",
        "precision = precision_score(y_test, y_pred_binary)\n",
        "\n",
        "# Calculate recall\n",
        "recall = recall_score(y_test, y_pred_binary)\n",
        "\n",
        "# Calculate F1-score\n",
        "f1 = f1_score(y_test, y_pred_binary)\n",
        "\n",
        "print(f'Test Accuracy: {accuracy:.2%}')\n",
        "print(f'Test Precision: {precision:.2f}')\n",
        "print(f'Test Recall: {recall:.2f}')\n",
        "print(f'Test F1 Score: {f1:.2f}')"
      ]
    },
    {
      "cell_type": "code",
      "execution_count": null,
      "metadata": {
        "colab": {
          "base_uri": "https://localhost:8080/"
        },
        "id": "r1a7Wlfn4obZ",
        "outputId": "2ab5f7b1-249b-4766-b164-1100f6e58d69",
        "trusted": true
      },
      "outputs": [
        {
          "name": "stdout",
          "output_type": "stream",
          "text": [
            "Classification Report:\n",
            "                  precision    recall  f1-score   support\n",
            "\n",
            "No Lung Opacity       0.82      0.60      0.69        60\n",
            "   Lung Opacity       0.68      0.87      0.76        60\n",
            "\n",
            "       accuracy                           0.73       120\n",
            "      macro avg       0.75      0.73      0.73       120\n",
            "   weighted avg       0.75      0.73      0.73       120\n",
            "\n"
          ]
        }
      ],
      "source": [
        "import numpy as np\n",
        "from sklearn.metrics import classification_report, confusion_matrix, roc_curve, auc\n",
        "import matplotlib.pyplot as plt\n",
        "\n",
        "# Generate a classification report\n",
        "class_report = classification_report(y_test, y_pred_binary , target_names=['No Lung Opacity','Lung Opacity'])\n",
        "\n",
        "# Print the classification report\n",
        "print(\"Classification Report:\\n\", class_report)"
      ]
    },
    {
      "cell_type": "code",
      "execution_count": null,
      "metadata": {
        "colab": {
          "base_uri": "https://localhost:8080/",
          "height": 410
        },
        "id": "G8oO4M8h4obZ",
        "outputId": "c0560bef-96e4-42cc-fa90-c277ac2924fc",
        "trusted": true
      },
      "outputs": [
        {
          "data": {
            "image/png": "[encoded data removed]",
            "text/plain": [
              "<Figure size 600x400 with 2 Axes>"
            ]
          },
          "metadata": {},
          "output_type": "display_data"
        }
      ],
      "source": [
        "import numpy as np\n",
        "import matplotlib.pyplot as plt\n",
        "from sklearn.metrics import confusion_matrix\n",
        "\n",
        "# Calculate the confusion matrix\n",
        "conf_matrix = confusion_matrix(y_test, y_pred_binary)\n",
        "\n",
        "# Calculate TP, FP, TN, FN\n",
        "TP = conf_matrix[1, 1]\n",
        "FP = conf_matrix[0, 1]\n",
        "TN = conf_matrix[0, 0]\n",
        "FN = conf_matrix[1, 0]\n",
        "\n",
        "# Calculate percentages\n",
        "total_samples = len(y_test)\n",
        "percent_TP = (TP / total_samples) * 100\n",
        "percent_FP = (FP / total_samples) * 100\n",
        "percent_TN = (TN / total_samples) * 100\n",
        "percent_FN = (FN / total_samples) * 100\n",
        "\n",
        "# Create a custom function for annotating the confusion matrix\n",
        "def annotate_confusion_matrix(conf_matrix):\n",
        "    plt.imshow(conf_matrix, interpolation='nearest',cmap = 'turbo')\n",
        "    plt.title('Confusion Matrix')\n",
        "    plt.colorbar()\n",
        "    tick_marks = np.arange(len(['No Lung Opacity', 'Lung Opacity']))\n",
        "    plt.xticks(tick_marks, ['No Lung Opacity', 'Lung Opacity'])\n",
        "    plt.yticks(tick_marks, ['No Lung Opacity', 'Lung Opacity'])\n",
        "    plt.ylabel('True Label')\n",
        "    plt.xlabel('Predicted Label')\n",
        "\n",
        "    # Annotate TP, FP, TN, FN, and their percentages\n",
        "    for i in range(2):\n",
        "        for j in range(2):\n",
        "            plt.text(j, i, f'TP: {conf_matrix[1, 1]} ({percent_TP:.2f}%)' if i == 1 and j == 1\n",
        "                             else f'FP: {conf_matrix[0, 1]} ({percent_FP:.2f}%)' if i == 0 and j == 1\n",
        "                             else f'TN: {conf_matrix[0, 0]} ({percent_TN:.2f}%)' if i == 0 and j == 0\n",
        "                             else f'FN: {conf_matrix[1, 0]} ({percent_FN:.2f}%)' if i == 1 and j == 0\n",
        "                             else '',\n",
        "                     horizontalalignment='center',\n",
        "                     verticalalignment='center',\n",
        "                     color='white', fontsize=10)\n",
        "\n",
        "# Plot the annotated confusion matrix\n",
        "plt.figure(figsize=(6, 4))\n",
        "annotate_confusion_matrix(conf_matrix)\n",
        "plt.show()\n"
      ]
    },
    {
      "cell_type": "markdown",
      "metadata": {
        "id": "rQjZM7EK4obZ"
      },
      "source": [
        "The two classes in this confusion matrix are \"No Lung Opacity\" and \"Lung Opacity.\" The matrix shows that the model correctly predicted 36 instances of \"No Lung Opacity\" and 52 instances of \"Lung Opacity.\" However, the model also incorrectly predicted 8 instances of \"Lung Opacity\" as \"No Lung Opacity\" and 24 instances of \"No Lung Opacity\" as \"Lung Opacity.\""
      ]
    },
    {
      "cell_type": "markdown",
      "metadata": {
        "id": "hKPd_Dtm-H7V"
      },
      "source": [
        "**13. Creating AUC-ROC curve using predicted probabilties on the test set.**"
      ]
    },
    {
      "cell_type": "code",
      "execution_count": null,
      "metadata": {
        "colab": {
          "base_uri": "https://localhost:8080/",
          "height": 472
        },
        "id": "FBBpqsPA4oba",
        "outputId": "ffc3a794-24e8-4054-9c4b-4238690a7cb7",
        "trusted": true
      },
      "outputs": [
        {
          "data": {
            "image/png": "[encoded data removed]",
            "text/plain": [
              "<Figure size 640x480 with 1 Axes>"
            ]
          },
          "metadata": {},
          "output_type": "display_data"
        }
      ],
      "source": [
        "# Generate ROC curve and calculate AUC\n",
        "fpr, tpr, thresholds = roc_curve(y_test, y_pred)\n",
        "roc_auc = auc(fpr, tpr)\n",
        "\n",
        "# Plot ROC curve\n",
        "plt.figure()\n",
        "plt.plot(fpr, tpr, color='darkorange', lw=2, label=f'ROC curve (area = {roc_auc:.2f})')\n",
        "plt.plot([0, 1], [0, 1], color='navy', lw=2, linestyle='--')\n",
        "plt.xlim([0.0, 1.0])\n",
        "plt.ylim([0.0, 1.05])\n",
        "plt.xlabel('False Positive Rate')\n",
        "plt.ylabel('True Positive Rate')\n",
        "plt.title('Receiver Operating Characteristic')\n",
        "plt.legend(loc='lower right')\n",
        "plt.show()"
      ]
    },
    {
      "cell_type": "markdown",
      "metadata": {
        "id": "cvauBlzz-L33"
      },
      "source": [
        "**14. Creating AUC-ROC curve after converting the predicted probabilities on test data to binary labels.**"
      ]
    },
    {
      "cell_type": "code",
      "execution_count": null,
      "metadata": {
        "colab": {
          "base_uri": "https://localhost:8080/",
          "height": 472
        },
        "id": "dwT0Q4Oxnvca",
        "outputId": "8827b6bf-ce68-4f3e-cd99-835f2128420f"
      },
      "outputs": [
        {
          "data": {
            "image/png": "[encoded data removed]",
            "text/plain": [
              "<Figure size 640x480 with 1 Axes>"
            ]
          },
          "metadata": {},
          "output_type": "display_data"
        }
      ],
      "source": [
        "# Generate ROC curve and calculate AUC\n",
        "fpr, tpr, thresholds = roc_curve(y_test, y_pred_binary)\n",
        "roc_auc = auc(fpr, tpr)\n",
        "\n",
        "# Plot ROC curve\n",
        "plt.figure()\n",
        "plt.plot(fpr, tpr, color='darkorange', lw=2, label=f'ROC curve (area = {roc_auc:.2f})')\n",
        "plt.plot([0, 1], [0, 1], color='navy', lw=2, linestyle='--')\n",
        "plt.xlim([0.0, 1.0])\n",
        "plt.ylim([0.0, 1.05])\n",
        "plt.xlabel('False Positive Rate')\n",
        "plt.ylabel('True Positive Rate')\n",
        "plt.title('Receiver Operating Characteristic')\n",
        "plt.legend(loc='lower right')\n",
        "plt.show()"
      ]
    }
  ],
  "metadata": {
    "accelerator": "GPU",
    "colab": {
      "gpuType": "T4",
      "provenance": []
    },
    "kernelspec": {
      "display_name": "Python 3",
      "name": "python3"
    },
    "language_info": {
      "codemirror_mode": {
        "name": "ipython",
        "version": 3
      },
      "file_extension": ".py",
      "mimetype": "text/x-python",
      "name": "python",
      "nbconvert_exporter": "python",
      "pygments_lexer": "ipython3",
      "version": "3.8.17"
    }
  },
  "nbformat": 4,
  "nbformat_minor": 0
}
