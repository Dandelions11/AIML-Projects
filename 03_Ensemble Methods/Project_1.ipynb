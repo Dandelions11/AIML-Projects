{
 "cells": [
  {
   "cell_type": "markdown",
   "id": "2a6b9ba2",
   "metadata": {},
   "source": [
    "<a id=\"1.1\"></a>\n",
    "## <b> <span style='color:#F1B12D'>1. Import required libraries and read the data</span></b> "
   ]
  },
  {
   "cell_type": "code",
   "execution_count": 1,
   "id": "0a247ee2",
   "metadata": {},
   "outputs": [],
   "source": [
    "import pandas as pd\n",
    "import numpy as np\n",
    "import seaborn as sns\n",
    "import matplotlib.pyplot as plt\n",
    "import warnings\n",
    "warnings.filterwarnings('ignore')\n",
    "\n",
    "from sklearn.model_selection import train_test_split\n",
    "from sklearn.preprocessing import StandardScaler, MinMaxScaler\n",
    "from sklearn.preprocessing import LabelEncoder\n",
    "from sklearn.tree import DecisionTreeClassifier\n",
    "from sklearn.ensemble import RandomForestClassifier,BaggingClassifier, AdaBoostClassifier, GradientBoostingClassifier, StackingClassifier\n",
    "from sklearn.metrics import accuracy_score,classification_report,confusion_matrix"
   ]
  },
  {
   "cell_type": "code",
   "execution_count": 2,
   "id": "7e62910a",
   "metadata": {},
   "outputs": [
    {
     "data": {
      "text/html": [
       "<div>\n",
       "<style scoped>\n",
       "    .dataframe tbody tr th:only-of-type {\n",
       "        vertical-align: middle;\n",
       "    }\n",
       "\n",
       "    .dataframe tbody tr th {\n",
       "        vertical-align: top;\n",
       "    }\n",
       "\n",
       "    .dataframe thead th {\n",
       "        text-align: right;\n",
       "    }\n",
       "</style>\n",
       "<table border=\"1\" class=\"dataframe\">\n",
       "  <thead>\n",
       "    <tr style=\"text-align: right;\">\n",
       "      <th></th>\n",
       "      <th>App</th>\n",
       "      <th>Category</th>\n",
       "      <th>Rating</th>\n",
       "      <th>Reviews</th>\n",
       "      <th>Size</th>\n",
       "      <th>Installs</th>\n",
       "      <th>Type</th>\n",
       "      <th>Price</th>\n",
       "      <th>Content Rating</th>\n",
       "      <th>Genres</th>\n",
       "      <th>Last Updated</th>\n",
       "      <th>Current Ver</th>\n",
       "      <th>Android Ver</th>\n",
       "    </tr>\n",
       "  </thead>\n",
       "  <tbody>\n",
       "    <tr>\n",
       "      <th>0</th>\n",
       "      <td>Photo Editor &amp; Candy Camera &amp; Grid &amp; ScrapBook</td>\n",
       "      <td>ART_AND_DESIGN</td>\n",
       "      <td>4.1</td>\n",
       "      <td>159</td>\n",
       "      <td>19M</td>\n",
       "      <td>10,000+</td>\n",
       "      <td>Free</td>\n",
       "      <td>0</td>\n",
       "      <td>Everyone</td>\n",
       "      <td>Art &amp; Design</td>\n",
       "      <td>January 7, 2018</td>\n",
       "      <td>1.0.0</td>\n",
       "      <td>4.0.3 and up</td>\n",
       "    </tr>\n",
       "    <tr>\n",
       "      <th>1</th>\n",
       "      <td>Coloring book moana</td>\n",
       "      <td>ART_AND_DESIGN</td>\n",
       "      <td>3.9</td>\n",
       "      <td>967</td>\n",
       "      <td>14M</td>\n",
       "      <td>500,000+</td>\n",
       "      <td>Free</td>\n",
       "      <td>0</td>\n",
       "      <td>Everyone</td>\n",
       "      <td>Art &amp; Design;Pretend Play</td>\n",
       "      <td>January 15, 2018</td>\n",
       "      <td>2.0.0</td>\n",
       "      <td>4.0.3 and up</td>\n",
       "    </tr>\n",
       "    <tr>\n",
       "      <th>2</th>\n",
       "      <td>U Launcher Lite – FREE Live Cool Themes, Hide ...</td>\n",
       "      <td>ART_AND_DESIGN</td>\n",
       "      <td>4.7</td>\n",
       "      <td>87510</td>\n",
       "      <td>8.7M</td>\n",
       "      <td>5,000,000+</td>\n",
       "      <td>Free</td>\n",
       "      <td>0</td>\n",
       "      <td>Everyone</td>\n",
       "      <td>Art &amp; Design</td>\n",
       "      <td>August 1, 2018</td>\n",
       "      <td>1.2.4</td>\n",
       "      <td>4.0.3 and up</td>\n",
       "    </tr>\n",
       "    <tr>\n",
       "      <th>3</th>\n",
       "      <td>Sketch - Draw &amp; Paint</td>\n",
       "      <td>ART_AND_DESIGN</td>\n",
       "      <td>4.5</td>\n",
       "      <td>215644</td>\n",
       "      <td>25M</td>\n",
       "      <td>50,000,000+</td>\n",
       "      <td>Free</td>\n",
       "      <td>0</td>\n",
       "      <td>Teen</td>\n",
       "      <td>Art &amp; Design</td>\n",
       "      <td>June 8, 2018</td>\n",
       "      <td>Varies with device</td>\n",
       "      <td>4.2 and up</td>\n",
       "    </tr>\n",
       "    <tr>\n",
       "      <th>4</th>\n",
       "      <td>Pixel Draw - Number Art Coloring Book</td>\n",
       "      <td>ART_AND_DESIGN</td>\n",
       "      <td>4.3</td>\n",
       "      <td>967</td>\n",
       "      <td>2.8M</td>\n",
       "      <td>100,000+</td>\n",
       "      <td>Free</td>\n",
       "      <td>0</td>\n",
       "      <td>Everyone</td>\n",
       "      <td>Art &amp; Design;Creativity</td>\n",
       "      <td>June 20, 2018</td>\n",
       "      <td>1.1</td>\n",
       "      <td>4.4 and up</td>\n",
       "    </tr>\n",
       "  </tbody>\n",
       "</table>\n",
       "</div>"
      ],
      "text/plain": [
       "                                                 App        Category  Rating  \\\n",
       "0     Photo Editor & Candy Camera & Grid & ScrapBook  ART_AND_DESIGN     4.1   \n",
       "1                                Coloring book moana  ART_AND_DESIGN     3.9   \n",
       "2  U Launcher Lite – FREE Live Cool Themes, Hide ...  ART_AND_DESIGN     4.7   \n",
       "3                              Sketch - Draw & Paint  ART_AND_DESIGN     4.5   \n",
       "4              Pixel Draw - Number Art Coloring Book  ART_AND_DESIGN     4.3   \n",
       "\n",
       "  Reviews  Size     Installs  Type Price Content Rating  \\\n",
       "0     159   19M      10,000+  Free     0       Everyone   \n",
       "1     967   14M     500,000+  Free     0       Everyone   \n",
       "2   87510  8.7M   5,000,000+  Free     0       Everyone   \n",
       "3  215644   25M  50,000,000+  Free     0           Teen   \n",
       "4     967  2.8M     100,000+  Free     0       Everyone   \n",
       "\n",
       "                      Genres      Last Updated         Current Ver  \\\n",
       "0               Art & Design   January 7, 2018               1.0.0   \n",
       "1  Art & Design;Pretend Play  January 15, 2018               2.0.0   \n",
       "2               Art & Design    August 1, 2018               1.2.4   \n",
       "3               Art & Design      June 8, 2018  Varies with device   \n",
       "4    Art & Design;Creativity     June 20, 2018                 1.1   \n",
       "\n",
       "    Android Ver  \n",
       "0  4.0.3 and up  \n",
       "1  4.0.3 and up  \n",
       "2  4.0.3 and up  \n",
       "3    4.2 and up  \n",
       "4    4.4 and up  "
      ]
     },
     "execution_count": 2,
     "metadata": {},
     "output_type": "execute_result"
    }
   ],
   "source": [
    "df = pd.read_csv('Apps_data.csv')\n",
    "df.head()"
   ]
  },
  {
   "cell_type": "code",
   "execution_count": 3,
   "id": "d9940b43",
   "metadata": {},
   "outputs": [
    {
     "data": {
      "text/plain": [
       "(10841, 13)"
      ]
     },
     "execution_count": 3,
     "metadata": {},
     "output_type": "execute_result"
    }
   ],
   "source": [
    "df.shape"
   ]
  },
  {
   "cell_type": "code",
   "execution_count": 4,
   "id": "7d66a452",
   "metadata": {},
   "outputs": [
    {
     "name": "stdout",
     "output_type": "stream",
     "text": [
      "<class 'pandas.core.frame.DataFrame'>\n",
      "RangeIndex: 10841 entries, 0 to 10840\n",
      "Data columns (total 13 columns):\n",
      " #   Column          Non-Null Count  Dtype  \n",
      "---  ------          --------------  -----  \n",
      " 0   App             10841 non-null  object \n",
      " 1   Category        10841 non-null  object \n",
      " 2   Rating          9367 non-null   float64\n",
      " 3   Reviews         10841 non-null  object \n",
      " 4   Size            10841 non-null  object \n",
      " 5   Installs        10841 non-null  object \n",
      " 6   Type            10840 non-null  object \n",
      " 7   Price           10841 non-null  object \n",
      " 8   Content Rating  10840 non-null  object \n",
      " 9   Genres          10841 non-null  object \n",
      " 10  Last Updated    10841 non-null  object \n",
      " 11  Current Ver     10833 non-null  object \n",
      " 12  Android Ver     10838 non-null  object \n",
      "dtypes: float64(1), object(12)\n",
      "memory usage: 1.1+ MB\n"
     ]
    }
   ],
   "source": [
    "df.info()"
   ]
  },
  {
   "cell_type": "markdown",
   "id": "da681efb",
   "metadata": {},
   "source": [
    "<a id=\"1.1\"></a>\n",
    "## <b> <span style='color:#F1B12D'>2. Data cleansing and Exploratory data analysis</span></b> "
   ]
  },
  {
   "cell_type": "markdown",
   "id": "17b5d74d",
   "metadata": {},
   "source": [
    "#### 2.1 Check summary statistics of the dataset. List out the columns that need to be worked upon for model building"
   ]
  },
  {
   "cell_type": "code",
   "execution_count": 5,
   "id": "f7be61b2",
   "metadata": {},
   "outputs": [
    {
     "data": {
      "text/html": [
       "<div>\n",
       "<style scoped>\n",
       "    .dataframe tbody tr th:only-of-type {\n",
       "        vertical-align: middle;\n",
       "    }\n",
       "\n",
       "    .dataframe tbody tr th {\n",
       "        vertical-align: top;\n",
       "    }\n",
       "\n",
       "    .dataframe thead th {\n",
       "        text-align: right;\n",
       "    }\n",
       "</style>\n",
       "<table border=\"1\" class=\"dataframe\">\n",
       "  <thead>\n",
       "    <tr style=\"text-align: right;\">\n",
       "      <th></th>\n",
       "      <th>Rating</th>\n",
       "    </tr>\n",
       "  </thead>\n",
       "  <tbody>\n",
       "    <tr>\n",
       "      <th>count</th>\n",
       "      <td>9367.000000</td>\n",
       "    </tr>\n",
       "    <tr>\n",
       "      <th>mean</th>\n",
       "      <td>4.193338</td>\n",
       "    </tr>\n",
       "    <tr>\n",
       "      <th>std</th>\n",
       "      <td>0.537431</td>\n",
       "    </tr>\n",
       "    <tr>\n",
       "      <th>min</th>\n",
       "      <td>1.000000</td>\n",
       "    </tr>\n",
       "    <tr>\n",
       "      <th>25%</th>\n",
       "      <td>4.000000</td>\n",
       "    </tr>\n",
       "    <tr>\n",
       "      <th>50%</th>\n",
       "      <td>4.300000</td>\n",
       "    </tr>\n",
       "    <tr>\n",
       "      <th>75%</th>\n",
       "      <td>4.500000</td>\n",
       "    </tr>\n",
       "    <tr>\n",
       "      <th>max</th>\n",
       "      <td>19.000000</td>\n",
       "    </tr>\n",
       "  </tbody>\n",
       "</table>\n",
       "</div>"
      ],
      "text/plain": [
       "            Rating\n",
       "count  9367.000000\n",
       "mean      4.193338\n",
       "std       0.537431\n",
       "min       1.000000\n",
       "25%       4.000000\n",
       "50%       4.300000\n",
       "75%       4.500000\n",
       "max      19.000000"
      ]
     },
     "execution_count": 5,
     "metadata": {},
     "output_type": "execute_result"
    }
   ],
   "source": [
    "df.describe()"
   ]
  },
  {
   "cell_type": "markdown",
   "id": "0168164f",
   "metadata": {},
   "source": [
    "- The minimum rating for app is 1 and maximum rating is 19 which is unusual because normally the ratings for app are out of 5."
   ]
  },
  {
   "cell_type": "code",
   "execution_count": 6,
   "id": "65013191",
   "metadata": {},
   "outputs": [
    {
     "data": {
      "text/html": [
       "<div>\n",
       "<style scoped>\n",
       "    .dataframe tbody tr th:only-of-type {\n",
       "        vertical-align: middle;\n",
       "    }\n",
       "\n",
       "    .dataframe tbody tr th {\n",
       "        vertical-align: top;\n",
       "    }\n",
       "\n",
       "    .dataframe thead th {\n",
       "        text-align: right;\n",
       "    }\n",
       "</style>\n",
       "<table border=\"1\" class=\"dataframe\">\n",
       "  <thead>\n",
       "    <tr style=\"text-align: right;\">\n",
       "      <th></th>\n",
       "      <th>App</th>\n",
       "      <th>Category</th>\n",
       "      <th>Reviews</th>\n",
       "      <th>Size</th>\n",
       "      <th>Installs</th>\n",
       "      <th>Type</th>\n",
       "      <th>Price</th>\n",
       "      <th>Content Rating</th>\n",
       "      <th>Genres</th>\n",
       "      <th>Last Updated</th>\n",
       "      <th>Current Ver</th>\n",
       "      <th>Android Ver</th>\n",
       "    </tr>\n",
       "  </thead>\n",
       "  <tbody>\n",
       "    <tr>\n",
       "      <th>count</th>\n",
       "      <td>10841</td>\n",
       "      <td>10841</td>\n",
       "      <td>10841</td>\n",
       "      <td>10841</td>\n",
       "      <td>10841</td>\n",
       "      <td>10840</td>\n",
       "      <td>10841</td>\n",
       "      <td>10840</td>\n",
       "      <td>10841</td>\n",
       "      <td>10841</td>\n",
       "      <td>10833</td>\n",
       "      <td>10838</td>\n",
       "    </tr>\n",
       "    <tr>\n",
       "      <th>unique</th>\n",
       "      <td>9660</td>\n",
       "      <td>34</td>\n",
       "      <td>6002</td>\n",
       "      <td>462</td>\n",
       "      <td>22</td>\n",
       "      <td>3</td>\n",
       "      <td>93</td>\n",
       "      <td>6</td>\n",
       "      <td>120</td>\n",
       "      <td>1378</td>\n",
       "      <td>2832</td>\n",
       "      <td>33</td>\n",
       "    </tr>\n",
       "    <tr>\n",
       "      <th>top</th>\n",
       "      <td>ROBLOX</td>\n",
       "      <td>FAMILY</td>\n",
       "      <td>0</td>\n",
       "      <td>Varies with device</td>\n",
       "      <td>1,000,000+</td>\n",
       "      <td>Free</td>\n",
       "      <td>0</td>\n",
       "      <td>Everyone</td>\n",
       "      <td>Tools</td>\n",
       "      <td>August 3, 2018</td>\n",
       "      <td>Varies with device</td>\n",
       "      <td>4.1 and up</td>\n",
       "    </tr>\n",
       "    <tr>\n",
       "      <th>freq</th>\n",
       "      <td>9</td>\n",
       "      <td>1972</td>\n",
       "      <td>596</td>\n",
       "      <td>1695</td>\n",
       "      <td>1579</td>\n",
       "      <td>10039</td>\n",
       "      <td>10040</td>\n",
       "      <td>8714</td>\n",
       "      <td>842</td>\n",
       "      <td>326</td>\n",
       "      <td>1459</td>\n",
       "      <td>2451</td>\n",
       "    </tr>\n",
       "  </tbody>\n",
       "</table>\n",
       "</div>"
      ],
      "text/plain": [
       "           App Category Reviews                Size    Installs   Type  Price  \\\n",
       "count    10841    10841   10841               10841       10841  10840  10841   \n",
       "unique    9660       34    6002                 462          22      3     93   \n",
       "top     ROBLOX   FAMILY       0  Varies with device  1,000,000+   Free      0   \n",
       "freq         9     1972     596                1695        1579  10039  10040   \n",
       "\n",
       "       Content Rating Genres    Last Updated         Current Ver Android Ver  \n",
       "count           10840  10841           10841               10833       10838  \n",
       "unique              6    120            1378                2832          33  \n",
       "top          Everyone  Tools  August 3, 2018  Varies with device  4.1 and up  \n",
       "freq             8714    842             326                1459        2451  "
      ]
     },
     "execution_count": 6,
     "metadata": {},
     "output_type": "execute_result"
    }
   ],
   "source": [
    "df.describe(include ='O')"
   ]
  },
  {
   "cell_type": "markdown",
   "id": "b3946311",
   "metadata": {},
   "source": [
    "- There are 9660 unique apps but app count is 10841 which indicates presence of duplicates because normally an app's name and its respective information should exist only once.\n",
    "- Most apps are of category 'Family'.\n",
    "- Most apps donot have any registered reviews.\n",
    "- Most apps are free of cost and have price 0.\n"
   ]
  },
  {
   "cell_type": "markdown",
   "id": "7962623e",
   "metadata": {},
   "source": [
    "*Columns that need to be worked upon for model building:-*\n",
    "- The 'App' column has duplicate values  that have to be treated.\n",
    "- Most columns are of object type and need to be converted to numeric data type.\n",
    "- 'Category', 'Type', 'Content Rating' columns require label encoding.\n",
    "- We can drop columns like 'Last updated', 'Current Ver', 'Android Ver' as they seem to contribute very less to rating prediction."
   ]
  },
  {
   "cell_type": "markdown",
   "id": "b14c063c",
   "metadata": {},
   "source": [
    "#### 2.2 Check if there are any duplicate records in the dataset? if any drop them."
   ]
  },
  {
   "cell_type": "code",
   "execution_count": 7,
   "id": "2bc520d4",
   "metadata": {},
   "outputs": [
    {
     "data": {
      "text/plain": [
       "True"
      ]
     },
     "execution_count": 7,
     "metadata": {},
     "output_type": "execute_result"
    }
   ],
   "source": [
    "df.duplicated().any()"
   ]
  },
  {
   "cell_type": "code",
   "execution_count": 8,
   "id": "3b74fbb6",
   "metadata": {},
   "outputs": [
    {
     "data": {
      "text/plain": [
       "(10841, 13)"
      ]
     },
     "execution_count": 8,
     "metadata": {},
     "output_type": "execute_result"
    }
   ],
   "source": [
    "df.shape"
   ]
  },
  {
   "cell_type": "code",
   "execution_count": 9,
   "id": "3cc68489",
   "metadata": {},
   "outputs": [
    {
     "data": {
      "text/plain": [
       "ROBLOX                                                9\n",
       "CBS Sports App - Scores, News, Stats & Watch Live     8\n",
       "ESPN                                                  7\n",
       "Duolingo: Learn Languages Free                        7\n",
       "Candy Crush Saga                                      7\n",
       "8 Ball Pool                                           7\n",
       "slither.io                                            6\n",
       "Bubble Shooter                                        6\n",
       "Zombie Catchers                                       6\n",
       "Bleacher Report: sports news, scores, & highlights    6\n",
       "Name: App, dtype: int64"
      ]
     },
     "execution_count": 9,
     "metadata": {},
     "output_type": "execute_result"
    }
   ],
   "source": [
    "df['App'].value_counts().head(10)"
   ]
  },
  {
   "cell_type": "markdown",
   "id": "4b983d89",
   "metadata": {},
   "source": [
    "- Normally, there should exist a single value count for every app but there are several occurences for many apps so we need to drop the extras."
   ]
  },
  {
   "cell_type": "code",
   "execution_count": 10,
   "id": "6a015ddc",
   "metadata": {},
   "outputs": [],
   "source": [
    "df1 = df.copy()\n",
    "df1.drop_duplicates(inplace=True)"
   ]
  },
  {
   "cell_type": "code",
   "execution_count": 11,
   "id": "aff783e9",
   "metadata": {},
   "outputs": [
    {
     "data": {
      "text/plain": [
       "ROBLOX                 9\n",
       "8 Ball Pool            7\n",
       "Bubble Shooter         6\n",
       "Helix Jump             6\n",
       "Zombie Catchers        6\n",
       "slither.io             5\n",
       "Angry Birds Classic    5\n",
       "Farm Heroes Saga       5\n",
       "Candy Crush Saga       5\n",
       "Subway Surfers         5\n",
       "Name: App, dtype: int64"
      ]
     },
     "execution_count": 11,
     "metadata": {},
     "output_type": "execute_result"
    }
   ],
   "source": [
    "df1['App'].value_counts().head(10)"
   ]
  },
  {
   "cell_type": "code",
   "execution_count": 12,
   "id": "74dcbbb2",
   "metadata": {},
   "outputs": [
    {
     "data": {
      "text/plain": [
       "(10358, 13)"
      ]
     },
     "execution_count": 12,
     "metadata": {},
     "output_type": "execute_result"
    }
   ],
   "source": [
    "df1.shape"
   ]
  },
  {
   "cell_type": "markdown",
   "id": "b0857b25",
   "metadata": {},
   "source": [
    "- The number of rows have been reduced from 10841 to 10358, after removing duplicates but the value counts are still not 1.\n",
    "- We need to treat the 'App' column separately for duplicates. "
   ]
  },
  {
   "cell_type": "code",
   "execution_count": 13,
   "id": "3aef1cb0",
   "metadata": {},
   "outputs": [],
   "source": [
    "df1.drop_duplicates('App',inplace=True)"
   ]
  },
  {
   "cell_type": "code",
   "execution_count": 14,
   "id": "5c036560",
   "metadata": {},
   "outputs": [
    {
     "data": {
      "text/plain": [
       "False"
      ]
     },
     "execution_count": 14,
     "metadata": {},
     "output_type": "execute_result"
    }
   ],
   "source": [
    "df1.duplicated().any()"
   ]
  },
  {
   "cell_type": "code",
   "execution_count": 15,
   "id": "b7db9198",
   "metadata": {},
   "outputs": [
    {
     "data": {
      "text/plain": [
       "(9660, 13)"
      ]
     },
     "execution_count": 15,
     "metadata": {},
     "output_type": "execute_result"
    }
   ],
   "source": [
    "df1.shape"
   ]
  },
  {
   "cell_type": "code",
   "execution_count": 16,
   "id": "229baffd",
   "metadata": {},
   "outputs": [
    {
     "data": {
      "text/plain": [
       "Photo Editor & Candy Camera & Grid & ScrapBook    1\n",
       "CK Pharmacies                                     1\n",
       "CK Call NEW                                       1\n",
       "Ck Coif                                           1\n",
       "CONTRACT KILLER: ZOMBIES                          1\n",
       "CK Shop                                           1\n",
       "FlexBook                                          1\n",
       "Can Knockdown 3                                   1\n",
       "Fu*** Weather (Funny Weather)                     1\n",
       "OB-GYN USMLE Stp2 CK 300 Q & A                    1\n",
       "Name: App, dtype: int64"
      ]
     },
     "execution_count": 16,
     "metadata": {},
     "output_type": "execute_result"
    }
   ],
   "source": [
    "df1['App'].value_counts().head(10)"
   ]
  },
  {
   "cell_type": "markdown",
   "id": "96769efe",
   "metadata": {},
   "source": [
    "#### 2.3 Check the unique categories of the column 'Category', Is there are any invalid category? If yes drop them."
   ]
  },
  {
   "cell_type": "code",
   "execution_count": 17,
   "id": "4d5d7785",
   "metadata": {},
   "outputs": [
    {
     "data": {
      "text/plain": [
       "array(['ART_AND_DESIGN', 'AUTO_AND_VEHICLES', 'BEAUTY',\n",
       "       'BOOKS_AND_REFERENCE', 'BUSINESS', 'COMICS', 'COMMUNICATION',\n",
       "       'DATING', 'EDUCATION', 'ENTERTAINMENT', 'EVENTS', 'FINANCE',\n",
       "       'FOOD_AND_DRINK', 'HEALTH_AND_FITNESS', 'HOUSE_AND_HOME',\n",
       "       'LIBRARIES_AND_DEMO', 'LIFESTYLE', 'GAME', 'FAMILY', 'MEDICAL',\n",
       "       'SOCIAL', 'SHOPPING', 'PHOTOGRAPHY', 'SPORTS', 'TRAVEL_AND_LOCAL',\n",
       "       'TOOLS', 'PERSONALIZATION', 'PRODUCTIVITY', 'PARENTING', 'WEATHER',\n",
       "       'VIDEO_PLAYERS', 'NEWS_AND_MAGAZINES', 'MAPS_AND_NAVIGATION',\n",
       "       '1.9'], dtype=object)"
      ]
     },
     "execution_count": 17,
     "metadata": {},
     "output_type": "execute_result"
    }
   ],
   "source": [
    "df1['Category'].unique()"
   ]
  },
  {
   "cell_type": "code",
   "execution_count": 18,
   "id": "5477e2a0",
   "metadata": {},
   "outputs": [
    {
     "data": {
      "text/plain": [
       "34"
      ]
     },
     "execution_count": 18,
     "metadata": {},
     "output_type": "execute_result"
    }
   ],
   "source": [
    "df1['Category'].nunique()"
   ]
  },
  {
   "cell_type": "code",
   "execution_count": 19,
   "id": "b7c21a87",
   "metadata": {},
   "outputs": [],
   "source": [
    "df2 = df1.copy()"
   ]
  },
  {
   "cell_type": "code",
   "execution_count": 20,
   "id": "db8d1e24",
   "metadata": {},
   "outputs": [],
   "source": [
    "# dropping the invalid entry '1.9'\n",
    "\n",
    "df2 = df2.drop(df2[df2['Category'] == '1.9'].index)"
   ]
  },
  {
   "cell_type": "code",
   "execution_count": 21,
   "id": "3025e810",
   "metadata": {},
   "outputs": [
    {
     "data": {
      "text/plain": [
       "33"
      ]
     },
     "execution_count": 21,
     "metadata": {},
     "output_type": "execute_result"
    }
   ],
   "source": [
    "df2['Category'].nunique()"
   ]
  },
  {
   "cell_type": "code",
   "execution_count": 22,
   "id": "ecf4c4d3",
   "metadata": {},
   "outputs": [
    {
     "data": {
      "text/plain": [
       "array(['ART_AND_DESIGN', 'AUTO_AND_VEHICLES', 'BEAUTY',\n",
       "       'BOOKS_AND_REFERENCE', 'BUSINESS', 'COMICS', 'COMMUNICATION',\n",
       "       'DATING', 'EDUCATION', 'ENTERTAINMENT', 'EVENTS', 'FINANCE',\n",
       "       'FOOD_AND_DRINK', 'HEALTH_AND_FITNESS', 'HOUSE_AND_HOME',\n",
       "       'LIBRARIES_AND_DEMO', 'LIFESTYLE', 'GAME', 'FAMILY', 'MEDICAL',\n",
       "       'SOCIAL', 'SHOPPING', 'PHOTOGRAPHY', 'SPORTS', 'TRAVEL_AND_LOCAL',\n",
       "       'TOOLS', 'PERSONALIZATION', 'PRODUCTIVITY', 'PARENTING', 'WEATHER',\n",
       "       'VIDEO_PLAYERS', 'NEWS_AND_MAGAZINES', 'MAPS_AND_NAVIGATION'],\n",
       "      dtype=object)"
      ]
     },
     "execution_count": 22,
     "metadata": {},
     "output_type": "execute_result"
    }
   ],
   "source": [
    "df2['Category'].unique()"
   ]
  },
  {
   "cell_type": "markdown",
   "id": "17874b7e",
   "metadata": {},
   "source": [
    "#### 2.4 Check if there are missing values present in the column Rating, If any? drop them and Convert ratings to high and low categories(>3.5 is high rest low) and store it in a new column ‘Rating_category’."
   ]
  },
  {
   "cell_type": "code",
   "execution_count": 23,
   "id": "32b1ce38",
   "metadata": {},
   "outputs": [
    {
     "data": {
      "text/html": [
       "<div>\n",
       "<style scoped>\n",
       "    .dataframe tbody tr th:only-of-type {\n",
       "        vertical-align: middle;\n",
       "    }\n",
       "\n",
       "    .dataframe tbody tr th {\n",
       "        vertical-align: top;\n",
       "    }\n",
       "\n",
       "    .dataframe thead th {\n",
       "        text-align: right;\n",
       "    }\n",
       "</style>\n",
       "<table border=\"1\" class=\"dataframe\">\n",
       "  <thead>\n",
       "    <tr style=\"text-align: right;\">\n",
       "      <th></th>\n",
       "      <th>missing_values</th>\n",
       "      <th>percent_missing</th>\n",
       "    </tr>\n",
       "  </thead>\n",
       "  <tbody>\n",
       "    <tr>\n",
       "      <th>App</th>\n",
       "      <td>0</td>\n",
       "      <td>0.000000</td>\n",
       "    </tr>\n",
       "    <tr>\n",
       "      <th>Category</th>\n",
       "      <td>0</td>\n",
       "      <td>0.000000</td>\n",
       "    </tr>\n",
       "    <tr>\n",
       "      <th>Rating</th>\n",
       "      <td>1463</td>\n",
       "      <td>15.146495</td>\n",
       "    </tr>\n",
       "    <tr>\n",
       "      <th>Reviews</th>\n",
       "      <td>0</td>\n",
       "      <td>0.000000</td>\n",
       "    </tr>\n",
       "    <tr>\n",
       "      <th>Size</th>\n",
       "      <td>0</td>\n",
       "      <td>0.000000</td>\n",
       "    </tr>\n",
       "    <tr>\n",
       "      <th>Installs</th>\n",
       "      <td>0</td>\n",
       "      <td>0.000000</td>\n",
       "    </tr>\n",
       "    <tr>\n",
       "      <th>Type</th>\n",
       "      <td>1</td>\n",
       "      <td>0.010353</td>\n",
       "    </tr>\n",
       "    <tr>\n",
       "      <th>Price</th>\n",
       "      <td>0</td>\n",
       "      <td>0.000000</td>\n",
       "    </tr>\n",
       "    <tr>\n",
       "      <th>Content Rating</th>\n",
       "      <td>0</td>\n",
       "      <td>0.000000</td>\n",
       "    </tr>\n",
       "    <tr>\n",
       "      <th>Genres</th>\n",
       "      <td>0</td>\n",
       "      <td>0.000000</td>\n",
       "    </tr>\n",
       "    <tr>\n",
       "      <th>Last Updated</th>\n",
       "      <td>0</td>\n",
       "      <td>0.000000</td>\n",
       "    </tr>\n",
       "    <tr>\n",
       "      <th>Current Ver</th>\n",
       "      <td>8</td>\n",
       "      <td>0.082824</td>\n",
       "    </tr>\n",
       "    <tr>\n",
       "      <th>Android Ver</th>\n",
       "      <td>2</td>\n",
       "      <td>0.020706</td>\n",
       "    </tr>\n",
       "  </tbody>\n",
       "</table>\n",
       "</div>"
      ],
      "text/plain": [
       "                missing_values  percent_missing\n",
       "App                          0         0.000000\n",
       "Category                     0         0.000000\n",
       "Rating                    1463        15.146495\n",
       "Reviews                      0         0.000000\n",
       "Size                         0         0.000000\n",
       "Installs                     0         0.000000\n",
       "Type                         1         0.010353\n",
       "Price                        0         0.000000\n",
       "Content Rating               0         0.000000\n",
       "Genres                       0         0.000000\n",
       "Last Updated                 0         0.000000\n",
       "Current Ver                  8         0.082824\n",
       "Android Ver                  2         0.020706"
      ]
     },
     "execution_count": 23,
     "metadata": {},
     "output_type": "execute_result"
    }
   ],
   "source": [
    "missing_values = df2.isna().sum()\n",
    "percent = (df2.isna().sum()/len(df2))*100\n",
    "df_ = pd.DataFrame({'missing_values': missing_values, 'percent_missing':percent})\n",
    "df_"
   ]
  },
  {
   "cell_type": "code",
   "execution_count": 24,
   "id": "4585b44c",
   "metadata": {},
   "outputs": [],
   "source": [
    "df3 = df2.copy()\n",
    "df3.dropna(inplace=True)"
   ]
  },
  {
   "cell_type": "code",
   "execution_count": 25,
   "id": "d3048ae0",
   "metadata": {},
   "outputs": [
    {
     "data": {
      "text/plain": [
       "App               0\n",
       "Category          0\n",
       "Rating            0\n",
       "Reviews           0\n",
       "Size              0\n",
       "Installs          0\n",
       "Type              0\n",
       "Price             0\n",
       "Content Rating    0\n",
       "Genres            0\n",
       "Last Updated      0\n",
       "Current Ver       0\n",
       "Android Ver       0\n",
       "dtype: int64"
      ]
     },
     "execution_count": 25,
     "metadata": {},
     "output_type": "execute_result"
    }
   ],
   "source": [
    "df3.isna().sum()"
   ]
  },
  {
   "cell_type": "code",
   "execution_count": 26,
   "id": "4800995a",
   "metadata": {},
   "outputs": [
    {
     "data": {
      "text/plain": [
       "(8190, 13)"
      ]
     },
     "execution_count": 26,
     "metadata": {},
     "output_type": "execute_result"
    }
   ],
   "source": [
    "df3.shape"
   ]
  },
  {
   "cell_type": "code",
   "execution_count": 27,
   "id": "e241d6d7",
   "metadata": {
    "scrolled": false
   },
   "outputs": [
    {
     "data": {
      "text/html": [
       "<div>\n",
       "<style scoped>\n",
       "    .dataframe tbody tr th:only-of-type {\n",
       "        vertical-align: middle;\n",
       "    }\n",
       "\n",
       "    .dataframe tbody tr th {\n",
       "        vertical-align: top;\n",
       "    }\n",
       "\n",
       "    .dataframe thead th {\n",
       "        text-align: right;\n",
       "    }\n",
       "</style>\n",
       "<table border=\"1\" class=\"dataframe\">\n",
       "  <thead>\n",
       "    <tr style=\"text-align: right;\">\n",
       "      <th></th>\n",
       "      <th>App</th>\n",
       "      <th>Category</th>\n",
       "      <th>Rating</th>\n",
       "      <th>Reviews</th>\n",
       "      <th>Size</th>\n",
       "      <th>Installs</th>\n",
       "      <th>Type</th>\n",
       "      <th>Price</th>\n",
       "      <th>Content Rating</th>\n",
       "      <th>Genres</th>\n",
       "      <th>Last Updated</th>\n",
       "      <th>Current Ver</th>\n",
       "      <th>Android Ver</th>\n",
       "      <th>Rating_category</th>\n",
       "    </tr>\n",
       "  </thead>\n",
       "  <tbody>\n",
       "    <tr>\n",
       "      <th>0</th>\n",
       "      <td>Photo Editor &amp; Candy Camera &amp; Grid &amp; ScrapBook</td>\n",
       "      <td>ART_AND_DESIGN</td>\n",
       "      <td>4.1</td>\n",
       "      <td>159</td>\n",
       "      <td>19M</td>\n",
       "      <td>10,000+</td>\n",
       "      <td>Free</td>\n",
       "      <td>0</td>\n",
       "      <td>Everyone</td>\n",
       "      <td>Art &amp; Design</td>\n",
       "      <td>January 7, 2018</td>\n",
       "      <td>1.0.0</td>\n",
       "      <td>4.0.3 and up</td>\n",
       "      <td>High</td>\n",
       "    </tr>\n",
       "    <tr>\n",
       "      <th>1</th>\n",
       "      <td>Coloring book moana</td>\n",
       "      <td>ART_AND_DESIGN</td>\n",
       "      <td>3.9</td>\n",
       "      <td>967</td>\n",
       "      <td>14M</td>\n",
       "      <td>500,000+</td>\n",
       "      <td>Free</td>\n",
       "      <td>0</td>\n",
       "      <td>Everyone</td>\n",
       "      <td>Art &amp; Design;Pretend Play</td>\n",
       "      <td>January 15, 2018</td>\n",
       "      <td>2.0.0</td>\n",
       "      <td>4.0.3 and up</td>\n",
       "      <td>High</td>\n",
       "    </tr>\n",
       "    <tr>\n",
       "      <th>2</th>\n",
       "      <td>U Launcher Lite – FREE Live Cool Themes, Hide ...</td>\n",
       "      <td>ART_AND_DESIGN</td>\n",
       "      <td>4.7</td>\n",
       "      <td>87510</td>\n",
       "      <td>8.7M</td>\n",
       "      <td>5,000,000+</td>\n",
       "      <td>Free</td>\n",
       "      <td>0</td>\n",
       "      <td>Everyone</td>\n",
       "      <td>Art &amp; Design</td>\n",
       "      <td>August 1, 2018</td>\n",
       "      <td>1.2.4</td>\n",
       "      <td>4.0.3 and up</td>\n",
       "      <td>High</td>\n",
       "    </tr>\n",
       "    <tr>\n",
       "      <th>3</th>\n",
       "      <td>Sketch - Draw &amp; Paint</td>\n",
       "      <td>ART_AND_DESIGN</td>\n",
       "      <td>4.5</td>\n",
       "      <td>215644</td>\n",
       "      <td>25M</td>\n",
       "      <td>50,000,000+</td>\n",
       "      <td>Free</td>\n",
       "      <td>0</td>\n",
       "      <td>Teen</td>\n",
       "      <td>Art &amp; Design</td>\n",
       "      <td>June 8, 2018</td>\n",
       "      <td>Varies with device</td>\n",
       "      <td>4.2 and up</td>\n",
       "      <td>High</td>\n",
       "    </tr>\n",
       "    <tr>\n",
       "      <th>4</th>\n",
       "      <td>Pixel Draw - Number Art Coloring Book</td>\n",
       "      <td>ART_AND_DESIGN</td>\n",
       "      <td>4.3</td>\n",
       "      <td>967</td>\n",
       "      <td>2.8M</td>\n",
       "      <td>100,000+</td>\n",
       "      <td>Free</td>\n",
       "      <td>0</td>\n",
       "      <td>Everyone</td>\n",
       "      <td>Art &amp; Design;Creativity</td>\n",
       "      <td>June 20, 2018</td>\n",
       "      <td>1.1</td>\n",
       "      <td>4.4 and up</td>\n",
       "      <td>High</td>\n",
       "    </tr>\n",
       "  </tbody>\n",
       "</table>\n",
       "</div>"
      ],
      "text/plain": [
       "                                                 App        Category  Rating  \\\n",
       "0     Photo Editor & Candy Camera & Grid & ScrapBook  ART_AND_DESIGN     4.1   \n",
       "1                                Coloring book moana  ART_AND_DESIGN     3.9   \n",
       "2  U Launcher Lite – FREE Live Cool Themes, Hide ...  ART_AND_DESIGN     4.7   \n",
       "3                              Sketch - Draw & Paint  ART_AND_DESIGN     4.5   \n",
       "4              Pixel Draw - Number Art Coloring Book  ART_AND_DESIGN     4.3   \n",
       "\n",
       "  Reviews  Size     Installs  Type Price Content Rating  \\\n",
       "0     159   19M      10,000+  Free     0       Everyone   \n",
       "1     967   14M     500,000+  Free     0       Everyone   \n",
       "2   87510  8.7M   5,000,000+  Free     0       Everyone   \n",
       "3  215644   25M  50,000,000+  Free     0           Teen   \n",
       "4     967  2.8M     100,000+  Free     0       Everyone   \n",
       "\n",
       "                      Genres      Last Updated         Current Ver  \\\n",
       "0               Art & Design   January 7, 2018               1.0.0   \n",
       "1  Art & Design;Pretend Play  January 15, 2018               2.0.0   \n",
       "2               Art & Design    August 1, 2018               1.2.4   \n",
       "3               Art & Design      June 8, 2018  Varies with device   \n",
       "4    Art & Design;Creativity     June 20, 2018                 1.1   \n",
       "\n",
       "    Android Ver Rating_category  \n",
       "0  4.0.3 and up            High  \n",
       "1  4.0.3 and up            High  \n",
       "2  4.0.3 and up            High  \n",
       "3    4.2 and up            High  \n",
       "4    4.4 and up            High  "
      ]
     },
     "execution_count": 27,
     "metadata": {},
     "output_type": "execute_result"
    }
   ],
   "source": [
    "# Define the threshold value\n",
    "threshold = 3.5\n",
    "\n",
    "# Define a function to convert ratings\n",
    "def convert_rating(rating):\n",
    "    if rating >= threshold:\n",
    "        return 'High'\n",
    "    else:\n",
    "        return 'Low'\n",
    "\n",
    "# create the 'Rating_category' column\n",
    "df3['Rating_category'] = df3['Rating'].apply(convert_rating)\n",
    "\n",
    "# Display the updated DataFrame\n",
    "df3.head()"
   ]
  },
  {
   "cell_type": "markdown",
   "id": "89294ccf",
   "metadata": {},
   "source": [
    "#### 2.5 Check the distribution of the newly created column 'Rating_category' and comment on the distribution."
   ]
  },
  {
   "cell_type": "code",
   "execution_count": 28,
   "id": "78078f5b",
   "metadata": {},
   "outputs": [
    {
     "data": {
      "image/png": "[encoded data removed]",
      "text/plain": [
       "<Figure size 2000x700 with 2 Axes>"
      ]
     },
     "metadata": {},
     "output_type": "display_data"
    }
   ],
   "source": [
    "fig, (ax1, ax2) = plt.subplots(ncols=2, nrows=1, figsize=(20,7))\n",
    "ax1.pie(df3['Rating_category'].value_counts().values, labels = df3['Rating_category'].value_counts().index, startangle= 90, explode = [0.05,0] , autopct='%1.1f%%', textprops ={'fontsize': 15}, wedgeprops={'edgecolor':'black'})\n",
    "\n",
    "ax =sns.histplot(ax=ax2, data = df3['Rating_category'])\n",
    "ax.set_xlabel('Rating_category', fontsize=15)\n",
    "ax.set_ylabel('count', fontsize=15)\n",
    "for label in ax.containers:\n",
    "    ax.bar_label(label, fontsize = 15, color = 'black')\n",
    "plt.xticks(fontsize= 15)\n",
    "plt.yticks(fontsize= 15)    \n",
    "plt.tight_layout()"
   ]
  },
  {
   "cell_type": "markdown",
   "id": "b75f5d72",
   "metadata": {},
   "source": [
    "The target column 'Rating_category' is highly imbalanced."
   ]
  },
  {
   "cell_type": "markdown",
   "id": "fd7073a8",
   "metadata": {},
   "source": [
    "#### 2.6 Convert the column \"Reviews\" to numeric datatype and check the presence of outliers in the column and handle the outliers using transformation approach."
   ]
  },
  {
   "cell_type": "code",
   "execution_count": 29,
   "id": "72de5c13",
   "metadata": {},
   "outputs": [
    {
     "data": {
      "text/plain": [
       "dtype('O')"
      ]
     },
     "execution_count": 29,
     "metadata": {},
     "output_type": "execute_result"
    }
   ],
   "source": [
    "df3['Reviews'].dtype"
   ]
  },
  {
   "cell_type": "code",
   "execution_count": 30,
   "id": "60e0339c",
   "metadata": {},
   "outputs": [],
   "source": [
    "# converting datatype of Reviews from Object to Numeric\n",
    "df3['Reviews'] = pd.to_numeric(df3['Reviews'], errors='coerce')"
   ]
  },
  {
   "cell_type": "code",
   "execution_count": 31,
   "id": "36a9657f",
   "metadata": {},
   "outputs": [
    {
     "data": {
      "text/plain": [
       "dtype('int64')"
      ]
     },
     "execution_count": 31,
     "metadata": {},
     "output_type": "execute_result"
    }
   ],
   "source": [
    "df3['Reviews'].dtype"
   ]
  },
  {
   "cell_type": "code",
   "execution_count": 32,
   "id": "e0a6ce56",
   "metadata": {},
   "outputs": [
    {
     "data": {
      "image/png": "[encoded data removed]",
      "text/plain": [
       "<Figure size 640x480 with 1 Axes>"
      ]
     },
     "metadata": {},
     "output_type": "display_data"
    }
   ],
   "source": [
    "sns.boxplot(df3['Reviews'])\n",
    "plt.show()"
   ]
  },
  {
   "cell_type": "code",
   "execution_count": 33,
   "id": "84e7a0e9",
   "metadata": {},
   "outputs": [
    {
     "data": {
      "text/plain": [
       "24.50402456787053"
      ]
     },
     "execution_count": 33,
     "metadata": {},
     "output_type": "execute_result"
    }
   ],
   "source": [
    "df3['Reviews'].skew()"
   ]
  },
  {
   "cell_type": "code",
   "execution_count": 34,
   "id": "6ec67d6c",
   "metadata": {},
   "outputs": [],
   "source": [
    "# making two copies of df3 to check the performance of square-root and log transformation on 'Reviews' column\n",
    "\n",
    "df_l = df3.copy()\n",
    "df_s = df3.copy()"
   ]
  },
  {
   "cell_type": "code",
   "execution_count": 35,
   "id": "5d41287b",
   "metadata": {},
   "outputs": [],
   "source": [
    "df_sqrt = pd.DataFrame({'Reviews':np.sqrt(df_s['Reviews'])})"
   ]
  },
  {
   "cell_type": "code",
   "execution_count": 36,
   "id": "671ff23c",
   "metadata": {},
   "outputs": [
    {
     "data": {
      "text/html": [
       "<div>\n",
       "<style scoped>\n",
       "    .dataframe tbody tr th:only-of-type {\n",
       "        vertical-align: middle;\n",
       "    }\n",
       "\n",
       "    .dataframe tbody tr th {\n",
       "        vertical-align: top;\n",
       "    }\n",
       "\n",
       "    .dataframe thead th {\n",
       "        text-align: right;\n",
       "    }\n",
       "</style>\n",
       "<table border=\"1\" class=\"dataframe\">\n",
       "  <thead>\n",
       "    <tr style=\"text-align: right;\">\n",
       "      <th></th>\n",
       "      <th>Reviews</th>\n",
       "    </tr>\n",
       "  </thead>\n",
       "  <tbody>\n",
       "    <tr>\n",
       "      <th>0</th>\n",
       "      <td>12.609520</td>\n",
       "    </tr>\n",
       "    <tr>\n",
       "      <th>1</th>\n",
       "      <td>31.096624</td>\n",
       "    </tr>\n",
       "    <tr>\n",
       "      <th>2</th>\n",
       "      <td>295.820892</td>\n",
       "    </tr>\n",
       "    <tr>\n",
       "      <th>3</th>\n",
       "      <td>464.374849</td>\n",
       "    </tr>\n",
       "    <tr>\n",
       "      <th>4</th>\n",
       "      <td>31.096624</td>\n",
       "    </tr>\n",
       "  </tbody>\n",
       "</table>\n",
       "</div>"
      ],
      "text/plain": [
       "      Reviews\n",
       "0   12.609520\n",
       "1   31.096624\n",
       "2  295.820892\n",
       "3  464.374849\n",
       "4   31.096624"
      ]
     },
     "execution_count": 36,
     "metadata": {},
     "output_type": "execute_result"
    }
   ],
   "source": [
    "df_sqrt.head()"
   ]
  },
  {
   "cell_type": "code",
   "execution_count": 37,
   "id": "d5d79e2d",
   "metadata": {},
   "outputs": [],
   "source": [
    "df_log = pd.DataFrame({'Reviews':np.log(df_l['Reviews'])})"
   ]
  },
  {
   "cell_type": "code",
   "execution_count": 38,
   "id": "2e54a868",
   "metadata": {},
   "outputs": [
    {
     "data": {
      "text/html": [
       "<div>\n",
       "<style scoped>\n",
       "    .dataframe tbody tr th:only-of-type {\n",
       "        vertical-align: middle;\n",
       "    }\n",
       "\n",
       "    .dataframe tbody tr th {\n",
       "        vertical-align: top;\n",
       "    }\n",
       "\n",
       "    .dataframe thead th {\n",
       "        text-align: right;\n",
       "    }\n",
       "</style>\n",
       "<table border=\"1\" class=\"dataframe\">\n",
       "  <thead>\n",
       "    <tr style=\"text-align: right;\">\n",
       "      <th></th>\n",
       "      <th>Reviews</th>\n",
       "    </tr>\n",
       "  </thead>\n",
       "  <tbody>\n",
       "    <tr>\n",
       "      <th>0</th>\n",
       "      <td>5.068904</td>\n",
       "    </tr>\n",
       "    <tr>\n",
       "      <th>1</th>\n",
       "      <td>6.874198</td>\n",
       "    </tr>\n",
       "    <tr>\n",
       "      <th>2</th>\n",
       "      <td>11.379508</td>\n",
       "    </tr>\n",
       "    <tr>\n",
       "      <th>3</th>\n",
       "      <td>12.281384</td>\n",
       "    </tr>\n",
       "    <tr>\n",
       "      <th>4</th>\n",
       "      <td>6.874198</td>\n",
       "    </tr>\n",
       "  </tbody>\n",
       "</table>\n",
       "</div>"
      ],
      "text/plain": [
       "     Reviews\n",
       "0   5.068904\n",
       "1   6.874198\n",
       "2  11.379508\n",
       "3  12.281384\n",
       "4   6.874198"
      ]
     },
     "execution_count": 38,
     "metadata": {},
     "output_type": "execute_result"
    }
   ],
   "source": [
    "df_log.head()"
   ]
  },
  {
   "cell_type": "code",
   "execution_count": 39,
   "id": "0dbdadea",
   "metadata": {},
   "outputs": [
    {
     "data": {
      "text/plain": [
       "6.604030741994298"
      ]
     },
     "execution_count": 39,
     "metadata": {},
     "output_type": "execute_result"
    }
   ],
   "source": [
    "df_sqrt['Reviews'].skew()"
   ]
  },
  {
   "cell_type": "code",
   "execution_count": 40,
   "id": "2039991b",
   "metadata": {},
   "outputs": [
    {
     "data": {
      "text/plain": [
       "-0.04029708512229868"
      ]
     },
     "execution_count": 40,
     "metadata": {},
     "output_type": "execute_result"
    }
   ],
   "source": [
    "df_log['Reviews'].skew()"
   ]
  },
  {
   "cell_type": "markdown",
   "id": "30f2c4dd",
   "metadata": {},
   "source": [
    "- The log transformation has reduced the skewness better than square-root transformation (closer to zero) so we will use log transformation on Reviews column."
   ]
  },
  {
   "cell_type": "code",
   "execution_count": 41,
   "id": "d27d87aa",
   "metadata": {},
   "outputs": [],
   "source": [
    "df3['Reviews'] = np.log(df3['Reviews'])"
   ]
  },
  {
   "cell_type": "code",
   "execution_count": 42,
   "id": "212129e7",
   "metadata": {},
   "outputs": [
    {
     "data": {
      "text/html": [
       "<div>\n",
       "<style scoped>\n",
       "    .dataframe tbody tr th:only-of-type {\n",
       "        vertical-align: middle;\n",
       "    }\n",
       "\n",
       "    .dataframe tbody tr th {\n",
       "        vertical-align: top;\n",
       "    }\n",
       "\n",
       "    .dataframe thead th {\n",
       "        text-align: right;\n",
       "    }\n",
       "</style>\n",
       "<table border=\"1\" class=\"dataframe\">\n",
       "  <thead>\n",
       "    <tr style=\"text-align: right;\">\n",
       "      <th></th>\n",
       "      <th>App</th>\n",
       "      <th>Category</th>\n",
       "      <th>Rating</th>\n",
       "      <th>Reviews</th>\n",
       "      <th>Size</th>\n",
       "      <th>Installs</th>\n",
       "      <th>Type</th>\n",
       "      <th>Price</th>\n",
       "      <th>Content Rating</th>\n",
       "      <th>Genres</th>\n",
       "      <th>Last Updated</th>\n",
       "      <th>Current Ver</th>\n",
       "      <th>Android Ver</th>\n",
       "      <th>Rating_category</th>\n",
       "    </tr>\n",
       "  </thead>\n",
       "  <tbody>\n",
       "    <tr>\n",
       "      <th>0</th>\n",
       "      <td>Photo Editor &amp; Candy Camera &amp; Grid &amp; ScrapBook</td>\n",
       "      <td>ART_AND_DESIGN</td>\n",
       "      <td>4.1</td>\n",
       "      <td>5.068904</td>\n",
       "      <td>19M</td>\n",
       "      <td>10,000+</td>\n",
       "      <td>Free</td>\n",
       "      <td>0</td>\n",
       "      <td>Everyone</td>\n",
       "      <td>Art &amp; Design</td>\n",
       "      <td>January 7, 2018</td>\n",
       "      <td>1.0.0</td>\n",
       "      <td>4.0.3 and up</td>\n",
       "      <td>High</td>\n",
       "    </tr>\n",
       "    <tr>\n",
       "      <th>1</th>\n",
       "      <td>Coloring book moana</td>\n",
       "      <td>ART_AND_DESIGN</td>\n",
       "      <td>3.9</td>\n",
       "      <td>6.874198</td>\n",
       "      <td>14M</td>\n",
       "      <td>500,000+</td>\n",
       "      <td>Free</td>\n",
       "      <td>0</td>\n",
       "      <td>Everyone</td>\n",
       "      <td>Art &amp; Design;Pretend Play</td>\n",
       "      <td>January 15, 2018</td>\n",
       "      <td>2.0.0</td>\n",
       "      <td>4.0.3 and up</td>\n",
       "      <td>High</td>\n",
       "    </tr>\n",
       "    <tr>\n",
       "      <th>2</th>\n",
       "      <td>U Launcher Lite – FREE Live Cool Themes, Hide ...</td>\n",
       "      <td>ART_AND_DESIGN</td>\n",
       "      <td>4.7</td>\n",
       "      <td>11.379508</td>\n",
       "      <td>8.7M</td>\n",
       "      <td>5,000,000+</td>\n",
       "      <td>Free</td>\n",
       "      <td>0</td>\n",
       "      <td>Everyone</td>\n",
       "      <td>Art &amp; Design</td>\n",
       "      <td>August 1, 2018</td>\n",
       "      <td>1.2.4</td>\n",
       "      <td>4.0.3 and up</td>\n",
       "      <td>High</td>\n",
       "    </tr>\n",
       "    <tr>\n",
       "      <th>3</th>\n",
       "      <td>Sketch - Draw &amp; Paint</td>\n",
       "      <td>ART_AND_DESIGN</td>\n",
       "      <td>4.5</td>\n",
       "      <td>12.281384</td>\n",
       "      <td>25M</td>\n",
       "      <td>50,000,000+</td>\n",
       "      <td>Free</td>\n",
       "      <td>0</td>\n",
       "      <td>Teen</td>\n",
       "      <td>Art &amp; Design</td>\n",
       "      <td>June 8, 2018</td>\n",
       "      <td>Varies with device</td>\n",
       "      <td>4.2 and up</td>\n",
       "      <td>High</td>\n",
       "    </tr>\n",
       "    <tr>\n",
       "      <th>4</th>\n",
       "      <td>Pixel Draw - Number Art Coloring Book</td>\n",
       "      <td>ART_AND_DESIGN</td>\n",
       "      <td>4.3</td>\n",
       "      <td>6.874198</td>\n",
       "      <td>2.8M</td>\n",
       "      <td>100,000+</td>\n",
       "      <td>Free</td>\n",
       "      <td>0</td>\n",
       "      <td>Everyone</td>\n",
       "      <td>Art &amp; Design;Creativity</td>\n",
       "      <td>June 20, 2018</td>\n",
       "      <td>1.1</td>\n",
       "      <td>4.4 and up</td>\n",
       "      <td>High</td>\n",
       "    </tr>\n",
       "  </tbody>\n",
       "</table>\n",
       "</div>"
      ],
      "text/plain": [
       "                                                 App        Category  Rating  \\\n",
       "0     Photo Editor & Candy Camera & Grid & ScrapBook  ART_AND_DESIGN     4.1   \n",
       "1                                Coloring book moana  ART_AND_DESIGN     3.9   \n",
       "2  U Launcher Lite – FREE Live Cool Themes, Hide ...  ART_AND_DESIGN     4.7   \n",
       "3                              Sketch - Draw & Paint  ART_AND_DESIGN     4.5   \n",
       "4              Pixel Draw - Number Art Coloring Book  ART_AND_DESIGN     4.3   \n",
       "\n",
       "     Reviews  Size     Installs  Type Price Content Rating  \\\n",
       "0   5.068904   19M      10,000+  Free     0       Everyone   \n",
       "1   6.874198   14M     500,000+  Free     0       Everyone   \n",
       "2  11.379508  8.7M   5,000,000+  Free     0       Everyone   \n",
       "3  12.281384   25M  50,000,000+  Free     0           Teen   \n",
       "4   6.874198  2.8M     100,000+  Free     0       Everyone   \n",
       "\n",
       "                      Genres      Last Updated         Current Ver  \\\n",
       "0               Art & Design   January 7, 2018               1.0.0   \n",
       "1  Art & Design;Pretend Play  January 15, 2018               2.0.0   \n",
       "2               Art & Design    August 1, 2018               1.2.4   \n",
       "3               Art & Design      June 8, 2018  Varies with device   \n",
       "4    Art & Design;Creativity     June 20, 2018                 1.1   \n",
       "\n",
       "    Android Ver Rating_category  \n",
       "0  4.0.3 and up            High  \n",
       "1  4.0.3 and up            High  \n",
       "2  4.0.3 and up            High  \n",
       "3    4.2 and up            High  \n",
       "4    4.4 and up            High  "
      ]
     },
     "execution_count": 42,
     "metadata": {},
     "output_type": "execute_result"
    }
   ],
   "source": [
    "df3.head()"
   ]
  },
  {
   "cell_type": "code",
   "execution_count": 43,
   "id": "57607018",
   "metadata": {},
   "outputs": [
    {
     "data": {
      "image/png": "[encoded data removed]",
      "text/plain": [
       "<Figure size 640x480 with 1 Axes>"
      ]
     },
     "metadata": {},
     "output_type": "display_data"
    }
   ],
   "source": [
    "sns.boxplot(df3['Reviews'])\n",
    "plt.show()"
   ]
  },
  {
   "cell_type": "markdown",
   "id": "f30b4f62",
   "metadata": {},
   "source": [
    "#### 2.7. The column 'Size' contains alphanumeric values, handle the non numeric data and convert the column into suitable datatype."
   ]
  },
  {
   "cell_type": "code",
   "execution_count": 44,
   "id": "8cfadf73",
   "metadata": {},
   "outputs": [
    {
     "data": {
      "text/plain": [
       "1169"
      ]
     },
     "execution_count": 44,
     "metadata": {},
     "output_type": "execute_result"
    }
   ],
   "source": [
    "# number of rows with entry as 'Varies with device'\n",
    "df3['Size'].value_counts()['Varies with device']"
   ]
  },
  {
   "cell_type": "code",
   "execution_count": 45,
   "id": "ac25fa4d",
   "metadata": {},
   "outputs": [
    {
     "data": {
      "text/plain": [
       "14.273504273504273"
      ]
     },
     "execution_count": 45,
     "metadata": {},
     "output_type": "execute_result"
    }
   ],
   "source": [
    "df3['Size'].value_counts()['Varies with device']/len(df3)*100"
   ]
  },
  {
   "cell_type": "code",
   "execution_count": 46,
   "id": "b1222b4a",
   "metadata": {},
   "outputs": [
    {
     "data": {
      "text/plain": [
       "dtype('O')"
      ]
     },
     "execution_count": 46,
     "metadata": {},
     "output_type": "execute_result"
    }
   ],
   "source": [
    "# datatype of feature 'Size' before type conversion\n",
    "df3['Size'].dtype"
   ]
  },
  {
   "cell_type": "code",
   "execution_count": 47,
   "id": "33d93556",
   "metadata": {},
   "outputs": [],
   "source": [
    "df4 = df3.copy()"
   ]
  },
  {
   "cell_type": "code",
   "execution_count": 48,
   "id": "51392db1",
   "metadata": {},
   "outputs": [],
   "source": [
    "# de-selecting entries with 'Varies with device' in the Size column in dataframe df4\n",
    "\n",
    "df4 = df4[df4['Size'] != 'Varies with device']"
   ]
  },
  {
   "cell_type": "code",
   "execution_count": 49,
   "id": "439606cc",
   "metadata": {},
   "outputs": [
    {
     "data": {
      "text/plain": [
       "(7021, 14)"
      ]
     },
     "execution_count": 49,
     "metadata": {},
     "output_type": "execute_result"
    }
   ],
   "source": [
    "df4.shape"
   ]
  },
  {
   "cell_type": "code",
   "execution_count": 50,
   "id": "bd50637d",
   "metadata": {},
   "outputs": [],
   "source": [
    "df4['Size'] = df4['Size'].replace({'k': '*1e3', 'M': '*1e6'}, regex=True).map(pd.eval)"
   ]
  },
  {
   "cell_type": "code",
   "execution_count": 51,
   "id": "50edb617",
   "metadata": {},
   "outputs": [],
   "source": [
    "df4['Size'] = pd.to_numeric(df4['Size'], errors='coerce')"
   ]
  },
  {
   "cell_type": "code",
   "execution_count": 52,
   "id": "c246927a",
   "metadata": {},
   "outputs": [
    {
     "data": {
      "text/plain": [
       "dtype('float64')"
      ]
     },
     "execution_count": 52,
     "metadata": {},
     "output_type": "execute_result"
    }
   ],
   "source": [
    "df4['Size'].dtype"
   ]
  },
  {
   "cell_type": "code",
   "execution_count": 53,
   "id": "5d632598",
   "metadata": {},
   "outputs": [
    {
     "data": {
      "text/html": [
       "<div>\n",
       "<style scoped>\n",
       "    .dataframe tbody tr th:only-of-type {\n",
       "        vertical-align: middle;\n",
       "    }\n",
       "\n",
       "    .dataframe tbody tr th {\n",
       "        vertical-align: top;\n",
       "    }\n",
       "\n",
       "    .dataframe thead th {\n",
       "        text-align: right;\n",
       "    }\n",
       "</style>\n",
       "<table border=\"1\" class=\"dataframe\">\n",
       "  <thead>\n",
       "    <tr style=\"text-align: right;\">\n",
       "      <th></th>\n",
       "      <th>App</th>\n",
       "      <th>Category</th>\n",
       "      <th>Rating</th>\n",
       "      <th>Reviews</th>\n",
       "      <th>Size</th>\n",
       "      <th>Installs</th>\n",
       "      <th>Type</th>\n",
       "      <th>Price</th>\n",
       "      <th>Content Rating</th>\n",
       "      <th>Genres</th>\n",
       "      <th>Last Updated</th>\n",
       "      <th>Current Ver</th>\n",
       "      <th>Android Ver</th>\n",
       "      <th>Rating_category</th>\n",
       "    </tr>\n",
       "  </thead>\n",
       "  <tbody>\n",
       "    <tr>\n",
       "      <th>0</th>\n",
       "      <td>Photo Editor &amp; Candy Camera &amp; Grid &amp; ScrapBook</td>\n",
       "      <td>ART_AND_DESIGN</td>\n",
       "      <td>4.1</td>\n",
       "      <td>5.068904</td>\n",
       "      <td>19000000.0</td>\n",
       "      <td>10,000+</td>\n",
       "      <td>Free</td>\n",
       "      <td>0</td>\n",
       "      <td>Everyone</td>\n",
       "      <td>Art &amp; Design</td>\n",
       "      <td>January 7, 2018</td>\n",
       "      <td>1.0.0</td>\n",
       "      <td>4.0.3 and up</td>\n",
       "      <td>High</td>\n",
       "    </tr>\n",
       "    <tr>\n",
       "      <th>1</th>\n",
       "      <td>Coloring book moana</td>\n",
       "      <td>ART_AND_DESIGN</td>\n",
       "      <td>3.9</td>\n",
       "      <td>6.874198</td>\n",
       "      <td>14000000.0</td>\n",
       "      <td>500,000+</td>\n",
       "      <td>Free</td>\n",
       "      <td>0</td>\n",
       "      <td>Everyone</td>\n",
       "      <td>Art &amp; Design;Pretend Play</td>\n",
       "      <td>January 15, 2018</td>\n",
       "      <td>2.0.0</td>\n",
       "      <td>4.0.3 and up</td>\n",
       "      <td>High</td>\n",
       "    </tr>\n",
       "    <tr>\n",
       "      <th>2</th>\n",
       "      <td>U Launcher Lite – FREE Live Cool Themes, Hide ...</td>\n",
       "      <td>ART_AND_DESIGN</td>\n",
       "      <td>4.7</td>\n",
       "      <td>11.379508</td>\n",
       "      <td>8700000.0</td>\n",
       "      <td>5,000,000+</td>\n",
       "      <td>Free</td>\n",
       "      <td>0</td>\n",
       "      <td>Everyone</td>\n",
       "      <td>Art &amp; Design</td>\n",
       "      <td>August 1, 2018</td>\n",
       "      <td>1.2.4</td>\n",
       "      <td>4.0.3 and up</td>\n",
       "      <td>High</td>\n",
       "    </tr>\n",
       "  </tbody>\n",
       "</table>\n",
       "</div>"
      ],
      "text/plain": [
       "                                                 App        Category  Rating  \\\n",
       "0     Photo Editor & Candy Camera & Grid & ScrapBook  ART_AND_DESIGN     4.1   \n",
       "1                                Coloring book moana  ART_AND_DESIGN     3.9   \n",
       "2  U Launcher Lite – FREE Live Cool Themes, Hide ...  ART_AND_DESIGN     4.7   \n",
       "\n",
       "     Reviews        Size    Installs  Type Price Content Rating  \\\n",
       "0   5.068904  19000000.0     10,000+  Free     0       Everyone   \n",
       "1   6.874198  14000000.0    500,000+  Free     0       Everyone   \n",
       "2  11.379508   8700000.0  5,000,000+  Free     0       Everyone   \n",
       "\n",
       "                      Genres      Last Updated Current Ver   Android Ver  \\\n",
       "0               Art & Design   January 7, 2018       1.0.0  4.0.3 and up   \n",
       "1  Art & Design;Pretend Play  January 15, 2018       2.0.0  4.0.3 and up   \n",
       "2               Art & Design    August 1, 2018       1.2.4  4.0.3 and up   \n",
       "\n",
       "  Rating_category  \n",
       "0            High  \n",
       "1            High  \n",
       "2            High  "
      ]
     },
     "execution_count": 53,
     "metadata": {},
     "output_type": "execute_result"
    }
   ],
   "source": [
    "df4.head(3)"
   ]
  },
  {
   "cell_type": "markdown",
   "id": "ae2615b9",
   "metadata": {},
   "source": [
    "#### 2.8. Check the column 'Installs', handle the unwanted characters and convert the column into suitable dataype."
   ]
  },
  {
   "cell_type": "code",
   "execution_count": 54,
   "id": "44c8053c",
   "metadata": {},
   "outputs": [],
   "source": [
    "#Cleaning the column 'Installs' from characters like ',' and '+' \n",
    "\n",
    "df4['Installs'] = [int(i[:-1].replace(',','')) for i in df4['Installs']]"
   ]
  },
  {
   "cell_type": "code",
   "execution_count": 55,
   "id": "86966781",
   "metadata": {},
   "outputs": [
    {
     "data": {
      "text/plain": [
       "0       10000\n",
       "1      500000\n",
       "2     5000000\n",
       "3    50000000\n",
       "4      100000\n",
       "Name: Installs, dtype: int64"
      ]
     },
     "execution_count": 55,
     "metadata": {},
     "output_type": "execute_result"
    }
   ],
   "source": [
    "df4['Installs'].head()"
   ]
  },
  {
   "cell_type": "code",
   "execution_count": 56,
   "id": "ead937c9",
   "metadata": {},
   "outputs": [
    {
     "data": {
      "text/plain": [
       "dtype('int64')"
      ]
     },
     "execution_count": 56,
     "metadata": {},
     "output_type": "execute_result"
    }
   ],
   "source": [
    "# Converting to numeric type\n",
    "df4['Installs'] = pd.to_numeric(df4['Installs'], errors = 'coerce')\n",
    "df4['Installs'].dtype"
   ]
  },
  {
   "cell_type": "markdown",
   "id": "5466974d",
   "metadata": {},
   "source": [
    "#### 2.9. Check the column 'Price', remove the unwanted characters and convert the column into suitable datatype."
   ]
  },
  {
   "cell_type": "code",
   "execution_count": 57,
   "id": "30865442",
   "metadata": {},
   "outputs": [
    {
     "data": {
      "text/plain": [
       "dtype('O')"
      ]
     },
     "execution_count": 57,
     "metadata": {},
     "output_type": "execute_result"
    }
   ],
   "source": [
    "df4['Price'].dtype"
   ]
  },
  {
   "cell_type": "code",
   "execution_count": 58,
   "id": "0e66d59a",
   "metadata": {},
   "outputs": [],
   "source": [
    "#Cleaning prices\n",
    "def price_clean(price):\n",
    "    if price == '0':\n",
    "        return 0\n",
    "    else:\n",
    "        price = price[1:]\n",
    "        price = pd.to_numeric(price)\n",
    "        return price\n",
    "\n",
    "df4['Price'] = df4['Price'].map(price_clean)"
   ]
  },
  {
   "cell_type": "code",
   "execution_count": 59,
   "id": "4c0aa0b3",
   "metadata": {},
   "outputs": [
    {
     "data": {
      "text/plain": [
       "array([  0.  ,   4.99,   6.99,   7.99,   3.99,   5.99,   2.99,   1.99,\n",
       "         9.99,   0.99,   9.  ,   5.49,  10.  ,  24.99,  11.99,  79.99,\n",
       "        16.99,  14.99,  29.99,  12.99,   3.49,  10.99,   7.49,   1.5 ,\n",
       "        19.99,  15.99,  33.99,  39.99,   2.49,   4.49,   1.7 ,   1.49,\n",
       "         3.88, 399.99,  17.99, 400.  ,   3.02,   1.76,   4.84,   4.77,\n",
       "         1.61,   1.59,   6.49,   1.29, 299.99, 379.99,  37.99,  18.99,\n",
       "       389.99,   8.49,   1.75,  14.  ,   2.  ,   3.08,   2.59,  19.4 ,\n",
       "        15.46,   8.99,   3.04,  13.99,   4.29,   3.28,   4.6 ,   1.  ,\n",
       "         2.9 ,   1.97,   2.56,   1.2 ])"
      ]
     },
     "execution_count": 59,
     "metadata": {},
     "output_type": "execute_result"
    }
   ],
   "source": [
    "df4['Price'].unique()"
   ]
  },
  {
   "cell_type": "code",
   "execution_count": 60,
   "id": "257c00fc",
   "metadata": {},
   "outputs": [
    {
     "data": {
      "text/plain": [
       "dtype('float64')"
      ]
     },
     "execution_count": 60,
     "metadata": {},
     "output_type": "execute_result"
    }
   ],
   "source": [
    "df4['Price'].dtype"
   ]
  },
  {
   "cell_type": "markdown",
   "id": "06554bd0",
   "metadata": {},
   "source": [
    "<a id=\"1.1\"></a>\n",
    "## <b> <span style='color:#F1B12D'>3. Data Preparation for model building </span></b> "
   ]
  },
  {
   "cell_type": "markdown",
   "id": "92d7f990",
   "metadata": {},
   "source": [
    "#### 3.1. Drop the columns which you think redundant for the analysis."
   ]
  },
  {
   "cell_type": "markdown",
   "id": "122186bb",
   "metadata": {},
   "source": [
    "- The 'App' column is not needed beacuse app name might not affect the rating much.\n",
    "- Similarly, Last Updated, Current Ver and Android Ver are features that have very less to do with the rating of an app.\n",
    "- We will also drop the 'Rating' column as we have created a separate column Rating_category from it."
   ]
  },
  {
   "cell_type": "code",
   "execution_count": 61,
   "id": "0e69eb91",
   "metadata": {},
   "outputs": [],
   "source": [
    "df5 = df4.copy()"
   ]
  },
  {
   "cell_type": "code",
   "execution_count": 62,
   "id": "9de9d817",
   "metadata": {},
   "outputs": [],
   "source": [
    "df5 = df5.drop(['App','Rating','Genres','Last Updated', 'Current Ver','Android Ver' ], axis = 1)"
   ]
  },
  {
   "cell_type": "code",
   "execution_count": 63,
   "id": "3ea4acbc",
   "metadata": {},
   "outputs": [
    {
     "data": {
      "text/html": [
       "<div>\n",
       "<style scoped>\n",
       "    .dataframe tbody tr th:only-of-type {\n",
       "        vertical-align: middle;\n",
       "    }\n",
       "\n",
       "    .dataframe tbody tr th {\n",
       "        vertical-align: top;\n",
       "    }\n",
       "\n",
       "    .dataframe thead th {\n",
       "        text-align: right;\n",
       "    }\n",
       "</style>\n",
       "<table border=\"1\" class=\"dataframe\">\n",
       "  <thead>\n",
       "    <tr style=\"text-align: right;\">\n",
       "      <th></th>\n",
       "      <th>Category</th>\n",
       "      <th>Reviews</th>\n",
       "      <th>Size</th>\n",
       "      <th>Installs</th>\n",
       "      <th>Type</th>\n",
       "      <th>Price</th>\n",
       "      <th>Content Rating</th>\n",
       "      <th>Rating_category</th>\n",
       "    </tr>\n",
       "  </thead>\n",
       "  <tbody>\n",
       "    <tr>\n",
       "      <th>0</th>\n",
       "      <td>ART_AND_DESIGN</td>\n",
       "      <td>5.068904</td>\n",
       "      <td>19000000.0</td>\n",
       "      <td>10000</td>\n",
       "      <td>Free</td>\n",
       "      <td>0.0</td>\n",
       "      <td>Everyone</td>\n",
       "      <td>High</td>\n",
       "    </tr>\n",
       "    <tr>\n",
       "      <th>1</th>\n",
       "      <td>ART_AND_DESIGN</td>\n",
       "      <td>6.874198</td>\n",
       "      <td>14000000.0</td>\n",
       "      <td>500000</td>\n",
       "      <td>Free</td>\n",
       "      <td>0.0</td>\n",
       "      <td>Everyone</td>\n",
       "      <td>High</td>\n",
       "    </tr>\n",
       "    <tr>\n",
       "      <th>2</th>\n",
       "      <td>ART_AND_DESIGN</td>\n",
       "      <td>11.379508</td>\n",
       "      <td>8700000.0</td>\n",
       "      <td>5000000</td>\n",
       "      <td>Free</td>\n",
       "      <td>0.0</td>\n",
       "      <td>Everyone</td>\n",
       "      <td>High</td>\n",
       "    </tr>\n",
       "    <tr>\n",
       "      <th>3</th>\n",
       "      <td>ART_AND_DESIGN</td>\n",
       "      <td>12.281384</td>\n",
       "      <td>25000000.0</td>\n",
       "      <td>50000000</td>\n",
       "      <td>Free</td>\n",
       "      <td>0.0</td>\n",
       "      <td>Teen</td>\n",
       "      <td>High</td>\n",
       "    </tr>\n",
       "    <tr>\n",
       "      <th>4</th>\n",
       "      <td>ART_AND_DESIGN</td>\n",
       "      <td>6.874198</td>\n",
       "      <td>2800000.0</td>\n",
       "      <td>100000</td>\n",
       "      <td>Free</td>\n",
       "      <td>0.0</td>\n",
       "      <td>Everyone</td>\n",
       "      <td>High</td>\n",
       "    </tr>\n",
       "  </tbody>\n",
       "</table>\n",
       "</div>"
      ],
      "text/plain": [
       "         Category    Reviews        Size  Installs  Type  Price  \\\n",
       "0  ART_AND_DESIGN   5.068904  19000000.0     10000  Free    0.0   \n",
       "1  ART_AND_DESIGN   6.874198  14000000.0    500000  Free    0.0   \n",
       "2  ART_AND_DESIGN  11.379508   8700000.0   5000000  Free    0.0   \n",
       "3  ART_AND_DESIGN  12.281384  25000000.0  50000000  Free    0.0   \n",
       "4  ART_AND_DESIGN   6.874198   2800000.0    100000  Free    0.0   \n",
       "\n",
       "  Content Rating Rating_category  \n",
       "0       Everyone            High  \n",
       "1       Everyone            High  \n",
       "2       Everyone            High  \n",
       "3           Teen            High  \n",
       "4       Everyone            High  "
      ]
     },
     "execution_count": 63,
     "metadata": {},
     "output_type": "execute_result"
    }
   ],
   "source": [
    "df5.head()"
   ]
  },
  {
   "cell_type": "code",
   "execution_count": 64,
   "id": "ab5a4d0e",
   "metadata": {},
   "outputs": [
    {
     "data": {
      "text/plain": [
       "(7021, 8)"
      ]
     },
     "execution_count": 64,
     "metadata": {},
     "output_type": "execute_result"
    }
   ],
   "source": [
    "df5.shape"
   ]
  },
  {
   "cell_type": "markdown",
   "id": "c128891b",
   "metadata": {},
   "source": [
    "#### 3.2. For the target column 'Rating_category' Replace 'high' as 1 and 'low' as 0."
   ]
  },
  {
   "cell_type": "code",
   "execution_count": 65,
   "id": "d31e5bda",
   "metadata": {},
   "outputs": [],
   "source": [
    "df5['Rating_category'] = df5['Rating_category'].replace({'High':1,'Low':0})"
   ]
  },
  {
   "cell_type": "code",
   "execution_count": 66,
   "id": "3656d873",
   "metadata": {},
   "outputs": [
    {
     "data": {
      "text/html": [
       "<div>\n",
       "<style scoped>\n",
       "    .dataframe tbody tr th:only-of-type {\n",
       "        vertical-align: middle;\n",
       "    }\n",
       "\n",
       "    .dataframe tbody tr th {\n",
       "        vertical-align: top;\n",
       "    }\n",
       "\n",
       "    .dataframe thead th {\n",
       "        text-align: right;\n",
       "    }\n",
       "</style>\n",
       "<table border=\"1\" class=\"dataframe\">\n",
       "  <thead>\n",
       "    <tr style=\"text-align: right;\">\n",
       "      <th></th>\n",
       "      <th>Category</th>\n",
       "      <th>Reviews</th>\n",
       "      <th>Size</th>\n",
       "      <th>Installs</th>\n",
       "      <th>Type</th>\n",
       "      <th>Price</th>\n",
       "      <th>Content Rating</th>\n",
       "      <th>Rating_category</th>\n",
       "    </tr>\n",
       "  </thead>\n",
       "  <tbody>\n",
       "    <tr>\n",
       "      <th>3975</th>\n",
       "      <td>FAMILY</td>\n",
       "      <td>16.123400</td>\n",
       "      <td>94000000.0</td>\n",
       "      <td>100000000</td>\n",
       "      <td>Free</td>\n",
       "      <td>0.0</td>\n",
       "      <td>Everyone</td>\n",
       "      <td>1</td>\n",
       "    </tr>\n",
       "    <tr>\n",
       "      <th>4442</th>\n",
       "      <td>SOCIAL</td>\n",
       "      <td>6.716595</td>\n",
       "      <td>5100000.0</td>\n",
       "      <td>500000</td>\n",
       "      <td>Free</td>\n",
       "      <td>0.0</td>\n",
       "      <td>Teen</td>\n",
       "      <td>1</td>\n",
       "    </tr>\n",
       "    <tr>\n",
       "      <th>2322</th>\n",
       "      <td>MEDICAL</td>\n",
       "      <td>10.050182</td>\n",
       "      <td>26000000.0</td>\n",
       "      <td>1000000</td>\n",
       "      <td>Free</td>\n",
       "      <td>0.0</td>\n",
       "      <td>Everyone</td>\n",
       "      <td>1</td>\n",
       "    </tr>\n",
       "  </tbody>\n",
       "</table>\n",
       "</div>"
      ],
      "text/plain": [
       "     Category    Reviews        Size   Installs  Type  Price Content Rating  \\\n",
       "3975   FAMILY  16.123400  94000000.0  100000000  Free    0.0       Everyone   \n",
       "4442   SOCIAL   6.716595   5100000.0     500000  Free    0.0           Teen   \n",
       "2322  MEDICAL  10.050182  26000000.0    1000000  Free    0.0       Everyone   \n",
       "\n",
       "      Rating_category  \n",
       "3975                1  \n",
       "4442                1  \n",
       "2322                1  "
      ]
     },
     "execution_count": 66,
     "metadata": {},
     "output_type": "execute_result"
    }
   ],
   "source": [
    "df5.sample(3)"
   ]
  },
  {
   "cell_type": "markdown",
   "id": "4690355d",
   "metadata": {},
   "source": [
    "#### 3.3. Encode the categorical columns."
   ]
  },
  {
   "cell_type": "code",
   "execution_count": 67,
   "id": "4cbe31db",
   "metadata": {},
   "outputs": [
    {
     "data": {
      "text/plain": [
       "Index(['Category', 'Type', 'Content Rating'], dtype='object')"
      ]
     },
     "execution_count": 67,
     "metadata": {},
     "output_type": "execute_result"
    }
   ],
   "source": [
    "df5.select_dtypes(include=['object']).columns"
   ]
  },
  {
   "cell_type": "code",
   "execution_count": 68,
   "id": "67da75be",
   "metadata": {},
   "outputs": [],
   "source": [
    "le = LabelEncoder()\n",
    "def categorical_to_numeric(df):\n",
    "    list_cols = list(df.select_dtypes(include=['object']).columns)\n",
    "    for col in list_cols:\n",
    "        df[col] = le.fit_transform(list(df[col]))"
   ]
  },
  {
   "cell_type": "code",
   "execution_count": 69,
   "id": "5d35507c",
   "metadata": {},
   "outputs": [],
   "source": [
    "categorical_to_numeric(df5)"
   ]
  },
  {
   "cell_type": "code",
   "execution_count": 70,
   "id": "ac103451",
   "metadata": {},
   "outputs": [
    {
     "data": {
      "text/html": [
       "<div>\n",
       "<style scoped>\n",
       "    .dataframe tbody tr th:only-of-type {\n",
       "        vertical-align: middle;\n",
       "    }\n",
       "\n",
       "    .dataframe tbody tr th {\n",
       "        vertical-align: top;\n",
       "    }\n",
       "\n",
       "    .dataframe thead th {\n",
       "        text-align: right;\n",
       "    }\n",
       "</style>\n",
       "<table border=\"1\" class=\"dataframe\">\n",
       "  <thead>\n",
       "    <tr style=\"text-align: right;\">\n",
       "      <th></th>\n",
       "      <th>Category</th>\n",
       "      <th>Reviews</th>\n",
       "      <th>Size</th>\n",
       "      <th>Installs</th>\n",
       "      <th>Type</th>\n",
       "      <th>Price</th>\n",
       "      <th>Content Rating</th>\n",
       "      <th>Rating_category</th>\n",
       "    </tr>\n",
       "  </thead>\n",
       "  <tbody>\n",
       "    <tr>\n",
       "      <th>8596</th>\n",
       "      <td>11</td>\n",
       "      <td>0.000000</td>\n",
       "      <td>3800000.0</td>\n",
       "      <td>10</td>\n",
       "      <td>0</td>\n",
       "      <td>0.0</td>\n",
       "      <td>1</td>\n",
       "      <td>1</td>\n",
       "    </tr>\n",
       "    <tr>\n",
       "      <th>5650</th>\n",
       "      <td>11</td>\n",
       "      <td>9.118883</td>\n",
       "      <td>5800000.0</td>\n",
       "      <td>1000000</td>\n",
       "      <td>0</td>\n",
       "      <td>0.0</td>\n",
       "      <td>1</td>\n",
       "      <td>0</td>\n",
       "    </tr>\n",
       "    <tr>\n",
       "      <th>4792</th>\n",
       "      <td>11</td>\n",
       "      <td>10.558855</td>\n",
       "      <td>17000000.0</td>\n",
       "      <td>1000000</td>\n",
       "      <td>0</td>\n",
       "      <td>0.0</td>\n",
       "      <td>4</td>\n",
       "      <td>1</td>\n",
       "    </tr>\n",
       "    <tr>\n",
       "      <th>10241</th>\n",
       "      <td>28</td>\n",
       "      <td>8.561975</td>\n",
       "      <td>20000000.0</td>\n",
       "      <td>500000</td>\n",
       "      <td>0</td>\n",
       "      <td>0.0</td>\n",
       "      <td>1</td>\n",
       "      <td>1</td>\n",
       "    </tr>\n",
       "    <tr>\n",
       "      <th>10057</th>\n",
       "      <td>23</td>\n",
       "      <td>9.813563</td>\n",
       "      <td>6000000.0</td>\n",
       "      <td>1000000</td>\n",
       "      <td>0</td>\n",
       "      <td>0.0</td>\n",
       "      <td>1</td>\n",
       "      <td>1</td>\n",
       "    </tr>\n",
       "  </tbody>\n",
       "</table>\n",
       "</div>"
      ],
      "text/plain": [
       "       Category    Reviews        Size  Installs  Type  Price  Content Rating  \\\n",
       "8596         11   0.000000   3800000.0        10     0    0.0               1   \n",
       "5650         11   9.118883   5800000.0   1000000     0    0.0               1   \n",
       "4792         11  10.558855  17000000.0   1000000     0    0.0               4   \n",
       "10241        28   8.561975  20000000.0    500000     0    0.0               1   \n",
       "10057        23   9.813563   6000000.0   1000000     0    0.0               1   \n",
       "\n",
       "       Rating_category  \n",
       "8596                 1  \n",
       "5650                 0  \n",
       "4792                 1  \n",
       "10241                1  \n",
       "10057                1  "
      ]
     },
     "execution_count": 70,
     "metadata": {},
     "output_type": "execute_result"
    }
   ],
   "source": [
    "df5.sample(5) "
   ]
  },
  {
   "cell_type": "markdown",
   "id": "1ab9feeb",
   "metadata": {},
   "source": [
    "#### 3.4. Segregate the target and independent features."
   ]
  },
  {
   "cell_type": "code",
   "execution_count": 71,
   "id": "53c382c8",
   "metadata": {},
   "outputs": [],
   "source": [
    "X = df5.drop('Rating_category',axis=1)\n",
    "y = df5['Rating_category']"
   ]
  },
  {
   "cell_type": "markdown",
   "id": "12d7179a",
   "metadata": {},
   "source": [
    "#### 3.5. Split the dataset into train and test."
   ]
  },
  {
   "cell_type": "code",
   "execution_count": 72,
   "id": "3c7496c6",
   "metadata": {},
   "outputs": [],
   "source": [
    "X_train, X_test, y_train, y_test = train_test_split(X, y, test_size = 0.30, random_state = 42)"
   ]
  },
  {
   "cell_type": "code",
   "execution_count": 73,
   "id": "ccd4fdda",
   "metadata": {},
   "outputs": [
    {
     "name": "stdout",
     "output_type": "stream",
     "text": [
      "(4914, 7) (2107, 7)\n",
      "(4914,) (2107,)\n"
     ]
    }
   ],
   "source": [
    "print(X_train.shape,X_test.shape)\n",
    "print(y_train.shape,y_test.shape)"
   ]
  },
  {
   "cell_type": "code",
   "execution_count": 74,
   "id": "91291b42",
   "metadata": {},
   "outputs": [
    {
     "data": {
      "text/html": [
       "<div>\n",
       "<style scoped>\n",
       "    .dataframe tbody tr th:only-of-type {\n",
       "        vertical-align: middle;\n",
       "    }\n",
       "\n",
       "    .dataframe tbody tr th {\n",
       "        vertical-align: top;\n",
       "    }\n",
       "\n",
       "    .dataframe thead th {\n",
       "        text-align: right;\n",
       "    }\n",
       "</style>\n",
       "<table border=\"1\" class=\"dataframe\">\n",
       "  <thead>\n",
       "    <tr style=\"text-align: right;\">\n",
       "      <th></th>\n",
       "      <th>Category</th>\n",
       "      <th>Reviews</th>\n",
       "      <th>Size</th>\n",
       "      <th>Installs</th>\n",
       "      <th>Type</th>\n",
       "      <th>Price</th>\n",
       "      <th>Content Rating</th>\n",
       "    </tr>\n",
       "  </thead>\n",
       "  <tbody>\n",
       "    <tr>\n",
       "      <th>2842</th>\n",
       "      <td>24</td>\n",
       "      <td>8.391630</td>\n",
       "      <td>4500000.0</td>\n",
       "      <td>1000000</td>\n",
       "      <td>0</td>\n",
       "      <td>0.00</td>\n",
       "      <td>1</td>\n",
       "    </tr>\n",
       "    <tr>\n",
       "      <th>6534</th>\n",
       "      <td>14</td>\n",
       "      <td>6.242223</td>\n",
       "      <td>5900000.0</td>\n",
       "      <td>5000</td>\n",
       "      <td>1</td>\n",
       "      <td>6.99</td>\n",
       "      <td>4</td>\n",
       "    </tr>\n",
       "    <tr>\n",
       "      <th>3341</th>\n",
       "      <td>29</td>\n",
       "      <td>12.968235</td>\n",
       "      <td>4700000.0</td>\n",
       "      <td>10000000</td>\n",
       "      <td>0</td>\n",
       "      <td>0.00</td>\n",
       "      <td>1</td>\n",
       "    </tr>\n",
       "    <tr>\n",
       "      <th>7534</th>\n",
       "      <td>15</td>\n",
       "      <td>1.098612</td>\n",
       "      <td>40000000.0</td>\n",
       "      <td>50</td>\n",
       "      <td>0</td>\n",
       "      <td>0.00</td>\n",
       "      <td>1</td>\n",
       "    </tr>\n",
       "    <tr>\n",
       "      <th>2817</th>\n",
       "      <td>24</td>\n",
       "      <td>9.244645</td>\n",
       "      <td>11000000.0</td>\n",
       "      <td>1000000</td>\n",
       "      <td>0</td>\n",
       "      <td>0.00</td>\n",
       "      <td>1</td>\n",
       "    </tr>\n",
       "  </tbody>\n",
       "</table>\n",
       "</div>"
      ],
      "text/plain": [
       "      Category    Reviews        Size  Installs  Type  Price  Content Rating\n",
       "2842        24   8.391630   4500000.0   1000000     0   0.00               1\n",
       "6534        14   6.242223   5900000.0      5000     1   6.99               4\n",
       "3341        29  12.968235   4700000.0  10000000     0   0.00               1\n",
       "7534        15   1.098612  40000000.0        50     0   0.00               1\n",
       "2817        24   9.244645  11000000.0   1000000     0   0.00               1"
      ]
     },
     "execution_count": 74,
     "metadata": {},
     "output_type": "execute_result"
    }
   ],
   "source": [
    "X_train.head()"
   ]
  },
  {
   "cell_type": "code",
   "execution_count": 75,
   "id": "dfe1bfa2",
   "metadata": {},
   "outputs": [
    {
     "data": {
      "text/html": [
       "<div>\n",
       "<style scoped>\n",
       "    .dataframe tbody tr th:only-of-type {\n",
       "        vertical-align: middle;\n",
       "    }\n",
       "\n",
       "    .dataframe tbody tr th {\n",
       "        vertical-align: top;\n",
       "    }\n",
       "\n",
       "    .dataframe thead th {\n",
       "        text-align: right;\n",
       "    }\n",
       "</style>\n",
       "<table border=\"1\" class=\"dataframe\">\n",
       "  <thead>\n",
       "    <tr style=\"text-align: right;\">\n",
       "      <th></th>\n",
       "      <th>Category</th>\n",
       "      <th>Reviews</th>\n",
       "      <th>Size</th>\n",
       "      <th>Installs</th>\n",
       "      <th>Type</th>\n",
       "      <th>Price</th>\n",
       "      <th>Content Rating</th>\n",
       "    </tr>\n",
       "  </thead>\n",
       "  <tbody>\n",
       "    <tr>\n",
       "      <th>6285</th>\n",
       "      <td>27</td>\n",
       "      <td>11.062960</td>\n",
       "      <td>11000000.0</td>\n",
       "      <td>1000000</td>\n",
       "      <td>0</td>\n",
       "      <td>0.0</td>\n",
       "      <td>3</td>\n",
       "    </tr>\n",
       "    <tr>\n",
       "      <th>4305</th>\n",
       "      <td>14</td>\n",
       "      <td>7.762596</td>\n",
       "      <td>62000000.0</td>\n",
       "      <td>100000</td>\n",
       "      <td>0</td>\n",
       "      <td>0.0</td>\n",
       "      <td>1</td>\n",
       "    </tr>\n",
       "    <tr>\n",
       "      <th>4837</th>\n",
       "      <td>14</td>\n",
       "      <td>9.342070</td>\n",
       "      <td>96000000.0</td>\n",
       "      <td>1000000</td>\n",
       "      <td>0</td>\n",
       "      <td>0.0</td>\n",
       "      <td>4</td>\n",
       "    </tr>\n",
       "    <tr>\n",
       "      <th>6062</th>\n",
       "      <td>24</td>\n",
       "      <td>6.327937</td>\n",
       "      <td>1700000.0</td>\n",
       "      <td>10000</td>\n",
       "      <td>0</td>\n",
       "      <td>0.0</td>\n",
       "      <td>1</td>\n",
       "    </tr>\n",
       "    <tr>\n",
       "      <th>6044</th>\n",
       "      <td>6</td>\n",
       "      <td>1.945910</td>\n",
       "      <td>308000.0</td>\n",
       "      <td>5000</td>\n",
       "      <td>0</td>\n",
       "      <td>0.0</td>\n",
       "      <td>1</td>\n",
       "    </tr>\n",
       "  </tbody>\n",
       "</table>\n",
       "</div>"
      ],
      "text/plain": [
       "      Category    Reviews        Size  Installs  Type  Price  Content Rating\n",
       "6285        27  11.062960  11000000.0   1000000     0    0.0               3\n",
       "4305        14   7.762596  62000000.0    100000     0    0.0               1\n",
       "4837        14   9.342070  96000000.0   1000000     0    0.0               4\n",
       "6062        24   6.327937   1700000.0     10000     0    0.0               1\n",
       "6044         6   1.945910    308000.0      5000     0    0.0               1"
      ]
     },
     "execution_count": 75,
     "metadata": {},
     "output_type": "execute_result"
    }
   ],
   "source": [
    "X_test.head()"
   ]
  },
  {
   "cell_type": "markdown",
   "id": "0f50aea2",
   "metadata": {},
   "source": [
    "#### 3.6. Standardize the data, so that the values are within a particular range. "
   ]
  },
  {
   "cell_type": "code",
   "execution_count": 76,
   "id": "8a996e6b",
   "metadata": {},
   "outputs": [],
   "source": [
    "# since we have very different ranges for the features, we will use min-max scalar\n",
    "\n",
    "mm = MinMaxScaler()\n",
    "\n",
    "X_train.iloc[:,:] = mm.fit_transform(X_train.iloc[:,:])\n",
    "X_test.iloc[:,:] = mm.transform(X_test.iloc[:,:])"
   ]
  },
  {
   "cell_type": "code",
   "execution_count": 77,
   "id": "b54b4c9b",
   "metadata": {},
   "outputs": [
    {
     "data": {
      "text/html": [
       "<div>\n",
       "<style scoped>\n",
       "    .dataframe tbody tr th:only-of-type {\n",
       "        vertical-align: middle;\n",
       "    }\n",
       "\n",
       "    .dataframe tbody tr th {\n",
       "        vertical-align: top;\n",
       "    }\n",
       "\n",
       "    .dataframe thead th {\n",
       "        text-align: right;\n",
       "    }\n",
       "</style>\n",
       "<table border=\"1\" class=\"dataframe\">\n",
       "  <thead>\n",
       "    <tr style=\"text-align: right;\">\n",
       "      <th></th>\n",
       "      <th>Category</th>\n",
       "      <th>Reviews</th>\n",
       "      <th>Size</th>\n",
       "      <th>Installs</th>\n",
       "      <th>Type</th>\n",
       "      <th>Price</th>\n",
       "      <th>Content Rating</th>\n",
       "    </tr>\n",
       "  </thead>\n",
       "  <tbody>\n",
       "    <tr>\n",
       "      <th>2842</th>\n",
       "      <td>0.75000</td>\n",
       "      <td>0.476262</td>\n",
       "      <td>0.044919</td>\n",
       "      <td>1.999998e-03</td>\n",
       "      <td>0.0</td>\n",
       "      <td>0.000000</td>\n",
       "      <td>0.2</td>\n",
       "    </tr>\n",
       "    <tr>\n",
       "      <th>6534</th>\n",
       "      <td>0.43750</td>\n",
       "      <td>0.354274</td>\n",
       "      <td>0.058920</td>\n",
       "      <td>9.998000e-06</td>\n",
       "      <td>1.0</td>\n",
       "      <td>0.017475</td>\n",
       "      <td>0.8</td>\n",
       "    </tr>\n",
       "    <tr>\n",
       "      <th>3341</th>\n",
       "      <td>0.90625</td>\n",
       "      <td>0.736005</td>\n",
       "      <td>0.046919</td>\n",
       "      <td>2.000000e-02</td>\n",
       "      <td>0.0</td>\n",
       "      <td>0.000000</td>\n",
       "      <td>0.2</td>\n",
       "    </tr>\n",
       "    <tr>\n",
       "      <th>7534</th>\n",
       "      <td>0.46875</td>\n",
       "      <td>0.062351</td>\n",
       "      <td>0.399949</td>\n",
       "      <td>9.800000e-08</td>\n",
       "      <td>0.0</td>\n",
       "      <td>0.000000</td>\n",
       "      <td>0.2</td>\n",
       "    </tr>\n",
       "    <tr>\n",
       "      <th>2817</th>\n",
       "      <td>0.75000</td>\n",
       "      <td>0.524675</td>\n",
       "      <td>0.109924</td>\n",
       "      <td>1.999998e-03</td>\n",
       "      <td>0.0</td>\n",
       "      <td>0.000000</td>\n",
       "      <td>0.2</td>\n",
       "    </tr>\n",
       "  </tbody>\n",
       "</table>\n",
       "</div>"
      ],
      "text/plain": [
       "      Category   Reviews      Size      Installs  Type     Price  \\\n",
       "2842   0.75000  0.476262  0.044919  1.999998e-03   0.0  0.000000   \n",
       "6534   0.43750  0.354274  0.058920  9.998000e-06   1.0  0.017475   \n",
       "3341   0.90625  0.736005  0.046919  2.000000e-02   0.0  0.000000   \n",
       "7534   0.46875  0.062351  0.399949  9.800000e-08   0.0  0.000000   \n",
       "2817   0.75000  0.524675  0.109924  1.999998e-03   0.0  0.000000   \n",
       "\n",
       "      Content Rating  \n",
       "2842             0.2  \n",
       "6534             0.8  \n",
       "3341             0.2  \n",
       "7534             0.2  \n",
       "2817             0.2  "
      ]
     },
     "execution_count": 77,
     "metadata": {},
     "output_type": "execute_result"
    }
   ],
   "source": [
    "X_train.head()"
   ]
  },
  {
   "cell_type": "code",
   "execution_count": 78,
   "id": "cf4537da",
   "metadata": {},
   "outputs": [
    {
     "data": {
      "text/html": [
       "<div>\n",
       "<style scoped>\n",
       "    .dataframe tbody tr th:only-of-type {\n",
       "        vertical-align: middle;\n",
       "    }\n",
       "\n",
       "    .dataframe tbody tr th {\n",
       "        vertical-align: top;\n",
       "    }\n",
       "\n",
       "    .dataframe thead th {\n",
       "        text-align: right;\n",
       "    }\n",
       "</style>\n",
       "<table border=\"1\" class=\"dataframe\">\n",
       "  <thead>\n",
       "    <tr style=\"text-align: right;\">\n",
       "      <th></th>\n",
       "      <th>Category</th>\n",
       "      <th>Reviews</th>\n",
       "      <th>Size</th>\n",
       "      <th>Installs</th>\n",
       "      <th>Type</th>\n",
       "      <th>Price</th>\n",
       "      <th>Content Rating</th>\n",
       "    </tr>\n",
       "  </thead>\n",
       "  <tbody>\n",
       "    <tr>\n",
       "      <th>6285</th>\n",
       "      <td>0.84375</td>\n",
       "      <td>0.627872</td>\n",
       "      <td>0.109924</td>\n",
       "      <td>0.00200</td>\n",
       "      <td>0.0</td>\n",
       "      <td>0.0</td>\n",
       "      <td>0.6</td>\n",
       "    </tr>\n",
       "    <tr>\n",
       "      <th>4305</th>\n",
       "      <td>0.43750</td>\n",
       "      <td>0.440562</td>\n",
       "      <td>0.619968</td>\n",
       "      <td>0.00020</td>\n",
       "      <td>0.0</td>\n",
       "      <td>0.0</td>\n",
       "      <td>0.2</td>\n",
       "    </tr>\n",
       "    <tr>\n",
       "      <th>4837</th>\n",
       "      <td>0.43750</td>\n",
       "      <td>0.530204</td>\n",
       "      <td>0.959997</td>\n",
       "      <td>0.00200</td>\n",
       "      <td>0.0</td>\n",
       "      <td>0.0</td>\n",
       "      <td>0.8</td>\n",
       "    </tr>\n",
       "    <tr>\n",
       "      <th>6062</th>\n",
       "      <td>0.75000</td>\n",
       "      <td>0.359139</td>\n",
       "      <td>0.016916</td>\n",
       "      <td>0.00002</td>\n",
       "      <td>0.0</td>\n",
       "      <td>0.0</td>\n",
       "      <td>0.2</td>\n",
       "    </tr>\n",
       "    <tr>\n",
       "      <th>6044</th>\n",
       "      <td>0.18750</td>\n",
       "      <td>0.110439</td>\n",
       "      <td>0.002995</td>\n",
       "      <td>0.00001</td>\n",
       "      <td>0.0</td>\n",
       "      <td>0.0</td>\n",
       "      <td>0.2</td>\n",
       "    </tr>\n",
       "  </tbody>\n",
       "</table>\n",
       "</div>"
      ],
      "text/plain": [
       "      Category   Reviews      Size  Installs  Type  Price  Content Rating\n",
       "6285   0.84375  0.627872  0.109924   0.00200   0.0    0.0             0.6\n",
       "4305   0.43750  0.440562  0.619968   0.00020   0.0    0.0             0.2\n",
       "4837   0.43750  0.530204  0.959997   0.00200   0.0    0.0             0.8\n",
       "6062   0.75000  0.359139  0.016916   0.00002   0.0    0.0             0.2\n",
       "6044   0.18750  0.110439  0.002995   0.00001   0.0    0.0             0.2"
      ]
     },
     "execution_count": 78,
     "metadata": {},
     "output_type": "execute_result"
    }
   ],
   "source": [
    "X_test.head()"
   ]
  },
  {
   "cell_type": "markdown",
   "id": "8f090197",
   "metadata": {},
   "source": [
    "<a id=\"1.1\"></a>\n",
    "## <b> <span style='color:#F1B12D'>4. Model training and testing </span></b> "
   ]
  },
  {
   "cell_type": "markdown",
   "id": "126ee626",
   "metadata": {},
   "source": [
    "#### 4.1. Write a function to fit and print the model predictions, input parameters would be model, train, and test data"
   ]
  },
  {
   "cell_type": "code",
   "execution_count": 79,
   "id": "c87e71fb",
   "metadata": {},
   "outputs": [],
   "source": [
    "def fit_n_print(model, X_train, X_test, y_train, y_test):  \n",
    "    \n",
    "    model.fit(X_train, y_train)  \n",
    "\n",
    "    pred = model.predict(X_test)  \n",
    "    train_score = model.score(X_train, y_train)\n",
    "    test_score = model.score(X_test, y_test)\n",
    "\n",
    "    print('\\033[1;46;13m Train accuracy: \\033[0;0m',train_score)\n",
    "    print('\\033[1;46;13m Test accuracy: \\033[0;0m',test_score)\n",
    "    print('\\n')\n",
    "    print('\\033[1;46;13m Confusion matrix: \\033[0;0m','\\n',confusion_matrix(y_test, pred))\n",
    "    print('\\n')\n",
    "    print('\\033[1;46;13m Classification report: \\033[0;0m','\\n',classification_report(y_test, pred))"
   ]
  },
  {
   "cell_type": "markdown",
   "id": "a533bedc",
   "metadata": {},
   "source": [
    "#### 4.2. Use the above function and train a Decision tree, Random Forest, Bagging, Boosting, and Stacked Classifier models and make predictions on test data and evaluate the models. "
   ]
  },
  {
   "cell_type": "markdown",
   "id": "b5b609b7",
   "metadata": {},
   "source": [
    "#### DECISION TREES"
   ]
  },
  {
   "cell_type": "code",
   "execution_count": 80,
   "id": "c7ab467c",
   "metadata": {},
   "outputs": [
    {
     "name": "stdout",
     "output_type": "stream",
     "text": [
      "\u001b[1;46;13m Train accuracy: \u001b[0;0m 0.9997964997964998\n",
      "\u001b[1;46;13m Test accuracy: \u001b[0;0m 0.8452776459420978\n",
      "\n",
      "\n",
      "\u001b[1;46;13m Confusion matrix: \u001b[0;0m \n",
      " [[  40  156]\n",
      " [ 170 1741]]\n",
      "\n",
      "\n",
      "\u001b[1;46;13m Classification report: \u001b[0;0m \n",
      "               precision    recall  f1-score   support\n",
      "\n",
      "           0       0.19      0.20      0.20       196\n",
      "           1       0.92      0.91      0.91      1911\n",
      "\n",
      "    accuracy                           0.85      2107\n",
      "   macro avg       0.55      0.56      0.56      2107\n",
      "weighted avg       0.85      0.85      0.85      2107\n",
      "\n"
     ]
    }
   ],
   "source": [
    "## instantiate \n",
    "dt = DecisionTreeClassifier()\n",
    "\n",
    "## call the function\n",
    "fit_n_print(dt, X_train, X_test, y_train, y_test)"
   ]
  },
  {
   "cell_type": "code",
   "execution_count": 81,
   "id": "c62c5b0f",
   "metadata": {},
   "outputs": [
    {
     "data": {
      "image/png": "[encoded data removed]",
      "text/plain": [
       "<Figure size 1000x300 with 1 Axes>"
      ]
     },
     "metadata": {},
     "output_type": "display_data"
    }
   ],
   "source": [
    "# Checking feature importance\n",
    "\n",
    "feature_importances = pd.DataFrame({'features': X_train.columns, 'Importance': dt.feature_importances_})\n",
    "\n",
    "feature_importances = feature_importances.sort_values('Importance',ascending=False).reset_index(drop=True)\n",
    "\n",
    "\n",
    "plt.figure(figsize=(10,3))\n",
    "sns.barplot(x='Importance',y='features',data=feature_importances)\n",
    "plt.show()"
   ]
  },
  {
   "cell_type": "markdown",
   "id": "6a5291fc",
   "metadata": {},
   "source": [
    "### RANDOM FOREST"
   ]
  },
  {
   "cell_type": "code",
   "execution_count": 82,
   "id": "be0a4fda",
   "metadata": {},
   "outputs": [
    {
     "name": "stdout",
     "output_type": "stream",
     "text": [
      "\u001b[1;46;13m Train accuracy: \u001b[0;0m 0.9995929995929996\n",
      "\u001b[1;46;13m Test accuracy: \u001b[0;0m 0.8998576174655909\n",
      "\n",
      "\n",
      "\u001b[1;46;13m Confusion matrix: \u001b[0;0m \n",
      " [[   8  188]\n",
      " [  23 1888]]\n",
      "\n",
      "\n",
      "\u001b[1;46;13m Classification report: \u001b[0;0m \n",
      "               precision    recall  f1-score   support\n",
      "\n",
      "           0       0.26      0.04      0.07       196\n",
      "           1       0.91      0.99      0.95      1911\n",
      "\n",
      "    accuracy                           0.90      2107\n",
      "   macro avg       0.58      0.51      0.51      2107\n",
      "weighted avg       0.85      0.90      0.87      2107\n",
      "\n"
     ]
    }
   ],
   "source": [
    "## instanstiate\n",
    "rf = RandomForestClassifier()\n",
    "\n",
    "## call the function\n",
    "fit_n_print(rf, X_train, X_test, y_train, y_test)"
   ]
  },
  {
   "cell_type": "code",
   "execution_count": 83,
   "id": "4068ae7e",
   "metadata": {},
   "outputs": [
    {
     "data": {
      "image/png": "[encoded data removed]",
      "text/plain": [
       "<Figure size 1000x300 with 1 Axes>"
      ]
     },
     "metadata": {},
     "output_type": "display_data"
    }
   ],
   "source": [
    "# Checking feature importance\n",
    "\n",
    "feature_importances = pd.DataFrame({'features': X_train.columns, 'Importance': rf.feature_importances_})\n",
    "\n",
    "feature_importances = feature_importances.sort_values('Importance',ascending=False).reset_index(drop=True)\n",
    "\n",
    "\n",
    "plt.figure(figsize=(10,3))\n",
    "sns.barplot(x='Importance',y='features',data=feature_importances)\n",
    "plt.show()"
   ]
  },
  {
   "cell_type": "markdown",
   "id": "92e6605b",
   "metadata": {},
   "source": [
    "### BAGGING CLASSIFIER"
   ]
  },
  {
   "cell_type": "code",
   "execution_count": 84,
   "id": "b96882ac",
   "metadata": {},
   "outputs": [
    {
     "name": "stdout",
     "output_type": "stream",
     "text": [
      "\u001b[1;46;13m Train accuracy: \u001b[0;0m 0.9934879934879934\n",
      "\u001b[1;46;13m Test accuracy: \u001b[0;0m 0.8775510204081632\n",
      "\n",
      "\n",
      "\u001b[1;46;13m Confusion matrix: \u001b[0;0m \n",
      " [[  16  180]\n",
      " [  78 1833]]\n",
      "\n",
      "\n",
      "\u001b[1;46;13m Classification report: \u001b[0;0m \n",
      "               precision    recall  f1-score   support\n",
      "\n",
      "           0       0.17      0.08      0.11       196\n",
      "           1       0.91      0.96      0.93      1911\n",
      "\n",
      "    accuracy                           0.88      2107\n",
      "   macro avg       0.54      0.52      0.52      2107\n",
      "weighted avg       0.84      0.88      0.86      2107\n",
      "\n"
     ]
    }
   ],
   "source": [
    "## instanstiate\n",
    "bg = BaggingClassifier()\n",
    "\n",
    "## call the function\n",
    "fit_n_print(bg, X_train, X_test, y_train, y_test)"
   ]
  },
  {
   "cell_type": "markdown",
   "id": "a793f6ce",
   "metadata": {},
   "source": [
    "### GRADIENT BOOSTING"
   ]
  },
  {
   "cell_type": "code",
   "execution_count": 85,
   "id": "31d351f3",
   "metadata": {},
   "outputs": [
    {
     "name": "stdout",
     "output_type": "stream",
     "text": [
      "\u001b[1;46;13m Train accuracy: \u001b[0;0m 0.9074074074074074\n",
      "\u001b[1;46;13m Test accuracy: \u001b[0;0m 0.9050783103939251\n",
      "\n",
      "\n",
      "\u001b[1;46;13m Confusion matrix: \u001b[0;0m \n",
      " [[   1  195]\n",
      " [   5 1906]]\n",
      "\n",
      "\n",
      "\u001b[1;46;13m Classification report: \u001b[0;0m \n",
      "               precision    recall  f1-score   support\n",
      "\n",
      "           0       0.17      0.01      0.01       196\n",
      "           1       0.91      1.00      0.95      1911\n",
      "\n",
      "    accuracy                           0.91      2107\n",
      "   macro avg       0.54      0.50      0.48      2107\n",
      "weighted avg       0.84      0.91      0.86      2107\n",
      "\n"
     ]
    }
   ],
   "source": [
    "## instanstiate \n",
    "gb = GradientBoostingClassifier()\n",
    "\n",
    "## call the function\n",
    "fit_n_print(gb, X_train, X_test, y_train, y_test)"
   ]
  },
  {
   "cell_type": "code",
   "execution_count": 86,
   "id": "5cc75ca0",
   "metadata": {},
   "outputs": [
    {
     "data": {
      "image/png": "[encoded data removed]",
      "text/plain": [
       "<Figure size 1000x300 with 1 Axes>"
      ]
     },
     "metadata": {},
     "output_type": "display_data"
    }
   ],
   "source": [
    "# Checking feature importance\n",
    "\n",
    "feature_importances = pd.DataFrame({'features': X_train.columns, 'Importance': gb.feature_importances_})\n",
    "\n",
    "feature_importances = feature_importances.sort_values('Importance',ascending=False).reset_index(drop=True)\n",
    "\n",
    "\n",
    "plt.figure(figsize=(10,3))\n",
    "sns.barplot(x='Importance',y='features',data=feature_importances)\n",
    "plt.show()"
   ]
  },
  {
   "cell_type": "markdown",
   "id": "f9988c0f",
   "metadata": {},
   "source": [
    "### ADA BOOSTING"
   ]
  },
  {
   "cell_type": "code",
   "execution_count": 87,
   "id": "6f8c0003",
   "metadata": {},
   "outputs": [
    {
     "name": "stdout",
     "output_type": "stream",
     "text": [
      "\u001b[1;46;13m Train accuracy: \u001b[0;0m 0.9039479039479039\n",
      "\u001b[1;46;13m Test accuracy: \u001b[0;0m 0.9069767441860465\n",
      "\n",
      "\n",
      "\u001b[1;46;13m Confusion matrix: \u001b[0;0m \n",
      " [[   0  196]\n",
      " [   0 1911]]\n",
      "\n",
      "\n",
      "\u001b[1;46;13m Classification report: \u001b[0;0m \n",
      "               precision    recall  f1-score   support\n",
      "\n",
      "           0       0.00      0.00      0.00       196\n",
      "           1       0.91      1.00      0.95      1911\n",
      "\n",
      "    accuracy                           0.91      2107\n",
      "   macro avg       0.45      0.50      0.48      2107\n",
      "weighted avg       0.82      0.91      0.86      2107\n",
      "\n"
     ]
    }
   ],
   "source": [
    "## instanstiate\n",
    "ab = AdaBoostClassifier()\n",
    "\n",
    "## call the function\n",
    "fit_n_print(ab, X_train, X_test, y_train, y_test)"
   ]
  },
  {
   "cell_type": "markdown",
   "id": "0b881116",
   "metadata": {},
   "source": [
    "### STACKING\n",
    "\n"
   ]
  },
  {
   "cell_type": "code",
   "execution_count": 88,
   "id": "71a0e510",
   "metadata": {},
   "outputs": [
    {
     "name": "stdout",
     "output_type": "stream",
     "text": [
      "\u001b[1;46;13m Train accuracy: \u001b[0;0m 0.8988603988603988\n",
      "\u001b[1;46;13m Test accuracy: \u001b[0;0m 0.9022306597057428\n",
      "\n",
      "\n",
      "\u001b[1;46;13m Confusion matrix: \u001b[0;0m \n",
      " [[   5  191]\n",
      " [  15 1896]]\n",
      "\n",
      "\n",
      "\u001b[1;46;13m Classification report: \u001b[0;0m \n",
      "               precision    recall  f1-score   support\n",
      "\n",
      "           0       0.25      0.03      0.05       196\n",
      "           1       0.91      0.99      0.95      1911\n",
      "\n",
      "    accuracy                           0.90      2107\n",
      "   macro avg       0.58      0.51      0.50      2107\n",
      "weighted avg       0.85      0.90      0.86      2107\n",
      "\n"
     ]
    }
   ],
   "source": [
    "## instantiate\n",
    "estimators = [('dt', dt), ('rf', rf), ('bg', bg), ('gb', gb), ('ab', ab)]\n",
    "clf = StackingClassifier(estimators = estimators, final_estimator = rf)\n",
    "\n",
    "## call the function\n",
    "fit_n_print(clf, X_train, X_test, y_train, y_test)"
   ]
  },
  {
   "cell_type": "markdown",
   "id": "d7878d00",
   "metadata": {},
   "source": [
    "<a id=\"1.1\"></a>\n",
    "## <b> <span style='color:#F1B12D'>5. Conclusion and improvisation </span></b>"
   ]
  },
  {
   "cell_type": "markdown",
   "id": "20b91b00",
   "metadata": {},
   "source": [
    "*Conclusion:*\n",
    "\n",
    "- Decision Tree, Random Forest and Bagging classifier are overfitting as there is large difference between their train and test accuracies.\n",
    "- Gradient Boosting, Ada Boosting and Stacking have almost same train and test accuracies (approx. 90%) which is an acceptable  result.\n",
    "- Reviews, Size, Category and Installs are the most important features contributing to the rating prediction."
   ]
  },
  {
   "cell_type": "markdown",
   "id": "c918289b",
   "metadata": {},
   "source": [
    "*Improvisation:*\n",
    "    \n",
    "- The target column 'Rating' of the dataset is highly imbalanced (91.2% HIGH, 8.8% LOW) which can hamper with the model predictions. It must be balanced somehow so that the prediction for lower ratings gets improved. "
   ]
  },
  {
   "cell_type": "markdown",
   "id": "f675b3f4",
   "metadata": {},
   "source": [
    "--------------------------------------------------------------------------------------------------------------------------------"
   ]
  }
 ],
 "metadata": {
  "kernelspec": {
   "display_name": "Python 3 (ipykernel)",
   "language": "python",
   "name": "python3"
  },
  "language_info": {
   "codemirror_mode": {
    "name": "ipython",
    "version": 3
   },
   "file_extension": ".py",
   "mimetype": "text/x-python",
   "name": "python",
   "nbconvert_exporter": "python",
   "pygments_lexer": "ipython3",
   "version": "3.10.9"
  }
 },
 "nbformat": 4,
 "nbformat_minor": 5
}
